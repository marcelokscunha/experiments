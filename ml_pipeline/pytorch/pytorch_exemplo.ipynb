{
 "cells": [
  {
   "cell_type": "markdown",
   "metadata": {},
   "source": [
    "# Exemplo MNIST\n",
    "[Script baseado nesse exemplo](https://github.com/awslabs/amazon-sagemaker-examples/tree/master/sagemaker-experiments/mnist-handwritten-digits-classification-experiment)\n",
    "\n",
    "Pontos:\n",
    "1. [Treinamento e inferência com scripts](#scripts)\n",
    "2. [ML Pipeline](#pipeline)\n",
    "\n",
    "<a id='scripts'/>\n",
    "\n",
    "## 1. Treinamento e inferência com scripts\n"
   ]
  },
  {
   "cell_type": "code",
   "execution_count": 2,
   "metadata": {},
   "outputs": [],
   "source": [
    "import sys"
   ]
  },
  {
   "cell_type": "code",
   "execution_count": 2,
   "metadata": {
    "scrolled": true
   },
   "outputs": [
    {
     "name": "stdout",
     "output_type": "stream",
     "text": [
      "Requirement already satisfied: sagemaker-experiments in /home/ec2-user/anaconda3/envs/pytorch_p36/lib/python3.6/site-packages (0.1.20)\n",
      "Requirement already satisfied: boto3>=1.12.8 in /home/ec2-user/anaconda3/envs/pytorch_p36/lib/python3.6/site-packages (from sagemaker-experiments) (1.14.16)\n",
      "Requirement already satisfied: botocore<1.18.0,>=1.17.16 in /home/ec2-user/anaconda3/envs/pytorch_p36/lib/python3.6/site-packages (from boto3>=1.12.8->sagemaker-experiments) (1.17.16)\n",
      "Requirement already satisfied: jmespath<1.0.0,>=0.7.1 in /home/ec2-user/anaconda3/envs/pytorch_p36/lib/python3.6/site-packages (from boto3>=1.12.8->sagemaker-experiments) (0.9.4)\n",
      "Requirement already satisfied: s3transfer<0.4.0,>=0.3.0 in /home/ec2-user/anaconda3/envs/pytorch_p36/lib/python3.6/site-packages (from boto3>=1.12.8->sagemaker-experiments) (0.3.3)\n",
      "Requirement already satisfied: docutils<0.16,>=0.10 in /home/ec2-user/anaconda3/envs/pytorch_p36/lib/python3.6/site-packages (from botocore<1.18.0,>=1.17.16->boto3>=1.12.8->sagemaker-experiments) (0.15.2)\n",
      "Requirement already satisfied: urllib3<1.26,>=1.20; python_version != \"3.4\" in /home/ec2-user/anaconda3/envs/pytorch_p36/lib/python3.6/site-packages (from botocore<1.18.0,>=1.17.16->boto3>=1.12.8->sagemaker-experiments) (1.25.8)\n",
      "Requirement already satisfied: python-dateutil<3.0.0,>=2.1 in /home/ec2-user/anaconda3/envs/pytorch_p36/lib/python3.6/site-packages (from botocore<1.18.0,>=1.17.16->boto3>=1.12.8->sagemaker-experiments) (2.8.1)\n",
      "Requirement already satisfied: six>=1.5 in /home/ec2-user/anaconda3/envs/pytorch_p36/lib/python3.6/site-packages (from python-dateutil<3.0.0,>=2.1->botocore<1.18.0,>=1.17.16->boto3>=1.12.8->sagemaker-experiments) (1.14.0)\n",
      "\u001b[33mWARNING: You are using pip version 20.0.2; however, version 20.1.1 is available.\n",
      "You should consider upgrading via the '/home/ec2-user/anaconda3/envs/pytorch_p36/bin/python -m pip install --upgrade pip' command.\u001b[0m\n"
     ]
    }
   ],
   "source": [
    "!{sys.executable} -m pip install sagemaker-experiments"
   ]
  },
  {
   "cell_type": "markdown",
   "metadata": {},
   "source": [
    "### Install PyTorch"
   ]
  },
  {
   "cell_type": "code",
   "execution_count": 3,
   "metadata": {},
   "outputs": [
    {
     "name": "stdout",
     "output_type": "stream",
     "text": [
      "Requirement already satisfied: torch in /home/ec2-user/anaconda3/envs/pytorch_p36/lib/python3.6/site-packages (1.4.0)\n",
      "\u001b[33mWARNING: You are using pip version 20.0.2; however, version 20.1.1 is available.\n",
      "You should consider upgrading via the '/home/ec2-user/anaconda3/envs/pytorch_p36/bin/python -m pip install --upgrade pip' command.\u001b[0m\n",
      "Requirement already satisfied: torchvision in /home/ec2-user/anaconda3/envs/pytorch_p36/lib/python3.6/site-packages (0.5.0)\n",
      "Requirement already satisfied: numpy in /home/ec2-user/anaconda3/envs/pytorch_p36/lib/python3.6/site-packages (from torchvision) (1.18.1)\n",
      "Requirement already satisfied: six in /home/ec2-user/anaconda3/envs/pytorch_p36/lib/python3.6/site-packages (from torchvision) (1.14.0)\n",
      "Requirement already satisfied: torch in /home/ec2-user/anaconda3/envs/pytorch_p36/lib/python3.6/site-packages (from torchvision) (1.4.0)\n",
      "Requirement already satisfied: pillow>=4.1.1 in /home/ec2-user/anaconda3/envs/pytorch_p36/lib/python3.6/site-packages (from torchvision) (7.0.0)\n",
      "\u001b[33mWARNING: You are using pip version 20.0.2; however, version 20.1.1 is available.\n",
      "You should consider upgrading via the '/home/ec2-user/anaconda3/envs/pytorch_p36/bin/python -m pip install --upgrade pip' command.\u001b[0m\n"
     ]
    }
   ],
   "source": [
    "!{sys.executable} -m pip install torch\n",
    "!{sys.executable} -m pip install torchvision"
   ]
  },
  {
   "cell_type": "markdown",
   "metadata": {},
   "source": [
    "### Setup"
   ]
  },
  {
   "cell_type": "code",
   "execution_count": 4,
   "metadata": {},
   "outputs": [],
   "source": [
    "import time\n",
    "\n",
    "import boto3\n",
    "import numpy as np\n",
    "import pandas as pd\n",
    "%config InlineBackend.figure_format = 'retina'\n",
    "from matplotlib import pyplot as plt\n",
    "from torchvision import datasets, transforms\n",
    "\n",
    "import sagemaker\n",
    "from sagemaker import get_execution_role\n",
    "from sagemaker.session import Session\n",
    "from sagemaker.analytics import ExperimentAnalytics\n",
    "\n",
    "from smexperiments.experiment import Experiment\n",
    "from smexperiments.trial import Trial\n",
    "from smexperiments.trial_component import TrialComponent\n",
    "from smexperiments.tracker import Tracker"
   ]
  },
  {
   "cell_type": "code",
   "execution_count": 5,
   "metadata": {},
   "outputs": [],
   "source": [
    "sess = boto3.Session()\n",
    "sm = sess.client('sagemaker')\n",
    "role = get_execution_role()"
   ]
  },
  {
   "cell_type": "markdown",
   "metadata": {},
   "source": [
    "### Bucket S3 para dados"
   ]
  },
  {
   "cell_type": "code",
   "execution_count": 6,
   "metadata": {},
   "outputs": [],
   "source": [
    "# create a s3 bucket to hold data, note that your account might already created a bucket with the same name\n",
    "account_id = sess.client('sts').get_caller_identity()[\"Account\"]\n",
    "bucket = 'sagemaker-experiments-{}-{}'.format(sess.region_name, account_id)\n",
    "prefix = 'mnist'\n",
    "\n",
    "try:\n",
    "    if sess.region_name == \"us-east-1\":\n",
    "        sess.client('s3').create_bucket(Bucket=bucket)\n",
    "    else:\n",
    "        sess.client('s3').create_bucket(Bucket=bucket, \n",
    "                                        CreateBucketConfiguration={'LocationConstraint': sess.region_name})\n",
    "except Exception as e:\n",
    "    print(e)"
   ]
  },
  {
   "cell_type": "markdown",
   "metadata": {},
   "source": [
    "### Dataset"
   ]
  },
  {
   "cell_type": "code",
   "execution_count": 7,
   "metadata": {},
   "outputs": [],
   "source": [
    "# download the dataset\n",
    "# this will not only download data to ./mnist folder, but also load and transform (normalize) them\n",
    "train_set = datasets.MNIST('mnist', train=True, transform=transforms.Compose([\n",
    "        transforms.ToTensor(),\n",
    "        transforms.Normalize((0.1307,), (0.3081,))]), \n",
    "    download=True)\n",
    "                           \n",
    "test_set = datasets.MNIST('mnist', train=False, transform=transforms.Compose([\n",
    "        transforms.ToTensor(),\n",
    "        transforms.Normalize((0.1307,), (0.3081,))]),\n",
    "    download=False)"
   ]
  },
  {
   "cell_type": "code",
   "execution_count": 8,
   "metadata": {},
   "outputs": [
    {
     "data": {
      "text/plain": [
       "<matplotlib.image.AxesImage at 0x7f6bae96ec18>"
      ]
     },
     "execution_count": 8,
     "metadata": {},
     "output_type": "execute_result"
    },
    {
     "data": {
      "image/png": "[encoded data removed]",
      "text/plain": [
       "<Figure size 432x288 with 1 Axes>"
      ]
     },
     "metadata": {
      "image/png": {
       "height": 248,
       "width": 251
      },
      "needs_background": "light"
     },
     "output_type": "display_data"
    }
   ],
   "source": [
    "plt.imshow(train_set.data[2].numpy())"
   ]
  },
  {
   "cell_type": "markdown",
   "metadata": {},
   "source": [
    "Upload para S3"
   ]
  },
  {
   "cell_type": "code",
   "execution_count": 9,
   "metadata": {
    "scrolled": true
   },
   "outputs": [
    {
     "name": "stdout",
     "output_type": "stream",
     "text": [
      "input spec: s3://sagemaker-experiments-us-east-1-725879053979/mnist\n"
     ]
    }
   ],
   "source": [
    "inputs = sagemaker.Session().upload_data(path='mnist', bucket=bucket, key_prefix=prefix)\n",
    "print('input spec: {}'.format(inputs))"
   ]
  },
  {
   "cell_type": "markdown",
   "metadata": {},
   "source": [
    "### Treinando modelo pela primeira vez\n",
    "Observar que script é salvo no S3 apenas após fazermos `estimator.fit(...)`.\n",
    "\n",
    "Se quisermos customizar onde queremos salvar script no S3, basta setar no estimator o \n",
    "[`code_location`](https://sagemaker.readthedocs.io/en/stable/api/training/estimators.html#sagemaker.estimator.Framework)\n",
    "\n",
    "Nas linhas de log dentro desse notebook podemos ver onde no S3 salvamos script:\n",
    "\n",
    "``` \n",
    "(...)\n",
    "Training Env:\n",
    "\n",
    "{\n",
    "    \"additional_framework_parameters\": {},\n",
    "    \"channel_input_dirs\": {\n",
    "        \"training\": \"/opt/ml/input/data/training\"\n",
    "    \n",
    "    ( . . . )\n",
    "    \n",
    "    \"module_dir\": \"s3://sagemaker-us-east-1-725879053979/cnn-training-job-FIXED/source/sourcedir.tar.gz\",\n",
    "    \"module_name\": \"mnist\",\n",
    "    \n",
    "    ( . . . )\n",
    "    \n",
    "    \"user_entry_point\": \"mnist.py\"\n",
    "    \n",
    "    ( . . . )\n",
    "}\n",
    "(...)\n",
    "```"
   ]
  },
  {
   "cell_type": "code",
   "execution_count": 10,
   "metadata": {},
   "outputs": [],
   "source": [
    "from sagemaker.pytorch import PyTorch, PyTorchModel"
   ]
  },
  {
   "cell_type": "code",
   "execution_count": 11,
   "metadata": {},
   "outputs": [],
   "source": [
    "# teste com Regex\n",
    "estimator = PyTorch(\n",
    "        entry_point='./mnist.py',\n",
    "        role=role,\n",
    "        sagemaker_session=sagemaker.Session(sagemaker_client=sm),\n",
    "        framework_version='1.1.0',\n",
    "        train_instance_count=1,\n",
    "        train_instance_type='ml.c4.xlarge',\n",
    "        hyperparameters={\n",
    "            'epochs': 2,\n",
    "            'backend': 'gloo',\n",
    "            'hidden_channels': 10,\n",
    "            'dropout': 0.2,\n",
    "            'kernel_size': 5,\n",
    "            'optimizer': 'sgd'\n",
    "        },\n",
    "        metric_definitions=[\n",
    "            {'Name':'train:loss', 'Regex':'\\[Train Loss (.*?)\\]'},\n",
    "            {'Name':'test:loss', 'Regex':'\\[Test Average loss (.*?)\\]'},\n",
    "            {'Name':'test:accuracy', 'Regex':'\\[Test Accuracy (.*?)\\]'}\n",
    "        ],\n",
    "        enable_sagemaker_metrics=True\n",
    "    )    "
   ]
  },
  {
   "cell_type": "code",
   "execution_count": 12,
   "metadata": {},
   "outputs": [],
   "source": [
    "cnn_training_job_name = \"framework-script-local-{}\".format(int(time.time()))"
   ]
  },
  {
   "cell_type": "code",
   "execution_count": 13,
   "metadata": {
    "scrolled": true
   },
   "outputs": [
    {
     "name": "stderr",
     "output_type": "stream",
     "text": [
      "WARNING:sagemaker:'s3_input' class will be renamed to 'TrainingInput' in SageMaker Python SDK v2.\n",
      "WARNING:sagemaker:'create_image_uri' will be deprecated in favor of 'ImageURIProvider' class in SageMaker Python SDK v2.\n",
      "INFO:sagemaker:Creating training-job with name: framework-script-local-1595727077\n"
     ]
    },
    {
     "name": "stdout",
     "output_type": "stream",
     "text": [
      "2020-07-26 01:31:18 Starting - Starting the training job...\n",
      "2020-07-26 01:31:20 Starting - Launching requested ML instances......\n",
      "2020-07-26 01:32:34 Starting - Preparing the instances for training......\n",
      "2020-07-26 01:33:35 Downloading - Downloading input data...\n",
      "2020-07-26 01:34:05 Training - Downloading the training image..\u001b[34mbash: cannot set terminal process group (-1): Inappropriate ioctl for device\u001b[0m\n",
      "\u001b[34mbash: no job control in this shell\u001b[0m\n",
      "\u001b[34m2020-07-26 01:34:25,893 sagemaker-containers INFO     Imported framework sagemaker_pytorch_container.training\u001b[0m\n",
      "\u001b[34m2020-07-26 01:34:25,895 sagemaker-containers INFO     No GPUs detected (normal if no gpus installed)\u001b[0m\n",
      "\u001b[34m2020-07-26 01:34:25,907 sagemaker_pytorch_container.training INFO     Block until all host DNS lookups succeed.\u001b[0m\n",
      "\u001b[34m2020-07-26 01:34:25,907 sagemaker_pytorch_container.training INFO     Invoking user training script.\u001b[0m\n",
      "\u001b[34m2020-07-26 01:34:26,203 sagemaker-containers INFO     Module mnist does not provide a setup.py. \u001b[0m\n",
      "\u001b[34mGenerating setup.py\u001b[0m\n",
      "\u001b[34m2020-07-26 01:34:26,204 sagemaker-containers INFO     Generating setup.cfg\u001b[0m\n",
      "\u001b[34m2020-07-26 01:34:26,204 sagemaker-containers INFO     Generating MANIFEST.in\u001b[0m\n",
      "\u001b[34m2020-07-26 01:34:26,204 sagemaker-containers INFO     Installing module with the following command:\u001b[0m\n",
      "\u001b[34m/usr/bin/python -m pip install . \u001b[0m\n",
      "\u001b[34mProcessing /opt/ml/code\u001b[0m\n",
      "\u001b[34mBuilding wheels for collected packages: mnist\n",
      "  Running setup.py bdist_wheel for mnist: started\u001b[0m\n",
      "\u001b[34m  Running setup.py bdist_wheel for mnist: finished with status 'done'\n",
      "  Stored in directory: /tmp/pip-ephem-wheel-cache-629zlne_/wheels/35/24/16/37574d11bf9bde50616c67372a334f94fa8356bc7164af8ca3\u001b[0m\n",
      "\u001b[34mSuccessfully built mnist\u001b[0m\n",
      "\u001b[34mInstalling collected packages: mnist\u001b[0m\n",
      "\u001b[34mSuccessfully installed mnist-1.0.0\u001b[0m\n",
      "\u001b[34mYou are using pip version 18.1, however version 20.2b1 is available.\u001b[0m\n",
      "\u001b[34mYou should consider upgrading via the 'pip install --upgrade pip' command.\u001b[0m\n",
      "\u001b[34m2020-07-26 01:34:27,955 sagemaker-containers INFO     No GPUs detected (normal if no gpus installed)\u001b[0m\n",
      "\u001b[34m2020-07-26 01:34:27,967 sagemaker-containers INFO     Invoking user script\n",
      "\u001b[0m\n",
      "\u001b[34mTraining Env:\n",
      "\u001b[0m\n",
      "\u001b[34m{\n",
      "    \"additional_framework_parameters\": {},\n",
      "    \"channel_input_dirs\": {\n",
      "        \"training\": \"/opt/ml/input/data/training\"\n",
      "    },\n",
      "    \"current_host\": \"algo-1\",\n",
      "    \"framework_module\": \"sagemaker_pytorch_container.training:main\",\n",
      "    \"hosts\": [\n",
      "        \"algo-1\"\n",
      "    ],\n",
      "    \"hyperparameters\": {\n",
      "        \"optimizer\": \"sgd\",\n",
      "        \"hidden_channels\": 10,\n",
      "        \"dropout\": 0.2,\n",
      "        \"backend\": \"gloo\",\n",
      "        \"epochs\": 2,\n",
      "        \"kernel_size\": 5\n",
      "    },\n",
      "    \"input_config_dir\": \"/opt/ml/input/config\",\n",
      "    \"input_data_config\": {\n",
      "        \"training\": {\n",
      "            \"TrainingInputMode\": \"File\",\n",
      "            \"S3DistributionType\": \"FullyReplicated\",\n",
      "            \"RecordWrapperType\": \"None\"\n",
      "        }\n",
      "    },\n",
      "    \"input_dir\": \"/opt/ml/input\",\n",
      "    \"is_master\": true,\n",
      "    \"job_name\": \"framework-script-local-1595727077\",\n",
      "    \"log_level\": 20,\n",
      "    \"master_hostname\": \"algo-1\",\n",
      "    \"model_dir\": \"/opt/ml/model\",\n",
      "    \"module_dir\": \"s3://sagemaker-us-east-1-725879053979/framework-script-local-1595727077/source/sourcedir.tar.gz\",\n",
      "    \"module_name\": \"mnist\",\n",
      "    \"network_interface_name\": \"eth0\",\n",
      "    \"num_cpus\": 4,\n",
      "    \"num_gpus\": 0,\n",
      "    \"output_data_dir\": \"/opt/ml/output/data\",\n",
      "    \"output_dir\": \"/opt/ml/output\",\n",
      "    \"output_intermediate_dir\": \"/opt/ml/output/intermediate\",\n",
      "    \"resource_config\": {\n",
      "        \"current_host\": \"algo-1\",\n",
      "        \"hosts\": [\n",
      "            \"algo-1\"\n",
      "        ],\n",
      "        \"network_interface_name\": \"eth0\"\n",
      "    },\n",
      "    \"user_entry_point\": \"mnist.py\"\u001b[0m\n",
      "\u001b[34m}\n",
      "\u001b[0m\n",
      "\u001b[34mEnvironment variables:\n",
      "\u001b[0m\n",
      "\u001b[34mSM_HOSTS=[\"algo-1\"]\u001b[0m\n",
      "\u001b[34mSM_NETWORK_INTERFACE_NAME=eth0\u001b[0m\n",
      "\u001b[34mSM_HPS={\"backend\":\"gloo\",\"dropout\":0.2,\"epochs\":2,\"hidden_channels\":10,\"kernel_size\":5,\"optimizer\":\"sgd\"}\u001b[0m\n",
      "\u001b[34mSM_USER_ENTRY_POINT=mnist.py\u001b[0m\n",
      "\u001b[34mSM_FRAMEWORK_PARAMS={}\u001b[0m\n",
      "\u001b[34mSM_RESOURCE_CONFIG={\"current_host\":\"algo-1\",\"hosts\":[\"algo-1\"],\"network_interface_name\":\"eth0\"}\u001b[0m\n",
      "\u001b[34mSM_INPUT_DATA_CONFIG={\"training\":{\"RecordWrapperType\":\"None\",\"S3DistributionType\":\"FullyReplicated\",\"TrainingInputMode\":\"File\"}}\u001b[0m\n",
      "\u001b[34mSM_OUTPUT_DATA_DIR=/opt/ml/output/data\u001b[0m\n",
      "\u001b[34mSM_CHANNELS=[\"training\"]\u001b[0m\n",
      "\u001b[34mSM_CURRENT_HOST=algo-1\u001b[0m\n",
      "\u001b[34mSM_MODULE_NAME=mnist\u001b[0m\n",
      "\u001b[34mSM_LOG_LEVEL=20\u001b[0m\n",
      "\u001b[34mSM_FRAMEWORK_MODULE=sagemaker_pytorch_container.training:main\u001b[0m\n",
      "\u001b[34mSM_INPUT_DIR=/opt/ml/input\u001b[0m\n",
      "\u001b[34mSM_INPUT_CONFIG_DIR=/opt/ml/input/config\u001b[0m\n",
      "\u001b[34mSM_OUTPUT_DIR=/opt/ml/output\u001b[0m\n",
      "\u001b[34mSM_NUM_CPUS=4\u001b[0m\n",
      "\u001b[34mSM_NUM_GPUS=0\u001b[0m\n",
      "\u001b[34mSM_MODEL_DIR=/opt/ml/model\u001b[0m\n",
      "\u001b[34mSM_MODULE_DIR=s3://sagemaker-us-east-1-725879053979/framework-script-local-1595727077/source/sourcedir.tar.gz\u001b[0m\n",
      "\u001b[34mSM_TRAINING_ENV={\"additional_framework_parameters\":{},\"channel_input_dirs\":{\"training\":\"/opt/ml/input/data/training\"},\"current_host\":\"algo-1\",\"framework_module\":\"sagemaker_pytorch_container.training:main\",\"hosts\":[\"algo-1\"],\"hyperparameters\":{\"backend\":\"gloo\",\"dropout\":0.2,\"epochs\":2,\"hidden_channels\":10,\"kernel_size\":5,\"optimizer\":\"sgd\"},\"input_config_dir\":\"/opt/ml/input/config\",\"input_data_config\":{\"training\":{\"RecordWrapperType\":\"None\",\"S3DistributionType\":\"FullyReplicated\",\"TrainingInputMode\":\"File\"}},\"input_dir\":\"/opt/ml/input\",\"is_master\":true,\"job_name\":\"framework-script-local-1595727077\",\"log_level\":20,\"master_hostname\":\"algo-1\",\"model_dir\":\"/opt/ml/model\",\"module_dir\":\"s3://sagemaker-us-east-1-725879053979/framework-script-local-1595727077/source/sourcedir.tar.gz\",\"module_name\":\"mnist\",\"network_interface_name\":\"eth0\",\"num_cpus\":4,\"num_gpus\":0,\"output_data_dir\":\"/opt/ml/output/data\",\"output_dir\":\"/opt/ml/output\",\"output_intermediate_dir\":\"/opt/ml/output/intermediate\",\"resource_config\":{\"current_host\":\"algo-1\",\"hosts\":[\"algo-1\"],\"network_interface_name\":\"eth0\"},\"user_entry_point\":\"mnist.py\"}\u001b[0m\n",
      "\u001b[34mSM_USER_ARGS=[\"--backend\",\"gloo\",\"--dropout\",\"0.2\",\"--epochs\",\"2\",\"--hidden_channels\",\"10\",\"--kernel_size\",\"5\",\"--optimizer\",\"sgd\"]\u001b[0m\n",
      "\u001b[34mSM_OUTPUT_INTERMEDIATE_DIR=/opt/ml/output/intermediate\u001b[0m\n",
      "\u001b[34mSM_CHANNEL_TRAINING=/opt/ml/input/data/training\u001b[0m\n",
      "\u001b[34mSM_HP_OPTIMIZER=sgd\u001b[0m\n",
      "\u001b[34mSM_HP_HIDDEN_CHANNELS=10\u001b[0m\n",
      "\u001b[34mSM_HP_DROPOUT=0.2\u001b[0m\n",
      "\u001b[34mSM_HP_BACKEND=gloo\u001b[0m\n",
      "\u001b[34mSM_HP_EPOCHS=2\u001b[0m\n",
      "\u001b[34mSM_HP_KERNEL_SIZE=5\u001b[0m\n",
      "\u001b[34mPYTHONPATH=/usr/local/bin:/usr/lib/python36.zip:/usr/lib/python3.6:/usr/lib/python3.6/lib-dynload:/usr/local/lib/python3.6/dist-packages:/usr/lib/python3/dist-packages\n",
      "\u001b[0m\n",
      "\u001b[34mInvoking script with the following command:\n",
      "\u001b[0m\n",
      "\u001b[34m/usr/bin/python -m mnist --backend gloo --dropout 0.2 --epochs 2 --hidden_channels 10 --kernel_size 5 --optimizer sgd\n",
      "\n",
      "\u001b[0m\n",
      "\u001b[34mDistributed training - False\u001b[0m\n",
      "\u001b[34mNumber of gpus available - 0\u001b[0m\n",
      "\u001b[34mGet train data loader\u001b[0m\n",
      "\u001b[34mGet test data loader\u001b[0m\n",
      "\u001b[34mProcesses 60000/60000 (100%) of train data\u001b[0m\n",
      "\u001b[34mProcesses 10000/10000 (100%) of test data\u001b[0m\n",
      "\u001b[34mTrain Epoch: 1 [6400/60000 (11%)], [Train Loss 1.695285]\u001b[0m\n",
      "\u001b[34mTrain Epoch: 1 [12800/60000 (21%)], [Train Loss 0.928432]\u001b[0m\n",
      "\n",
      "2020-07-26 01:34:24 Training - Training image download completed. Training in progress.\u001b[34mTrain Epoch: 1 [19200/60000 (32%)], [Train Loss 0.702160]\u001b[0m\n",
      "\u001b[34mTrain Epoch: 1 [25600/60000 (43%)], [Train Loss 0.442871]\u001b[0m\n",
      "\u001b[34mTrain Epoch: 1 [32000/60000 (53%)], [Train Loss 0.413667]\u001b[0m\n",
      "\u001b[34mTrain Epoch: 1 [38400/60000 (64%)], [Train Loss 0.501132]\u001b[0m\n",
      "\u001b[34mTrain Epoch: 1 [44800/60000 (75%)], [Train Loss 0.383585]\u001b[0m\n",
      "\u001b[34mTrain Epoch: 1 [51200/60000 (85%)], [Train Loss 0.328490]\u001b[0m\n",
      "\u001b[34mTrain Epoch: 1 [57600/60000 (96%)], [Train Loss 0.396089]\u001b[0m\n",
      "\u001b[34m[Test Average loss 0.1679], [Test Accuracy 95];\n",
      "\u001b[0m\n",
      "\u001b[34mTrain Epoch: 2 [6400/60000 (11%)], [Train Loss 0.603119]\u001b[0m\n",
      "\u001b[34mTrain Epoch: 2 [12800/60000 (21%)], [Train Loss 0.229334]\u001b[0m\n",
      "\u001b[34mTrain Epoch: 2 [19200/60000 (32%)], [Train Loss 0.281790]\u001b[0m\n",
      "\u001b[34mTrain Epoch: 2 [25600/60000 (43%)], [Train Loss 0.376957]\u001b[0m\n",
      "\u001b[34mTrain Epoch: 2 [32000/60000 (53%)], [Train Loss 0.412861]\u001b[0m\n",
      "\u001b[34mTrain Epoch: 2 [38400/60000 (64%)], [Train Loss 0.200810]\u001b[0m\n",
      "\u001b[34mTrain Epoch: 2 [44800/60000 (75%)], [Train Loss 0.233049]\u001b[0m\n",
      "\u001b[34mTrain Epoch: 2 [51200/60000 (85%)], [Train Loss 0.319483]\u001b[0m\n",
      "\u001b[34mTrain Epoch: 2 [57600/60000 (96%)], [Train Loss 0.210030]\u001b[0m\n",
      "\u001b[34m[Test Average loss 0.1060], [Test Accuracy 97];\n",
      "\u001b[0m\n",
      "\u001b[34mSaving the model.\u001b[0m\n",
      "\u001b[34m2020-07-26 01:35:18,208 sagemaker-containers INFO     Reporting training SUCCESS\u001b[0m\n",
      "\n",
      "2020-07-26 01:35:28 Uploading - Uploading generated training model\n",
      "2020-07-26 01:35:28 Completed - Training job completed\n",
      "Training seconds: 113\n",
      "Billable seconds: 113\n"
     ]
    }
   ],
   "source": [
    "estimator.fit(\n",
    "    inputs={'training': inputs}, \n",
    "    job_name=cnn_training_job_name,\n",
    "    wait=True,\n",
    ")"
   ]
  },
  {
   "cell_type": "markdown",
   "metadata": {},
   "source": [
    "### Treinar modelo pela segunda vez, mas agora usando script já no S3\n",
    "\n",
    "Um detalhe interessante aqui é que os scripts podem ficar em um git (ao invés de ficarem aqui localmente ou no S3) - olhar [parâmetro git_config](https://sagemaker.readthedocs.io/en/stable/api/training/estimators.html#sagemaker.estimator.Framework) ([PyTorch estimator](https://sagemaker.readthedocs.io/en/stable/frameworks/pytorch/sagemaker.pytorch.html#pytorch-estimator) herda essa classe)"
   ]
  },
  {
   "cell_type": "code",
   "execution_count": 14,
   "metadata": {},
   "outputs": [],
   "source": [
    "previous_training_analytics = estimator.training_job_analytics"
   ]
  },
  {
   "cell_type": "code",
   "execution_count": 15,
   "metadata": {},
   "outputs": [
    {
     "data": {
      "text/html": [
       "<div>\n",
       "<style scoped>\n",
       "    .dataframe tbody tr th:only-of-type {\n",
       "        vertical-align: middle;\n",
       "    }\n",
       "\n",
       "    .dataframe tbody tr th {\n",
       "        vertical-align: top;\n",
       "    }\n",
       "\n",
       "    .dataframe thead th {\n",
       "        text-align: right;\n",
       "    }\n",
       "</style>\n",
       "<table border=\"1\" class=\"dataframe\">\n",
       "  <thead>\n",
       "    <tr style=\"text-align: right;\">\n",
       "      <th></th>\n",
       "      <th>timestamp</th>\n",
       "      <th>metric_name</th>\n",
       "      <th>value</th>\n",
       "    </tr>\n",
       "  </thead>\n",
       "  <tbody>\n",
       "    <tr>\n",
       "      <th>0</th>\n",
       "      <td>0.0</td>\n",
       "      <td>train:loss</td>\n",
       "      <td>0.698984</td>\n",
       "    </tr>\n",
       "    <tr>\n",
       "      <th>1</th>\n",
       "      <td>60.0</td>\n",
       "      <td>train:loss</td>\n",
       "      <td>0.306041</td>\n",
       "    </tr>\n",
       "    <tr>\n",
       "      <th>2</th>\n",
       "      <td>0.0</td>\n",
       "      <td>test:loss</td>\n",
       "      <td>0.167900</td>\n",
       "    </tr>\n",
       "    <tr>\n",
       "      <th>3</th>\n",
       "      <td>60.0</td>\n",
       "      <td>test:loss</td>\n",
       "      <td>0.106000</td>\n",
       "    </tr>\n",
       "    <tr>\n",
       "      <th>4</th>\n",
       "      <td>0.0</td>\n",
       "      <td>test:accuracy</td>\n",
       "      <td>95.000000</td>\n",
       "    </tr>\n",
       "    <tr>\n",
       "      <th>5</th>\n",
       "      <td>60.0</td>\n",
       "      <td>test:accuracy</td>\n",
       "      <td>97.000000</td>\n",
       "    </tr>\n",
       "  </tbody>\n",
       "</table>\n",
       "</div>"
      ],
      "text/plain": [
       "   timestamp    metric_name      value\n",
       "0        0.0     train:loss   0.698984\n",
       "1       60.0     train:loss   0.306041\n",
       "2        0.0      test:loss   0.167900\n",
       "3       60.0      test:loss   0.106000\n",
       "4        0.0  test:accuracy  95.000000\n",
       "5       60.0  test:accuracy  97.000000"
      ]
     },
     "execution_count": 15,
     "metadata": {},
     "output_type": "execute_result"
    }
   ],
   "source": [
    "# Regex capturou métricas\n",
    "previous_training_analytics.dataframe()"
   ]
  },
  {
   "cell_type": "code",
   "execution_count": 16,
   "metadata": {},
   "outputs": [
    {
     "name": "stdout",
     "output_type": "stream",
     "text": [
      "s3_script s3://sagemaker-us-east-1-725879053979/framework-script-local-1595727077/source/sourcedir.tar.gz\n"
     ]
    }
   ],
   "source": [
    "bucket = sagemaker.Session().default_bucket()\n",
    "s3_script = f's3://{bucket}/{cnn_training_job_name}/source/sourcedir.tar.gz'\n",
    "print('s3_script', s3_script)"
   ]
  },
  {
   "cell_type": "code",
   "execution_count": 17,
   "metadata": {},
   "outputs": [],
   "source": [
    "estimator = PyTorch(\n",
    "        entry_point='./mnist.py',\n",
    "        source_dir=s3_script,\n",
    "        role=role,\n",
    "        sagemaker_session=sagemaker.Session(sagemaker_client=sm),\n",
    "        framework_version='1.1.0',\n",
    "        train_instance_count=1,\n",
    "        train_instance_type='ml.c4.xlarge',\n",
    "        hyperparameters={\n",
    "            'epochs': 2,\n",
    "            'backend': 'gloo',\n",
    "            'hidden_channels': 10,\n",
    "            'dropout': 0.2,\n",
    "            'kernel_size': 5,\n",
    "            'optimizer': 'sgd'\n",
    "        },\n",
    "        metric_definitions=[\n",
    "            {'Name':'train:loss', 'Regex':'\\[Train Loss (.*?)\\]'},\n",
    "            {'Name':'test:loss', 'Regex':'\\[Test Average loss (.*?)\\]'},\n",
    "            {'Name':'test:accuracy', 'Regex':'\\[Test Accuracy (.*?)\\]'}\n",
    "        ],\n",
    "        enable_sagemaker_metrics=True\n",
    "    )    "
   ]
  },
  {
   "cell_type": "code",
   "execution_count": 18,
   "metadata": {},
   "outputs": [],
   "source": [
    "cnn_training_job_name = \"framework-script-s3-{}\".format(int(time.time()))"
   ]
  },
  {
   "cell_type": "code",
   "execution_count": 19,
   "metadata": {},
   "outputs": [
    {
     "name": "stderr",
     "output_type": "stream",
     "text": [
      "WARNING:sagemaker:'s3_input' class will be renamed to 'TrainingInput' in SageMaker Python SDK v2.\n",
      "WARNING:sagemaker:'create_image_uri' will be deprecated in favor of 'ImageURIProvider' class in SageMaker Python SDK v2.\n",
      "INFO:sagemaker:Creating training-job with name: framework-script-s3-1595728242\n"
     ]
    },
    {
     "name": "stdout",
     "output_type": "stream",
     "text": [
      "2020-07-26 01:50:48 Starting - Starting the training job...\n",
      "2020-07-26 01:50:50 Starting - Launching requested ML instances.........\n",
      "2020-07-26 01:52:31 Starting - Preparing the instances for training......\n",
      "2020-07-26 01:53:45 Downloading - Downloading input data\n",
      "2020-07-26 01:53:45 Training - Downloading the training image..\u001b[34mbash: cannot set terminal process group (-1): Inappropriate ioctl for device\u001b[0m\n",
      "\u001b[34mbash: no job control in this shell\u001b[0m\n",
      "\u001b[34m2020-07-26 01:54:00,620 sagemaker-containers INFO     Imported framework sagemaker_pytorch_container.training\u001b[0m\n",
      "\u001b[34m2020-07-26 01:54:00,623 sagemaker-containers INFO     No GPUs detected (normal if no gpus installed)\u001b[0m\n",
      "\u001b[34m2020-07-26 01:54:00,634 sagemaker_pytorch_container.training INFO     Block until all host DNS lookups succeed.\u001b[0m\n",
      "\u001b[34m2020-07-26 01:54:03,683 sagemaker_pytorch_container.training INFO     Invoking user training script.\u001b[0m\n",
      "\u001b[34m2020-07-26 01:54:03,946 sagemaker-containers INFO     Module mnist does not provide a setup.py. \u001b[0m\n",
      "\u001b[34mGenerating setup.py\u001b[0m\n",
      "\u001b[34m2020-07-26 01:54:03,946 sagemaker-containers INFO     Generating setup.cfg\u001b[0m\n",
      "\u001b[34m2020-07-26 01:54:03,946 sagemaker-containers INFO     Generating MANIFEST.in\u001b[0m\n",
      "\u001b[34m2020-07-26 01:54:03,946 sagemaker-containers INFO     Installing module with the following command:\u001b[0m\n",
      "\u001b[34m/usr/bin/python -m pip install . \u001b[0m\n",
      "\u001b[34mProcessing /opt/ml/code\u001b[0m\n",
      "\u001b[34mBuilding wheels for collected packages: mnist\n",
      "  Running setup.py bdist_wheel for mnist: started\n",
      "  Running setup.py bdist_wheel for mnist: finished with status 'done'\n",
      "  Stored in directory: /tmp/pip-ephem-wheel-cache-gbgc6f6_/wheels/35/24/16/37574d11bf9bde50616c67372a334f94fa8356bc7164af8ca3\u001b[0m\n",
      "\u001b[34mSuccessfully built mnist\u001b[0m\n",
      "\u001b[34mInstalling collected packages: mnist\u001b[0m\n",
      "\u001b[34mSuccessfully installed mnist-1.0.0\u001b[0m\n",
      "\u001b[34mYou are using pip version 18.1, however version 20.2b1 is available.\u001b[0m\n",
      "\u001b[34mYou should consider upgrading via the 'pip install --upgrade pip' command.\u001b[0m\n",
      "\u001b[34m2020-07-26 01:54:05,637 sagemaker-containers INFO     No GPUs detected (normal if no gpus installed)\u001b[0m\n",
      "\u001b[34m2020-07-26 01:54:05,649 sagemaker-containers INFO     Invoking user script\n",
      "\u001b[0m\n",
      "\u001b[34mTraining Env:\n",
      "\u001b[0m\n",
      "\u001b[34m{\n",
      "    \"additional_framework_parameters\": {},\n",
      "    \"channel_input_dirs\": {\n",
      "        \"training\": \"/opt/ml/input/data/training\"\n",
      "    },\n",
      "    \"current_host\": \"algo-1\",\n",
      "    \"framework_module\": \"sagemaker_pytorch_container.training:main\",\n",
      "    \"hosts\": [\n",
      "        \"algo-1\"\n",
      "    ],\n",
      "    \"hyperparameters\": {\n",
      "        \"optimizer\": \"sgd\",\n",
      "        \"hidden_channels\": 10,\n",
      "        \"dropout\": 0.2,\n",
      "        \"backend\": \"gloo\",\n",
      "        \"epochs\": 2,\n",
      "        \"kernel_size\": 5\n",
      "    },\n",
      "    \"input_config_dir\": \"/opt/ml/input/config\",\n",
      "    \"input_data_config\": {\n",
      "        \"training\": {\n",
      "            \"TrainingInputMode\": \"File\",\n",
      "            \"S3DistributionType\": \"FullyReplicated\",\n",
      "            \"RecordWrapperType\": \"None\"\n",
      "        }\n",
      "    },\n",
      "    \"input_dir\": \"/opt/ml/input\",\n",
      "    \"is_master\": true,\n",
      "    \"job_name\": \"framework-script-s3-1595728242\",\n",
      "    \"log_level\": 20,\n",
      "    \"master_hostname\": \"algo-1\",\n",
      "    \"model_dir\": \"/opt/ml/model\",\n",
      "    \"module_dir\": \"s3://sagemaker-us-east-1-725879053979/framework-script-local-1595727077/source/sourcedir.tar.gz\",\n",
      "    \"module_name\": \"mnist\",\n",
      "    \"network_interface_name\": \"eth0\",\n",
      "    \"num_cpus\": 4,\n",
      "    \"num_gpus\": 0,\n",
      "    \"output_data_dir\": \"/opt/ml/output/data\",\n",
      "    \"output_dir\": \"/opt/ml/output\",\n",
      "    \"output_intermediate_dir\": \"/opt/ml/output/intermediate\",\n",
      "    \"resource_config\": {\n",
      "        \"current_host\": \"algo-1\",\n",
      "        \"hosts\": [\n",
      "            \"algo-1\"\n",
      "        ],\n",
      "        \"network_interface_name\": \"eth0\"\n",
      "    },\n",
      "    \"user_entry_point\": \"mnist.py\"\u001b[0m\n",
      "\u001b[34m}\n",
      "\u001b[0m\n",
      "\u001b[34mEnvironment variables:\n",
      "\u001b[0m\n",
      "\u001b[34mSM_HOSTS=[\"algo-1\"]\u001b[0m\n",
      "\u001b[34mSM_NETWORK_INTERFACE_NAME=eth0\u001b[0m\n",
      "\u001b[34mSM_HPS={\"backend\":\"gloo\",\"dropout\":0.2,\"epochs\":2,\"hidden_channels\":10,\"kernel_size\":5,\"optimizer\":\"sgd\"}\u001b[0m\n",
      "\u001b[34mSM_USER_ENTRY_POINT=mnist.py\u001b[0m\n",
      "\u001b[34mSM_FRAMEWORK_PARAMS={}\u001b[0m\n",
      "\u001b[34mSM_RESOURCE_CONFIG={\"current_host\":\"algo-1\",\"hosts\":[\"algo-1\"],\"network_interface_name\":\"eth0\"}\u001b[0m\n",
      "\u001b[34mSM_INPUT_DATA_CONFIG={\"training\":{\"RecordWrapperType\":\"None\",\"S3DistributionType\":\"FullyReplicated\",\"TrainingInputMode\":\"File\"}}\u001b[0m\n",
      "\u001b[34mSM_OUTPUT_DATA_DIR=/opt/ml/output/data\u001b[0m\n",
      "\u001b[34mSM_CHANNELS=[\"training\"]\u001b[0m\n",
      "\u001b[34mSM_CURRENT_HOST=algo-1\u001b[0m\n",
      "\u001b[34mSM_MODULE_NAME=mnist\u001b[0m\n",
      "\u001b[34mSM_LOG_LEVEL=20\u001b[0m\n",
      "\u001b[34mSM_FRAMEWORK_MODULE=sagemaker_pytorch_container.training:main\u001b[0m\n",
      "\u001b[34mSM_INPUT_DIR=/opt/ml/input\u001b[0m\n",
      "\u001b[34mSM_INPUT_CONFIG_DIR=/opt/ml/input/config\u001b[0m\n",
      "\u001b[34mSM_OUTPUT_DIR=/opt/ml/output\u001b[0m\n",
      "\u001b[34mSM_NUM_CPUS=4\u001b[0m\n",
      "\u001b[34mSM_NUM_GPUS=0\u001b[0m\n",
      "\u001b[34mSM_MODEL_DIR=/opt/ml/model\u001b[0m\n",
      "\u001b[34mSM_MODULE_DIR=s3://sagemaker-us-east-1-725879053979/framework-script-local-1595727077/source/sourcedir.tar.gz\u001b[0m\n",
      "\u001b[34mSM_TRAINING_ENV={\"additional_framework_parameters\":{},\"channel_input_dirs\":{\"training\":\"/opt/ml/input/data/training\"},\"current_host\":\"algo-1\",\"framework_module\":\"sagemaker_pytorch_container.training:main\",\"hosts\":[\"algo-1\"],\"hyperparameters\":{\"backend\":\"gloo\",\"dropout\":0.2,\"epochs\":2,\"hidden_channels\":10,\"kernel_size\":5,\"optimizer\":\"sgd\"},\"input_config_dir\":\"/opt/ml/input/config\",\"input_data_config\":{\"training\":{\"RecordWrapperType\":\"None\",\"S3DistributionType\":\"FullyReplicated\",\"TrainingInputMode\":\"File\"}},\"input_dir\":\"/opt/ml/input\",\"is_master\":true,\"job_name\":\"framework-script-s3-1595728242\",\"log_level\":20,\"master_hostname\":\"algo-1\",\"model_dir\":\"/opt/ml/model\",\"module_dir\":\"s3://sagemaker-us-east-1-725879053979/framework-script-local-1595727077/source/sourcedir.tar.gz\",\"module_name\":\"mnist\",\"network_interface_name\":\"eth0\",\"num_cpus\":4,\"num_gpus\":0,\"output_data_dir\":\"/opt/ml/output/data\",\"output_dir\":\"/opt/ml/output\",\"output_intermediate_dir\":\"/opt/ml/output/intermediate\",\"resource_config\":{\"current_host\":\"algo-1\",\"hosts\":[\"algo-1\"],\"network_interface_name\":\"eth0\"},\"user_entry_point\":\"mnist.py\"}\u001b[0m\n",
      "\u001b[34mSM_USER_ARGS=[\"--backend\",\"gloo\",\"--dropout\",\"0.2\",\"--epochs\",\"2\",\"--hidden_channels\",\"10\",\"--kernel_size\",\"5\",\"--optimizer\",\"sgd\"]\u001b[0m\n",
      "\u001b[34mSM_OUTPUT_INTERMEDIATE_DIR=/opt/ml/output/intermediate\u001b[0m\n",
      "\u001b[34mSM_CHANNEL_TRAINING=/opt/ml/input/data/training\u001b[0m\n",
      "\u001b[34mSM_HP_OPTIMIZER=sgd\u001b[0m\n",
      "\u001b[34mSM_HP_HIDDEN_CHANNELS=10\u001b[0m\n",
      "\u001b[34mSM_HP_DROPOUT=0.2\u001b[0m\n",
      "\u001b[34mSM_HP_BACKEND=gloo\u001b[0m\n",
      "\u001b[34mSM_HP_EPOCHS=2\u001b[0m\n",
      "\u001b[34mSM_HP_KERNEL_SIZE=5\u001b[0m\n",
      "\u001b[34mPYTHONPATH=/usr/local/bin:/usr/lib/python36.zip:/usr/lib/python3.6:/usr/lib/python3.6/lib-dynload:/usr/local/lib/python3.6/dist-packages:/usr/lib/python3/dist-packages\n",
      "\u001b[0m\n",
      "\u001b[34mInvoking script with the following command:\n",
      "\u001b[0m\n",
      "\u001b[34m/usr/bin/python -m mnist --backend gloo --dropout 0.2 --epochs 2 --hidden_channels 10 --kernel_size 5 --optimizer sgd\n",
      "\n",
      "\u001b[0m\n",
      "\u001b[34mDistributed training - False\u001b[0m\n",
      "\u001b[34mNumber of gpus available - 0\u001b[0m\n",
      "\u001b[34mGet train data loader\u001b[0m\n",
      "\u001b[34mGet test data loader\u001b[0m\n",
      "\u001b[34mProcesses 60000/60000 (100%) of train data\u001b[0m\n",
      "\u001b[34mProcesses 10000/10000 (100%) of test data\u001b[0m\n",
      "\n",
      "2020-07-26 01:53:59 Training - Training image download completed. Training in progress.\u001b[34mTrain Epoch: 1 [6400/60000 (11%)], [Train Loss 1.695285]\u001b[0m\n",
      "\u001b[34mTrain Epoch: 1 [12800/60000 (21%)], [Train Loss 0.928432]\u001b[0m\n",
      "\u001b[34mTrain Epoch: 1 [19200/60000 (32%)], [Train Loss 0.702160]\u001b[0m\n",
      "\u001b[34mTrain Epoch: 1 [25600/60000 (43%)], [Train Loss 0.442871]\u001b[0m\n",
      "\u001b[34mTrain Epoch: 1 [32000/60000 (53%)], [Train Loss 0.413667]\u001b[0m\n",
      "\u001b[34mTrain Epoch: 1 [38400/60000 (64%)], [Train Loss 0.501132]\u001b[0m\n",
      "\u001b[34mTrain Epoch: 1 [44800/60000 (75%)], [Train Loss 0.383585]\u001b[0m\n",
      "\u001b[34mTrain Epoch: 1 [51200/60000 (85%)], [Train Loss 0.328490]\u001b[0m\n",
      "\u001b[34mTrain Epoch: 1 [57600/60000 (96%)], [Train Loss 0.396089]\u001b[0m\n",
      "\u001b[34m[Test Average loss 0.1679], [Test Accuracy 95];\n",
      "\u001b[0m\n",
      "\u001b[34mTrain Epoch: 2 [6400/60000 (11%)], [Train Loss 0.603119]\u001b[0m\n",
      "\u001b[34mTrain Epoch: 2 [12800/60000 (21%)], [Train Loss 0.229334]\u001b[0m\n",
      "\u001b[34mTrain Epoch: 2 [19200/60000 (32%)], [Train Loss 0.281790]\u001b[0m\n",
      "\u001b[34mTrain Epoch: 2 [25600/60000 (43%)], [Train Loss 0.376957]\u001b[0m\n",
      "\u001b[34mTrain Epoch: 2 [32000/60000 (53%)], [Train Loss 0.412861]\u001b[0m\n",
      "\u001b[34mTrain Epoch: 2 [38400/60000 (64%)], [Train Loss 0.200810]\u001b[0m\n",
      "\u001b[34mTrain Epoch: 2 [44800/60000 (75%)], [Train Loss 0.233049]\u001b[0m\n",
      "\u001b[34mTrain Epoch: 2 [51200/60000 (85%)], [Train Loss 0.319483]\u001b[0m\n",
      "\u001b[34mTrain Epoch: 2 [57600/60000 (96%)], [Train Loss 0.210030]\u001b[0m\n",
      "\u001b[34m[Test Average loss 0.1060], [Test Accuracy 97];\n",
      "\u001b[0m\n",
      "\u001b[34mSaving the model.\u001b[0m\n",
      "\u001b[34m2020-07-26 01:54:55,851 sagemaker-containers INFO     Reporting training SUCCESS\u001b[0m\n",
      "\n",
      "2020-07-26 01:55:08 Uploading - Uploading generated training model\n",
      "2020-07-26 01:55:08 Completed - Training job completed\n",
      "Training seconds: 101\n",
      "Billable seconds: 101\n"
     ]
    }
   ],
   "source": [
    "estimator.fit(\n",
    "    inputs={'training': inputs}, \n",
    "    job_name=cnn_training_job_name,\n",
    "    wait=True,\n",
    ")"
   ]
  },
  {
   "cell_type": "markdown",
   "metadata": {},
   "source": [
    "### Deploy com script de inferencia\n",
    "\n",
    "É possível utilizar um script apenas para inferência. Container de inferência carrega modelo pré-treinado do S3 e executa lógica provida nas inferências.\n",
    "\n",
    "De forma similar ao treinamento, os scripts de inferência podem ficar em um git (ao invés de ficarem aqui localmente ou no S3) - olhar [parâmetro git_config](https://sagemaker.readthedocs.io/en/stable/api/inference/model.html#sagemaker.model.FrameworkModel) ([PyTorchModel](https://sagemaker.readthedocs.io/en/stable/frameworks/pytorch/sagemaker.pytorch.html#pytorch-model) herda essa classe)"
   ]
  },
  {
   "cell_type": "code",
   "execution_count": 20,
   "metadata": {},
   "outputs": [
    {
     "name": "stdout",
     "output_type": "stream",
     "text": [
      "Local do artefato do último treinamento do estimator:\n",
      " s3://sagemaker-us-east-1-725879053979/framework-script-s3-1595728242/output/model.tar.gz\n"
     ]
    }
   ],
   "source": [
    "artifact_location = estimator.model_data\n",
    "print('Local do artefato do último treinamento do estimator:\\n', artifact_location)"
   ]
  },
  {
   "cell_type": "code",
   "execution_count": 21,
   "metadata": {},
   "outputs": [
    {
     "name": "stderr",
     "output_type": "stream",
     "text": [
      "WARNING:sagemaker:Parameter image will be renamed to image_uri in SageMaker Python SDK v2.\n"
     ]
    }
   ],
   "source": [
    "# Usando código específico para inferência\n",
    "pytorch_model = PyTorchModel(model_data=artifact_location, \n",
    "                             role=role,\n",
    "                             entry_point='inference.py', \n",
    "                             framework_version='1.1.0')"
   ]
  },
  {
   "cell_type": "code",
   "execution_count": 22,
   "metadata": {
    "scrolled": true
   },
   "outputs": [
    {
     "name": "stderr",
     "output_type": "stream",
     "text": [
      "WARNING:sagemaker:'create_image_uri' will be deprecated in favor of 'ImageURIProvider' class in SageMaker Python SDK v2.\n",
      "INFO:sagemaker:Creating model with name: sagemaker-pytorch-2020-07-26-01-55-34-120\n",
      "INFO:sagemaker:Creating endpoint with name sagemaker-pytorch-2020-07-26-01-55-34-120\n"
     ]
    },
    {
     "name": "stdout",
     "output_type": "stream",
     "text": [
      "-----------------!"
     ]
    }
   ],
   "source": [
    "predictor = pytorch_model.deploy(\n",
    "    instance_type='ml.t2.medium', \n",
    "    initial_instance_count=1)"
   ]
  },
  {
   "cell_type": "markdown",
   "metadata": {},
   "source": [
    "### Realizando inferências\n",
    "\n",
    "Para desenvolvimento poderiamos usar apenas o `predictor.predict(my_payload)`, mas vamos usar o client do SageMaker Runtime (o que seria algo produtivo).\n"
   ]
  },
  {
   "cell_type": "code",
   "execution_count": 24,
   "metadata": {},
   "outputs": [],
   "source": [
    "import torch\n",
    "loader = iter(torch.utils.data.DataLoader(train_set))"
   ]
  },
  {
   "cell_type": "code",
   "execution_count": 25,
   "metadata": {},
   "outputs": [],
   "source": [
    "i, l = next(loader)"
   ]
  },
  {
   "cell_type": "code",
   "execution_count": 26,
   "metadata": {},
   "outputs": [
    {
     "data": {
      "text/plain": [
       "<matplotlib.image.AxesImage at 0x7f6b9e2fff60>"
      ]
     },
     "execution_count": 26,
     "metadata": {},
     "output_type": "execute_result"
    },
    {
     "data": {
      "image/png": "[encoded data removed]",
      "text/plain": [
       "<Figure size 432x288 with 1 Axes>"
      ]
     },
     "metadata": {
      "image/png": {
       "height": 248,
       "width": 251
      },
      "needs_background": "light"
     },
     "output_type": "display_data"
    }
   ],
   "source": [
    "plt.imshow(i.squeeze().numpy())"
   ]
  },
  {
   "cell_type": "code",
   "execution_count": 27,
   "metadata": {},
   "outputs": [],
   "source": [
    "image = np.array(i.numpy(), dtype=np.float32)"
   ]
  },
  {
   "cell_type": "code",
   "execution_count": 28,
   "metadata": {},
   "outputs": [
    {
     "name": "stdout",
     "output_type": "stream",
     "text": [
      "endpoint name: sagemaker-pytorch-2020-07-26-01-55-34-120\n"
     ]
    }
   ],
   "source": [
    "# Usando SageMaker Runtime para inferências\n",
    "runtime = boto3.client('sagemaker-runtime')\n",
    "print('endpoint name:', predictor.endpoint)"
   ]
  },
  {
   "cell_type": "code",
   "execution_count": 29,
   "metadata": {},
   "outputs": [
    {
     "name": "stdout",
     "output_type": "stream",
     "text": [
      "5\n"
     ]
    }
   ],
   "source": [
    "from io import BytesIO\n",
    "\n",
    "#Serialise numpy ndarray as bytes\n",
    "buffer = BytesIO()\n",
    "# Assuming testX is a data frame\n",
    "np.save(buffer, image)\n",
    "\n",
    "response = runtime.invoke_endpoint(\n",
    "    EndpointName=predictor.endpoint,\n",
    "    Body=buffer.getvalue(),\n",
    "    ContentType='application/x-npy',\n",
    "    Accept='application/x-npy')\n",
    "\n",
    "prediction = response['Body'].read()\n",
    "stream = BytesIO(prediction)\n",
    "prediction = np.load(stream, allow_pickle=True)\n",
    "\n",
    "print(prediction.argmax(axis=1)[0])"
   ]
  },
  {
   "cell_type": "markdown",
   "metadata": {},
   "source": [
    "### Cleanup"
   ]
  },
  {
   "cell_type": "code",
   "execution_count": 30,
   "metadata": {},
   "outputs": [
    {
     "name": "stderr",
     "output_type": "stream",
     "text": [
      "INFO:sagemaker:Deleting endpoint configuration with name: sagemaker-pytorch-2020-07-26-01-55-34-120\n",
      "INFO:sagemaker:Deleting endpoint with name: sagemaker-pytorch-2020-07-26-01-55-34-120\n"
     ]
    }
   ],
   "source": [
    "predictor.delete_endpoint()"
   ]
  },
  {
   "cell_type": "markdown",
   "metadata": {},
   "source": [
    "<a id='pipeline'/>\n",
    "\n",
    "## 2. Step Functions Pipeline"
   ]
  },
  {
   "cell_type": "code",
   "execution_count": 1,
   "metadata": {},
   "outputs": [],
   "source": [
    "import sys"
   ]
  },
  {
   "cell_type": "code",
   "execution_count": 2,
   "metadata": {
    "scrolled": true
   },
   "outputs": [
    {
     "name": "stdout",
     "output_type": "stream",
     "text": [
      "Requirement already up-to-date: stepfunctions in /home/ec2-user/anaconda3/envs/pytorch_p36/lib/python3.6/site-packages (1.1.0)\n",
      "Requirement already satisfied, skipping upgrade: sagemaker>=1.42.8 in /home/ec2-user/anaconda3/envs/pytorch_p36/lib/python3.6/site-packages (from stepfunctions) (1.67.1.post0)\n",
      "Requirement already satisfied, skipping upgrade: boto3>=1.9.213 in /home/ec2-user/anaconda3/envs/pytorch_p36/lib/python3.6/site-packages (from stepfunctions) (1.14.16)\n",
      "Requirement already satisfied, skipping upgrade: pyyaml in /home/ec2-user/anaconda3/envs/pytorch_p36/lib/python3.6/site-packages (from stepfunctions) (5.3.1)\n",
      "Requirement already satisfied, skipping upgrade: protobuf3-to-dict>=0.1.5 in /home/ec2-user/anaconda3/envs/pytorch_p36/lib/python3.6/site-packages (from sagemaker>=1.42.8->stepfunctions) (0.1.5)\n",
      "Requirement already satisfied, skipping upgrade: packaging>=20.0 in /home/ec2-user/anaconda3/envs/pytorch_p36/lib/python3.6/site-packages (from sagemaker>=1.42.8->stepfunctions) (20.3)\n",
      "Requirement already satisfied, skipping upgrade: importlib-metadata>=1.4.0 in /home/ec2-user/anaconda3/envs/pytorch_p36/lib/python3.6/site-packages (from sagemaker>=1.42.8->stepfunctions) (1.5.0)\n",
      "Requirement already satisfied, skipping upgrade: smdebug-rulesconfig==0.1.4 in /home/ec2-user/anaconda3/envs/pytorch_p36/lib/python3.6/site-packages (from sagemaker>=1.42.8->stepfunctions) (0.1.4)\n",
      "Requirement already satisfied, skipping upgrade: scipy>=0.19.0 in /home/ec2-user/anaconda3/envs/pytorch_p36/lib/python3.6/site-packages (from sagemaker>=1.42.8->stepfunctions) (1.4.1)\n",
      "Requirement already satisfied, skipping upgrade: protobuf>=3.1 in /home/ec2-user/anaconda3/envs/pytorch_p36/lib/python3.6/site-packages (from sagemaker>=1.42.8->stepfunctions) (3.12.2)\n",
      "Requirement already satisfied, skipping upgrade: numpy>=1.9.0 in /home/ec2-user/anaconda3/envs/pytorch_p36/lib/python3.6/site-packages (from sagemaker>=1.42.8->stepfunctions) (1.18.1)\n",
      "Requirement already satisfied, skipping upgrade: botocore<1.18.0,>=1.17.16 in /home/ec2-user/anaconda3/envs/pytorch_p36/lib/python3.6/site-packages (from boto3>=1.9.213->stepfunctions) (1.17.16)\n",
      "Requirement already satisfied, skipping upgrade: s3transfer<0.4.0,>=0.3.0 in /home/ec2-user/anaconda3/envs/pytorch_p36/lib/python3.6/site-packages (from boto3>=1.9.213->stepfunctions) (0.3.3)\n",
      "Requirement already satisfied, skipping upgrade: jmespath<1.0.0,>=0.7.1 in /home/ec2-user/anaconda3/envs/pytorch_p36/lib/python3.6/site-packages (from boto3>=1.9.213->stepfunctions) (0.9.4)\n",
      "Requirement already satisfied, skipping upgrade: six in /home/ec2-user/anaconda3/envs/pytorch_p36/lib/python3.6/site-packages (from protobuf3-to-dict>=0.1.5->sagemaker>=1.42.8->stepfunctions) (1.14.0)\n",
      "Requirement already satisfied, skipping upgrade: pyparsing>=2.0.2 in /home/ec2-user/anaconda3/envs/pytorch_p36/lib/python3.6/site-packages (from packaging>=20.0->sagemaker>=1.42.8->stepfunctions) (2.4.6)\n",
      "Requirement already satisfied, skipping upgrade: zipp>=0.5 in /home/ec2-user/anaconda3/envs/pytorch_p36/lib/python3.6/site-packages (from importlib-metadata>=1.4.0->sagemaker>=1.42.8->stepfunctions) (2.2.0)\n",
      "Requirement already satisfied, skipping upgrade: setuptools in /home/ec2-user/anaconda3/envs/pytorch_p36/lib/python3.6/site-packages (from protobuf>=3.1->sagemaker>=1.42.8->stepfunctions) (46.1.3.post20200330)\n",
      "Requirement already satisfied, skipping upgrade: docutils<0.16,>=0.10 in /home/ec2-user/anaconda3/envs/pytorch_p36/lib/python3.6/site-packages (from botocore<1.18.0,>=1.17.16->boto3>=1.9.213->stepfunctions) (0.15.2)\n",
      "Requirement already satisfied, skipping upgrade: urllib3<1.26,>=1.20; python_version != \"3.4\" in /home/ec2-user/anaconda3/envs/pytorch_p36/lib/python3.6/site-packages (from botocore<1.18.0,>=1.17.16->boto3>=1.9.213->stepfunctions) (1.25.8)\n",
      "Requirement already satisfied, skipping upgrade: python-dateutil<3.0.0,>=2.1 in /home/ec2-user/anaconda3/envs/pytorch_p36/lib/python3.6/site-packages (from botocore<1.18.0,>=1.17.16->boto3>=1.9.213->stepfunctions) (2.8.1)\n",
      "\u001b[33mWARNING: You are using pip version 20.0.2; however, version 20.2 is available.\n",
      "You should consider upgrading via the '/home/ec2-user/anaconda3/envs/pytorch_p36/bin/python -m pip install --upgrade pip' command.\u001b[0m\n"
     ]
    }
   ],
   "source": [
    "!{sys.executable} -m pip install --upgrade stepfunctions"
   ]
  },
  {
   "cell_type": "code",
   "execution_count": 3,
   "metadata": {},
   "outputs": [],
   "source": [
    "import uuid\n",
    "import time\n",
    "import logging\n",
    "from IPython import display\n",
    "import stepfunctions\n",
    "import boto3\n",
    "import sagemaker\n",
    "\n",
    "from sagemaker.amazon.amazon_estimator import get_image_uri\n",
    "from sagemaker import get_execution_role\n",
    "from sagemaker import s3_input\n",
    "from sagemaker.s3 import S3Uploader\n",
    "from stepfunctions import steps\n",
    "from stepfunctions.steps import TrainingStep, ModelStep\n",
    "from stepfunctions.inputs import ExecutionInput\n",
    "from stepfunctions.workflow import Workflow"
   ]
  },
  {
   "cell_type": "code",
   "execution_count": 4,
   "metadata": {},
   "outputs": [],
   "source": [
    "session = sagemaker.Session()\n",
    "stepfunctions.set_stream_logger(level=logging.INFO)\n",
    "\n",
    "region = boto3.Session().region_name\n",
    "sm_arn = get_execution_role()\n",
    "id = uuid.uuid4().hex\n",
    "\n",
    "# Não irei adicionar etapa de ETL com Glue para simplificar\n",
    "# glue_job_name = 'glue-etl-{}'.format(id)\n",
    "\n",
    "#Create a unique name for the AWS Lambda function to be created. If you change\n",
    "#the default name, you may need to change the Step Functions execution role.\n",
    "function_name = 'query-training-status-{}'.format(id)"
   ]
  },
  {
   "cell_type": "code",
   "execution_count": 5,
   "metadata": {},
   "outputs": [
    {
     "name": "stdout",
     "output_type": "stream",
     "text": [
      "Notebook instance Role ARN: arn:aws:iam::725879053979:role/MLOps\n",
      "Stack Name: ml-pipeline-config\n"
     ]
    }
   ],
   "source": [
    "print('Notebook instance Role ARN:', sm_arn)\n",
    "stack_name='ml-pipeline-config'\n",
    "print('Stack Name:', stack_name)"
   ]
  },
  {
   "cell_type": "markdown",
   "metadata": {},
   "source": [
    "Template do CloudFormation para simplificar criação de políticas no IAM, roles IAM, etc.:"
   ]
  },
  {
   "cell_type": "code",
   "execution_count": 6,
   "metadata": {},
   "outputs": [],
   "source": [
    "# !aws cloudformation create-stack --stack-name {stack_name} --template-body file://cfns/cfn-config-ml-pipeline.json --parameters ParameterKey=NotebookRoleArn,ParameterValue={sm_arn} --capabilities CAPABILITY_NAMED_IAM\n",
    "# !aws cloudformation wait stack-create-complete --stack-name {stack_name}"
   ]
  },
  {
   "cell_type": "code",
   "execution_count": 7,
   "metadata": {},
   "outputs": [],
   "source": [
    "# Let's save Cfn output variables to make it easier\n",
    "bucket = !aws cloudformation describe-stacks --stack-name {stack_name} --query \"Stacks[0].Outputs[?OutputKey=='S3PipelineBucket'].OutputValue\" --output text; \n",
    "bucket = bucket.s\n",
    "\n",
    "step_functions_role_arn = !aws cloudformation describe-stacks --stack-name {stack_name} --query \"Stacks[0].Outputs[?OutputKey=='StepFunctionsRoleArn'].OutputValue\" --output text; \n",
    "step_functions_role_arn = step_functions_role_arn.s\n",
    "\n",
    "# Não irei adicionar etapa de ETL com Glue para simplificar\n",
    "# glue_role_arn = !aws cloudformation describe-stacks --stack-name {stack_name} --query \"Stacks[0].Outputs[?OutputKey=='GlueRoleArn'].OutputValue\" --output text; \n",
    "# glue_role_arn = glue_role_arn.s\n",
    "\n",
    "lambda_role_arn = !aws cloudformation describe-stacks --stack-name {stack_name} --query \"Stacks[0].Outputs[?OutputKey=='LambdaRoleArn'].OutputValue\" --output text; \n",
    "lambda_role_arn = lambda_role_arn.s\n"
   ]
  },
  {
   "cell_type": "code",
   "execution_count": 8,
   "metadata": {},
   "outputs": [
    {
     "name": "stdout",
     "output_type": "stream",
     "text": [
      "Bucket Name: ml-pipeline-725879053979\n",
      "step_functions_role_arn: arn:aws:iam::725879053979:role/StepFunctions_DSSDK-725879053979\n",
      "lambda_role_arn: arn:aws:iam::725879053979:role/query_training_status-role-725879053979\n"
     ]
    }
   ],
   "source": [
    "print(\"Bucket Name:\", bucket)\n",
    "print(\"step_functions_role_arn:\", step_functions_role_arn)\n",
    "# print(\"glue_role_arn:\",glue_role_arn)\n",
    "print(\"lambda_role_arn:\",lambda_role_arn)"
   ]
  },
  {
   "cell_type": "code",
   "execution_count": 9,
   "metadata": {},
   "outputs": [
    {
     "name": "stdout",
     "output_type": "stream",
     "text": [
      "INPUT CONFIGURATIONS:\n",
      "\n",
      "TrainingJobName (each Sagemaker Job requires a unique number):\n",
      " pth-pipeline-a690a0cb540c4f29b6c34ecaf808df81\n",
      "\n",
      "Artifact Bucket:\n",
      " s3://ml-pipeline-725879053979\n",
      "\n",
      "ModelName (each SageMaker Model requires a unique name):\n",
      " MNIST-a690a0cb540c4f29b6c34ecaf808df81\n",
      "\n",
      "EndpointName (each Endpoint requires a unique name):\n",
      " PyTorchPipeline\n",
      "\n",
      "LambdaFunctionName:\n",
      " PyTorchPipeline\n",
      "\n",
      "UpdateEndpoint: False\n"
     ]
    }
   ],
   "source": [
    "training_job_name = f'pth-pipeline-{id}'\n",
    "artifact_bucket = 's3://'+bucket\n",
    "model_name = f'MNIST-{id}'\n",
    "endpoint_name = 'PyTorchPipeline'\n",
    "update_endpoint = False\n",
    "\n",
    "print('INPUT CONFIGURATIONS:\\n')\n",
    "print('TrainingJobName (each Sagemaker Job requires a unique number):\\n',training_job_name)\n",
    "print('\\nArtifact Bucket:\\n',artifact_bucket)\n",
    "print('\\nModelName (each SageMaker Model requires a unique name):\\n', model_name)\n",
    "print('\\nEndpointName (each Endpoint requires a unique name):\\n', endpoint_name)\n",
    "print('\\nLambdaFunctionName:\\n', endpoint_name)\n",
    "print('\\nUpdateEndpoint:', update_endpoint)"
   ]
  },
  {
   "cell_type": "code",
   "execution_count": 10,
   "metadata": {},
   "outputs": [
    {
     "name": "stdout",
     "output_type": "stream",
     "text": [
      "code_path: s3://ml-pipeline-725879053979/pytorch/code\n"
     ]
    }
   ],
   "source": [
    "project_name = 'pytorch'\n",
    "code_path = 's3://{}/{}/code'.format(bucket, project_name)\n",
    "print('code_path:', code_path)"
   ]
  },
  {
   "cell_type": "markdown",
   "metadata": {},
   "source": [
    "**Criação de  função AWS Lambda para validar performance de modelo**"
   ]
  },
  {
   "cell_type": "code",
   "execution_count": 11,
   "metadata": {},
   "outputs": [
    {
     "data": {
      "text/plain": [
       "'s3://ml-pipeline-725879053979/pytorch/code/query_training_status.zip'"
      ]
     },
     "execution_count": 11,
     "metadata": {},
     "output_type": "execute_result"
    }
   ],
   "source": [
    "import zipfile\n",
    "zip_name = 'query_training_status.zip'\n",
    "lambda_source_code = './code/query_training_status.py'\n",
    "\n",
    "zf = zipfile.ZipFile(zip_name, mode='w')\n",
    "zf.write(lambda_source_code, arcname=lambda_source_code.split('/')[-1])\n",
    "zf.close()\n",
    "\n",
    "S3Uploader.upload(local_path=zip_name, \n",
    "                  desired_s3_uri=code_path,\n",
    "                  session=session)"
   ]
  },
  {
   "cell_type": "code",
   "execution_count": 12,
   "metadata": {},
   "outputs": [],
   "source": [
    "lambda_client = boto3.client('lambda')\n",
    "\n",
    "response = lambda_client.create_function(\n",
    "    FunctionName=function_name,\n",
    "    Runtime='python3.7',\n",
    "    Role=lambda_role_arn,\n",
    "    Handler='query_training_status.lambda_handler',\n",
    "    Code={\n",
    "        'S3Bucket': bucket,\n",
    "        'S3Key': '{}/code/{}'.format(project_name, zip_name)\n",
    "    },\n",
    "    Description='Queries a SageMaker training job and return the results.',\n",
    "    Timeout=15,\n",
    "    MemorySize=128\n",
    ")"
   ]
  },
  {
   "cell_type": "code",
   "execution_count": 13,
   "metadata": {},
   "outputs": [
    {
     "data": {
      "text/plain": [
       "{'ResponseMetadata': {'RequestId': '4cf81a5c-e6c8-40a1-b402-9a4574debc94',\n",
       "  'HTTPStatusCode': 201,\n",
       "  'HTTPHeaders': {'date': 'Sun, 02 Aug 2020 00:30:50 GMT',\n",
       "   'content-type': 'application/json',\n",
       "   'content-length': '1019',\n",
       "   'connection': 'keep-alive',\n",
       "   'x-amzn-requestid': '4cf81a5c-e6c8-40a1-b402-9a4574debc94'},\n",
       "  'RetryAttempts': 0},\n",
       " 'FunctionName': 'query-training-status-a690a0cb540c4f29b6c34ecaf808df81',\n",
       " 'FunctionArn': 'arn:aws:lambda:us-east-1:725879053979:function:query-training-status-a690a0cb540c4f29b6c34ecaf808df81',\n",
       " 'Runtime': 'python3.7',\n",
       " 'Role': 'arn:aws:iam::725879053979:role/query_training_status-role-725879053979',\n",
       " 'Handler': 'query_training_status.lambda_handler',\n",
       " 'CodeSize': 1580,\n",
       " 'Description': 'Queries a SageMaker training job and return the results.',\n",
       " 'Timeout': 15,\n",
       " 'MemorySize': 128,\n",
       " 'LastModified': '2020-08-02T00:30:50.299+0000',\n",
       " 'CodeSha256': '5dE/nOuIoNdVeXZysgsTlaPLmvbCj153G3FFJqQ59WA=',\n",
       " 'Version': '$LATEST',\n",
       " 'TracingConfig': {'Mode': 'PassThrough'},\n",
       " 'RevisionId': 'fed3e58c-2ef7-43f8-a11b-d8b7da955db4',\n",
       " 'State': 'Active',\n",
       " 'LastUpdateStatus': 'Successful'}"
      ]
     },
     "execution_count": 13,
     "metadata": {},
     "output_type": "execute_result"
    }
   ],
   "source": [
    "response"
   ]
  },
  {
   "cell_type": "markdown",
   "metadata": {},
   "source": [
    "**Configuração de SageMaker Estimator**"
   ]
  },
  {
   "cell_type": "code",
   "execution_count": 14,
   "metadata": {},
   "outputs": [],
   "source": [
    "from sagemaker.pytorch import PyTorch, PyTorchModel"
   ]
  },
  {
   "cell_type": "code",
   "execution_count": 15,
   "metadata": {},
   "outputs": [
    {
     "name": "stdout",
     "output_type": "stream",
     "text": [
      "s3_script s3://sagemaker-us-east-1-725879053979/framework-script-local-1596156081/source/sourcedir.tar.gz\n"
     ]
    }
   ],
   "source": [
    "cnn_training_job_name = 'framework-script-local-1596156081'\n",
    "default_bucket = sagemaker.Session().default_bucket()\n",
    "s3_script = f's3://{default_bucket}/{cnn_training_job_name}/source/sourcedir.tar.gz'\n",
    "print('s3_script', s3_script)"
   ]
  },
  {
   "cell_type": "code",
   "execution_count": 16,
   "metadata": {},
   "outputs": [
    {
     "data": {
      "text/plain": [
       "'s3://ml-pipeline-725879053979'"
      ]
     },
     "execution_count": 16,
     "metadata": {},
     "output_type": "execute_result"
    }
   ],
   "source": [
    "artifact_bucket"
   ]
  },
  {
   "cell_type": "code",
   "execution_count": 17,
   "metadata": {},
   "outputs": [],
   "source": [
    "pth = PyTorch(\n",
    "        entry_point='./mnist.py',\n",
    "        source_dir=s3_script,\n",
    "        role=sm_arn,\n",
    "#         sagemaker_session=sagemaker.Session(sagemaker_client=sm),\n",
    "        framework_version='1.1.0',\n",
    "        train_instance_count=1,\n",
    "        train_instance_type='ml.c4.xlarge',\n",
    "#         hyperparameters={\n",
    "#             'epochs': 1,\n",
    "#             'backend': 'gloo',\n",
    "#             'hidden_channels': 10,\n",
    "#             'dropout': 0.2,\n",
    "#             'kernel_size': 5,\n",
    "#             'optimizer': 'sgd'\n",
    "#         },\n",
    "        metric_definitions=[\n",
    "            {'Name':'train:loss', 'Regex':'\\[Train Loss (.*?)\\]'},\n",
    "            {'Name':'test:loss', 'Regex':'\\[Test Average loss (.*?)\\]'},\n",
    "            {'Name':'test:accuracy', 'Regex':'\\[Test Accuracy (.*?)\\]'}\n",
    "        ],\n",
    "        enable_sagemaker_metrics=True,\n",
    "        output_path=artifact_bucket\n",
    "    )    "
   ]
  },
  {
   "cell_type": "markdown",
   "metadata": {},
   "source": [
    "**Criando pipeline de ML**"
   ]
  },
  {
   "cell_type": "code",
   "execution_count": 18,
   "metadata": {},
   "outputs": [],
   "source": [
    "# SageMaker expects unique names for each job, model and endpoint. \n",
    "# If these names are not unique the execution will fail.\n",
    "execution_input = ExecutionInput(schema={\n",
    "    'TrainingJobName': str,\n",
    "    'ModelName': str,\n",
    "    'EndpointName': str,\n",
    "    'LambdaFunctionName': str,\n",
    "    'UpdateEndpoint': bool,\n",
    "})"
   ]
  },
  {
   "cell_type": "code",
   "execution_count": 19,
   "metadata": {},
   "outputs": [],
   "source": [
    "# SageMaker Training Step \n",
    "training_step = steps.TrainingStep(\n",
    "    'Model Training', \n",
    "    estimator=pth,\n",
    "    data={\n",
    "        'training': 's3://sagemaker-experiments-us-east-1-725879053979/mnist'\n",
    "    },\n",
    "    hyperparameters={\n",
    "            'epochs': '1',\n",
    "            'backend': 'gloo',\n",
    "            'hidden_channels': '10',\n",
    "            'dropout': '0.2',\n",
    "            'kernel_size': '5',\n",
    "            'optimizer': 'sgd',\n",
    "            'sagemaker_container_log_level': '20',\n",
    "            'sagemaker_enable_cloudwatch_metrics': 'False',\n",
    "            'sagemaker_program': 'mnist.py',\n",
    "            'sagemaker_region': 'us-east-1',\n",
    "            'sagemaker_submit_directory': 's3://sagemaker-us-east-1-725879053979/framework-script-local-1596156081/source/sourcedir.tar.gz'\n",
    "        },\n",
    "    job_name=execution_input['TrainingJobName'],\n",
    "    wait_for_completion=True,\n",
    "#     result_path='$.TrainingStepResults'\n",
    ")"
   ]
  },
  {
   "cell_type": "code",
   "execution_count": 20,
   "metadata": {},
   "outputs": [],
   "source": [
    "# Por padrão é criada \"pasta\" no S3 com nome do training job (o que no pipeline muda a cada caso)\n",
    "\n",
    "# https://github.com/aws/sagemaker-python-sdk/blob/e774fcf37e943bb91f9c2668019f20f0f325c6da/src/sagemaker/estimator.py#L1756\n",
    "# def _stage_user_code_in_s3(self):\n",
    "#         \"\"\"Upload the user training script to s3 and return the location.\n",
    "#         Returns: s3 uri\n",
    "#         \"\"\"\n",
    "#         local_mode = self.output_path.startswith(\"file://\")\n",
    "\n",
    "#         if self.code_location is None and local_mode:\n",
    "#             code_bucket = self.sagemaker_session.default_bucket()\n",
    "#             code_s3_prefix = \"{}/{}\".format(self._current_job_name, \"source\")\n",
    "#             kms_key = None\n",
    "#         elif self.code_location is None:\n",
    "#             code_bucket, _ = parse_s3_url(self.output_path)\n",
    "#             code_s3_prefix = \"{}/{}\".format(self._current_job_name, \"source\")\n",
    "# #1770            kms_key = self.output_kms_key"
   ]
  },
  {
   "cell_type": "code",
   "execution_count": 26,
   "metadata": {},
   "outputs": [],
   "source": [
    "# Usando código específico para inferência já no S3\n",
    "sess = boto3.Session()\n",
    "sm = sess.client('sagemaker')\n",
    "\n",
    "s3_inference_tar = 's3://sagemaker-us-east-1-725879053979/sagemaker-pytorch-2020-07-31-00-51-18-859/sourcedir.tar.gz'\n",
    "\n",
    "pth_model = PyTorchModel(model_data='$.TrainingStepResults.ModelArtifacts.S3ModelArtifacts',#artifact_bucket+'/'+training_job_name+'/output/model.tar.gz', \n",
    "                         role=sm_arn,\n",
    "                         entry_point='inference.py', \n",
    "                         source_dir=s3_inference_tar,\n",
    "                         framework_version='1.1.0',\n",
    "                         sagemaker_session=sagemaker.Session(sagemaker_client=sm)\n",
    "                        )"
   ]
  },
  {
   "cell_type": "markdown",
   "metadata": {},
   "source": [
    "**Possibilidade 1 de utilização do PyTorchModel - mudar 2 linhas no SDK**\n",
    "\n",
    "Step Functions SDK modificado (adicionei **\\**kargs**):\n",
    "\n",
    "https://github.com/aws/aws-step-functions-data-science-sdk-python/blob/2a104d3616ad1b8635409db9df71b153ad83f26b/src/stepfunctions/steps/sagemaker.py#L94\n",
    "\n",
    "```\n",
    "---> def get_expected_model(self, model_name=None, **kargs):\n",
    "        \"\"\"\n",
    "            Build Sagemaker model representation of the expected trained model from the Training step. This can be passed\n",
    "            to the ModelStep to save the trained model in Sagemaker.\n",
    "            Args:\n",
    "                model_name (str, optional): Specify a model name. If not provided, training job name will be used as the m$\n",
    "            Returns:\n",
    "                sagemaker.model.Model: Sagemaker model representation of the expected trained model.\n",
    "        \"\"\"\n",
    "--->    model = self.estimator.create_model(**kargs)\n",
    "        if model_name:\n",
    "            model.name = model_name\n",
    "        else:\n",
    "            model.name = self.job_name\n",
    "        model.model_data = self.output()[\"ModelArtifacts\"][\"S3ModelArtifacts\"]\n",
    "        return model\n",
    "```\n",
    "\n",
    "Obs.: Vou abrir uma issue no SDK e ver se modificam para abstrair melhor e possibilitar o uso de Frameworks mais facilmente\n",
    "\n",
    "Feito isso, no ModelStep passar configurações na entrada para criação de modelo:\n",
    "```\n",
    "# SageMaker Model Step\n",
    "model_step = steps.ModelStep(\n",
    "    'Save Model',\n",
    "    model=training_step.get_expected_model(entry_point='inference.py', \n",
    "                                         source_dir=s3_inference_tar),\n",
    "    #pth_model,#'$.TrainingStepResults.ModelArtifacts.S3ModelArtifacts',\n",
    "    instance_type='ml.t2.medium',\n",
    "    model_name=execution_input['ModelName'],\n",
    "    result_path='$.ModelStepResults'\n",
    ")\n",
    "```"
   ]
  },
  {
   "cell_type": "markdown",
   "metadata": {},
   "source": [
    "**Possibilidade 2 de utilização do PyTorchModel - após criação, modificar diretamente na definição da máquina de estados do Step Functions**\n",
    "\n",
    "Podemos simplementes gerar a máquina de estados pelo SDK e modificamos alguns detalhes.\n",
    "Para pegar a máquina de estados, só fazer `workflow.definition.to_dict()`.\n",
    "\n",
    "Assim usaríamos o Step Functions diretamente sem o Data Science SDK, deixando as coisas mais flexiveis.\n",
    "\n",
    "https://docs.aws.amazon.com/step-functions/latest/dg/connect-sagemaker.html\n",
    "\n",
    "Observar no estado Save Model (coloquei `----->` no JSON abaixo para facilitar):\n",
    "\n",
    "`-----> 'ModelDataUrl.$': \"$['ModelArtifacts']['S3ModelArtifacts']\"},`\n",
    "\n",
    "Mais detalhes de como o Step Functions processa entradas e saídas de cada estado:\n",
    "\n",
    "https://docs.aws.amazon.com/step-functions/latest/dg/concepts-input-output-filtering.html\n",
    "\n",
    "Isso indica para o Step Functions que devemos buscar no que o estado TrainingStep retornou e encontrar o local do tar.gz com o modelo PyTorch treinado:\n",
    "\n",
    "        ```\n",
    "        {'StartAt': 'Model Training',\n",
    "         'States': {'Model Training': {'Resource': 'arn:aws:states:::sagemaker:createTrainingJob.sync',\n",
    "           'Parameters': {'AlgorithmSpecification': {'TrainingImage': '520713654638.dkr.ecr.us-east-1.amazonaws.com/sagemaker-pytorch:1.1.0-cpu-py3',\n",
    "             'TrainingInputMode': 'File',\n",
    "             'MetricDefinitions': [{'Name': 'train:loss',\n",
    "               'Regex': '\\\\[Train Loss (.*?)\\\\]'},\n",
    "              {'Name': 'test:loss', 'Regex': '\\\\[Test Average loss (.*?)\\\\]'},\n",
    "              {'Name': 'test:accuracy', 'Regex': '\\\\[Test Accuracy (.*?)\\\\]'}]},\n",
    "            'OutputDataConfig': {'S3OutputPath': 's3://ml-pipeline-725879053979'},\n",
    "            'StoppingCondition': {'MaxRuntimeInSeconds': 86400},\n",
    "            'ResourceConfig': {'InstanceCount': 1,\n",
    "             'InstanceType': 'ml.c4.xlarge',\n",
    "             'VolumeSizeInGB': 30},\n",
    "            'RoleArn': 'arn:aws:iam::725879053979:role/MLOps',\n",
    "            'InputDataConfig': [{'DataSource': {'S3DataSource': {'S3DataType': 'S3Prefix',\n",
    "                'S3Uri': 's3://sagemaker-experiments-us-east-1-725879053979/mnist',\n",
    "                'S3DataDistributionType': 'FullyReplicated'}},\n",
    "              'ChannelName': 'training'}],\n",
    "            'HyperParameters': {'epochs': '1',\n",
    "             'backend': 'gloo',\n",
    "             'hidden_channels': '10',\n",
    "             'dropout': '0.2',\n",
    "             'kernel_size': '5',\n",
    "             'optimizer': 'sgd',\n",
    "             'sagemaker_container_log_level': '20',\n",
    "             'sagemaker_enable_cloudwatch_metrics': 'False',\n",
    "             'sagemaker_program': 'mnist.py',\n",
    "             'sagemaker_region': 'us-east-1',\n",
    "             'sagemaker_submit_directory': 's3://sagemaker-us-east-1-725879053979/framework-script-local-1596156081/source/sourcedir.tar.gz'},\n",
    "            'TrainingJobName.$': \"$$.Execution.Input['TrainingJobName']\",\n",
    "            'DebugHookConfig': {'S3OutputPath': 's3://ml-pipeline-725879053979'}},\n",
    "           'Type': 'Task',\n",
    "           'Next': 'Save Model'},\n",
    "          'Save Model': {'ResultPath': '$.ModelStepResults',\n",
    "           'Parameters': {'ModelName.$': \"$$.Execution.Input['ModelName']\",\n",
    "            'PrimaryContainer': {'Image': '520713654638.dkr.ecr.us-east-1.amazonaws.com/sagemaker-pytorch:1.1.0-cpu-py3',\n",
    "             'Environment': {'SAGEMAKER_PROGRAM': 'inference.py',\n",
    "              'SAGEMAKER_SUBMIT_DIRECTORY': 's3://sagemaker-us-east-1-725879053979/sagemaker-pytorch-2020-07-31-00-51-18-859/sourcedir.tar.gz',\n",
    "              'SAGEMAKER_ENABLE_CLOUDWATCH_METRICS': 'false',\n",
    "              'SAGEMAKER_CONTAINER_LOG_LEVEL': '20',\n",
    "              'SAGEMAKER_REGION': 'us-east-1'},\n",
    "----------> 'ModelDataUrl.$': \"$['ModelArtifacts']['S3ModelArtifacts']\"},\n",
    "            'ExecutionRoleArn': 'arn:aws:iam::725879053979:role/MLOps'},\n",
    "           'Resource': 'arn:aws:states:::sagemaker:createModel',\n",
    "           'Type': 'Task',\n",
    "           'Next': 'Query Training Results'},\n",
    "          'Query Training Results': {'Parameters': {'FunctionName.$': \"$$.Execution.Input['LambdaFunctionName']\",\n",
    "            'Payload': {'TrainingJobName.$': '$.TrainingJobName'}},\n",
    "           'Resource': 'arn:aws:states:::lambda:invoke',\n",
    "           'Type': 'Task',\n",
    "           'Next': 'Accuracy > 50%'},\n",
    "          'Accuracy > 50%': {'Type': 'Choice',\n",
    "           'Choices': [{'Variable': \"$['Payload']['trainingMetrics'][0]['Value']\",\n",
    "             'NumericLessThan': 0.5,\n",
    "             'Next': 'Create Model Endpoint Config'}],\n",
    "           'Default': 'Model Accuracy Too Low'},\n",
    "          'Model Accuracy Too Low': {'Comment': 'Validation accuracy lower than threshold',\n",
    "           'Type': 'Fail'},\n",
    "          'Create Model Endpoint Config': {'Resource': 'arn:aws:states:::sagemaker:createEndpointConfig',\n",
    "           'Parameters': {'EndpointConfigName.$': \"$$.Execution.Input['ModelName']\",\n",
    "            'ProductionVariants': [{'InitialInstanceCount': 1,\n",
    "              'InstanceType': 'ml.m4.xlarge',\n",
    "              'ModelName.$': \"$$.Execution.Input['ModelName']\",\n",
    "              'VariantName': 'pthVariant'}],\n",
    "            'DataCaptureConfig': {'EnableCapture': True,\n",
    "             'InitialSamplingPercentage': 100,\n",
    "             'DestinationS3Uri': 's3://sagemaker-experiments-us-east-1-725879053979/mnist/endpoint_monitoring/',\n",
    "             'CaptureOptions': [{'CaptureMode': 'Input'}, {'CaptureMode': 'Output'}],\n",
    "             'CaptureContentTypeHeader': {'CsvContentTypes': ['text/csv'],\n",
    "              'JsonContentTypes': ['application/json']}}},\n",
    "           'Type': 'Task',\n",
    "           'Next': 'Update Model Endpoint'},\n",
    "          'Update Model Endpoint': {'Resource': 'arn:aws:states:::sagemaker:createEndpoint',\n",
    "           'Parameters': {'EndpointConfigName.$': \"$$.Execution.Input['ModelName']\",\n",
    "            'EndpointName.$': \"$$.Execution.Input['EndpointName']\"},\n",
    "           'Type': 'Task',\n",
    "           'End': True}}}\n",
    "        ```"
   ]
  },
  {
   "cell_type": "code",
   "execution_count": 28,
   "metadata": {},
   "outputs": [],
   "source": [
    "# SageMaker Model Step\n",
    "model_step = steps.ModelStep(\n",
    "    'Save Model',\n",
    "    model=training_step.get_expected_model(entry_point='inference.py', \n",
    "                                         source_dir=s3_inference_tar),\n",
    "    #pth_model,#'$.TrainingStepResults.ModelArtifacts.S3ModelArtifacts',\n",
    "    instance_type='ml.t2.medium',\n",
    "    model_name=execution_input['ModelName'],\n",
    "    result_path='$.ModelStepResults'\n",
    ")"
   ]
  },
  {
   "cell_type": "code",
   "execution_count": 29,
   "metadata": {},
   "outputs": [],
   "source": [
    "# Lambda Step - avaliação\n",
    "lambda_step = steps.compute.LambdaStep(\n",
    "    'Query Training Results',\n",
    "    parameters={  \n",
    "        \"FunctionName\": execution_input['LambdaFunctionName'],\n",
    "        'Payload':{\n",
    "            \"TrainingJobName.$\": '$.TrainingJobName'\n",
    "        }\n",
    "    }\n",
    ")"
   ]
  },
  {
   "cell_type": "code",
   "execution_count": 30,
   "metadata": {},
   "outputs": [],
   "source": [
    "# Choice Step - requerimento de performance de modelo\n",
    "check_accuracy_step = steps.states.Choice(\n",
    "    'Accuracy > 50%'\n",
    ")"
   ]
  },
  {
   "cell_type": "code",
   "execution_count": 31,
   "metadata": {},
   "outputs": [],
   "source": [
    "# SageMaker Endpoint Configuration Step - adicionando config de Model Monitor\n",
    "data_capture_configuration = sagemaker.model_monitor.data_capture_config.DataCaptureConfig(\n",
    "    enable_capture=True, \n",
    "    sampling_percentage=100, \n",
    "    destination_s3_uri='s3://sagemaker-experiments-us-east-1-725879053979/mnist/endpoint_monitoring/'\n",
    "#     sagemaker_session=session\n",
    ")"
   ]
  },
  {
   "cell_type": "code",
   "execution_count": 32,
   "metadata": {},
   "outputs": [],
   "source": [
    "endpoint_config_step = steps.EndpointConfigStep(\n",
    "    \"Create Model Endpoint Config\",\n",
    "    endpoint_config_name=execution_input['ModelName'],\n",
    "    model_name=execution_input['ModelName'],\n",
    "    initial_instance_count=1,\n",
    "    variant_name='pthVariant',\n",
    "    instance_type='ml.m4.xlarge',\n",
    "    data_capture_config=data_capture_configuration\n",
    ")"
   ]
  },
  {
   "cell_type": "code",
   "execution_count": 33,
   "metadata": {},
   "outputs": [],
   "source": [
    "# SageMaker Endpoint Step - criação de Endpoint com modelo treinado\n",
    "endpoint_step = steps.EndpointStep(\n",
    "    'Update Model Endpoint',\n",
    "    endpoint_name=execution_input['EndpointName'],\n",
    "    endpoint_config_name=execution_input['ModelName'],\n",
    "#     update=execution_input['UpdateEndpoint']\n",
    ")"
   ]
  },
  {
   "cell_type": "code",
   "execution_count": 34,
   "metadata": {},
   "outputs": [],
   "source": [
    "# Fail Step\n",
    "fail_step = steps.states.Fail(\n",
    "    'Model Accuracy Too Low',\n",
    "    comment='Validation accuracy lower than threshold'\n",
    ")"
   ]
  },
  {
   "cell_type": "code",
   "execution_count": 35,
   "metadata": {},
   "outputs": [],
   "source": [
    "# Configuração de regra de requerimento de performance de modelo\n",
    "threshold_rule = steps.choice_rule.ChoiceRule.NumericLessThan(variable=lambda_step.output()['Payload']['trainingMetrics'][0]['Value'], value=.5)\n",
    "\n",
    "check_accuracy_step.add_choice(rule=threshold_rule, next_step=endpoint_config_step)\n",
    "check_accuracy_step.default_choice(next_step=fail_step)"
   ]
  },
  {
   "cell_type": "code",
   "execution_count": 36,
   "metadata": {},
   "outputs": [],
   "source": [
    "# Juntando Steps\n",
    "endpoint_config_step.next(endpoint_step)\n",
    "\n",
    "workflow_definition = steps.Chain([\n",
    "    training_step,\n",
    "    model_step,\n",
    "    lambda_step,\n",
    "    check_accuracy_step\n",
    "])"
   ]
  },
  {
   "cell_type": "markdown",
   "metadata": {},
   "source": [
    "**Executando Workflow**"
   ]
  },
  {
   "cell_type": "code",
   "execution_count": 37,
   "metadata": {},
   "outputs": [],
   "source": [
    "pipeline_name = f'Demo-PyTorch-Pipeline-{id}'"
   ]
  },
  {
   "cell_type": "code",
   "execution_count": 38,
   "metadata": {},
   "outputs": [],
   "source": [
    "workflow = Workflow(\n",
    "    name=pipeline_name,\n",
    "    definition=workflow_definition,\n",
    "    role=step_functions_role_arn,\n",
    "    execution_input=execution_input\n",
    ")\n",
    "\n",
    "# For using existing workflow\n",
    "# workflow = Workflow.list_workflows(); wkflws\n",
    "# workflow = Workflow.attach(workflow[0]['stateMachineArn']); wkflw"
   ]
  },
  {
   "cell_type": "code",
   "execution_count": 39,
   "metadata": {},
   "outputs": [
    {
     "data": {
      "text/plain": [
       "{'StartAt': 'Model Training',\n",
       " 'States': {'Model Training': {'Resource': 'arn:aws:states:::sagemaker:createTrainingJob.sync',\n",
       "   'Parameters': {'AlgorithmSpecification': {'TrainingImage': '520713654638.dkr.ecr.us-east-1.amazonaws.com/sagemaker-pytorch:1.1.0-cpu-py3',\n",
       "     'TrainingInputMode': 'File',\n",
       "     'MetricDefinitions': [{'Name': 'train:loss',\n",
       "       'Regex': '\\\\[Train Loss (.*?)\\\\]'},\n",
       "      {'Name': 'test:loss', 'Regex': '\\\\[Test Average loss (.*?)\\\\]'},\n",
       "      {'Name': 'test:accuracy', 'Regex': '\\\\[Test Accuracy (.*?)\\\\]'}]},\n",
       "    'OutputDataConfig': {'S3OutputPath': 's3://ml-pipeline-725879053979'},\n",
       "    'StoppingCondition': {'MaxRuntimeInSeconds': 86400},\n",
       "    'ResourceConfig': {'InstanceCount': 1,\n",
       "     'InstanceType': 'ml.c4.xlarge',\n",
       "     'VolumeSizeInGB': 30},\n",
       "    'RoleArn': 'arn:aws:iam::725879053979:role/MLOps',\n",
       "    'InputDataConfig': [{'DataSource': {'S3DataSource': {'S3DataType': 'S3Prefix',\n",
       "        'S3Uri': 's3://sagemaker-experiments-us-east-1-725879053979/mnist',\n",
       "        'S3DataDistributionType': 'FullyReplicated'}},\n",
       "      'ChannelName': 'training'}],\n",
       "    'HyperParameters': {'epochs': '1',\n",
       "     'backend': 'gloo',\n",
       "     'hidden_channels': '10',\n",
       "     'dropout': '0.2',\n",
       "     'kernel_size': '5',\n",
       "     'optimizer': 'sgd',\n",
       "     'sagemaker_container_log_level': '20',\n",
       "     'sagemaker_enable_cloudwatch_metrics': 'False',\n",
       "     'sagemaker_program': 'mnist.py',\n",
       "     'sagemaker_region': 'us-east-1',\n",
       "     'sagemaker_submit_directory': 's3://sagemaker-us-east-1-725879053979/framework-script-local-1596156081/source/sourcedir.tar.gz'},\n",
       "    'TrainingJobName.$': \"$$.Execution.Input['TrainingJobName']\",\n",
       "    'DebugHookConfig': {'S3OutputPath': 's3://ml-pipeline-725879053979'}},\n",
       "   'Type': 'Task',\n",
       "   'Next': 'Save Model'},\n",
       "  'Save Model': {'ResultPath': '$.ModelStepResults',\n",
       "   'Parameters': {'ModelName.$': \"$$.Execution.Input['ModelName']\",\n",
       "    'PrimaryContainer': {'Image': '520713654638.dkr.ecr.us-east-1.amazonaws.com/sagemaker-pytorch:1.1.0-cpu-py3',\n",
       "     'Environment': {'SAGEMAKER_PROGRAM': 'inference.py',\n",
       "      'SAGEMAKER_SUBMIT_DIRECTORY': 's3://sagemaker-us-east-1-725879053979/sagemaker-pytorch-2020-07-31-00-51-18-859/sourcedir.tar.gz',\n",
       "      'SAGEMAKER_ENABLE_CLOUDWATCH_METRICS': 'false',\n",
       "      'SAGEMAKER_CONTAINER_LOG_LEVEL': '20',\n",
       "      'SAGEMAKER_REGION': 'us-east-1'},\n",
       "     'ModelDataUrl.$': \"$['ModelArtifacts']['S3ModelArtifacts']\"},\n",
       "    'ExecutionRoleArn': 'arn:aws:iam::725879053979:role/MLOps'},\n",
       "   'Resource': 'arn:aws:states:::sagemaker:createModel',\n",
       "   'Type': 'Task',\n",
       "   'Next': 'Query Training Results'},\n",
       "  'Query Training Results': {'Parameters': {'FunctionName.$': \"$$.Execution.Input['LambdaFunctionName']\",\n",
       "    'Payload': {'TrainingJobName.$': '$.TrainingJobName'}},\n",
       "   'Resource': 'arn:aws:states:::lambda:invoke',\n",
       "   'Type': 'Task',\n",
       "   'Next': 'Accuracy > 50%'},\n",
       "  'Accuracy > 50%': {'Type': 'Choice',\n",
       "   'Choices': [{'Variable': \"$['Payload']['trainingMetrics'][0]['Value']\",\n",
       "     'NumericLessThan': 0.5,\n",
       "     'Next': 'Create Model Endpoint Config'}],\n",
       "   'Default': 'Model Accuracy Too Low'},\n",
       "  'Model Accuracy Too Low': {'Comment': 'Validation accuracy lower than threshold',\n",
       "   'Type': 'Fail'},\n",
       "  'Create Model Endpoint Config': {'Resource': 'arn:aws:states:::sagemaker:createEndpointConfig',\n",
       "   'Parameters': {'EndpointConfigName.$': \"$$.Execution.Input['ModelName']\",\n",
       "    'ProductionVariants': [{'InitialInstanceCount': 1,\n",
       "      'InstanceType': 'ml.m4.xlarge',\n",
       "      'ModelName.$': \"$$.Execution.Input['ModelName']\",\n",
       "      'VariantName': 'pthVariant'}],\n",
       "    'DataCaptureConfig': {'EnableCapture': True,\n",
       "     'InitialSamplingPercentage': 100,\n",
       "     'DestinationS3Uri': 's3://sagemaker-experiments-us-east-1-725879053979/mnist/endpoint_monitoring/',\n",
       "     'CaptureOptions': [{'CaptureMode': 'Input'}, {'CaptureMode': 'Output'}],\n",
       "     'CaptureContentTypeHeader': {'CsvContentTypes': ['text/csv'],\n",
       "      'JsonContentTypes': ['application/json']}}},\n",
       "   'Type': 'Task',\n",
       "   'Next': 'Update Model Endpoint'},\n",
       "  'Update Model Endpoint': {'Resource': 'arn:aws:states:::sagemaker:createEndpoint',\n",
       "   'Parameters': {'EndpointConfigName.$': \"$$.Execution.Input['ModelName']\",\n",
       "    'EndpointName.$': \"$$.Execution.Input['EndpointName']\"},\n",
       "   'Type': 'Task',\n",
       "   'End': True}}}"
      ]
     },
     "execution_count": 39,
     "metadata": {},
     "output_type": "execute_result"
    }
   ],
   "source": [
    "workflow.definition.to_dict()"
   ]
  },
  {
   "cell_type": "code",
   "execution_count": 40,
   "metadata": {},
   "outputs": [
    {
     "data": {
      "text/html": [
       "\n",
       "<link rel=\"stylesheet\" type=\"text/css\" href=\"https://do0of8uwbahzz.cloudfront.net/graph.css\">\n",
       "<div id=\"graph-65\" class=\"workflowgraph\">\n",
       "    \n",
       "    <svg></svg>\n",
       "    \n",
       "</div>\n",
       "\n",
       "<script type=\"text/javascript\">\n",
       "\n",
       "require.config({\n",
       "    paths: {\n",
       "        sfn: \"https://do0of8uwbahzz.cloudfront.net/sfn\",\n",
       "    }\n",
       "});\n",
       "\n",
       "require(['sfn'], function(sfn) {\n",
       "    var element = document.getElementById('graph-65')\n",
       "\n",
       "    var options = {\n",
       "        width: parseFloat(getComputedStyle(element, null).width.replace(\"px\", \"\")),\n",
       "        height: 600,\n",
       "        layout: 'TB',\n",
       "        resizeHeight: true\n",
       "    };\n",
       "\n",
       "    var definition = {\"StartAt\": \"Model Training\", \"States\": {\"Model Training\": {\"Resource\": \"arn:aws:states:::sagemaker:createTrainingJob.sync\", \"Parameters\": {\"AlgorithmSpecification\": {\"TrainingImage\": \"520713654638.dkr.ecr.us-east-1.amazonaws.com/sagemaker-pytorch:1.1.0-cpu-py3\", \"TrainingInputMode\": \"File\", \"MetricDefinitions\": [{\"Name\": \"train:loss\", \"Regex\": \"\\\\[Train Loss (.*?)\\\\]\"}, {\"Name\": \"test:loss\", \"Regex\": \"\\\\[Test Average loss (.*?)\\\\]\"}, {\"Name\": \"test:accuracy\", \"Regex\": \"\\\\[Test Accuracy (.*?)\\\\]\"}]}, \"OutputDataConfig\": {\"S3OutputPath\": \"s3://ml-pipeline-725879053979\"}, \"StoppingCondition\": {\"MaxRuntimeInSeconds\": 86400}, \"ResourceConfig\": {\"InstanceCount\": 1, \"InstanceType\": \"ml.c4.xlarge\", \"VolumeSizeInGB\": 30}, \"RoleArn\": \"arn:aws:iam::725879053979:role/MLOps\", \"InputDataConfig\": [{\"DataSource\": {\"S3DataSource\": {\"S3DataType\": \"S3Prefix\", \"S3Uri\": \"s3://sagemaker-experiments-us-east-1-725879053979/mnist\", \"S3DataDistributionType\": \"FullyReplicated\"}}, \"ChannelName\": \"training\"}], \"HyperParameters\": {\"epochs\": \"1\", \"backend\": \"gloo\", \"hidden_channels\": \"10\", \"dropout\": \"0.2\", \"kernel_size\": \"5\", \"optimizer\": \"sgd\", \"sagemaker_container_log_level\": \"20\", \"sagemaker_enable_cloudwatch_metrics\": \"False\", \"sagemaker_program\": \"mnist.py\", \"sagemaker_region\": \"us-east-1\", \"sagemaker_submit_directory\": \"s3://sagemaker-us-east-1-725879053979/framework-script-local-1596156081/source/sourcedir.tar.gz\"}, \"TrainingJobName.$\": \"$$.Execution.Input['TrainingJobName']\", \"DebugHookConfig\": {\"S3OutputPath\": \"s3://ml-pipeline-725879053979\"}}, \"Type\": \"Task\", \"Next\": \"Save Model\"}, \"Save Model\": {\"ResultPath\": \"$.ModelStepResults\", \"Parameters\": {\"ModelName.$\": \"$$.Execution.Input['ModelName']\", \"PrimaryContainer\": {\"Image\": \"520713654638.dkr.ecr.us-east-1.amazonaws.com/sagemaker-pytorch:1.1.0-cpu-py3\", \"Environment\": {\"SAGEMAKER_PROGRAM\": \"inference.py\", \"SAGEMAKER_SUBMIT_DIRECTORY\": \"s3://sagemaker-us-east-1-725879053979/sagemaker-pytorch-2020-07-31-00-51-18-859/sourcedir.tar.gz\", \"SAGEMAKER_ENABLE_CLOUDWATCH_METRICS\": \"false\", \"SAGEMAKER_CONTAINER_LOG_LEVEL\": \"20\", \"SAGEMAKER_REGION\": \"us-east-1\"}, \"ModelDataUrl.$\": \"$['ModelArtifacts']['S3ModelArtifacts']\"}, \"ExecutionRoleArn\": \"arn:aws:iam::725879053979:role/MLOps\"}, \"Resource\": \"arn:aws:states:::sagemaker:createModel\", \"Type\": \"Task\", \"Next\": \"Query Training Results\"}, \"Query Training Results\": {\"Parameters\": {\"FunctionName.$\": \"$$.Execution.Input['LambdaFunctionName']\", \"Payload\": {\"TrainingJobName.$\": \"$.TrainingJobName\"}}, \"Resource\": \"arn:aws:states:::lambda:invoke\", \"Type\": \"Task\", \"Next\": \"Accuracy > 50%\"}, \"Accuracy > 50%\": {\"Type\": \"Choice\", \"Choices\": [{\"Variable\": \"$['Payload']['trainingMetrics'][0]['Value']\", \"NumericLessThan\": 0.5, \"Next\": \"Create Model Endpoint Config\"}], \"Default\": \"Model Accuracy Too Low\"}, \"Model Accuracy Too Low\": {\"Comment\": \"Validation accuracy lower than threshold\", \"Type\": \"Fail\"}, \"Create Model Endpoint Config\": {\"Resource\": \"arn:aws:states:::sagemaker:createEndpointConfig\", \"Parameters\": {\"EndpointConfigName.$\": \"$$.Execution.Input['ModelName']\", \"ProductionVariants\": [{\"InitialInstanceCount\": 1, \"InstanceType\": \"ml.m4.xlarge\", \"ModelName.$\": \"$$.Execution.Input['ModelName']\", \"VariantName\": \"pthVariant\"}], \"DataCaptureConfig\": {\"EnableCapture\": true, \"InitialSamplingPercentage\": 100, \"DestinationS3Uri\": \"s3://sagemaker-experiments-us-east-1-725879053979/mnist/endpoint_monitoring/\", \"CaptureOptions\": [{\"CaptureMode\": \"Input\"}, {\"CaptureMode\": \"Output\"}], \"CaptureContentTypeHeader\": {\"CsvContentTypes\": [\"text/csv\"], \"JsonContentTypes\": [\"application/json\"]}}}, \"Type\": \"Task\", \"Next\": \"Update Model Endpoint\"}, \"Update Model Endpoint\": {\"Resource\": \"arn:aws:states:::sagemaker:createEndpoint\", \"Parameters\": {\"EndpointConfigName.$\": \"$$.Execution.Input['ModelName']\", \"EndpointName.$\": \"$$.Execution.Input['EndpointName']\"}, \"Type\": \"Task\", \"End\": true}}};\n",
       "    var elementId = '#graph-65';\n",
       "\n",
       "    var graph = new sfn.StateMachineGraph(definition, elementId, options);\n",
       "    graph.render();\n",
       "});\n",
       "\n",
       "</script>\n"
      ],
      "text/plain": [
       "<IPython.core.display.HTML object>"
      ]
     },
     "execution_count": 40,
     "metadata": {},
     "output_type": "execute_result"
    }
   ],
   "source": [
    "workflow.render_graph(portrait=True)"
   ]
  },
  {
   "cell_type": "markdown",
   "metadata": {},
   "source": [
    "**Exportando CloudFormation (caso desejado)**"
   ]
  },
  {
   "cell_type": "code",
   "execution_count": 41,
   "metadata": {},
   "outputs": [
    {
     "name": "stdout",
     "output_type": "stream",
     "text": [
      "\u001b[33m[WARNING] To reuse the CloudFormation template in different regions, please make sure to update the region specific AWS resources in the StateMachine definition.\u001b[0m\n",
      "AWSTemplateFormatVersion: '2010-09-09'\n",
      "Description: CloudFormation template for AWS Step Functions - State Machine\n",
      "Resources:\n",
      "  StateMachineComponent:\n",
      "    Type: AWS::StepFunctions::StateMachine\n",
      "    Properties:\n",
      "      StateMachineName: Demo-PyTorch-Pipeline-a690a0cb540c4f29b6c34ecaf808df81\n",
      "      DefinitionString: |-\n",
      "        {\n",
      "          \"StartAt\": \"Model Training\",\n",
      "          \"States\": {\n",
      "            \"Model Training\": {\n",
      "              \"Resource\": \"arn:aws:states:::sagemaker:createTrainingJob.sync\",\n",
      "              \"Parameters\": {\n",
      "                \"AlgorithmSpecification\": {\n",
      "                  \"TrainingImage\": \"520713654638.dkr.ecr.us-east-1.amazonaws.com/sagemaker-pytorch:1.1.0-cpu-py3\",\n",
      "                  \"TrainingInputMode\": \"File\",\n",
      "                  \"MetricDefinitions\": [\n",
      "                    {\n",
      "                      \"Name\": \"train:loss\",\n",
      "                      \"Regex\": \"\\\\[Train Loss (.*?)\\\\]\"\n",
      "                    },\n",
      "                    {\n",
      "                      \"Name\": \"test:loss\",\n",
      "                      \"Regex\": \"\\\\[Test Average loss (.*?)\\\\]\"\n",
      "                    },\n",
      "                    {\n",
      "                      \"Name\": \"test:accuracy\",\n",
      "                      \"Regex\": \"\\\\[Test Accuracy (.*?)\\\\]\"\n",
      "                    }\n",
      "                  ]\n",
      "                },\n",
      "                \"OutputDataConfig\": {\n",
      "                  \"S3OutputPath\": \"s3://ml-pipeline-725879053979\"\n",
      "                },\n",
      "                \"StoppingCondition\": {\n",
      "                  \"MaxRuntimeInSeconds\": 86400\n",
      "                },\n",
      "                \"ResourceConfig\": {\n",
      "                  \"InstanceCount\": 1,\n",
      "                  \"InstanceType\": \"ml.c4.xlarge\",\n",
      "                  \"VolumeSizeInGB\": 30\n",
      "                },\n",
      "                \"RoleArn\": \"arn:aws:iam::725879053979:role/MLOps\",\n",
      "                \"InputDataConfig\": [\n",
      "                  {\n",
      "                    \"DataSource\": {\n",
      "                      \"S3DataSource\": {\n",
      "                        \"S3DataType\": \"S3Prefix\",\n",
      "                        \"S3Uri\": \"s3://sagemaker-experiments-us-east-1-725879053979/mnist\",\n",
      "                        \"S3DataDistributionType\": \"FullyReplicated\"\n",
      "                      }\n",
      "                    },\n",
      "                    \"ChannelName\": \"training\"\n",
      "                  }\n",
      "                ],\n",
      "                \"HyperParameters\": {\n",
      "                  \"epochs\": \"1\",\n",
      "                  \"backend\": \"gloo\",\n",
      "                  \"hidden_channels\": \"10\",\n",
      "                  \"dropout\": \"0.2\",\n",
      "                  \"kernel_size\": \"5\",\n",
      "                  \"optimizer\": \"sgd\",\n",
      "                  \"sagemaker_container_log_level\": \"20\",\n",
      "                  \"sagemaker_enable_cloudwatch_metrics\": \"False\",\n",
      "                  \"sagemaker_program\": \"mnist.py\",\n",
      "                  \"sagemaker_region\": \"us-east-1\",\n",
      "                  \"sagemaker_submit_directory\": \"s3://sagemaker-us-east-1-725879053979/framework-script-local-1596156081/source/sourcedir.tar.gz\"\n",
      "                },\n",
      "                \"TrainingJobName.$\": \"$$.Execution.Input['TrainingJobName']\",\n",
      "                \"DebugHookConfig\": {\n",
      "                  \"S3OutputPath\": \"s3://ml-pipeline-725879053979\"\n",
      "                }\n",
      "              },\n",
      "              \"Type\": \"Task\",\n",
      "              \"Next\": \"Save Model\"\n",
      "            },\n",
      "            \"Save Model\": {\n",
      "              \"ResultPath\": \"$.ModelStepResults\",\n",
      "              \"Parameters\": {\n",
      "                \"ModelName.$\": \"$$.Execution.Input['ModelName']\",\n",
      "                \"PrimaryContainer\": {\n",
      "                  \"Image\": \"520713654638.dkr.ecr.us-east-1.amazonaws.com/sagemaker-pytorch:1.1.0-cpu-py3\",\n",
      "                  \"Environment\": {\n",
      "                    \"SAGEMAKER_PROGRAM\": \"inference.py\",\n",
      "                    \"SAGEMAKER_SUBMIT_DIRECTORY\": \"s3://sagemaker-us-east-1-725879053979/sagemaker-pytorch-2020-07-31-00-51-18-859/sourcedir.tar.gz\",\n",
      "                    \"SAGEMAKER_ENABLE_CLOUDWATCH_METRICS\": \"false\",\n",
      "                    \"SAGEMAKER_CONTAINER_LOG_LEVEL\": \"20\",\n",
      "                    \"SAGEMAKER_REGION\": \"us-east-1\"\n",
      "                  },\n",
      "                  \"ModelDataUrl.$\": \"$['ModelArtifacts']['S3ModelArtifacts']\"\n",
      "                },\n",
      "                \"ExecutionRoleArn\": \"arn:aws:iam::725879053979:role/MLOps\"\n",
      "              },\n",
      "              \"Resource\": \"arn:aws:states:::sagemaker:createModel\",\n",
      "              \"Type\": \"Task\",\n",
      "              \"Next\": \"Query Training Results\"\n",
      "            },\n",
      "            \"Query Training Results\": {\n",
      "              \"Parameters\": {\n",
      "                \"FunctionName.$\": \"$$.Execution.Input['LambdaFunctionName']\",\n",
      "                \"Payload\": {\n",
      "                  \"TrainingJobName.$\": \"$.TrainingJobName\"\n",
      "                }\n",
      "              },\n",
      "              \"Resource\": \"arn:aws:states:::lambda:invoke\",\n",
      "              \"Type\": \"Task\",\n",
      "              \"Next\": \"Accuracy > 50%\"\n",
      "            },\n",
      "            \"Accuracy > 50%\": {\n",
      "              \"Type\": \"Choice\",\n",
      "              \"Choices\": [\n",
      "                {\n",
      "                  \"Variable\": \"$['Payload']['trainingMetrics'][0]['Value']\",\n",
      "                  \"NumericLessThan\": 0.5,\n",
      "                  \"Next\": \"Create Model Endpoint Config\"\n",
      "                }\n",
      "              ],\n",
      "              \"Default\": \"Model Accuracy Too Low\"\n",
      "            },\n",
      "            \"Model Accuracy Too Low\": {\n",
      "              \"Comment\": \"Validation accuracy lower than threshold\",\n",
      "              \"Type\": \"Fail\"\n",
      "            },\n",
      "            \"Create Model Endpoint Config\": {\n",
      "              \"Resource\": \"arn:aws:states:::sagemaker:createEndpointConfig\",\n",
      "              \"Parameters\": {\n",
      "                \"EndpointConfigName.$\": \"$$.Execution.Input['ModelName']\",\n",
      "                \"ProductionVariants\": [\n",
      "                  {\n",
      "                    \"InitialInstanceCount\": 1,\n",
      "                    \"InstanceType\": \"ml.m4.xlarge\",\n",
      "                    \"ModelName.$\": \"$$.Execution.Input['ModelName']\",\n",
      "                    \"VariantName\": \"pthVariant\"\n",
      "                  }\n",
      "                ],\n",
      "                \"DataCaptureConfig\": {\n",
      "                  \"EnableCapture\": true,\n",
      "                  \"InitialSamplingPercentage\": 100,\n",
      "                  \"DestinationS3Uri\": \"s3://sagemaker-experiments-us-east-1-725879053979/mnist/endpoint_monitoring/\",\n",
      "                  \"CaptureOptions\": [\n",
      "                    {\n",
      "                      \"CaptureMode\": \"Input\"\n",
      "                    },\n",
      "                    {\n",
      "                      \"CaptureMode\": \"Output\"\n",
      "                    }\n",
      "                  ],\n",
      "                  \"CaptureContentTypeHeader\": {\n",
      "                    \"CsvContentTypes\": [\n",
      "                      \"text/csv\"\n",
      "                    ],\n",
      "                    \"JsonContentTypes\": [\n",
      "                      \"application/json\"\n",
      "                    ]\n",
      "                  }\n",
      "                }\n",
      "              },\n",
      "              \"Type\": \"Task\",\n",
      "              \"Next\": \"Update Model Endpoint\"\n",
      "            },\n",
      "            \"Update Model Endpoint\": {\n",
      "              \"Resource\": \"arn:aws:states:::sagemaker:createEndpoint\",\n",
      "              \"Parameters\": {\n",
      "                \"EndpointConfigName.$\": \"$$.Execution.Input['ModelName']\",\n",
      "                \"EndpointName.$\": \"$$.Execution.Input['EndpointName']\"\n",
      "              },\n",
      "              \"Type\": \"Task\",\n",
      "              \"End\": true\n",
      "            }\n",
      "          }\n",
      "        }\n",
      "      RoleArn: arn:aws:iam::725879053979:role/StepFunctions_DSSDK-725879053979\n",
      "\n"
     ]
    }
   ],
   "source": [
    "print(workflow.get_cloudformation_template())"
   ]
  },
  {
   "cell_type": "markdown",
   "metadata": {},
   "source": [
    "**Criando workflow**"
   ]
  },
  {
   "cell_type": "code",
   "execution_count": 42,
   "metadata": {},
   "outputs": [
    {
     "name": "stdout",
     "output_type": "stream",
     "text": [
      "\u001b[32m[INFO] Workflow created successfully on AWS Step Functions.\u001b[0m\n"
     ]
    },
    {
     "data": {
      "text/plain": [
       "'arn:aws:states:us-east-1:725879053979:stateMachine:Demo-PyTorch-Pipeline-a690a0cb540c4f29b6c34ecaf808df81'"
      ]
     },
     "execution_count": 42,
     "metadata": {},
     "output_type": "execute_result"
    }
   ],
   "source": [
    "workflow.create()"
   ]
  },
  {
   "cell_type": "code",
   "execution_count": 43,
   "metadata": {},
   "outputs": [
    {
     "data": {
      "text/html": [
       "Workflow: <a target=\"_blank\" href=\"https://console.aws.amazon.com/states/home?region=us-east-1#/statemachines/view/arn:aws:states:us-east-1:725879053979:stateMachine:Demo-PyTorch-Pipeline-a690a0cb540c4f29b6c34ecaf808df81\">arn:aws:states:us-east-1:725879053979:stateMachine:Demo-PyTorch-Pipeline-a690a0cb540c4f29b6c34ecaf808df81</a>"
      ],
      "text/plain": [
       "Workflow(name='Demo-PyTorch-Pipeline-a690a0cb540c4f29b6c34ecaf808df81', role='arn:aws:iam::725879053979:role/StepFunctions_DSSDK-725879053979', state_machine_arn='arn:aws:states:us-east-1:725879053979:stateMachine:Demo-PyTorch-Pipeline-a690a0cb540c4f29b6c34ecaf808df81')"
      ]
     },
     "execution_count": 43,
     "metadata": {},
     "output_type": "execute_result"
    }
   ],
   "source": [
    "workflow"
   ]
  },
  {
   "cell_type": "markdown",
   "metadata": {},
   "source": [
    "Let's see the state machines in the current region in this AWS account:"
   ]
  },
  {
   "cell_type": "code",
   "execution_count": 44,
   "metadata": {},
   "outputs": [
    {
     "data": {
      "text/html": [
       "\n",
       "    <style>\n",
       "        \n",
       "    .table-widget {\n",
       "        width: 100%;\n",
       "        font-size: 14px;\n",
       "        line-height: 28px;\n",
       "        color: #545b64;\n",
       "        border-spacing: 0;\n",
       "        background-color: #fff;\n",
       "        border-color: grey;\n",
       "        background: #fafafa;\n",
       "    }\n",
       "\n",
       "    .table-widget thead th {\n",
       "        text-align: left !important;\n",
       "        color: #879596;\n",
       "        padding: 0.3em 2em;\n",
       "        border-bottom: 1px solid #eaeded;\n",
       "        min-height: 4rem;\n",
       "        line-height: 28px;\n",
       "    }\n",
       "\n",
       "    .table-widget thead th:first-of-type {\n",
       "    }\n",
       "\n",
       "    .table-widget td {\n",
       "        overflow-wrap: break-word;\n",
       "        padding: 0.4em 2em;\n",
       "        line-height: 28px;\n",
       "        text-align: left !important;\n",
       "        background: #fff;\n",
       "        border-bottom: 1px solid #eaeded;\n",
       "        border-top: 1px solid transparent;\n",
       "    }\n",
       "\n",
       "    .table-widget td:before {\n",
       "        content: \"\";\n",
       "        height: 3rem;\n",
       "    }\n",
       "\n",
       "    a {\n",
       "        cursor: pointer;\n",
       "        text-decoration: none !important;\n",
       "        color: #007dbc;\n",
       "    }\n",
       "\n",
       "    a:hover {\n",
       "        text-decoration: underline !important;\n",
       "    }\n",
       "\n",
       "    a.disabled {\n",
       "        color: black;\n",
       "        cursor: default;\n",
       "        pointer-events: none;\n",
       "    }\n",
       "\n",
       "    .hide {\n",
       "        display: none;\n",
       "    }\n",
       "\n",
       "    pre {\n",
       "        white-space: pre-wrap;\n",
       "    }\n",
       "\n",
       "        \n",
       "    * {\n",
       "        box-sizing: border-box;\n",
       "    }\n",
       "\n",
       "    .table-widget {\n",
       "        min-width: 100%;\n",
       "        font-size: 14px;\n",
       "        line-height: 28px;\n",
       "        color: #545b64;\n",
       "        border-spacing: 0;\n",
       "        background-color: #fff;\n",
       "        border-color: grey;\n",
       "        background: #fafafa;\n",
       "    }\n",
       "\n",
       "    .table-widget thead th {\n",
       "        text-align: left !important;\n",
       "        color: #879596;\n",
       "        padding: 0.3em 2em;\n",
       "        border-bottom: 1px solid #eaeded;\n",
       "        min-height: 4rem;\n",
       "        line-height: 28px;\n",
       "    }\n",
       "\n",
       "    .table-widget td {\n",
       "        /* padding: 24px 18px; */\n",
       "        padding: 0.4em 2em;\n",
       "        line-height: 28px;\n",
       "        text-align: left !important;\n",
       "        background: #fff;\n",
       "        border-bottom: 1px solid #eaeded;\n",
       "        border-top: 1px solid transparent;\n",
       "    }\n",
       "\n",
       "    .table-widget td:before {\n",
       "        content: \"\";\n",
       "        height: 3rem;\n",
       "    }\n",
       "\n",
       "    .table-widget .clickable-cell {\n",
       "        cursor: pointer;\n",
       "    }\n",
       "\n",
       "    .hide {\n",
       "        display: none;\n",
       "    }\n",
       "\n",
       "    .triangle-right {\n",
       "        width: 0;\n",
       "        height: 0;\n",
       "        border-top: 5px solid transparent;\n",
       "        border-left: 8px solid #545b64;\n",
       "        border-bottom: 5px solid transparent;\n",
       "        margin-right: 5px;\n",
       "    }\n",
       "\n",
       "    a.awsui {\n",
       "        text-decoration: none !important;\n",
       "        color: #007dbc;\n",
       "    }\n",
       "\n",
       "    a.awsui:hover {\n",
       "        text-decoration: underline !important;\n",
       "    }\n",
       "\n",
       "    </style>\n",
       "    <table class=\"table-widget\">\n",
       "        <thead>\n",
       "            <tr>\n",
       "                <th>Name</th>\n",
       "                <th>Creation Date</th>\n",
       "            </tr>\n",
       "        </thead>\n",
       "        <tbody>\n",
       "            \n",
       "    <tr class=\"awsui-table-row\">\n",
       "        <td>\n",
       "            <a href=\"https://console.aws.amazon.com/states/home?region=us-east-1#/statemachines/view/arn:aws:states:us-east-1:725879053979:stateMachine:Demo-ML-Pipeline-beb8008a875a479ab6842ba94f371abc\" target=\"_blank\" class=\"awsui\">Demo-ML-Pipeline-beb8008a875a479ab6842ba94f371abc</a>\n",
       "        </td>\n",
       "        <td>Jun 18, 2020 07:30:57.115 PM</td>\n",
       "    </tr>\n",
       "\n",
       "\n",
       "    <tr class=\"awsui-table-row\">\n",
       "        <td>\n",
       "            <a href=\"https://console.aws.amazon.com/states/home?region=us-east-1#/statemachines/view/arn:aws:states:us-east-1:725879053979:stateMachine:Demo-ML-Pipeline-beb8008a875a479ab6842ba94f371abc3\" target=\"_blank\" class=\"awsui\">Demo-ML-Pipeline-beb8008a875a479ab6842ba94f371abc3</a>\n",
       "        </td>\n",
       "        <td>Jun 18, 2020 08:10:53.896 PM</td>\n",
       "    </tr>\n",
       "\n",
       "\n",
       "    <tr class=\"awsui-table-row\">\n",
       "        <td>\n",
       "            <a href=\"https://console.aws.amazon.com/states/home?region=us-east-1#/statemachines/view/arn:aws:states:us-east-1:725879053979:stateMachine:Demo-PyTorch-Pipeline-939a36e424ab4794b533ab0041b3b9ef\" target=\"_blank\" class=\"awsui\">Demo-PyTorch-Pipeline-939a36e424ab4794b533ab0041b3b9ef</a>\n",
       "        </td>\n",
       "        <td>Aug 01, 2020 10:19:31.971 PM</td>\n",
       "    </tr>\n",
       "\n",
       "\n",
       "    <tr class=\"awsui-table-row\">\n",
       "        <td>\n",
       "            <a href=\"https://console.aws.amazon.com/states/home?region=us-east-1#/statemachines/view/arn:aws:states:us-east-1:725879053979:stateMachine:Demo-PyTorch-Pipeline-a690a0cb540c4f29b6c34ecaf808df81\" target=\"_blank\" class=\"awsui\">Demo-PyTorch-Pipeline-a690a0cb540c4f29b6c34ecaf808df81</a>\n",
       "        </td>\n",
       "        <td>Aug 02, 2020 12:30:51.225 AM</td>\n",
       "    </tr>\n",
       "\n",
       "\n",
       "    <tr class=\"awsui-table-row\">\n",
       "        <td>\n",
       "            <a href=\"https://console.aws.amazon.com/states/home?region=us-east-1#/statemachines/view/arn:aws:states:us-east-1:725879053979:stateMachine:DevelopingWithStepFunctionsDotNetCore\" target=\"_blank\" class=\"awsui\">DevelopingWithStepFunctionsDotNetCore</a>\n",
       "        </td>\n",
       "        <td>Jan 10, 2019 02:08:54.714 AM</td>\n",
       "    </tr>\n",
       "\n",
       "\n",
       "    <tr class=\"awsui-table-row\">\n",
       "        <td>\n",
       "            <a href=\"https://console.aws.amazon.com/states/home?region=us-east-1#/statemachines/view/arn:aws:states:us-east-1:725879053979:stateMachine:training-pipeline-2020-07-21-14-33-44\" target=\"_blank\" class=\"awsui\">training-pipeline-2020-07-21-14-33-44</a>\n",
       "        </td>\n",
       "        <td>Jul 21, 2020 02:36:34.835 PM</td>\n",
       "    </tr>\n",
       "\n",
       "\n",
       "    <tr class=\"awsui-table-row\">\n",
       "        <td>\n",
       "            <a href=\"https://console.aws.amazon.com/states/home?region=us-east-1#/statemachines/view/arn:aws:states:us-east-1:725879053979:stateMachine:training-pipeline-2020-07-31-01-21-03\" target=\"_blank\" class=\"awsui\">training-pipeline-2020-07-31-01-21-03</a>\n",
       "        </td>\n",
       "        <td>Jul 31, 2020 01:21:04.206 AM</td>\n",
       "    </tr>\n",
       "\n",
       "        </tbody>\n",
       "    </table>\n"
      ],
      "text/plain": [
       "<IPython.core.display.HTML object>"
      ]
     },
     "execution_count": 44,
     "metadata": {},
     "output_type": "execute_result"
    }
   ],
   "source": [
    "Workflow.list_workflows(html=True)"
   ]
  },
  {
   "cell_type": "markdown",
   "metadata": {},
   "source": [
    "**Disparando Pipeline de ML**"
   ]
  },
  {
   "cell_type": "code",
   "execution_count": 45,
   "metadata": {},
   "outputs": [
    {
     "name": "stdout",
     "output_type": "stream",
     "text": [
      "INPUT CONFIGURATIONS:\n",
      "\n",
      "TrainingJobName (each Sagemaker Job requires a unique number):\n",
      " pth-pipeline-a690a0cb540c4f29b6c34ecaf808df81\n",
      "\n",
      "ModelName (each SageMaker Model requires a unique name,):\n",
      " MNIST-a690a0cb540c4f29b6c34ecaf808df81\n",
      "\n",
      "EndpointName (each Endpoint requires a unique name):\n",
      " PyTorchPipeline\n",
      "\n",
      "LambdaFunctionName:\n",
      " PyTorchPipeline\n",
      "UpdateEndpoint: False\n"
     ]
    }
   ],
   "source": [
    "print('INPUT CONFIGURATIONS:\\n')\n",
    "print('TrainingJobName (each Sagemaker Job requires a unique number):\\n',training_job_name)\n",
    "print('\\nModelName (each SageMaker Model requires a unique name,):\\n', model_name)\n",
    "print('\\nEndpointName (each Endpoint requires a unique name):\\n', endpoint_name)\n",
    "print('\\nLambdaFunctionName:\\n', endpoint_name)\n",
    "print('UpdateEndpoint:', update_endpoint)"
   ]
  },
  {
   "cell_type": "code",
   "execution_count": 46,
   "metadata": {},
   "outputs": [
    {
     "name": "stdout",
     "output_type": "stream",
     "text": [
      "\u001b[32m[INFO] Workflow execution started successfully on AWS Step Functions.\u001b[0m\n"
     ]
    }
   ],
   "source": [
    "execution = workflow.execute(\n",
    "    inputs={\n",
    "        'TrainingJobName': training_job_name,\n",
    "        'ModelName': model_name,\n",
    "        'EndpointName': endpoint_name,\n",
    "        'LambdaFunctionName': function_name,\n",
    "        'UpdateEndpoint': update_endpoint\n",
    "    }\n",
    ")"
   ]
  },
  {
   "cell_type": "code",
   "execution_count": 47,
   "metadata": {},
   "outputs": [],
   "source": [
    "# If don't want to wait for the whole pipeline to finish, set to False\n",
    "wait = True"
   ]
  },
  {
   "cell_type": "code",
   "execution_count": 48,
   "metadata": {},
   "outputs": [],
   "source": [
    "# Just check current status if we don't want to check all flow\n",
    "if not wait:\n",
    "    execution.render_progress(portrait=True)"
   ]
  },
  {
   "cell_type": "code",
   "execution_count": 49,
   "metadata": {},
   "outputs": [
    {
     "data": {
      "text/html": [
       "\n",
       "<link rel=\"stylesheet\" type=\"text/css\" href=\"https://do0of8uwbahzz.cloudfront.net/graph.css\">\n",
       "<div id=\"graph-600\" class=\"workflowgraph\">\n",
       "    \n",
       "    <style>\n",
       "        .graph-legend ul {\n",
       "            list-style-type: none;\n",
       "            padding: 10px;\n",
       "            padding-left: 0;\n",
       "            margin: 0;\n",
       "            position: absolute;\n",
       "            top: 0;\n",
       "            background: transparent;\n",
       "        }\n",
       "\n",
       "        .graph-legend li {\n",
       "            margin-left: 10px;\n",
       "            display: inline-block;\n",
       "        }\n",
       "\n",
       "        .graph-legend li > div {\n",
       "            width: 10px;\n",
       "            height: 10px;\n",
       "            display: inline-block;\n",
       "        }\n",
       "\n",
       "        .graph-legend .success { background-color: #2BD62E }\n",
       "        .graph-legend .failed { background-color: #DE322F }\n",
       "        .graph-legend .cancelled { background-color: #DDDDDD }\n",
       "        .graph-legend .in-progress { background-color: #53C9ED }\n",
       "        .graph-legend .caught-error { background-color: #FFA500 }\n",
       "    </style>\n",
       "    <div class=\"graph-legend\">\n",
       "        <ul>\n",
       "            <li>\n",
       "                <div class=\"success\"></div>\n",
       "                <span>Success</span>\n",
       "            </li>\n",
       "            <li>\n",
       "                <div class=\"failed\"></div>\n",
       "                <span>Failed</span>\n",
       "            </li>\n",
       "            <li>\n",
       "                <div class=\"cancelled\"></div>\n",
       "                <span>Cancelled</span>\n",
       "            </li>\n",
       "            <li>\n",
       "                <div class=\"in-progress\"></div>\n",
       "                <span>In Progress</span>\n",
       "            </li>\n",
       "            <li>\n",
       "                <div class=\"caught-error\"></div>\n",
       "                <span>Caught Error</span>\n",
       "            </li>\n",
       "        </ul>\n",
       "    </div>\n",
       "\n",
       "    <svg></svg>\n",
       "    <a href=\"https://console.aws.amazon.com/states/home?region=us-east-1#/executions/details/arn:aws:states:us-east-1:725879053979:execution:Demo-PyTorch-Pipeline-a690a0cb540c4f29b6c34ecaf808df81:d8652435-0e51-4156-9eef-9ef1f9d56032\" target=\"_blank\"> Inspect in AWS Step Functions </a>\n",
       "</div>\n",
       "\n",
       "<script type=\"text/javascript\">\n",
       "\n",
       "require.config({\n",
       "    paths: {\n",
       "        sfn: \"https://do0of8uwbahzz.cloudfront.net/sfn\",\n",
       "    }\n",
       "});\n",
       "\n",
       "require(['sfn'], function(sfn) {\n",
       "    var element = document.getElementById('graph-600')\n",
       "\n",
       "    var options = {\n",
       "        width: parseFloat(getComputedStyle(element, null).width.replace(\"px\", \"\")),\n",
       "        height: 1000,\n",
       "        layout: 'TB',\n",
       "        resizeHeight: true\n",
       "    };\n",
       "\n",
       "    var definition = {\"StartAt\": \"Model Training\", \"States\": {\"Model Training\": {\"Resource\": \"arn:aws:states:::sagemaker:createTrainingJob.sync\", \"Parameters\": {\"AlgorithmSpecification\": {\"TrainingImage\": \"520713654638.dkr.ecr.us-east-1.amazonaws.com/sagemaker-pytorch:1.1.0-cpu-py3\", \"TrainingInputMode\": \"File\", \"MetricDefinitions\": [{\"Name\": \"train:loss\", \"Regex\": \"\\\\[Train Loss (.*?)\\\\]\"}, {\"Name\": \"test:loss\", \"Regex\": \"\\\\[Test Average loss (.*?)\\\\]\"}, {\"Name\": \"test:accuracy\", \"Regex\": \"\\\\[Test Accuracy (.*?)\\\\]\"}]}, \"OutputDataConfig\": {\"S3OutputPath\": \"s3://ml-pipeline-725879053979\"}, \"StoppingCondition\": {\"MaxRuntimeInSeconds\": 86400}, \"ResourceConfig\": {\"InstanceCount\": 1, \"InstanceType\": \"ml.c4.xlarge\", \"VolumeSizeInGB\": 30}, \"RoleArn\": \"arn:aws:iam::725879053979:role/MLOps\", \"InputDataConfig\": [{\"DataSource\": {\"S3DataSource\": {\"S3DataType\": \"S3Prefix\", \"S3Uri\": \"s3://sagemaker-experiments-us-east-1-725879053979/mnist\", \"S3DataDistributionType\": \"FullyReplicated\"}}, \"ChannelName\": \"training\"}], \"HyperParameters\": {\"epochs\": \"1\", \"backend\": \"gloo\", \"hidden_channels\": \"10\", \"dropout\": \"0.2\", \"kernel_size\": \"5\", \"optimizer\": \"sgd\", \"sagemaker_container_log_level\": \"20\", \"sagemaker_enable_cloudwatch_metrics\": \"False\", \"sagemaker_program\": \"mnist.py\", \"sagemaker_region\": \"us-east-1\", \"sagemaker_submit_directory\": \"s3://sagemaker-us-east-1-725879053979/framework-script-local-1596156081/source/sourcedir.tar.gz\"}, \"TrainingJobName.$\": \"$$.Execution.Input['TrainingJobName']\", \"DebugHookConfig\": {\"S3OutputPath\": \"s3://ml-pipeline-725879053979\"}}, \"Type\": \"Task\", \"Next\": \"Save Model\"}, \"Save Model\": {\"ResultPath\": \"$.ModelStepResults\", \"Parameters\": {\"ModelName.$\": \"$$.Execution.Input['ModelName']\", \"PrimaryContainer\": {\"Image\": \"520713654638.dkr.ecr.us-east-1.amazonaws.com/sagemaker-pytorch:1.1.0-cpu-py3\", \"Environment\": {\"SAGEMAKER_PROGRAM\": \"inference.py\", \"SAGEMAKER_SUBMIT_DIRECTORY\": \"s3://sagemaker-us-east-1-725879053979/sagemaker-pytorch-2020-07-31-00-51-18-859/sourcedir.tar.gz\", \"SAGEMAKER_ENABLE_CLOUDWATCH_METRICS\": \"false\", \"SAGEMAKER_CONTAINER_LOG_LEVEL\": \"20\", \"SAGEMAKER_REGION\": \"us-east-1\"}, \"ModelDataUrl.$\": \"$['ModelArtifacts']['S3ModelArtifacts']\"}, \"ExecutionRoleArn\": \"arn:aws:iam::725879053979:role/MLOps\"}, \"Resource\": \"arn:aws:states:::sagemaker:createModel\", \"Type\": \"Task\", \"Next\": \"Query Training Results\"}, \"Query Training Results\": {\"Parameters\": {\"FunctionName.$\": \"$$.Execution.Input['LambdaFunctionName']\", \"Payload\": {\"TrainingJobName.$\": \"$.TrainingJobName\"}}, \"Resource\": \"arn:aws:states:::lambda:invoke\", \"Type\": \"Task\", \"Next\": \"Accuracy > 50%\"}, \"Accuracy > 50%\": {\"Type\": \"Choice\", \"Choices\": [{\"Variable\": \"$['Payload']['trainingMetrics'][0]['Value']\", \"NumericLessThan\": 0.5, \"Next\": \"Create Model Endpoint Config\"}], \"Default\": \"Model Accuracy Too Low\"}, \"Model Accuracy Too Low\": {\"Comment\": \"Validation accuracy lower than threshold\", \"Type\": \"Fail\"}, \"Create Model Endpoint Config\": {\"Resource\": \"arn:aws:states:::sagemaker:createEndpointConfig\", \"Parameters\": {\"EndpointConfigName.$\": \"$$.Execution.Input['ModelName']\", \"ProductionVariants\": [{\"InitialInstanceCount\": 1, \"InstanceType\": \"ml.m4.xlarge\", \"ModelName.$\": \"$$.Execution.Input['ModelName']\", \"VariantName\": \"pthVariant\"}], \"DataCaptureConfig\": {\"EnableCapture\": true, \"InitialSamplingPercentage\": 100, \"DestinationS3Uri\": \"s3://sagemaker-experiments-us-east-1-725879053979/mnist/endpoint_monitoring/\", \"CaptureOptions\": [{\"CaptureMode\": \"Input\"}, {\"CaptureMode\": \"Output\"}], \"CaptureContentTypeHeader\": {\"CsvContentTypes\": [\"text/csv\"], \"JsonContentTypes\": [\"application/json\"]}}}, \"Type\": \"Task\", \"Next\": \"Update Model Endpoint\"}, \"Update Model Endpoint\": {\"Resource\": \"arn:aws:states:::sagemaker:createEndpoint\", \"Parameters\": {\"EndpointConfigName.$\": \"$$.Execution.Input['ModelName']\", \"EndpointName.$\": \"$$.Execution.Input['EndpointName']\"}, \"Type\": \"Task\", \"End\": true}}};\n",
       "    var elementId = '#graph-600';\n",
       "    var events = { 'events': [{\"timestamp\": 1596328251.382, \"type\": \"ExecutionStarted\", \"id\": 1, \"previousEventId\": 0, \"executionStartedEventDetails\": {\"input\": \"{\\n    \\\"TrainingJobName\\\": \\\"pth-pipeline-a690a0cb540c4f29b6c34ecaf808df81\\\",\\n    \\\"ModelName\\\": \\\"MNIST-a690a0cb540c4f29b6c34ecaf808df81\\\",\\n    \\\"EndpointName\\\": \\\"PyTorchPipeline\\\",\\n    \\\"LambdaFunctionName\\\": \\\"query-training-status-a690a0cb540c4f29b6c34ecaf808df81\\\",\\n    \\\"UpdateEndpoint\\\": false\\n}\", \"roleArn\": \"arn:aws:iam::725879053979:role/StepFunctions_DSSDK-725879053979\"}}, {\"timestamp\": 1596328251.415, \"type\": \"TaskStateEntered\", \"id\": 2, \"previousEventId\": 0, \"stateEnteredEventDetails\": {\"name\": \"Model Training\", \"input\": \"{\\n    \\\"TrainingJobName\\\": \\\"pth-pipeline-a690a0cb540c4f29b6c34ecaf808df81\\\",\\n    \\\"ModelName\\\": \\\"MNIST-a690a0cb540c4f29b6c34ecaf808df81\\\",\\n    \\\"EndpointName\\\": \\\"PyTorchPipeline\\\",\\n    \\\"LambdaFunctionName\\\": \\\"query-training-status-a690a0cb540c4f29b6c34ecaf808df81\\\",\\n    \\\"UpdateEndpoint\\\": false\\n}\"}}, {\"timestamp\": 1596328251.415, \"type\": \"TaskScheduled\", \"id\": 3, \"previousEventId\": 2, \"taskScheduledEventDetails\": {\"resourceType\": \"sagemaker\", \"resource\": \"createTrainingJob.sync\", \"region\": \"us-east-1\", \"parameters\": \"{\\\"AlgorithmSpecification\\\":{\\\"TrainingImage\\\":\\\"520713654638.dkr.ecr.us-east-1.amazonaws.com/sagemaker-pytorch:1.1.0-cpu-py3\\\",\\\"TrainingInputMode\\\":\\\"File\\\",\\\"MetricDefinitions\\\":[{\\\"Name\\\":\\\"train:loss\\\",\\\"Regex\\\":\\\"\\\\\\\\[Train Loss (.*?)\\\\\\\\]\\\"},{\\\"Name\\\":\\\"test:loss\\\",\\\"Regex\\\":\\\"\\\\\\\\[Test Average loss (.*?)\\\\\\\\]\\\"},{\\\"Name\\\":\\\"test:accuracy\\\",\\\"Regex\\\":\\\"\\\\\\\\[Test Accuracy (.*?)\\\\\\\\]\\\"}]},\\\"OutputDataConfig\\\":{\\\"S3OutputPath\\\":\\\"s3://ml-pipeline-725879053979\\\"},\\\"StoppingCondition\\\":{\\\"MaxRuntimeInSeconds\\\":86400},\\\"ResourceConfig\\\":{\\\"InstanceCount\\\":1,\\\"InstanceType\\\":\\\"ml.c4.xlarge\\\",\\\"VolumeSizeInGB\\\":30},\\\"RoleArn\\\":\\\"arn:aws:iam::725879053979:role/MLOps\\\",\\\"InputDataConfig\\\":[{\\\"DataSource\\\":{\\\"S3DataSource\\\":{\\\"S3DataType\\\":\\\"S3Prefix\\\",\\\"S3Uri\\\":\\\"s3://sagemaker-experiments-us-east-1-725879053979/mnist\\\",\\\"S3DataDistributionType\\\":\\\"FullyReplicated\\\"}},\\\"ChannelName\\\":\\\"training\\\"}],\\\"HyperParameters\\\":{\\\"epochs\\\":\\\"1\\\",\\\"backend\\\":\\\"gloo\\\",\\\"hidden_channels\\\":\\\"10\\\",\\\"dropout\\\":\\\"0.2\\\",\\\"kernel_size\\\":\\\"5\\\",\\\"optimizer\\\":\\\"sgd\\\",\\\"sagemaker_container_log_level\\\":\\\"20\\\",\\\"sagemaker_enable_cloudwatch_metrics\\\":\\\"False\\\",\\\"sagemaker_program\\\":\\\"mnist.py\\\",\\\"sagemaker_region\\\":\\\"us-east-1\\\",\\\"sagemaker_submit_directory\\\":\\\"s3://sagemaker-us-east-1-725879053979/framework-script-local-1596156081/source/sourcedir.tar.gz\\\"},\\\"DebugHookConfig\\\":{\\\"S3OutputPath\\\":\\\"s3://ml-pipeline-725879053979\\\"},\\\"TrainingJobName\\\":\\\"pth-pipeline-a690a0cb540c4f29b6c34ecaf808df81\\\",\\\"Tags\\\":[{\\\"Key\\\":\\\"MANAGED_BY_AWS\\\",\\\"Value\\\":\\\"STARTED_BY_STEP_FUNCTIONS\\\"}]}\"}}, {\"timestamp\": 1596328251.475, \"type\": \"TaskStarted\", \"id\": 4, \"previousEventId\": 3, \"taskStartedEventDetails\": {\"resourceType\": \"sagemaker\", \"resource\": \"createTrainingJob.sync\"}}, {\"timestamp\": 1596328251.665, \"type\": \"TaskSubmitted\", \"id\": 5, \"previousEventId\": 4, \"taskSubmittedEventDetails\": {\"resourceType\": \"sagemaker\", \"resource\": \"createTrainingJob.sync\", \"output\": \"{\\\"SdkHttpMetadata\\\":{\\\"AllHttpHeaders\\\":{\\\"x-amzn-RequestId\\\":[\\\"61b30c8d-9e5d-4f22-a37f-b695095531f0\\\"],\\\"Content-Length\\\":[\\\"120\\\"],\\\"Date\\\":[\\\"Sun, 02 Aug 2020 00:30:51 GMT\\\"],\\\"Content-Type\\\":[\\\"application/x-amz-json-1.1\\\"]},\\\"HttpHeaders\\\":{\\\"Content-Length\\\":\\\"120\\\",\\\"Content-Type\\\":\\\"application/x-amz-json-1.1\\\",\\\"Date\\\":\\\"Sun, 02 Aug 2020 00:30:51 GMT\\\",\\\"x-amzn-RequestId\\\":\\\"61b30c8d-9e5d-4f22-a37f-b695095531f0\\\"},\\\"HttpStatusCode\\\":200},\\\"SdkResponseMetadata\\\":{\\\"RequestId\\\":\\\"61b30c8d-9e5d-4f22-a37f-b695095531f0\\\"},\\\"TrainingJobArn\\\":\\\"arn:aws:sagemaker:us-east-1:725879053979:training-job/pth-pipeline-a690a0cb540c4f29b6c34ecaf808df81\\\"}\"}}, {\"timestamp\": 1596328485.017, \"type\": \"TaskSucceeded\", \"id\": 6, \"previousEventId\": 5, \"taskSucceededEventDetails\": {\"resourceType\": \"sagemaker\", \"resource\": \"createTrainingJob.sync\", \"output\": \"{\\\"TrainingJobName\\\":\\\"pth-pipeline-a690a0cb540c4f29b6c34ecaf808df81\\\",\\\"TrainingJobArn\\\":\\\"arn:aws:sagemaker:us-east-1:725879053979:training-job/pth-pipeline-a690a0cb540c4f29b6c34ecaf808df81\\\",\\\"ModelArtifacts\\\":{\\\"S3ModelArtifacts\\\":\\\"s3://ml-pipeline-725879053979/pth-pipeline-a690a0cb540c4f29b6c34ecaf808df81/output/model.tar.gz\\\"},\\\"TrainingJobStatus\\\":\\\"Completed\\\",\\\"SecondaryStatus\\\":\\\"Completed\\\",\\\"HyperParameters\\\":{\\\"sagemaker_container_log_level\\\":\\\"20\\\",\\\"sagemaker_program\\\":\\\"mnist.py\\\",\\\"optimizer\\\":\\\"sgd\\\",\\\"sagemaker_enable_cloudwatch_metrics\\\":\\\"False\\\",\\\"hidden_channels\\\":\\\"10\\\",\\\"dropout\\\":\\\"0.2\\\",\\\"sagemaker_region\\\":\\\"us-east-1\\\",\\\"backend\\\":\\\"gloo\\\",\\\"epochs\\\":\\\"1\\\",\\\"sagemaker_submit_directory\\\":\\\"s3://sagemaker-us-east-1-725879053979/framework-script-local-1596156081/source/sourcedir.tar.gz\\\",\\\"kernel_size\\\":\\\"5\\\"},\\\"AlgorithmSpecification\\\":{\\\"TrainingImage\\\":\\\"520713654638.dkr.ecr.us-east-1.amazonaws.com/sagemaker-pytorch:1.1.0-cpu-py3\\\",\\\"TrainingInputMode\\\":\\\"FILE\\\"},\\\"RoleArn\\\":\\\"arn:aws:iam::725879053979:role/MLOps\\\",\\\"InputDataConfig\\\":[{\\\"ChannelName\\\":\\\"training\\\",\\\"DataSource\\\":{\\\"S3DataSource\\\":{\\\"S3DataType\\\":\\\"S3_PREFIX\\\",\\\"S3Uri\\\":\\\"s3://sagemaker-experiments-us-east-1-725879053979/mnist\\\",\\\"S3DataDistributionType\\\":\\\"FULLY_REPLICATED\\\"}},\\\"CompressionType\\\":\\\"NONE\\\",\\\"RecordWrapperType\\\":\\\"NONE\\\"}],\\\"OutputDataConfig\\\":{\\\"S3OutputPath\\\":\\\"s3://ml-pipeline-725879053979\\\"},\\\"ResourceConfig\\\":{\\\"InstanceType\\\":\\\"ml.c4.xlarge\\\",\\\"InstanceCount\\\":1.0,\\\"VolumeSizeInGB\\\":30.0},\\\"StoppingCondition\\\":{\\\"MaxRuntimeInSeconds\\\":86400.0},\\\"CreationTime\\\":1.59632825164E12,\\\"TrainingStartTime\\\":1.59632839292E12,\\\"TrainingEndTime\\\":1.596328481989E12,\\\"LastModifiedTime\\\":1.596328481989E12,\\\"SecondaryStatusTransitions\\\":[{\\\"Status\\\":\\\"Starting\\\",\\\"StartTime\\\":1.59632825164E12,\\\"EndTime\\\":1.59632839292E12,\\\"StatusMessage\\\":\\\"Preparing the instances for training\\\"},{\\\"Status\\\":\\\"Downloading\\\",\\\"StartTime\\\":1.59632839292E12,\\\"EndTime\\\":1.596328418699E12,\\\"StatusMessage\\\":\\\"Downloading input data\\\"},{\\\"Status\\\":\\\"Training\\\",\\\"StartTime\\\":1.596328418699E12,\\\"EndTime\\\":1.596328474323E12,\\\"StatusMessage\\\":\\\"Training image download completed. Training in progress.\\\"},{\\\"Status\\\":\\\"Uploading\\\",\\\"StartTime\\\":1.596328474323E12,\\\"EndTime\\\":1.596328481989E12,\\\"StatusMessage\\\":\\\"Uploading generated training model\\\"},{\\\"Status\\\":\\\"Completed\\\",\\\"StartTime\\\":1.596328481989E12,\\\"EndTime\\\":1.596328481989E12,\\\"StatusMessage\\\":\\\"Training job completed\\\"}],\\\"DebugHookConfig\\\":{\\\"S3OutputPath\\\":\\\"s3://ml-pipeline-725879053979\\\"},\\\"Tags\\\":{\\\"AWS_STEP_FUNCTIONS_EXECUTION_ARN\\\":\\\"arn:aws:states:us-east-1:725879053979:execution:Demo-PyTorch-Pipeline-a690a0cb540c4f29b6c34ecaf808df81:d8652435-0e51-4156-9eef-9ef1f9d56032\\\",\\\"MANAGED_BY_AWS\\\":\\\"STARTED_BY_STEP_FUNCTIONS\\\"}}\"}}, {\"timestamp\": 1596328485.017, \"type\": \"TaskStateExited\", \"id\": 7, \"previousEventId\": 6, \"stateExitedEventDetails\": {\"name\": \"Model Training\", \"output\": \"{\\\"TrainingJobName\\\":\\\"pth-pipeline-a690a0cb540c4f29b6c34ecaf808df81\\\",\\\"TrainingJobArn\\\":\\\"arn:aws:sagemaker:us-east-1:725879053979:training-job/pth-pipeline-a690a0cb540c4f29b6c34ecaf808df81\\\",\\\"ModelArtifacts\\\":{\\\"S3ModelArtifacts\\\":\\\"s3://ml-pipeline-725879053979/pth-pipeline-a690a0cb540c4f29b6c34ecaf808df81/output/model.tar.gz\\\"},\\\"TrainingJobStatus\\\":\\\"Completed\\\",\\\"SecondaryStatus\\\":\\\"Completed\\\",\\\"HyperParameters\\\":{\\\"sagemaker_container_log_level\\\":\\\"20\\\",\\\"sagemaker_program\\\":\\\"mnist.py\\\",\\\"optimizer\\\":\\\"sgd\\\",\\\"sagemaker_enable_cloudwatch_metrics\\\":\\\"False\\\",\\\"hidden_channels\\\":\\\"10\\\",\\\"dropout\\\":\\\"0.2\\\",\\\"sagemaker_region\\\":\\\"us-east-1\\\",\\\"backend\\\":\\\"gloo\\\",\\\"epochs\\\":\\\"1\\\",\\\"sagemaker_submit_directory\\\":\\\"s3://sagemaker-us-east-1-725879053979/framework-script-local-1596156081/source/sourcedir.tar.gz\\\",\\\"kernel_size\\\":\\\"5\\\"},\\\"AlgorithmSpecification\\\":{\\\"TrainingImage\\\":\\\"520713654638.dkr.ecr.us-east-1.amazonaws.com/sagemaker-pytorch:1.1.0-cpu-py3\\\",\\\"TrainingInputMode\\\":\\\"FILE\\\"},\\\"RoleArn\\\":\\\"arn:aws:iam::725879053979:role/MLOps\\\",\\\"InputDataConfig\\\":[{\\\"ChannelName\\\":\\\"training\\\",\\\"DataSource\\\":{\\\"S3DataSource\\\":{\\\"S3DataType\\\":\\\"S3_PREFIX\\\",\\\"S3Uri\\\":\\\"s3://sagemaker-experiments-us-east-1-725879053979/mnist\\\",\\\"S3DataDistributionType\\\":\\\"FULLY_REPLICATED\\\"}},\\\"CompressionType\\\":\\\"NONE\\\",\\\"RecordWrapperType\\\":\\\"NONE\\\"}],\\\"OutputDataConfig\\\":{\\\"S3OutputPath\\\":\\\"s3://ml-pipeline-725879053979\\\"},\\\"ResourceConfig\\\":{\\\"InstanceType\\\":\\\"ml.c4.xlarge\\\",\\\"InstanceCount\\\":1.0,\\\"VolumeSizeInGB\\\":30.0},\\\"StoppingCondition\\\":{\\\"MaxRuntimeInSeconds\\\":86400.0},\\\"CreationTime\\\":1.59632825164E12,\\\"TrainingStartTime\\\":1.59632839292E12,\\\"TrainingEndTime\\\":1.596328481989E12,\\\"LastModifiedTime\\\":1.596328481989E12,\\\"SecondaryStatusTransitions\\\":[{\\\"Status\\\":\\\"Starting\\\",\\\"StartTime\\\":1.59632825164E12,\\\"EndTime\\\":1.59632839292E12,\\\"StatusMessage\\\":\\\"Preparing the instances for training\\\"},{\\\"Status\\\":\\\"Downloading\\\",\\\"StartTime\\\":1.59632839292E12,\\\"EndTime\\\":1.596328418699E12,\\\"StatusMessage\\\":\\\"Downloading input data\\\"},{\\\"Status\\\":\\\"Training\\\",\\\"StartTime\\\":1.596328418699E12,\\\"EndTime\\\":1.596328474323E12,\\\"StatusMessage\\\":\\\"Training image download completed. Training in progress.\\\"},{\\\"Status\\\":\\\"Uploading\\\",\\\"StartTime\\\":1.596328474323E12,\\\"EndTime\\\":1.596328481989E12,\\\"StatusMessage\\\":\\\"Uploading generated training model\\\"},{\\\"Status\\\":\\\"Completed\\\",\\\"StartTime\\\":1.596328481989E12,\\\"EndTime\\\":1.596328481989E12,\\\"StatusMessage\\\":\\\"Training job completed\\\"}],\\\"DebugHookConfig\\\":{\\\"S3OutputPath\\\":\\\"s3://ml-pipeline-725879053979\\\"},\\\"Tags\\\":{\\\"AWS_STEP_FUNCTIONS_EXECUTION_ARN\\\":\\\"arn:aws:states:us-east-1:725879053979:execution:Demo-PyTorch-Pipeline-a690a0cb540c4f29b6c34ecaf808df81:d8652435-0e51-4156-9eef-9ef1f9d56032\\\",\\\"MANAGED_BY_AWS\\\":\\\"STARTED_BY_STEP_FUNCTIONS\\\"}}\"}}, {\"timestamp\": 1596328485.032, \"type\": \"TaskStateEntered\", \"id\": 8, \"previousEventId\": 7, \"stateEnteredEventDetails\": {\"name\": \"Save Model\", \"input\": \"{\\\"TrainingJobName\\\":\\\"pth-pipeline-a690a0cb540c4f29b6c34ecaf808df81\\\",\\\"TrainingJobArn\\\":\\\"arn:aws:sagemaker:us-east-1:725879053979:training-job/pth-pipeline-a690a0cb540c4f29b6c34ecaf808df81\\\",\\\"ModelArtifacts\\\":{\\\"S3ModelArtifacts\\\":\\\"s3://ml-pipeline-725879053979/pth-pipeline-a690a0cb540c4f29b6c34ecaf808df81/output/model.tar.gz\\\"},\\\"TrainingJobStatus\\\":\\\"Completed\\\",\\\"SecondaryStatus\\\":\\\"Completed\\\",\\\"HyperParameters\\\":{\\\"sagemaker_container_log_level\\\":\\\"20\\\",\\\"sagemaker_program\\\":\\\"mnist.py\\\",\\\"optimizer\\\":\\\"sgd\\\",\\\"sagemaker_enable_cloudwatch_metrics\\\":\\\"False\\\",\\\"hidden_channels\\\":\\\"10\\\",\\\"dropout\\\":\\\"0.2\\\",\\\"sagemaker_region\\\":\\\"us-east-1\\\",\\\"backend\\\":\\\"gloo\\\",\\\"epochs\\\":\\\"1\\\",\\\"sagemaker_submit_directory\\\":\\\"s3://sagemaker-us-east-1-725879053979/framework-script-local-1596156081/source/sourcedir.tar.gz\\\",\\\"kernel_size\\\":\\\"5\\\"},\\\"AlgorithmSpecification\\\":{\\\"TrainingImage\\\":\\\"520713654638.dkr.ecr.us-east-1.amazonaws.com/sagemaker-pytorch:1.1.0-cpu-py3\\\",\\\"TrainingInputMode\\\":\\\"FILE\\\"},\\\"RoleArn\\\":\\\"arn:aws:iam::725879053979:role/MLOps\\\",\\\"InputDataConfig\\\":[{\\\"ChannelName\\\":\\\"training\\\",\\\"DataSource\\\":{\\\"S3DataSource\\\":{\\\"S3DataType\\\":\\\"S3_PREFIX\\\",\\\"S3Uri\\\":\\\"s3://sagemaker-experiments-us-east-1-725879053979/mnist\\\",\\\"S3DataDistributionType\\\":\\\"FULLY_REPLICATED\\\"}},\\\"CompressionType\\\":\\\"NONE\\\",\\\"RecordWrapperType\\\":\\\"NONE\\\"}],\\\"OutputDataConfig\\\":{\\\"S3OutputPath\\\":\\\"s3://ml-pipeline-725879053979\\\"},\\\"ResourceConfig\\\":{\\\"InstanceType\\\":\\\"ml.c4.xlarge\\\",\\\"InstanceCount\\\":1.0,\\\"VolumeSizeInGB\\\":30.0},\\\"StoppingCondition\\\":{\\\"MaxRuntimeInSeconds\\\":86400.0},\\\"CreationTime\\\":1.59632825164E12,\\\"TrainingStartTime\\\":1.59632839292E12,\\\"TrainingEndTime\\\":1.596328481989E12,\\\"LastModifiedTime\\\":1.596328481989E12,\\\"SecondaryStatusTransitions\\\":[{\\\"Status\\\":\\\"Starting\\\",\\\"StartTime\\\":1.59632825164E12,\\\"EndTime\\\":1.59632839292E12,\\\"StatusMessage\\\":\\\"Preparing the instances for training\\\"},{\\\"Status\\\":\\\"Downloading\\\",\\\"StartTime\\\":1.59632839292E12,\\\"EndTime\\\":1.596328418699E12,\\\"StatusMessage\\\":\\\"Downloading input data\\\"},{\\\"Status\\\":\\\"Training\\\",\\\"StartTime\\\":1.596328418699E12,\\\"EndTime\\\":1.596328474323E12,\\\"StatusMessage\\\":\\\"Training image download completed. Training in progress.\\\"},{\\\"Status\\\":\\\"Uploading\\\",\\\"StartTime\\\":1.596328474323E12,\\\"EndTime\\\":1.596328481989E12,\\\"StatusMessage\\\":\\\"Uploading generated training model\\\"},{\\\"Status\\\":\\\"Completed\\\",\\\"StartTime\\\":1.596328481989E12,\\\"EndTime\\\":1.596328481989E12,\\\"StatusMessage\\\":\\\"Training job completed\\\"}],\\\"DebugHookConfig\\\":{\\\"S3OutputPath\\\":\\\"s3://ml-pipeline-725879053979\\\"},\\\"Tags\\\":{\\\"AWS_STEP_FUNCTIONS_EXECUTION_ARN\\\":\\\"arn:aws:states:us-east-1:725879053979:execution:Demo-PyTorch-Pipeline-a690a0cb540c4f29b6c34ecaf808df81:d8652435-0e51-4156-9eef-9ef1f9d56032\\\",\\\"MANAGED_BY_AWS\\\":\\\"STARTED_BY_STEP_FUNCTIONS\\\"}}\"}}, {\"timestamp\": 1596328485.032, \"type\": \"TaskScheduled\", \"id\": 9, \"previousEventId\": 8, \"taskScheduledEventDetails\": {\"resourceType\": \"sagemaker\", \"resource\": \"createModel\", \"region\": \"us-east-1\", \"parameters\": \"{\\\"PrimaryContainer\\\":{\\\"Image\\\":\\\"520713654638.dkr.ecr.us-east-1.amazonaws.com/sagemaker-pytorch:1.1.0-cpu-py3\\\",\\\"Environment\\\":{\\\"SAGEMAKER_PROGRAM\\\":\\\"inference.py\\\",\\\"SAGEMAKER_SUBMIT_DIRECTORY\\\":\\\"s3://sagemaker-us-east-1-725879053979/sagemaker-pytorch-2020-07-31-00-51-18-859/sourcedir.tar.gz\\\",\\\"SAGEMAKER_ENABLE_CLOUDWATCH_METRICS\\\":\\\"false\\\",\\\"SAGEMAKER_CONTAINER_LOG_LEVEL\\\":\\\"20\\\",\\\"SAGEMAKER_REGION\\\":\\\"us-east-1\\\"},\\\"ModelDataUrl\\\":\\\"s3://ml-pipeline-725879053979/pth-pipeline-a690a0cb540c4f29b6c34ecaf808df81/output/model.tar.gz\\\"},\\\"ExecutionRoleArn\\\":\\\"arn:aws:iam::725879053979:role/MLOps\\\",\\\"ModelName\\\":\\\"MNIST-a690a0cb540c4f29b6c34ecaf808df81\\\"}\"}}, {\"timestamp\": 1596328485.046, \"type\": \"TaskStarted\", \"id\": 10, \"previousEventId\": 9, \"taskStartedEventDetails\": {\"resourceType\": \"sagemaker\", \"resource\": \"createModel\"}}, {\"timestamp\": 1596328485.342, \"type\": \"TaskSucceeded\", \"id\": 11, \"previousEventId\": 10, \"taskSucceededEventDetails\": {\"resourceType\": \"sagemaker\", \"resource\": \"createModel\", \"output\": \"{\\\"ModelArn\\\":\\\"arn:aws:sagemaker:us-east-1:725879053979:model/mnist-a690a0cb540c4f29b6c34ecaf808df81\\\",\\\"SdkHttpMetadata\\\":{\\\"AllHttpHeaders\\\":{\\\"x-amzn-RequestId\\\":[\\\"a5819cb0-8056-456b-8799-8131f7896486\\\"],\\\"Content-Length\\\":[\\\"100\\\"],\\\"Date\\\":[\\\"Sun, 02 Aug 2020 00:34:45 GMT\\\"],\\\"Content-Type\\\":[\\\"application/x-amz-json-1.1\\\"]},\\\"HttpHeaders\\\":{\\\"Content-Length\\\":\\\"100\\\",\\\"Content-Type\\\":\\\"application/x-amz-json-1.1\\\",\\\"Date\\\":\\\"Sun, 02 Aug 2020 00:34:45 GMT\\\",\\\"x-amzn-RequestId\\\":\\\"a5819cb0-8056-456b-8799-8131f7896486\\\"},\\\"HttpStatusCode\\\":200},\\\"SdkResponseMetadata\\\":{\\\"RequestId\\\":\\\"a5819cb0-8056-456b-8799-8131f7896486\\\"}}\"}}, {\"timestamp\": 1596328485.342, \"type\": \"TaskStateExited\", \"id\": 12, \"previousEventId\": 11, \"stateExitedEventDetails\": {\"name\": \"Save Model\", \"output\": \"{\\\"TrainingJobName\\\":\\\"pth-pipeline-a690a0cb540c4f29b6c34ecaf808df81\\\",\\\"TrainingJobArn\\\":\\\"arn:aws:sagemaker:us-east-1:725879053979:training-job/pth-pipeline-a690a0cb540c4f29b6c34ecaf808df81\\\",\\\"ModelArtifacts\\\":{\\\"S3ModelArtifacts\\\":\\\"s3://ml-pipeline-725879053979/pth-pipeline-a690a0cb540c4f29b6c34ecaf808df81/output/model.tar.gz\\\"},\\\"TrainingJobStatus\\\":\\\"Completed\\\",\\\"SecondaryStatus\\\":\\\"Completed\\\",\\\"HyperParameters\\\":{\\\"sagemaker_container_log_level\\\":\\\"20\\\",\\\"sagemaker_program\\\":\\\"mnist.py\\\",\\\"optimizer\\\":\\\"sgd\\\",\\\"sagemaker_enable_cloudwatch_metrics\\\":\\\"False\\\",\\\"hidden_channels\\\":\\\"10\\\",\\\"dropout\\\":\\\"0.2\\\",\\\"sagemaker_region\\\":\\\"us-east-1\\\",\\\"backend\\\":\\\"gloo\\\",\\\"epochs\\\":\\\"1\\\",\\\"sagemaker_submit_directory\\\":\\\"s3://sagemaker-us-east-1-725879053979/framework-script-local-1596156081/source/sourcedir.tar.gz\\\",\\\"kernel_size\\\":\\\"5\\\"},\\\"AlgorithmSpecification\\\":{\\\"TrainingImage\\\":\\\"520713654638.dkr.ecr.us-east-1.amazonaws.com/sagemaker-pytorch:1.1.0-cpu-py3\\\",\\\"TrainingInputMode\\\":\\\"FILE\\\"},\\\"RoleArn\\\":\\\"arn:aws:iam::725879053979:role/MLOps\\\",\\\"InputDataConfig\\\":[{\\\"ChannelName\\\":\\\"training\\\",\\\"DataSource\\\":{\\\"S3DataSource\\\":{\\\"S3DataType\\\":\\\"S3_PREFIX\\\",\\\"S3Uri\\\":\\\"s3://sagemaker-experiments-us-east-1-725879053979/mnist\\\",\\\"S3DataDistributionType\\\":\\\"FULLY_REPLICATED\\\"}},\\\"CompressionType\\\":\\\"NONE\\\",\\\"RecordWrapperType\\\":\\\"NONE\\\"}],\\\"OutputDataConfig\\\":{\\\"S3OutputPath\\\":\\\"s3://ml-pipeline-725879053979\\\"},\\\"ResourceConfig\\\":{\\\"InstanceType\\\":\\\"ml.c4.xlarge\\\",\\\"InstanceCount\\\":1.0,\\\"VolumeSizeInGB\\\":30.0},\\\"StoppingCondition\\\":{\\\"MaxRuntimeInSeconds\\\":86400.0},\\\"CreationTime\\\":1.59632825164E12,\\\"TrainingStartTime\\\":1.59632839292E12,\\\"TrainingEndTime\\\":1.596328481989E12,\\\"LastModifiedTime\\\":1.596328481989E12,\\\"SecondaryStatusTransitions\\\":[{\\\"Status\\\":\\\"Starting\\\",\\\"StartTime\\\":1.59632825164E12,\\\"EndTime\\\":1.59632839292E12,\\\"StatusMessage\\\":\\\"Preparing the instances for training\\\"},{\\\"Status\\\":\\\"Downloading\\\",\\\"StartTime\\\":1.59632839292E12,\\\"EndTime\\\":1.596328418699E12,\\\"StatusMessage\\\":\\\"Downloading input data\\\"},{\\\"Status\\\":\\\"Training\\\",\\\"StartTime\\\":1.596328418699E12,\\\"EndTime\\\":1.596328474323E12,\\\"StatusMessage\\\":\\\"Training image download completed. Training in progress.\\\"},{\\\"Status\\\":\\\"Uploading\\\",\\\"StartTime\\\":1.596328474323E12,\\\"EndTime\\\":1.596328481989E12,\\\"StatusMessage\\\":\\\"Uploading generated training model\\\"},{\\\"Status\\\":\\\"Completed\\\",\\\"StartTime\\\":1.596328481989E12,\\\"EndTime\\\":1.596328481989E12,\\\"StatusMessage\\\":\\\"Training job completed\\\"}],\\\"DebugHookConfig\\\":{\\\"S3OutputPath\\\":\\\"s3://ml-pipeline-725879053979\\\"},\\\"Tags\\\":{\\\"AWS_STEP_FUNCTIONS_EXECUTION_ARN\\\":\\\"arn:aws:states:us-east-1:725879053979:execution:Demo-PyTorch-Pipeline-a690a0cb540c4f29b6c34ecaf808df81:d8652435-0e51-4156-9eef-9ef1f9d56032\\\",\\\"MANAGED_BY_AWS\\\":\\\"STARTED_BY_STEP_FUNCTIONS\\\"},\\\"ModelStepResults\\\":{\\\"ModelArn\\\":\\\"arn:aws:sagemaker:us-east-1:725879053979:model/mnist-a690a0cb540c4f29b6c34ecaf808df81\\\",\\\"SdkHttpMetadata\\\":{\\\"AllHttpHeaders\\\":{\\\"x-amzn-RequestId\\\":[\\\"a5819cb0-8056-456b-8799-8131f7896486\\\"],\\\"Content-Length\\\":[\\\"100\\\"],\\\"Date\\\":[\\\"Sun, 02 Aug 2020 00:34:45 GMT\\\"],\\\"Content-Type\\\":[\\\"application/x-amz-json-1.1\\\"]},\\\"HttpHeaders\\\":{\\\"Content-Length\\\":\\\"100\\\",\\\"Content-Type\\\":\\\"application/x-amz-json-1.1\\\",\\\"Date\\\":\\\"Sun, 02 Aug 2020 00:34:45 GMT\\\",\\\"x-amzn-RequestId\\\":\\\"a5819cb0-8056-456b-8799-8131f7896486\\\"},\\\"HttpStatusCode\\\":200},\\\"SdkResponseMetadata\\\":{\\\"RequestId\\\":\\\"a5819cb0-8056-456b-8799-8131f7896486\\\"}}}\"}}, {\"timestamp\": 1596328485.349, \"type\": \"TaskStateEntered\", \"id\": 13, \"previousEventId\": 12, \"stateEnteredEventDetails\": {\"name\": \"Query Training Results\", \"input\": \"{\\\"TrainingJobName\\\":\\\"pth-pipeline-a690a0cb540c4f29b6c34ecaf808df81\\\",\\\"TrainingJobArn\\\":\\\"arn:aws:sagemaker:us-east-1:725879053979:training-job/pth-pipeline-a690a0cb540c4f29b6c34ecaf808df81\\\",\\\"ModelArtifacts\\\":{\\\"S3ModelArtifacts\\\":\\\"s3://ml-pipeline-725879053979/pth-pipeline-a690a0cb540c4f29b6c34ecaf808df81/output/model.tar.gz\\\"},\\\"TrainingJobStatus\\\":\\\"Completed\\\",\\\"SecondaryStatus\\\":\\\"Completed\\\",\\\"HyperParameters\\\":{\\\"sagemaker_container_log_level\\\":\\\"20\\\",\\\"sagemaker_program\\\":\\\"mnist.py\\\",\\\"optimizer\\\":\\\"sgd\\\",\\\"sagemaker_enable_cloudwatch_metrics\\\":\\\"False\\\",\\\"hidden_channels\\\":\\\"10\\\",\\\"dropout\\\":\\\"0.2\\\",\\\"sagemaker_region\\\":\\\"us-east-1\\\",\\\"backend\\\":\\\"gloo\\\",\\\"epochs\\\":\\\"1\\\",\\\"sagemaker_submit_directory\\\":\\\"s3://sagemaker-us-east-1-725879053979/framework-script-local-1596156081/source/sourcedir.tar.gz\\\",\\\"kernel_size\\\":\\\"5\\\"},\\\"AlgorithmSpecification\\\":{\\\"TrainingImage\\\":\\\"520713654638.dkr.ecr.us-east-1.amazonaws.com/sagemaker-pytorch:1.1.0-cpu-py3\\\",\\\"TrainingInputMode\\\":\\\"FILE\\\"},\\\"RoleArn\\\":\\\"arn:aws:iam::725879053979:role/MLOps\\\",\\\"InputDataConfig\\\":[{\\\"ChannelName\\\":\\\"training\\\",\\\"DataSource\\\":{\\\"S3DataSource\\\":{\\\"S3DataType\\\":\\\"S3_PREFIX\\\",\\\"S3Uri\\\":\\\"s3://sagemaker-experiments-us-east-1-725879053979/mnist\\\",\\\"S3DataDistributionType\\\":\\\"FULLY_REPLICATED\\\"}},\\\"CompressionType\\\":\\\"NONE\\\",\\\"RecordWrapperType\\\":\\\"NONE\\\"}],\\\"OutputDataConfig\\\":{\\\"S3OutputPath\\\":\\\"s3://ml-pipeline-725879053979\\\"},\\\"ResourceConfig\\\":{\\\"InstanceType\\\":\\\"ml.c4.xlarge\\\",\\\"InstanceCount\\\":1.0,\\\"VolumeSizeInGB\\\":30.0},\\\"StoppingCondition\\\":{\\\"MaxRuntimeInSeconds\\\":86400.0},\\\"CreationTime\\\":1.59632825164E12,\\\"TrainingStartTime\\\":1.59632839292E12,\\\"TrainingEndTime\\\":1.596328481989E12,\\\"LastModifiedTime\\\":1.596328481989E12,\\\"SecondaryStatusTransitions\\\":[{\\\"Status\\\":\\\"Starting\\\",\\\"StartTime\\\":1.59632825164E12,\\\"EndTime\\\":1.59632839292E12,\\\"StatusMessage\\\":\\\"Preparing the instances for training\\\"},{\\\"Status\\\":\\\"Downloading\\\",\\\"StartTime\\\":1.59632839292E12,\\\"EndTime\\\":1.596328418699E12,\\\"StatusMessage\\\":\\\"Downloading input data\\\"},{\\\"Status\\\":\\\"Training\\\",\\\"StartTime\\\":1.596328418699E12,\\\"EndTime\\\":1.596328474323E12,\\\"StatusMessage\\\":\\\"Training image download completed. Training in progress.\\\"},{\\\"Status\\\":\\\"Uploading\\\",\\\"StartTime\\\":1.596328474323E12,\\\"EndTime\\\":1.596328481989E12,\\\"StatusMessage\\\":\\\"Uploading generated training model\\\"},{\\\"Status\\\":\\\"Completed\\\",\\\"StartTime\\\":1.596328481989E12,\\\"EndTime\\\":1.596328481989E12,\\\"StatusMessage\\\":\\\"Training job completed\\\"}],\\\"DebugHookConfig\\\":{\\\"S3OutputPath\\\":\\\"s3://ml-pipeline-725879053979\\\"},\\\"Tags\\\":{\\\"AWS_STEP_FUNCTIONS_EXECUTION_ARN\\\":\\\"arn:aws:states:us-east-1:725879053979:execution:Demo-PyTorch-Pipeline-a690a0cb540c4f29b6c34ecaf808df81:d8652435-0e51-4156-9eef-9ef1f9d56032\\\",\\\"MANAGED_BY_AWS\\\":\\\"STARTED_BY_STEP_FUNCTIONS\\\"},\\\"ModelStepResults\\\":{\\\"ModelArn\\\":\\\"arn:aws:sagemaker:us-east-1:725879053979:model/mnist-a690a0cb540c4f29b6c34ecaf808df81\\\",\\\"SdkHttpMetadata\\\":{\\\"AllHttpHeaders\\\":{\\\"x-amzn-RequestId\\\":[\\\"a5819cb0-8056-456b-8799-8131f7896486\\\"],\\\"Content-Length\\\":[\\\"100\\\"],\\\"Date\\\":[\\\"Sun, 02 Aug 2020 00:34:45 GMT\\\"],\\\"Content-Type\\\":[\\\"application/x-amz-json-1.1\\\"]},\\\"HttpHeaders\\\":{\\\"Content-Length\\\":\\\"100\\\",\\\"Content-Type\\\":\\\"application/x-amz-json-1.1\\\",\\\"Date\\\":\\\"Sun, 02 Aug 2020 00:34:45 GMT\\\",\\\"x-amzn-RequestId\\\":\\\"a5819cb0-8056-456b-8799-8131f7896486\\\"},\\\"HttpStatusCode\\\":200},\\\"SdkResponseMetadata\\\":{\\\"RequestId\\\":\\\"a5819cb0-8056-456b-8799-8131f7896486\\\"}}}\"}}, {\"timestamp\": 1596328485.349, \"type\": \"TaskScheduled\", \"id\": 14, \"previousEventId\": 13, \"taskScheduledEventDetails\": {\"resourceType\": \"lambda\", \"resource\": \"invoke\", \"region\": \"us-east-1\", \"parameters\": \"{\\\"Payload\\\":{\\\"TrainingJobName\\\":\\\"pth-pipeline-a690a0cb540c4f29b6c34ecaf808df81\\\"},\\\"FunctionName\\\":\\\"query-training-status-a690a0cb540c4f29b6c34ecaf808df81\\\"}\"}}, {\"timestamp\": 1596328485.363, \"type\": \"TaskStarted\", \"id\": 15, \"previousEventId\": 14, \"taskStartedEventDetails\": {\"resourceType\": \"lambda\", \"resource\": \"invoke\"}}, {\"timestamp\": 1596328486.152, \"type\": \"TaskSucceeded\", \"id\": 16, \"previousEventId\": 15, \"taskSucceededEventDetails\": {\"resourceType\": \"lambda\", \"resource\": \"invoke\", \"output\": \"{\\\"ExecutedVersion\\\":\\\"$LATEST\\\",\\\"Payload\\\":{\\\"statusCode\\\":200,\\\"trainingMetrics\\\":[{\\\"MetricName\\\":\\\"train:loss\\\",\\\"Value\\\":0.39608898758888245,\\\"Timestamp\\\":1596328.467},{\\\"MetricName\\\":\\\"test:loss\\\",\\\"Value\\\":0.1678999960422516,\\\"Timestamp\\\":1596328.47},{\\\"MetricName\\\":\\\"test:accuracy\\\",\\\"Value\\\":95.0,\\\"Timestamp\\\":1596328.47}]},\\\"SdkHttpMetadata\\\":{\\\"AllHttpHeaders\\\":{\\\"X-Amz-Executed-Version\\\":[\\\"$LATEST\\\"],\\\"x-amzn-Remapped-Content-Length\\\":[\\\"0\\\"],\\\"Connection\\\":[\\\"keep-alive\\\"],\\\"x-amzn-RequestId\\\":[\\\"dc26133a-e358-4826-bb81-5c090556e140\\\"],\\\"Content-Length\\\":[\\\"282\\\"],\\\"Date\\\":[\\\"Sun, 02 Aug 2020 00:34:46 GMT\\\"],\\\"X-Amzn-Trace-Id\\\":[\\\"root=1-5f260a25-1e00ff566750ce8638146038;sampled=0\\\"],\\\"Content-Type\\\":[\\\"application/json\\\"]},\\\"HttpHeaders\\\":{\\\"Connection\\\":\\\"keep-alive\\\",\\\"Content-Length\\\":\\\"282\\\",\\\"Content-Type\\\":\\\"application/json\\\",\\\"Date\\\":\\\"Sun, 02 Aug 2020 00:34:46 GMT\\\",\\\"X-Amz-Executed-Version\\\":\\\"$LATEST\\\",\\\"x-amzn-Remapped-Content-Length\\\":\\\"0\\\",\\\"x-amzn-RequestId\\\":\\\"dc26133a-e358-4826-bb81-5c090556e140\\\",\\\"X-Amzn-Trace-Id\\\":\\\"root=1-5f260a25-1e00ff566750ce8638146038;sampled=0\\\"},\\\"HttpStatusCode\\\":200},\\\"SdkResponseMetadata\\\":{\\\"RequestId\\\":\\\"dc26133a-e358-4826-bb81-5c090556e140\\\"},\\\"StatusCode\\\":200}\"}}, {\"timestamp\": 1596328486.152, \"type\": \"TaskStateExited\", \"id\": 17, \"previousEventId\": 16, \"stateExitedEventDetails\": {\"name\": \"Query Training Results\", \"output\": \"{\\\"ExecutedVersion\\\":\\\"$LATEST\\\",\\\"Payload\\\":{\\\"statusCode\\\":200,\\\"trainingMetrics\\\":[{\\\"MetricName\\\":\\\"train:loss\\\",\\\"Value\\\":0.39608898758888245,\\\"Timestamp\\\":1596328.467},{\\\"MetricName\\\":\\\"test:loss\\\",\\\"Value\\\":0.1678999960422516,\\\"Timestamp\\\":1596328.47},{\\\"MetricName\\\":\\\"test:accuracy\\\",\\\"Value\\\":95.0,\\\"Timestamp\\\":1596328.47}]},\\\"SdkHttpMetadata\\\":{\\\"AllHttpHeaders\\\":{\\\"X-Amz-Executed-Version\\\":[\\\"$LATEST\\\"],\\\"x-amzn-Remapped-Content-Length\\\":[\\\"0\\\"],\\\"Connection\\\":[\\\"keep-alive\\\"],\\\"x-amzn-RequestId\\\":[\\\"dc26133a-e358-4826-bb81-5c090556e140\\\"],\\\"Content-Length\\\":[\\\"282\\\"],\\\"Date\\\":[\\\"Sun, 02 Aug 2020 00:34:46 GMT\\\"],\\\"X-Amzn-Trace-Id\\\":[\\\"root=1-5f260a25-1e00ff566750ce8638146038;sampled=0\\\"],\\\"Content-Type\\\":[\\\"application/json\\\"]},\\\"HttpHeaders\\\":{\\\"Connection\\\":\\\"keep-alive\\\",\\\"Content-Length\\\":\\\"282\\\",\\\"Content-Type\\\":\\\"application/json\\\",\\\"Date\\\":\\\"Sun, 02 Aug 2020 00:34:46 GMT\\\",\\\"X-Amz-Executed-Version\\\":\\\"$LATEST\\\",\\\"x-amzn-Remapped-Content-Length\\\":\\\"0\\\",\\\"x-amzn-RequestId\\\":\\\"dc26133a-e358-4826-bb81-5c090556e140\\\",\\\"X-Amzn-Trace-Id\\\":\\\"root=1-5f260a25-1e00ff566750ce8638146038;sampled=0\\\"},\\\"HttpStatusCode\\\":200},\\\"SdkResponseMetadata\\\":{\\\"RequestId\\\":\\\"dc26133a-e358-4826-bb81-5c090556e140\\\"},\\\"StatusCode\\\":200}\"}}, {\"timestamp\": 1596328486.161, \"type\": \"ChoiceStateEntered\", \"id\": 18, \"previousEventId\": 17, \"stateEnteredEventDetails\": {\"name\": \"Accuracy > 50%\", \"input\": \"{\\\"ExecutedVersion\\\":\\\"$LATEST\\\",\\\"Payload\\\":{\\\"statusCode\\\":200,\\\"trainingMetrics\\\":[{\\\"MetricName\\\":\\\"train:loss\\\",\\\"Value\\\":0.39608898758888245,\\\"Timestamp\\\":1596328.467},{\\\"MetricName\\\":\\\"test:loss\\\",\\\"Value\\\":0.1678999960422516,\\\"Timestamp\\\":1596328.47},{\\\"MetricName\\\":\\\"test:accuracy\\\",\\\"Value\\\":95.0,\\\"Timestamp\\\":1596328.47}]},\\\"SdkHttpMetadata\\\":{\\\"AllHttpHeaders\\\":{\\\"X-Amz-Executed-Version\\\":[\\\"$LATEST\\\"],\\\"x-amzn-Remapped-Content-Length\\\":[\\\"0\\\"],\\\"Connection\\\":[\\\"keep-alive\\\"],\\\"x-amzn-RequestId\\\":[\\\"dc26133a-e358-4826-bb81-5c090556e140\\\"],\\\"Content-Length\\\":[\\\"282\\\"],\\\"Date\\\":[\\\"Sun, 02 Aug 2020 00:34:46 GMT\\\"],\\\"X-Amzn-Trace-Id\\\":[\\\"root=1-5f260a25-1e00ff566750ce8638146038;sampled=0\\\"],\\\"Content-Type\\\":[\\\"application/json\\\"]},\\\"HttpHeaders\\\":{\\\"Connection\\\":\\\"keep-alive\\\",\\\"Content-Length\\\":\\\"282\\\",\\\"Content-Type\\\":\\\"application/json\\\",\\\"Date\\\":\\\"Sun, 02 Aug 2020 00:34:46 GMT\\\",\\\"X-Amz-Executed-Version\\\":\\\"$LATEST\\\",\\\"x-amzn-Remapped-Content-Length\\\":\\\"0\\\",\\\"x-amzn-RequestId\\\":\\\"dc26133a-e358-4826-bb81-5c090556e140\\\",\\\"X-Amzn-Trace-Id\\\":\\\"root=1-5f260a25-1e00ff566750ce8638146038;sampled=0\\\"},\\\"HttpStatusCode\\\":200},\\\"SdkResponseMetadata\\\":{\\\"RequestId\\\":\\\"dc26133a-e358-4826-bb81-5c090556e140\\\"},\\\"StatusCode\\\":200}\"}}, {\"timestamp\": 1596328486.161, \"type\": \"ChoiceStateExited\", \"id\": 19, \"previousEventId\": 18, \"stateExitedEventDetails\": {\"name\": \"Accuracy > 50%\", \"output\": \"{\\\"ExecutedVersion\\\":\\\"$LATEST\\\",\\\"Payload\\\":{\\\"statusCode\\\":200,\\\"trainingMetrics\\\":[{\\\"MetricName\\\":\\\"train:loss\\\",\\\"Value\\\":0.39608898758888245,\\\"Timestamp\\\":1596328.467},{\\\"MetricName\\\":\\\"test:loss\\\",\\\"Value\\\":0.1678999960422516,\\\"Timestamp\\\":1596328.47},{\\\"MetricName\\\":\\\"test:accuracy\\\",\\\"Value\\\":95.0,\\\"Timestamp\\\":1596328.47}]},\\\"SdkHttpMetadata\\\":{\\\"AllHttpHeaders\\\":{\\\"X-Amz-Executed-Version\\\":[\\\"$LATEST\\\"],\\\"x-amzn-Remapped-Content-Length\\\":[\\\"0\\\"],\\\"Connection\\\":[\\\"keep-alive\\\"],\\\"x-amzn-RequestId\\\":[\\\"dc26133a-e358-4826-bb81-5c090556e140\\\"],\\\"Content-Length\\\":[\\\"282\\\"],\\\"Date\\\":[\\\"Sun, 02 Aug 2020 00:34:46 GMT\\\"],\\\"X-Amzn-Trace-Id\\\":[\\\"root=1-5f260a25-1e00ff566750ce8638146038;sampled=0\\\"],\\\"Content-Type\\\":[\\\"application/json\\\"]},\\\"HttpHeaders\\\":{\\\"Connection\\\":\\\"keep-alive\\\",\\\"Content-Length\\\":\\\"282\\\",\\\"Content-Type\\\":\\\"application/json\\\",\\\"Date\\\":\\\"Sun, 02 Aug 2020 00:34:46 GMT\\\",\\\"X-Amz-Executed-Version\\\":\\\"$LATEST\\\",\\\"x-amzn-Remapped-Content-Length\\\":\\\"0\\\",\\\"x-amzn-RequestId\\\":\\\"dc26133a-e358-4826-bb81-5c090556e140\\\",\\\"X-Amzn-Trace-Id\\\":\\\"root=1-5f260a25-1e00ff566750ce8638146038;sampled=0\\\"},\\\"HttpStatusCode\\\":200},\\\"SdkResponseMetadata\\\":{\\\"RequestId\\\":\\\"dc26133a-e358-4826-bb81-5c090556e140\\\"},\\\"StatusCode\\\":200}\"}}, {\"timestamp\": 1596328486.261, \"type\": \"TaskStateEntered\", \"id\": 20, \"previousEventId\": 19, \"stateEnteredEventDetails\": {\"name\": \"Create Model Endpoint Config\", \"input\": \"{\\\"ExecutedVersion\\\":\\\"$LATEST\\\",\\\"Payload\\\":{\\\"statusCode\\\":200,\\\"trainingMetrics\\\":[{\\\"MetricName\\\":\\\"train:loss\\\",\\\"Value\\\":0.39608898758888245,\\\"Timestamp\\\":1596328.467},{\\\"MetricName\\\":\\\"test:loss\\\",\\\"Value\\\":0.1678999960422516,\\\"Timestamp\\\":1596328.47},{\\\"MetricName\\\":\\\"test:accuracy\\\",\\\"Value\\\":95.0,\\\"Timestamp\\\":1596328.47}]},\\\"SdkHttpMetadata\\\":{\\\"AllHttpHeaders\\\":{\\\"X-Amz-Executed-Version\\\":[\\\"$LATEST\\\"],\\\"x-amzn-Remapped-Content-Length\\\":[\\\"0\\\"],\\\"Connection\\\":[\\\"keep-alive\\\"],\\\"x-amzn-RequestId\\\":[\\\"dc26133a-e358-4826-bb81-5c090556e140\\\"],\\\"Content-Length\\\":[\\\"282\\\"],\\\"Date\\\":[\\\"Sun, 02 Aug 2020 00:34:46 GMT\\\"],\\\"X-Amzn-Trace-Id\\\":[\\\"root=1-5f260a25-1e00ff566750ce8638146038;sampled=0\\\"],\\\"Content-Type\\\":[\\\"application/json\\\"]},\\\"HttpHeaders\\\":{\\\"Connection\\\":\\\"keep-alive\\\",\\\"Content-Length\\\":\\\"282\\\",\\\"Content-Type\\\":\\\"application/json\\\",\\\"Date\\\":\\\"Sun, 02 Aug 2020 00:34:46 GMT\\\",\\\"X-Amz-Executed-Version\\\":\\\"$LATEST\\\",\\\"x-amzn-Remapped-Content-Length\\\":\\\"0\\\",\\\"x-amzn-RequestId\\\":\\\"dc26133a-e358-4826-bb81-5c090556e140\\\",\\\"X-Amzn-Trace-Id\\\":\\\"root=1-5f260a25-1e00ff566750ce8638146038;sampled=0\\\"},\\\"HttpStatusCode\\\":200},\\\"SdkResponseMetadata\\\":{\\\"RequestId\\\":\\\"dc26133a-e358-4826-bb81-5c090556e140\\\"},\\\"StatusCode\\\":200}\"}}, {\"timestamp\": 1596328486.261, \"type\": \"TaskScheduled\", \"id\": 21, \"previousEventId\": 20, \"taskScheduledEventDetails\": {\"resourceType\": \"sagemaker\", \"resource\": \"createEndpointConfig\", \"region\": \"us-east-1\", \"parameters\": \"{\\\"ProductionVariants\\\":[{\\\"InitialInstanceCount\\\":1,\\\"InstanceType\\\":\\\"ml.m4.xlarge\\\",\\\"VariantName\\\":\\\"pthVariant\\\",\\\"ModelName\\\":\\\"MNIST-a690a0cb540c4f29b6c34ecaf808df81\\\"}],\\\"DataCaptureConfig\\\":{\\\"EnableCapture\\\":true,\\\"InitialSamplingPercentage\\\":100,\\\"DestinationS3Uri\\\":\\\"s3://sagemaker-experiments-us-east-1-725879053979/mnist/endpoint_monitoring/\\\",\\\"CaptureOptions\\\":[{\\\"CaptureMode\\\":\\\"Input\\\"},{\\\"CaptureMode\\\":\\\"Output\\\"}],\\\"CaptureContentTypeHeader\\\":{\\\"CsvContentTypes\\\":[\\\"text/csv\\\"],\\\"JsonContentTypes\\\":[\\\"application/json\\\"]}},\\\"EndpointConfigName\\\":\\\"MNIST-a690a0cb540c4f29b6c34ecaf808df81\\\"}\"}}, {\"timestamp\": 1596328486.271, \"type\": \"TaskStarted\", \"id\": 22, \"previousEventId\": 21, \"taskStartedEventDetails\": {\"resourceType\": \"sagemaker\", \"resource\": \"createEndpointConfig\"}}, {\"timestamp\": 1596328486.357, \"type\": \"TaskSucceeded\", \"id\": 23, \"previousEventId\": 22, \"taskSucceededEventDetails\": {\"resourceType\": \"sagemaker\", \"resource\": \"createEndpointConfig\", \"output\": \"{\\\"EndpointConfigArn\\\":\\\"arn:aws:sagemaker:us-east-1:725879053979:endpoint-config/mnist-a690a0cb540c4f29b6c34ecaf808df81\\\",\\\"SdkHttpMetadata\\\":{\\\"AllHttpHeaders\\\":{\\\"x-amzn-RequestId\\\":[\\\"7d7eff40-649c-4add-86df-0cf589bf8cea\\\"],\\\"Content-Length\\\":[\\\"119\\\"],\\\"Date\\\":[\\\"Sun, 02 Aug 2020 00:34:46 GMT\\\"],\\\"Content-Type\\\":[\\\"application/x-amz-json-1.1\\\"]},\\\"HttpHeaders\\\":{\\\"Content-Length\\\":\\\"119\\\",\\\"Content-Type\\\":\\\"application/x-amz-json-1.1\\\",\\\"Date\\\":\\\"Sun, 02 Aug 2020 00:34:46 GMT\\\",\\\"x-amzn-RequestId\\\":\\\"7d7eff40-649c-4add-86df-0cf589bf8cea\\\"},\\\"HttpStatusCode\\\":200},\\\"SdkResponseMetadata\\\":{\\\"RequestId\\\":\\\"7d7eff40-649c-4add-86df-0cf589bf8cea\\\"}}\"}}, {\"timestamp\": 1596328486.357, \"type\": \"TaskStateExited\", \"id\": 24, \"previousEventId\": 23, \"stateExitedEventDetails\": {\"name\": \"Create Model Endpoint Config\", \"output\": \"{\\\"EndpointConfigArn\\\":\\\"arn:aws:sagemaker:us-east-1:725879053979:endpoint-config/mnist-a690a0cb540c4f29b6c34ecaf808df81\\\",\\\"SdkHttpMetadata\\\":{\\\"AllHttpHeaders\\\":{\\\"x-amzn-RequestId\\\":[\\\"7d7eff40-649c-4add-86df-0cf589bf8cea\\\"],\\\"Content-Length\\\":[\\\"119\\\"],\\\"Date\\\":[\\\"Sun, 02 Aug 2020 00:34:46 GMT\\\"],\\\"Content-Type\\\":[\\\"application/x-amz-json-1.1\\\"]},\\\"HttpHeaders\\\":{\\\"Content-Length\\\":\\\"119\\\",\\\"Content-Type\\\":\\\"application/x-amz-json-1.1\\\",\\\"Date\\\":\\\"Sun, 02 Aug 2020 00:34:46 GMT\\\",\\\"x-amzn-RequestId\\\":\\\"7d7eff40-649c-4add-86df-0cf589bf8cea\\\"},\\\"HttpStatusCode\\\":200},\\\"SdkResponseMetadata\\\":{\\\"RequestId\\\":\\\"7d7eff40-649c-4add-86df-0cf589bf8cea\\\"}}\"}}, {\"timestamp\": 1596328486.428, \"type\": \"TaskStateEntered\", \"id\": 25, \"previousEventId\": 24, \"stateEnteredEventDetails\": {\"name\": \"Update Model Endpoint\", \"input\": \"{\\\"EndpointConfigArn\\\":\\\"arn:aws:sagemaker:us-east-1:725879053979:endpoint-config/mnist-a690a0cb540c4f29b6c34ecaf808df81\\\",\\\"SdkHttpMetadata\\\":{\\\"AllHttpHeaders\\\":{\\\"x-amzn-RequestId\\\":[\\\"7d7eff40-649c-4add-86df-0cf589bf8cea\\\"],\\\"Content-Length\\\":[\\\"119\\\"],\\\"Date\\\":[\\\"Sun, 02 Aug 2020 00:34:46 GMT\\\"],\\\"Content-Type\\\":[\\\"application/x-amz-json-1.1\\\"]},\\\"HttpHeaders\\\":{\\\"Content-Length\\\":\\\"119\\\",\\\"Content-Type\\\":\\\"application/x-amz-json-1.1\\\",\\\"Date\\\":\\\"Sun, 02 Aug 2020 00:34:46 GMT\\\",\\\"x-amzn-RequestId\\\":\\\"7d7eff40-649c-4add-86df-0cf589bf8cea\\\"},\\\"HttpStatusCode\\\":200},\\\"SdkResponseMetadata\\\":{\\\"RequestId\\\":\\\"7d7eff40-649c-4add-86df-0cf589bf8cea\\\"}}\"}}, {\"timestamp\": 1596328486.428, \"type\": \"TaskScheduled\", \"id\": 26, \"previousEventId\": 25, \"taskScheduledEventDetails\": {\"resourceType\": \"sagemaker\", \"resource\": \"createEndpoint\", \"region\": \"us-east-1\", \"parameters\": \"{\\\"EndpointName\\\":\\\"PyTorchPipeline\\\",\\\"EndpointConfigName\\\":\\\"MNIST-a690a0cb540c4f29b6c34ecaf808df81\\\"}\"}}, {\"timestamp\": 1596328486.437, \"type\": \"TaskStarted\", \"id\": 27, \"previousEventId\": 26, \"taskStartedEventDetails\": {\"resourceType\": \"sagemaker\", \"resource\": \"createEndpoint\"}}, {\"timestamp\": 1596328486.633, \"type\": \"TaskSucceeded\", \"id\": 28, \"previousEventId\": 27, \"taskSucceededEventDetails\": {\"resourceType\": \"sagemaker\", \"resource\": \"createEndpoint\", \"output\": \"{\\\"EndpointArn\\\":\\\"arn:aws:sagemaker:us-east-1:725879053979:endpoint/pytorchpipeline\\\",\\\"SdkHttpMetadata\\\":{\\\"AllHttpHeaders\\\":{\\\"x-amzn-RequestId\\\":[\\\"a0a0dddf-c9a6-41d7-aafc-1dda28d5afbe\\\"],\\\"Content-Length\\\":[\\\"83\\\"],\\\"Date\\\":[\\\"Sun, 02 Aug 2020 00:34:46 GMT\\\"],\\\"Content-Type\\\":[\\\"application/x-amz-json-1.1\\\"]},\\\"HttpHeaders\\\":{\\\"Content-Length\\\":\\\"83\\\",\\\"Content-Type\\\":\\\"application/x-amz-json-1.1\\\",\\\"Date\\\":\\\"Sun, 02 Aug 2020 00:34:46 GMT\\\",\\\"x-amzn-RequestId\\\":\\\"a0a0dddf-c9a6-41d7-aafc-1dda28d5afbe\\\"},\\\"HttpStatusCode\\\":200},\\\"SdkResponseMetadata\\\":{\\\"RequestId\\\":\\\"a0a0dddf-c9a6-41d7-aafc-1dda28d5afbe\\\"}}\"}}, {\"timestamp\": 1596328486.633, \"type\": \"TaskStateExited\", \"id\": 29, \"previousEventId\": 28, \"stateExitedEventDetails\": {\"name\": \"Update Model Endpoint\", \"output\": \"{\\\"EndpointArn\\\":\\\"arn:aws:sagemaker:us-east-1:725879053979:endpoint/pytorchpipeline\\\",\\\"SdkHttpMetadata\\\":{\\\"AllHttpHeaders\\\":{\\\"x-amzn-RequestId\\\":[\\\"a0a0dddf-c9a6-41d7-aafc-1dda28d5afbe\\\"],\\\"Content-Length\\\":[\\\"83\\\"],\\\"Date\\\":[\\\"Sun, 02 Aug 2020 00:34:46 GMT\\\"],\\\"Content-Type\\\":[\\\"application/x-amz-json-1.1\\\"]},\\\"HttpHeaders\\\":{\\\"Content-Length\\\":\\\"83\\\",\\\"Content-Type\\\":\\\"application/x-amz-json-1.1\\\",\\\"Date\\\":\\\"Sun, 02 Aug 2020 00:34:46 GMT\\\",\\\"x-amzn-RequestId\\\":\\\"a0a0dddf-c9a6-41d7-aafc-1dda28d5afbe\\\"},\\\"HttpStatusCode\\\":200},\\\"SdkResponseMetadata\\\":{\\\"RequestId\\\":\\\"a0a0dddf-c9a6-41d7-aafc-1dda28d5afbe\\\"}}\"}}, {\"timestamp\": 1596328486.633, \"type\": \"ExecutionSucceeded\", \"id\": 30, \"previousEventId\": 29, \"executionSucceededEventDetails\": {\"output\": \"{\\\"EndpointArn\\\":\\\"arn:aws:sagemaker:us-east-1:725879053979:endpoint/pytorchpipeline\\\",\\\"SdkHttpMetadata\\\":{\\\"AllHttpHeaders\\\":{\\\"x-amzn-RequestId\\\":[\\\"a0a0dddf-c9a6-41d7-aafc-1dda28d5afbe\\\"],\\\"Content-Length\\\":[\\\"83\\\"],\\\"Date\\\":[\\\"Sun, 02 Aug 2020 00:34:46 GMT\\\"],\\\"Content-Type\\\":[\\\"application/x-amz-json-1.1\\\"]},\\\"HttpHeaders\\\":{\\\"Content-Length\\\":\\\"83\\\",\\\"Content-Type\\\":\\\"application/x-amz-json-1.1\\\",\\\"Date\\\":\\\"Sun, 02 Aug 2020 00:34:46 GMT\\\",\\\"x-amzn-RequestId\\\":\\\"a0a0dddf-c9a6-41d7-aafc-1dda28d5afbe\\\"},\\\"HttpStatusCode\\\":200},\\\"SdkResponseMetadata\\\":{\\\"RequestId\\\":\\\"a0a0dddf-c9a6-41d7-aafc-1dda28d5afbe\\\"}}\"}}] };\n",
       "\n",
       "    var graph = new sfn.StateMachineExecutionGraph(definition, events, elementId, options);\n",
       "    graph.render();\n",
       "});\n",
       "\n",
       "</script>\n"
      ],
      "text/plain": [
       "<IPython.core.display.HTML object>"
      ]
     },
     "metadata": {},
     "output_type": "display_data"
    }
   ],
   "source": [
    "status = execution.describe().get('status')\n",
    "while status == 'RUNNING' and wait:\n",
    "    display.clear_output(wait=True)\n",
    "    display.display(execution.render_progress(portrait=True))\n",
    "    status = execution.describe().get('status')\n",
    "    time.sleep(20)"
   ]
  },
  {
   "cell_type": "code",
   "execution_count": 50,
   "metadata": {},
   "outputs": [
    {
     "data": {
      "text/html": [
       "\n",
       "<link rel=\"stylesheet\" type=\"text/css\" href=\"https://do0of8uwbahzz.cloudfront.net/graph.css\">\n",
       "<div id=\"graph-642\" class=\"workflowgraph\">\n",
       "    \n",
       "    <style>\n",
       "        .graph-legend ul {\n",
       "            list-style-type: none;\n",
       "            padding: 10px;\n",
       "            padding-left: 0;\n",
       "            margin: 0;\n",
       "            position: absolute;\n",
       "            top: 0;\n",
       "            background: transparent;\n",
       "        }\n",
       "\n",
       "        .graph-legend li {\n",
       "            margin-left: 10px;\n",
       "            display: inline-block;\n",
       "        }\n",
       "\n",
       "        .graph-legend li > div {\n",
       "            width: 10px;\n",
       "            height: 10px;\n",
       "            display: inline-block;\n",
       "        }\n",
       "\n",
       "        .graph-legend .success { background-color: #2BD62E }\n",
       "        .graph-legend .failed { background-color: #DE322F }\n",
       "        .graph-legend .cancelled { background-color: #DDDDDD }\n",
       "        .graph-legend .in-progress { background-color: #53C9ED }\n",
       "        .graph-legend .caught-error { background-color: #FFA500 }\n",
       "    </style>\n",
       "    <div class=\"graph-legend\">\n",
       "        <ul>\n",
       "            <li>\n",
       "                <div class=\"success\"></div>\n",
       "                <span>Success</span>\n",
       "            </li>\n",
       "            <li>\n",
       "                <div class=\"failed\"></div>\n",
       "                <span>Failed</span>\n",
       "            </li>\n",
       "            <li>\n",
       "                <div class=\"cancelled\"></div>\n",
       "                <span>Cancelled</span>\n",
       "            </li>\n",
       "            <li>\n",
       "                <div class=\"in-progress\"></div>\n",
       "                <span>In Progress</span>\n",
       "            </li>\n",
       "            <li>\n",
       "                <div class=\"caught-error\"></div>\n",
       "                <span>Caught Error</span>\n",
       "            </li>\n",
       "        </ul>\n",
       "    </div>\n",
       "\n",
       "    <svg></svg>\n",
       "    <a href=\"https://console.aws.amazon.com/states/home?region=us-east-1#/executions/details/arn:aws:states:us-east-1:725879053979:execution:Demo-PyTorch-Pipeline-a690a0cb540c4f29b6c34ecaf808df81:d8652435-0e51-4156-9eef-9ef1f9d56032\" target=\"_blank\"> Inspect in AWS Step Functions </a>\n",
       "</div>\n",
       "\n",
       "<script type=\"text/javascript\">\n",
       "\n",
       "require.config({\n",
       "    paths: {\n",
       "        sfn: \"https://do0of8uwbahzz.cloudfront.net/sfn\",\n",
       "    }\n",
       "});\n",
       "\n",
       "require(['sfn'], function(sfn) {\n",
       "    var element = document.getElementById('graph-642')\n",
       "\n",
       "    var options = {\n",
       "        width: parseFloat(getComputedStyle(element, null).width.replace(\"px\", \"\")),\n",
       "        height: 1000,\n",
       "        layout: 'TB',\n",
       "        resizeHeight: true\n",
       "    };\n",
       "\n",
       "    var definition = {\"StartAt\": \"Model Training\", \"States\": {\"Model Training\": {\"Resource\": \"arn:aws:states:::sagemaker:createTrainingJob.sync\", \"Parameters\": {\"AlgorithmSpecification\": {\"TrainingImage\": \"520713654638.dkr.ecr.us-east-1.amazonaws.com/sagemaker-pytorch:1.1.0-cpu-py3\", \"TrainingInputMode\": \"File\", \"MetricDefinitions\": [{\"Name\": \"train:loss\", \"Regex\": \"\\\\[Train Loss (.*?)\\\\]\"}, {\"Name\": \"test:loss\", \"Regex\": \"\\\\[Test Average loss (.*?)\\\\]\"}, {\"Name\": \"test:accuracy\", \"Regex\": \"\\\\[Test Accuracy (.*?)\\\\]\"}]}, \"OutputDataConfig\": {\"S3OutputPath\": \"s3://ml-pipeline-725879053979\"}, \"StoppingCondition\": {\"MaxRuntimeInSeconds\": 86400}, \"ResourceConfig\": {\"InstanceCount\": 1, \"InstanceType\": \"ml.c4.xlarge\", \"VolumeSizeInGB\": 30}, \"RoleArn\": \"arn:aws:iam::725879053979:role/MLOps\", \"InputDataConfig\": [{\"DataSource\": {\"S3DataSource\": {\"S3DataType\": \"S3Prefix\", \"S3Uri\": \"s3://sagemaker-experiments-us-east-1-725879053979/mnist\", \"S3DataDistributionType\": \"FullyReplicated\"}}, \"ChannelName\": \"training\"}], \"HyperParameters\": {\"epochs\": \"1\", \"backend\": \"gloo\", \"hidden_channels\": \"10\", \"dropout\": \"0.2\", \"kernel_size\": \"5\", \"optimizer\": \"sgd\", \"sagemaker_container_log_level\": \"20\", \"sagemaker_enable_cloudwatch_metrics\": \"False\", \"sagemaker_program\": \"mnist.py\", \"sagemaker_region\": \"us-east-1\", \"sagemaker_submit_directory\": \"s3://sagemaker-us-east-1-725879053979/framework-script-local-1596156081/source/sourcedir.tar.gz\"}, \"TrainingJobName.$\": \"$$.Execution.Input['TrainingJobName']\", \"DebugHookConfig\": {\"S3OutputPath\": \"s3://ml-pipeline-725879053979\"}}, \"Type\": \"Task\", \"Next\": \"Save Model\"}, \"Save Model\": {\"ResultPath\": \"$.ModelStepResults\", \"Parameters\": {\"ModelName.$\": \"$$.Execution.Input['ModelName']\", \"PrimaryContainer\": {\"Image\": \"520713654638.dkr.ecr.us-east-1.amazonaws.com/sagemaker-pytorch:1.1.0-cpu-py3\", \"Environment\": {\"SAGEMAKER_PROGRAM\": \"inference.py\", \"SAGEMAKER_SUBMIT_DIRECTORY\": \"s3://sagemaker-us-east-1-725879053979/sagemaker-pytorch-2020-07-31-00-51-18-859/sourcedir.tar.gz\", \"SAGEMAKER_ENABLE_CLOUDWATCH_METRICS\": \"false\", \"SAGEMAKER_CONTAINER_LOG_LEVEL\": \"20\", \"SAGEMAKER_REGION\": \"us-east-1\"}, \"ModelDataUrl.$\": \"$['ModelArtifacts']['S3ModelArtifacts']\"}, \"ExecutionRoleArn\": \"arn:aws:iam::725879053979:role/MLOps\"}, \"Resource\": \"arn:aws:states:::sagemaker:createModel\", \"Type\": \"Task\", \"Next\": \"Query Training Results\"}, \"Query Training Results\": {\"Parameters\": {\"FunctionName.$\": \"$$.Execution.Input['LambdaFunctionName']\", \"Payload\": {\"TrainingJobName.$\": \"$.TrainingJobName\"}}, \"Resource\": \"arn:aws:states:::lambda:invoke\", \"Type\": \"Task\", \"Next\": \"Accuracy > 50%\"}, \"Accuracy > 50%\": {\"Type\": \"Choice\", \"Choices\": [{\"Variable\": \"$['Payload']['trainingMetrics'][0]['Value']\", \"NumericLessThan\": 0.5, \"Next\": \"Create Model Endpoint Config\"}], \"Default\": \"Model Accuracy Too Low\"}, \"Model Accuracy Too Low\": {\"Comment\": \"Validation accuracy lower than threshold\", \"Type\": \"Fail\"}, \"Create Model Endpoint Config\": {\"Resource\": \"arn:aws:states:::sagemaker:createEndpointConfig\", \"Parameters\": {\"EndpointConfigName.$\": \"$$.Execution.Input['ModelName']\", \"ProductionVariants\": [{\"InitialInstanceCount\": 1, \"InstanceType\": \"ml.m4.xlarge\", \"ModelName.$\": \"$$.Execution.Input['ModelName']\", \"VariantName\": \"pthVariant\"}], \"DataCaptureConfig\": {\"EnableCapture\": true, \"InitialSamplingPercentage\": 100, \"DestinationS3Uri\": \"s3://sagemaker-experiments-us-east-1-725879053979/mnist/endpoint_monitoring/\", \"CaptureOptions\": [{\"CaptureMode\": \"Input\"}, {\"CaptureMode\": \"Output\"}], \"CaptureContentTypeHeader\": {\"CsvContentTypes\": [\"text/csv\"], \"JsonContentTypes\": [\"application/json\"]}}}, \"Type\": \"Task\", \"Next\": \"Update Model Endpoint\"}, \"Update Model Endpoint\": {\"Resource\": \"arn:aws:states:::sagemaker:createEndpoint\", \"Parameters\": {\"EndpointConfigName.$\": \"$$.Execution.Input['ModelName']\", \"EndpointName.$\": \"$$.Execution.Input['EndpointName']\"}, \"Type\": \"Task\", \"End\": true}}};\n",
       "    var elementId = '#graph-642';\n",
       "    var events = { 'events': [{\"timestamp\": 1596328251.382, \"type\": \"ExecutionStarted\", \"id\": 1, \"previousEventId\": 0, \"executionStartedEventDetails\": {\"input\": \"{\\n    \\\"TrainingJobName\\\": \\\"pth-pipeline-a690a0cb540c4f29b6c34ecaf808df81\\\",\\n    \\\"ModelName\\\": \\\"MNIST-a690a0cb540c4f29b6c34ecaf808df81\\\",\\n    \\\"EndpointName\\\": \\\"PyTorchPipeline\\\",\\n    \\\"LambdaFunctionName\\\": \\\"query-training-status-a690a0cb540c4f29b6c34ecaf808df81\\\",\\n    \\\"UpdateEndpoint\\\": false\\n}\", \"roleArn\": \"arn:aws:iam::725879053979:role/StepFunctions_DSSDK-725879053979\"}}, {\"timestamp\": 1596328251.415, \"type\": \"TaskStateEntered\", \"id\": 2, \"previousEventId\": 0, \"stateEnteredEventDetails\": {\"name\": \"Model Training\", \"input\": \"{\\n    \\\"TrainingJobName\\\": \\\"pth-pipeline-a690a0cb540c4f29b6c34ecaf808df81\\\",\\n    \\\"ModelName\\\": \\\"MNIST-a690a0cb540c4f29b6c34ecaf808df81\\\",\\n    \\\"EndpointName\\\": \\\"PyTorchPipeline\\\",\\n    \\\"LambdaFunctionName\\\": \\\"query-training-status-a690a0cb540c4f29b6c34ecaf808df81\\\",\\n    \\\"UpdateEndpoint\\\": false\\n}\"}}, {\"timestamp\": 1596328251.415, \"type\": \"TaskScheduled\", \"id\": 3, \"previousEventId\": 2, \"taskScheduledEventDetails\": {\"resourceType\": \"sagemaker\", \"resource\": \"createTrainingJob.sync\", \"region\": \"us-east-1\", \"parameters\": \"{\\\"AlgorithmSpecification\\\":{\\\"TrainingImage\\\":\\\"520713654638.dkr.ecr.us-east-1.amazonaws.com/sagemaker-pytorch:1.1.0-cpu-py3\\\",\\\"TrainingInputMode\\\":\\\"File\\\",\\\"MetricDefinitions\\\":[{\\\"Name\\\":\\\"train:loss\\\",\\\"Regex\\\":\\\"\\\\\\\\[Train Loss (.*?)\\\\\\\\]\\\"},{\\\"Name\\\":\\\"test:loss\\\",\\\"Regex\\\":\\\"\\\\\\\\[Test Average loss (.*?)\\\\\\\\]\\\"},{\\\"Name\\\":\\\"test:accuracy\\\",\\\"Regex\\\":\\\"\\\\\\\\[Test Accuracy (.*?)\\\\\\\\]\\\"}]},\\\"OutputDataConfig\\\":{\\\"S3OutputPath\\\":\\\"s3://ml-pipeline-725879053979\\\"},\\\"StoppingCondition\\\":{\\\"MaxRuntimeInSeconds\\\":86400},\\\"ResourceConfig\\\":{\\\"InstanceCount\\\":1,\\\"InstanceType\\\":\\\"ml.c4.xlarge\\\",\\\"VolumeSizeInGB\\\":30},\\\"RoleArn\\\":\\\"arn:aws:iam::725879053979:role/MLOps\\\",\\\"InputDataConfig\\\":[{\\\"DataSource\\\":{\\\"S3DataSource\\\":{\\\"S3DataType\\\":\\\"S3Prefix\\\",\\\"S3Uri\\\":\\\"s3://sagemaker-experiments-us-east-1-725879053979/mnist\\\",\\\"S3DataDistributionType\\\":\\\"FullyReplicated\\\"}},\\\"ChannelName\\\":\\\"training\\\"}],\\\"HyperParameters\\\":{\\\"epochs\\\":\\\"1\\\",\\\"backend\\\":\\\"gloo\\\",\\\"hidden_channels\\\":\\\"10\\\",\\\"dropout\\\":\\\"0.2\\\",\\\"kernel_size\\\":\\\"5\\\",\\\"optimizer\\\":\\\"sgd\\\",\\\"sagemaker_container_log_level\\\":\\\"20\\\",\\\"sagemaker_enable_cloudwatch_metrics\\\":\\\"False\\\",\\\"sagemaker_program\\\":\\\"mnist.py\\\",\\\"sagemaker_region\\\":\\\"us-east-1\\\",\\\"sagemaker_submit_directory\\\":\\\"s3://sagemaker-us-east-1-725879053979/framework-script-local-1596156081/source/sourcedir.tar.gz\\\"},\\\"DebugHookConfig\\\":{\\\"S3OutputPath\\\":\\\"s3://ml-pipeline-725879053979\\\"},\\\"TrainingJobName\\\":\\\"pth-pipeline-a690a0cb540c4f29b6c34ecaf808df81\\\",\\\"Tags\\\":[{\\\"Key\\\":\\\"MANAGED_BY_AWS\\\",\\\"Value\\\":\\\"STARTED_BY_STEP_FUNCTIONS\\\"}]}\"}}, {\"timestamp\": 1596328251.475, \"type\": \"TaskStarted\", \"id\": 4, \"previousEventId\": 3, \"taskStartedEventDetails\": {\"resourceType\": \"sagemaker\", \"resource\": \"createTrainingJob.sync\"}}, {\"timestamp\": 1596328251.665, \"type\": \"TaskSubmitted\", \"id\": 5, \"previousEventId\": 4, \"taskSubmittedEventDetails\": {\"resourceType\": \"sagemaker\", \"resource\": \"createTrainingJob.sync\", \"output\": \"{\\\"SdkHttpMetadata\\\":{\\\"AllHttpHeaders\\\":{\\\"x-amzn-RequestId\\\":[\\\"61b30c8d-9e5d-4f22-a37f-b695095531f0\\\"],\\\"Content-Length\\\":[\\\"120\\\"],\\\"Date\\\":[\\\"Sun, 02 Aug 2020 00:30:51 GMT\\\"],\\\"Content-Type\\\":[\\\"application/x-amz-json-1.1\\\"]},\\\"HttpHeaders\\\":{\\\"Content-Length\\\":\\\"120\\\",\\\"Content-Type\\\":\\\"application/x-amz-json-1.1\\\",\\\"Date\\\":\\\"Sun, 02 Aug 2020 00:30:51 GMT\\\",\\\"x-amzn-RequestId\\\":\\\"61b30c8d-9e5d-4f22-a37f-b695095531f0\\\"},\\\"HttpStatusCode\\\":200},\\\"SdkResponseMetadata\\\":{\\\"RequestId\\\":\\\"61b30c8d-9e5d-4f22-a37f-b695095531f0\\\"},\\\"TrainingJobArn\\\":\\\"arn:aws:sagemaker:us-east-1:725879053979:training-job/pth-pipeline-a690a0cb540c4f29b6c34ecaf808df81\\\"}\"}}, {\"timestamp\": 1596328485.017, \"type\": \"TaskSucceeded\", \"id\": 6, \"previousEventId\": 5, \"taskSucceededEventDetails\": {\"resourceType\": \"sagemaker\", \"resource\": \"createTrainingJob.sync\", \"output\": \"{\\\"TrainingJobName\\\":\\\"pth-pipeline-a690a0cb540c4f29b6c34ecaf808df81\\\",\\\"TrainingJobArn\\\":\\\"arn:aws:sagemaker:us-east-1:725879053979:training-job/pth-pipeline-a690a0cb540c4f29b6c34ecaf808df81\\\",\\\"ModelArtifacts\\\":{\\\"S3ModelArtifacts\\\":\\\"s3://ml-pipeline-725879053979/pth-pipeline-a690a0cb540c4f29b6c34ecaf808df81/output/model.tar.gz\\\"},\\\"TrainingJobStatus\\\":\\\"Completed\\\",\\\"SecondaryStatus\\\":\\\"Completed\\\",\\\"HyperParameters\\\":{\\\"sagemaker_container_log_level\\\":\\\"20\\\",\\\"sagemaker_program\\\":\\\"mnist.py\\\",\\\"optimizer\\\":\\\"sgd\\\",\\\"sagemaker_enable_cloudwatch_metrics\\\":\\\"False\\\",\\\"hidden_channels\\\":\\\"10\\\",\\\"dropout\\\":\\\"0.2\\\",\\\"sagemaker_region\\\":\\\"us-east-1\\\",\\\"backend\\\":\\\"gloo\\\",\\\"epochs\\\":\\\"1\\\",\\\"sagemaker_submit_directory\\\":\\\"s3://sagemaker-us-east-1-725879053979/framework-script-local-1596156081/source/sourcedir.tar.gz\\\",\\\"kernel_size\\\":\\\"5\\\"},\\\"AlgorithmSpecification\\\":{\\\"TrainingImage\\\":\\\"520713654638.dkr.ecr.us-east-1.amazonaws.com/sagemaker-pytorch:1.1.0-cpu-py3\\\",\\\"TrainingInputMode\\\":\\\"FILE\\\"},\\\"RoleArn\\\":\\\"arn:aws:iam::725879053979:role/MLOps\\\",\\\"InputDataConfig\\\":[{\\\"ChannelName\\\":\\\"training\\\",\\\"DataSource\\\":{\\\"S3DataSource\\\":{\\\"S3DataType\\\":\\\"S3_PREFIX\\\",\\\"S3Uri\\\":\\\"s3://sagemaker-experiments-us-east-1-725879053979/mnist\\\",\\\"S3DataDistributionType\\\":\\\"FULLY_REPLICATED\\\"}},\\\"CompressionType\\\":\\\"NONE\\\",\\\"RecordWrapperType\\\":\\\"NONE\\\"}],\\\"OutputDataConfig\\\":{\\\"S3OutputPath\\\":\\\"s3://ml-pipeline-725879053979\\\"},\\\"ResourceConfig\\\":{\\\"InstanceType\\\":\\\"ml.c4.xlarge\\\",\\\"InstanceCount\\\":1.0,\\\"VolumeSizeInGB\\\":30.0},\\\"StoppingCondition\\\":{\\\"MaxRuntimeInSeconds\\\":86400.0},\\\"CreationTime\\\":1.59632825164E12,\\\"TrainingStartTime\\\":1.59632839292E12,\\\"TrainingEndTime\\\":1.596328481989E12,\\\"LastModifiedTime\\\":1.596328481989E12,\\\"SecondaryStatusTransitions\\\":[{\\\"Status\\\":\\\"Starting\\\",\\\"StartTime\\\":1.59632825164E12,\\\"EndTime\\\":1.59632839292E12,\\\"StatusMessage\\\":\\\"Preparing the instances for training\\\"},{\\\"Status\\\":\\\"Downloading\\\",\\\"StartTime\\\":1.59632839292E12,\\\"EndTime\\\":1.596328418699E12,\\\"StatusMessage\\\":\\\"Downloading input data\\\"},{\\\"Status\\\":\\\"Training\\\",\\\"StartTime\\\":1.596328418699E12,\\\"EndTime\\\":1.596328474323E12,\\\"StatusMessage\\\":\\\"Training image download completed. Training in progress.\\\"},{\\\"Status\\\":\\\"Uploading\\\",\\\"StartTime\\\":1.596328474323E12,\\\"EndTime\\\":1.596328481989E12,\\\"StatusMessage\\\":\\\"Uploading generated training model\\\"},{\\\"Status\\\":\\\"Completed\\\",\\\"StartTime\\\":1.596328481989E12,\\\"EndTime\\\":1.596328481989E12,\\\"StatusMessage\\\":\\\"Training job completed\\\"}],\\\"DebugHookConfig\\\":{\\\"S3OutputPath\\\":\\\"s3://ml-pipeline-725879053979\\\"},\\\"Tags\\\":{\\\"AWS_STEP_FUNCTIONS_EXECUTION_ARN\\\":\\\"arn:aws:states:us-east-1:725879053979:execution:Demo-PyTorch-Pipeline-a690a0cb540c4f29b6c34ecaf808df81:d8652435-0e51-4156-9eef-9ef1f9d56032\\\",\\\"MANAGED_BY_AWS\\\":\\\"STARTED_BY_STEP_FUNCTIONS\\\"}}\"}}, {\"timestamp\": 1596328485.017, \"type\": \"TaskStateExited\", \"id\": 7, \"previousEventId\": 6, \"stateExitedEventDetails\": {\"name\": \"Model Training\", \"output\": \"{\\\"TrainingJobName\\\":\\\"pth-pipeline-a690a0cb540c4f29b6c34ecaf808df81\\\",\\\"TrainingJobArn\\\":\\\"arn:aws:sagemaker:us-east-1:725879053979:training-job/pth-pipeline-a690a0cb540c4f29b6c34ecaf808df81\\\",\\\"ModelArtifacts\\\":{\\\"S3ModelArtifacts\\\":\\\"s3://ml-pipeline-725879053979/pth-pipeline-a690a0cb540c4f29b6c34ecaf808df81/output/model.tar.gz\\\"},\\\"TrainingJobStatus\\\":\\\"Completed\\\",\\\"SecondaryStatus\\\":\\\"Completed\\\",\\\"HyperParameters\\\":{\\\"sagemaker_container_log_level\\\":\\\"20\\\",\\\"sagemaker_program\\\":\\\"mnist.py\\\",\\\"optimizer\\\":\\\"sgd\\\",\\\"sagemaker_enable_cloudwatch_metrics\\\":\\\"False\\\",\\\"hidden_channels\\\":\\\"10\\\",\\\"dropout\\\":\\\"0.2\\\",\\\"sagemaker_region\\\":\\\"us-east-1\\\",\\\"backend\\\":\\\"gloo\\\",\\\"epochs\\\":\\\"1\\\",\\\"sagemaker_submit_directory\\\":\\\"s3://sagemaker-us-east-1-725879053979/framework-script-local-1596156081/source/sourcedir.tar.gz\\\",\\\"kernel_size\\\":\\\"5\\\"},\\\"AlgorithmSpecification\\\":{\\\"TrainingImage\\\":\\\"520713654638.dkr.ecr.us-east-1.amazonaws.com/sagemaker-pytorch:1.1.0-cpu-py3\\\",\\\"TrainingInputMode\\\":\\\"FILE\\\"},\\\"RoleArn\\\":\\\"arn:aws:iam::725879053979:role/MLOps\\\",\\\"InputDataConfig\\\":[{\\\"ChannelName\\\":\\\"training\\\",\\\"DataSource\\\":{\\\"S3DataSource\\\":{\\\"S3DataType\\\":\\\"S3_PREFIX\\\",\\\"S3Uri\\\":\\\"s3://sagemaker-experiments-us-east-1-725879053979/mnist\\\",\\\"S3DataDistributionType\\\":\\\"FULLY_REPLICATED\\\"}},\\\"CompressionType\\\":\\\"NONE\\\",\\\"RecordWrapperType\\\":\\\"NONE\\\"}],\\\"OutputDataConfig\\\":{\\\"S3OutputPath\\\":\\\"s3://ml-pipeline-725879053979\\\"},\\\"ResourceConfig\\\":{\\\"InstanceType\\\":\\\"ml.c4.xlarge\\\",\\\"InstanceCount\\\":1.0,\\\"VolumeSizeInGB\\\":30.0},\\\"StoppingCondition\\\":{\\\"MaxRuntimeInSeconds\\\":86400.0},\\\"CreationTime\\\":1.59632825164E12,\\\"TrainingStartTime\\\":1.59632839292E12,\\\"TrainingEndTime\\\":1.596328481989E12,\\\"LastModifiedTime\\\":1.596328481989E12,\\\"SecondaryStatusTransitions\\\":[{\\\"Status\\\":\\\"Starting\\\",\\\"StartTime\\\":1.59632825164E12,\\\"EndTime\\\":1.59632839292E12,\\\"StatusMessage\\\":\\\"Preparing the instances for training\\\"},{\\\"Status\\\":\\\"Downloading\\\",\\\"StartTime\\\":1.59632839292E12,\\\"EndTime\\\":1.596328418699E12,\\\"StatusMessage\\\":\\\"Downloading input data\\\"},{\\\"Status\\\":\\\"Training\\\",\\\"StartTime\\\":1.596328418699E12,\\\"EndTime\\\":1.596328474323E12,\\\"StatusMessage\\\":\\\"Training image download completed. Training in progress.\\\"},{\\\"Status\\\":\\\"Uploading\\\",\\\"StartTime\\\":1.596328474323E12,\\\"EndTime\\\":1.596328481989E12,\\\"StatusMessage\\\":\\\"Uploading generated training model\\\"},{\\\"Status\\\":\\\"Completed\\\",\\\"StartTime\\\":1.596328481989E12,\\\"EndTime\\\":1.596328481989E12,\\\"StatusMessage\\\":\\\"Training job completed\\\"}],\\\"DebugHookConfig\\\":{\\\"S3OutputPath\\\":\\\"s3://ml-pipeline-725879053979\\\"},\\\"Tags\\\":{\\\"AWS_STEP_FUNCTIONS_EXECUTION_ARN\\\":\\\"arn:aws:states:us-east-1:725879053979:execution:Demo-PyTorch-Pipeline-a690a0cb540c4f29b6c34ecaf808df81:d8652435-0e51-4156-9eef-9ef1f9d56032\\\",\\\"MANAGED_BY_AWS\\\":\\\"STARTED_BY_STEP_FUNCTIONS\\\"}}\"}}, {\"timestamp\": 1596328485.032, \"type\": \"TaskStateEntered\", \"id\": 8, \"previousEventId\": 7, \"stateEnteredEventDetails\": {\"name\": \"Save Model\", \"input\": \"{\\\"TrainingJobName\\\":\\\"pth-pipeline-a690a0cb540c4f29b6c34ecaf808df81\\\",\\\"TrainingJobArn\\\":\\\"arn:aws:sagemaker:us-east-1:725879053979:training-job/pth-pipeline-a690a0cb540c4f29b6c34ecaf808df81\\\",\\\"ModelArtifacts\\\":{\\\"S3ModelArtifacts\\\":\\\"s3://ml-pipeline-725879053979/pth-pipeline-a690a0cb540c4f29b6c34ecaf808df81/output/model.tar.gz\\\"},\\\"TrainingJobStatus\\\":\\\"Completed\\\",\\\"SecondaryStatus\\\":\\\"Completed\\\",\\\"HyperParameters\\\":{\\\"sagemaker_container_log_level\\\":\\\"20\\\",\\\"sagemaker_program\\\":\\\"mnist.py\\\",\\\"optimizer\\\":\\\"sgd\\\",\\\"sagemaker_enable_cloudwatch_metrics\\\":\\\"False\\\",\\\"hidden_channels\\\":\\\"10\\\",\\\"dropout\\\":\\\"0.2\\\",\\\"sagemaker_region\\\":\\\"us-east-1\\\",\\\"backend\\\":\\\"gloo\\\",\\\"epochs\\\":\\\"1\\\",\\\"sagemaker_submit_directory\\\":\\\"s3://sagemaker-us-east-1-725879053979/framework-script-local-1596156081/source/sourcedir.tar.gz\\\",\\\"kernel_size\\\":\\\"5\\\"},\\\"AlgorithmSpecification\\\":{\\\"TrainingImage\\\":\\\"520713654638.dkr.ecr.us-east-1.amazonaws.com/sagemaker-pytorch:1.1.0-cpu-py3\\\",\\\"TrainingInputMode\\\":\\\"FILE\\\"},\\\"RoleArn\\\":\\\"arn:aws:iam::725879053979:role/MLOps\\\",\\\"InputDataConfig\\\":[{\\\"ChannelName\\\":\\\"training\\\",\\\"DataSource\\\":{\\\"S3DataSource\\\":{\\\"S3DataType\\\":\\\"S3_PREFIX\\\",\\\"S3Uri\\\":\\\"s3://sagemaker-experiments-us-east-1-725879053979/mnist\\\",\\\"S3DataDistributionType\\\":\\\"FULLY_REPLICATED\\\"}},\\\"CompressionType\\\":\\\"NONE\\\",\\\"RecordWrapperType\\\":\\\"NONE\\\"}],\\\"OutputDataConfig\\\":{\\\"S3OutputPath\\\":\\\"s3://ml-pipeline-725879053979\\\"},\\\"ResourceConfig\\\":{\\\"InstanceType\\\":\\\"ml.c4.xlarge\\\",\\\"InstanceCount\\\":1.0,\\\"VolumeSizeInGB\\\":30.0},\\\"StoppingCondition\\\":{\\\"MaxRuntimeInSeconds\\\":86400.0},\\\"CreationTime\\\":1.59632825164E12,\\\"TrainingStartTime\\\":1.59632839292E12,\\\"TrainingEndTime\\\":1.596328481989E12,\\\"LastModifiedTime\\\":1.596328481989E12,\\\"SecondaryStatusTransitions\\\":[{\\\"Status\\\":\\\"Starting\\\",\\\"StartTime\\\":1.59632825164E12,\\\"EndTime\\\":1.59632839292E12,\\\"StatusMessage\\\":\\\"Preparing the instances for training\\\"},{\\\"Status\\\":\\\"Downloading\\\",\\\"StartTime\\\":1.59632839292E12,\\\"EndTime\\\":1.596328418699E12,\\\"StatusMessage\\\":\\\"Downloading input data\\\"},{\\\"Status\\\":\\\"Training\\\",\\\"StartTime\\\":1.596328418699E12,\\\"EndTime\\\":1.596328474323E12,\\\"StatusMessage\\\":\\\"Training image download completed. Training in progress.\\\"},{\\\"Status\\\":\\\"Uploading\\\",\\\"StartTime\\\":1.596328474323E12,\\\"EndTime\\\":1.596328481989E12,\\\"StatusMessage\\\":\\\"Uploading generated training model\\\"},{\\\"Status\\\":\\\"Completed\\\",\\\"StartTime\\\":1.596328481989E12,\\\"EndTime\\\":1.596328481989E12,\\\"StatusMessage\\\":\\\"Training job completed\\\"}],\\\"DebugHookConfig\\\":{\\\"S3OutputPath\\\":\\\"s3://ml-pipeline-725879053979\\\"},\\\"Tags\\\":{\\\"AWS_STEP_FUNCTIONS_EXECUTION_ARN\\\":\\\"arn:aws:states:us-east-1:725879053979:execution:Demo-PyTorch-Pipeline-a690a0cb540c4f29b6c34ecaf808df81:d8652435-0e51-4156-9eef-9ef1f9d56032\\\",\\\"MANAGED_BY_AWS\\\":\\\"STARTED_BY_STEP_FUNCTIONS\\\"}}\"}}, {\"timestamp\": 1596328485.032, \"type\": \"TaskScheduled\", \"id\": 9, \"previousEventId\": 8, \"taskScheduledEventDetails\": {\"resourceType\": \"sagemaker\", \"resource\": \"createModel\", \"region\": \"us-east-1\", \"parameters\": \"{\\\"PrimaryContainer\\\":{\\\"Image\\\":\\\"520713654638.dkr.ecr.us-east-1.amazonaws.com/sagemaker-pytorch:1.1.0-cpu-py3\\\",\\\"Environment\\\":{\\\"SAGEMAKER_PROGRAM\\\":\\\"inference.py\\\",\\\"SAGEMAKER_SUBMIT_DIRECTORY\\\":\\\"s3://sagemaker-us-east-1-725879053979/sagemaker-pytorch-2020-07-31-00-51-18-859/sourcedir.tar.gz\\\",\\\"SAGEMAKER_ENABLE_CLOUDWATCH_METRICS\\\":\\\"false\\\",\\\"SAGEMAKER_CONTAINER_LOG_LEVEL\\\":\\\"20\\\",\\\"SAGEMAKER_REGION\\\":\\\"us-east-1\\\"},\\\"ModelDataUrl\\\":\\\"s3://ml-pipeline-725879053979/pth-pipeline-a690a0cb540c4f29b6c34ecaf808df81/output/model.tar.gz\\\"},\\\"ExecutionRoleArn\\\":\\\"arn:aws:iam::725879053979:role/MLOps\\\",\\\"ModelName\\\":\\\"MNIST-a690a0cb540c4f29b6c34ecaf808df81\\\"}\"}}, {\"timestamp\": 1596328485.046, \"type\": \"TaskStarted\", \"id\": 10, \"previousEventId\": 9, \"taskStartedEventDetails\": {\"resourceType\": \"sagemaker\", \"resource\": \"createModel\"}}, {\"timestamp\": 1596328485.342, \"type\": \"TaskSucceeded\", \"id\": 11, \"previousEventId\": 10, \"taskSucceededEventDetails\": {\"resourceType\": \"sagemaker\", \"resource\": \"createModel\", \"output\": \"{\\\"ModelArn\\\":\\\"arn:aws:sagemaker:us-east-1:725879053979:model/mnist-a690a0cb540c4f29b6c34ecaf808df81\\\",\\\"SdkHttpMetadata\\\":{\\\"AllHttpHeaders\\\":{\\\"x-amzn-RequestId\\\":[\\\"a5819cb0-8056-456b-8799-8131f7896486\\\"],\\\"Content-Length\\\":[\\\"100\\\"],\\\"Date\\\":[\\\"Sun, 02 Aug 2020 00:34:45 GMT\\\"],\\\"Content-Type\\\":[\\\"application/x-amz-json-1.1\\\"]},\\\"HttpHeaders\\\":{\\\"Content-Length\\\":\\\"100\\\",\\\"Content-Type\\\":\\\"application/x-amz-json-1.1\\\",\\\"Date\\\":\\\"Sun, 02 Aug 2020 00:34:45 GMT\\\",\\\"x-amzn-RequestId\\\":\\\"a5819cb0-8056-456b-8799-8131f7896486\\\"},\\\"HttpStatusCode\\\":200},\\\"SdkResponseMetadata\\\":{\\\"RequestId\\\":\\\"a5819cb0-8056-456b-8799-8131f7896486\\\"}}\"}}, {\"timestamp\": 1596328485.342, \"type\": \"TaskStateExited\", \"id\": 12, \"previousEventId\": 11, \"stateExitedEventDetails\": {\"name\": \"Save Model\", \"output\": \"{\\\"TrainingJobName\\\":\\\"pth-pipeline-a690a0cb540c4f29b6c34ecaf808df81\\\",\\\"TrainingJobArn\\\":\\\"arn:aws:sagemaker:us-east-1:725879053979:training-job/pth-pipeline-a690a0cb540c4f29b6c34ecaf808df81\\\",\\\"ModelArtifacts\\\":{\\\"S3ModelArtifacts\\\":\\\"s3://ml-pipeline-725879053979/pth-pipeline-a690a0cb540c4f29b6c34ecaf808df81/output/model.tar.gz\\\"},\\\"TrainingJobStatus\\\":\\\"Completed\\\",\\\"SecondaryStatus\\\":\\\"Completed\\\",\\\"HyperParameters\\\":{\\\"sagemaker_container_log_level\\\":\\\"20\\\",\\\"sagemaker_program\\\":\\\"mnist.py\\\",\\\"optimizer\\\":\\\"sgd\\\",\\\"sagemaker_enable_cloudwatch_metrics\\\":\\\"False\\\",\\\"hidden_channels\\\":\\\"10\\\",\\\"dropout\\\":\\\"0.2\\\",\\\"sagemaker_region\\\":\\\"us-east-1\\\",\\\"backend\\\":\\\"gloo\\\",\\\"epochs\\\":\\\"1\\\",\\\"sagemaker_submit_directory\\\":\\\"s3://sagemaker-us-east-1-725879053979/framework-script-local-1596156081/source/sourcedir.tar.gz\\\",\\\"kernel_size\\\":\\\"5\\\"},\\\"AlgorithmSpecification\\\":{\\\"TrainingImage\\\":\\\"520713654638.dkr.ecr.us-east-1.amazonaws.com/sagemaker-pytorch:1.1.0-cpu-py3\\\",\\\"TrainingInputMode\\\":\\\"FILE\\\"},\\\"RoleArn\\\":\\\"arn:aws:iam::725879053979:role/MLOps\\\",\\\"InputDataConfig\\\":[{\\\"ChannelName\\\":\\\"training\\\",\\\"DataSource\\\":{\\\"S3DataSource\\\":{\\\"S3DataType\\\":\\\"S3_PREFIX\\\",\\\"S3Uri\\\":\\\"s3://sagemaker-experiments-us-east-1-725879053979/mnist\\\",\\\"S3DataDistributionType\\\":\\\"FULLY_REPLICATED\\\"}},\\\"CompressionType\\\":\\\"NONE\\\",\\\"RecordWrapperType\\\":\\\"NONE\\\"}],\\\"OutputDataConfig\\\":{\\\"S3OutputPath\\\":\\\"s3://ml-pipeline-725879053979\\\"},\\\"ResourceConfig\\\":{\\\"InstanceType\\\":\\\"ml.c4.xlarge\\\",\\\"InstanceCount\\\":1.0,\\\"VolumeSizeInGB\\\":30.0},\\\"StoppingCondition\\\":{\\\"MaxRuntimeInSeconds\\\":86400.0},\\\"CreationTime\\\":1.59632825164E12,\\\"TrainingStartTime\\\":1.59632839292E12,\\\"TrainingEndTime\\\":1.596328481989E12,\\\"LastModifiedTime\\\":1.596328481989E12,\\\"SecondaryStatusTransitions\\\":[{\\\"Status\\\":\\\"Starting\\\",\\\"StartTime\\\":1.59632825164E12,\\\"EndTime\\\":1.59632839292E12,\\\"StatusMessage\\\":\\\"Preparing the instances for training\\\"},{\\\"Status\\\":\\\"Downloading\\\",\\\"StartTime\\\":1.59632839292E12,\\\"EndTime\\\":1.596328418699E12,\\\"StatusMessage\\\":\\\"Downloading input data\\\"},{\\\"Status\\\":\\\"Training\\\",\\\"StartTime\\\":1.596328418699E12,\\\"EndTime\\\":1.596328474323E12,\\\"StatusMessage\\\":\\\"Training image download completed. Training in progress.\\\"},{\\\"Status\\\":\\\"Uploading\\\",\\\"StartTime\\\":1.596328474323E12,\\\"EndTime\\\":1.596328481989E12,\\\"StatusMessage\\\":\\\"Uploading generated training model\\\"},{\\\"Status\\\":\\\"Completed\\\",\\\"StartTime\\\":1.596328481989E12,\\\"EndTime\\\":1.596328481989E12,\\\"StatusMessage\\\":\\\"Training job completed\\\"}],\\\"DebugHookConfig\\\":{\\\"S3OutputPath\\\":\\\"s3://ml-pipeline-725879053979\\\"},\\\"Tags\\\":{\\\"AWS_STEP_FUNCTIONS_EXECUTION_ARN\\\":\\\"arn:aws:states:us-east-1:725879053979:execution:Demo-PyTorch-Pipeline-a690a0cb540c4f29b6c34ecaf808df81:d8652435-0e51-4156-9eef-9ef1f9d56032\\\",\\\"MANAGED_BY_AWS\\\":\\\"STARTED_BY_STEP_FUNCTIONS\\\"},\\\"ModelStepResults\\\":{\\\"ModelArn\\\":\\\"arn:aws:sagemaker:us-east-1:725879053979:model/mnist-a690a0cb540c4f29b6c34ecaf808df81\\\",\\\"SdkHttpMetadata\\\":{\\\"AllHttpHeaders\\\":{\\\"x-amzn-RequestId\\\":[\\\"a5819cb0-8056-456b-8799-8131f7896486\\\"],\\\"Content-Length\\\":[\\\"100\\\"],\\\"Date\\\":[\\\"Sun, 02 Aug 2020 00:34:45 GMT\\\"],\\\"Content-Type\\\":[\\\"application/x-amz-json-1.1\\\"]},\\\"HttpHeaders\\\":{\\\"Content-Length\\\":\\\"100\\\",\\\"Content-Type\\\":\\\"application/x-amz-json-1.1\\\",\\\"Date\\\":\\\"Sun, 02 Aug 2020 00:34:45 GMT\\\",\\\"x-amzn-RequestId\\\":\\\"a5819cb0-8056-456b-8799-8131f7896486\\\"},\\\"HttpStatusCode\\\":200},\\\"SdkResponseMetadata\\\":{\\\"RequestId\\\":\\\"a5819cb0-8056-456b-8799-8131f7896486\\\"}}}\"}}, {\"timestamp\": 1596328485.349, \"type\": \"TaskStateEntered\", \"id\": 13, \"previousEventId\": 12, \"stateEnteredEventDetails\": {\"name\": \"Query Training Results\", \"input\": \"{\\\"TrainingJobName\\\":\\\"pth-pipeline-a690a0cb540c4f29b6c34ecaf808df81\\\",\\\"TrainingJobArn\\\":\\\"arn:aws:sagemaker:us-east-1:725879053979:training-job/pth-pipeline-a690a0cb540c4f29b6c34ecaf808df81\\\",\\\"ModelArtifacts\\\":{\\\"S3ModelArtifacts\\\":\\\"s3://ml-pipeline-725879053979/pth-pipeline-a690a0cb540c4f29b6c34ecaf808df81/output/model.tar.gz\\\"},\\\"TrainingJobStatus\\\":\\\"Completed\\\",\\\"SecondaryStatus\\\":\\\"Completed\\\",\\\"HyperParameters\\\":{\\\"sagemaker_container_log_level\\\":\\\"20\\\",\\\"sagemaker_program\\\":\\\"mnist.py\\\",\\\"optimizer\\\":\\\"sgd\\\",\\\"sagemaker_enable_cloudwatch_metrics\\\":\\\"False\\\",\\\"hidden_channels\\\":\\\"10\\\",\\\"dropout\\\":\\\"0.2\\\",\\\"sagemaker_region\\\":\\\"us-east-1\\\",\\\"backend\\\":\\\"gloo\\\",\\\"epochs\\\":\\\"1\\\",\\\"sagemaker_submit_directory\\\":\\\"s3://sagemaker-us-east-1-725879053979/framework-script-local-1596156081/source/sourcedir.tar.gz\\\",\\\"kernel_size\\\":\\\"5\\\"},\\\"AlgorithmSpecification\\\":{\\\"TrainingImage\\\":\\\"520713654638.dkr.ecr.us-east-1.amazonaws.com/sagemaker-pytorch:1.1.0-cpu-py3\\\",\\\"TrainingInputMode\\\":\\\"FILE\\\"},\\\"RoleArn\\\":\\\"arn:aws:iam::725879053979:role/MLOps\\\",\\\"InputDataConfig\\\":[{\\\"ChannelName\\\":\\\"training\\\",\\\"DataSource\\\":{\\\"S3DataSource\\\":{\\\"S3DataType\\\":\\\"S3_PREFIX\\\",\\\"S3Uri\\\":\\\"s3://sagemaker-experiments-us-east-1-725879053979/mnist\\\",\\\"S3DataDistributionType\\\":\\\"FULLY_REPLICATED\\\"}},\\\"CompressionType\\\":\\\"NONE\\\",\\\"RecordWrapperType\\\":\\\"NONE\\\"}],\\\"OutputDataConfig\\\":{\\\"S3OutputPath\\\":\\\"s3://ml-pipeline-725879053979\\\"},\\\"ResourceConfig\\\":{\\\"InstanceType\\\":\\\"ml.c4.xlarge\\\",\\\"InstanceCount\\\":1.0,\\\"VolumeSizeInGB\\\":30.0},\\\"StoppingCondition\\\":{\\\"MaxRuntimeInSeconds\\\":86400.0},\\\"CreationTime\\\":1.59632825164E12,\\\"TrainingStartTime\\\":1.59632839292E12,\\\"TrainingEndTime\\\":1.596328481989E12,\\\"LastModifiedTime\\\":1.596328481989E12,\\\"SecondaryStatusTransitions\\\":[{\\\"Status\\\":\\\"Starting\\\",\\\"StartTime\\\":1.59632825164E12,\\\"EndTime\\\":1.59632839292E12,\\\"StatusMessage\\\":\\\"Preparing the instances for training\\\"},{\\\"Status\\\":\\\"Downloading\\\",\\\"StartTime\\\":1.59632839292E12,\\\"EndTime\\\":1.596328418699E12,\\\"StatusMessage\\\":\\\"Downloading input data\\\"},{\\\"Status\\\":\\\"Training\\\",\\\"StartTime\\\":1.596328418699E12,\\\"EndTime\\\":1.596328474323E12,\\\"StatusMessage\\\":\\\"Training image download completed. Training in progress.\\\"},{\\\"Status\\\":\\\"Uploading\\\",\\\"StartTime\\\":1.596328474323E12,\\\"EndTime\\\":1.596328481989E12,\\\"StatusMessage\\\":\\\"Uploading generated training model\\\"},{\\\"Status\\\":\\\"Completed\\\",\\\"StartTime\\\":1.596328481989E12,\\\"EndTime\\\":1.596328481989E12,\\\"StatusMessage\\\":\\\"Training job completed\\\"}],\\\"DebugHookConfig\\\":{\\\"S3OutputPath\\\":\\\"s3://ml-pipeline-725879053979\\\"},\\\"Tags\\\":{\\\"AWS_STEP_FUNCTIONS_EXECUTION_ARN\\\":\\\"arn:aws:states:us-east-1:725879053979:execution:Demo-PyTorch-Pipeline-a690a0cb540c4f29b6c34ecaf808df81:d8652435-0e51-4156-9eef-9ef1f9d56032\\\",\\\"MANAGED_BY_AWS\\\":\\\"STARTED_BY_STEP_FUNCTIONS\\\"},\\\"ModelStepResults\\\":{\\\"ModelArn\\\":\\\"arn:aws:sagemaker:us-east-1:725879053979:model/mnist-a690a0cb540c4f29b6c34ecaf808df81\\\",\\\"SdkHttpMetadata\\\":{\\\"AllHttpHeaders\\\":{\\\"x-amzn-RequestId\\\":[\\\"a5819cb0-8056-456b-8799-8131f7896486\\\"],\\\"Content-Length\\\":[\\\"100\\\"],\\\"Date\\\":[\\\"Sun, 02 Aug 2020 00:34:45 GMT\\\"],\\\"Content-Type\\\":[\\\"application/x-amz-json-1.1\\\"]},\\\"HttpHeaders\\\":{\\\"Content-Length\\\":\\\"100\\\",\\\"Content-Type\\\":\\\"application/x-amz-json-1.1\\\",\\\"Date\\\":\\\"Sun, 02 Aug 2020 00:34:45 GMT\\\",\\\"x-amzn-RequestId\\\":\\\"a5819cb0-8056-456b-8799-8131f7896486\\\"},\\\"HttpStatusCode\\\":200},\\\"SdkResponseMetadata\\\":{\\\"RequestId\\\":\\\"a5819cb0-8056-456b-8799-8131f7896486\\\"}}}\"}}, {\"timestamp\": 1596328485.349, \"type\": \"TaskScheduled\", \"id\": 14, \"previousEventId\": 13, \"taskScheduledEventDetails\": {\"resourceType\": \"lambda\", \"resource\": \"invoke\", \"region\": \"us-east-1\", \"parameters\": \"{\\\"Payload\\\":{\\\"TrainingJobName\\\":\\\"pth-pipeline-a690a0cb540c4f29b6c34ecaf808df81\\\"},\\\"FunctionName\\\":\\\"query-training-status-a690a0cb540c4f29b6c34ecaf808df81\\\"}\"}}, {\"timestamp\": 1596328485.363, \"type\": \"TaskStarted\", \"id\": 15, \"previousEventId\": 14, \"taskStartedEventDetails\": {\"resourceType\": \"lambda\", \"resource\": \"invoke\"}}, {\"timestamp\": 1596328486.152, \"type\": \"TaskSucceeded\", \"id\": 16, \"previousEventId\": 15, \"taskSucceededEventDetails\": {\"resourceType\": \"lambda\", \"resource\": \"invoke\", \"output\": \"{\\\"ExecutedVersion\\\":\\\"$LATEST\\\",\\\"Payload\\\":{\\\"statusCode\\\":200,\\\"trainingMetrics\\\":[{\\\"MetricName\\\":\\\"train:loss\\\",\\\"Value\\\":0.39608898758888245,\\\"Timestamp\\\":1596328.467},{\\\"MetricName\\\":\\\"test:loss\\\",\\\"Value\\\":0.1678999960422516,\\\"Timestamp\\\":1596328.47},{\\\"MetricName\\\":\\\"test:accuracy\\\",\\\"Value\\\":95.0,\\\"Timestamp\\\":1596328.47}]},\\\"SdkHttpMetadata\\\":{\\\"AllHttpHeaders\\\":{\\\"X-Amz-Executed-Version\\\":[\\\"$LATEST\\\"],\\\"x-amzn-Remapped-Content-Length\\\":[\\\"0\\\"],\\\"Connection\\\":[\\\"keep-alive\\\"],\\\"x-amzn-RequestId\\\":[\\\"dc26133a-e358-4826-bb81-5c090556e140\\\"],\\\"Content-Length\\\":[\\\"282\\\"],\\\"Date\\\":[\\\"Sun, 02 Aug 2020 00:34:46 GMT\\\"],\\\"X-Amzn-Trace-Id\\\":[\\\"root=1-5f260a25-1e00ff566750ce8638146038;sampled=0\\\"],\\\"Content-Type\\\":[\\\"application/json\\\"]},\\\"HttpHeaders\\\":{\\\"Connection\\\":\\\"keep-alive\\\",\\\"Content-Length\\\":\\\"282\\\",\\\"Content-Type\\\":\\\"application/json\\\",\\\"Date\\\":\\\"Sun, 02 Aug 2020 00:34:46 GMT\\\",\\\"X-Amz-Executed-Version\\\":\\\"$LATEST\\\",\\\"x-amzn-Remapped-Content-Length\\\":\\\"0\\\",\\\"x-amzn-RequestId\\\":\\\"dc26133a-e358-4826-bb81-5c090556e140\\\",\\\"X-Amzn-Trace-Id\\\":\\\"root=1-5f260a25-1e00ff566750ce8638146038;sampled=0\\\"},\\\"HttpStatusCode\\\":200},\\\"SdkResponseMetadata\\\":{\\\"RequestId\\\":\\\"dc26133a-e358-4826-bb81-5c090556e140\\\"},\\\"StatusCode\\\":200}\"}}, {\"timestamp\": 1596328486.152, \"type\": \"TaskStateExited\", \"id\": 17, \"previousEventId\": 16, \"stateExitedEventDetails\": {\"name\": \"Query Training Results\", \"output\": \"{\\\"ExecutedVersion\\\":\\\"$LATEST\\\",\\\"Payload\\\":{\\\"statusCode\\\":200,\\\"trainingMetrics\\\":[{\\\"MetricName\\\":\\\"train:loss\\\",\\\"Value\\\":0.39608898758888245,\\\"Timestamp\\\":1596328.467},{\\\"MetricName\\\":\\\"test:loss\\\",\\\"Value\\\":0.1678999960422516,\\\"Timestamp\\\":1596328.47},{\\\"MetricName\\\":\\\"test:accuracy\\\",\\\"Value\\\":95.0,\\\"Timestamp\\\":1596328.47}]},\\\"SdkHttpMetadata\\\":{\\\"AllHttpHeaders\\\":{\\\"X-Amz-Executed-Version\\\":[\\\"$LATEST\\\"],\\\"x-amzn-Remapped-Content-Length\\\":[\\\"0\\\"],\\\"Connection\\\":[\\\"keep-alive\\\"],\\\"x-amzn-RequestId\\\":[\\\"dc26133a-e358-4826-bb81-5c090556e140\\\"],\\\"Content-Length\\\":[\\\"282\\\"],\\\"Date\\\":[\\\"Sun, 02 Aug 2020 00:34:46 GMT\\\"],\\\"X-Amzn-Trace-Id\\\":[\\\"root=1-5f260a25-1e00ff566750ce8638146038;sampled=0\\\"],\\\"Content-Type\\\":[\\\"application/json\\\"]},\\\"HttpHeaders\\\":{\\\"Connection\\\":\\\"keep-alive\\\",\\\"Content-Length\\\":\\\"282\\\",\\\"Content-Type\\\":\\\"application/json\\\",\\\"Date\\\":\\\"Sun, 02 Aug 2020 00:34:46 GMT\\\",\\\"X-Amz-Executed-Version\\\":\\\"$LATEST\\\",\\\"x-amzn-Remapped-Content-Length\\\":\\\"0\\\",\\\"x-amzn-RequestId\\\":\\\"dc26133a-e358-4826-bb81-5c090556e140\\\",\\\"X-Amzn-Trace-Id\\\":\\\"root=1-5f260a25-1e00ff566750ce8638146038;sampled=0\\\"},\\\"HttpStatusCode\\\":200},\\\"SdkResponseMetadata\\\":{\\\"RequestId\\\":\\\"dc26133a-e358-4826-bb81-5c090556e140\\\"},\\\"StatusCode\\\":200}\"}}, {\"timestamp\": 1596328486.161, \"type\": \"ChoiceStateEntered\", \"id\": 18, \"previousEventId\": 17, \"stateEnteredEventDetails\": {\"name\": \"Accuracy > 50%\", \"input\": \"{\\\"ExecutedVersion\\\":\\\"$LATEST\\\",\\\"Payload\\\":{\\\"statusCode\\\":200,\\\"trainingMetrics\\\":[{\\\"MetricName\\\":\\\"train:loss\\\",\\\"Value\\\":0.39608898758888245,\\\"Timestamp\\\":1596328.467},{\\\"MetricName\\\":\\\"test:loss\\\",\\\"Value\\\":0.1678999960422516,\\\"Timestamp\\\":1596328.47},{\\\"MetricName\\\":\\\"test:accuracy\\\",\\\"Value\\\":95.0,\\\"Timestamp\\\":1596328.47}]},\\\"SdkHttpMetadata\\\":{\\\"AllHttpHeaders\\\":{\\\"X-Amz-Executed-Version\\\":[\\\"$LATEST\\\"],\\\"x-amzn-Remapped-Content-Length\\\":[\\\"0\\\"],\\\"Connection\\\":[\\\"keep-alive\\\"],\\\"x-amzn-RequestId\\\":[\\\"dc26133a-e358-4826-bb81-5c090556e140\\\"],\\\"Content-Length\\\":[\\\"282\\\"],\\\"Date\\\":[\\\"Sun, 02 Aug 2020 00:34:46 GMT\\\"],\\\"X-Amzn-Trace-Id\\\":[\\\"root=1-5f260a25-1e00ff566750ce8638146038;sampled=0\\\"],\\\"Content-Type\\\":[\\\"application/json\\\"]},\\\"HttpHeaders\\\":{\\\"Connection\\\":\\\"keep-alive\\\",\\\"Content-Length\\\":\\\"282\\\",\\\"Content-Type\\\":\\\"application/json\\\",\\\"Date\\\":\\\"Sun, 02 Aug 2020 00:34:46 GMT\\\",\\\"X-Amz-Executed-Version\\\":\\\"$LATEST\\\",\\\"x-amzn-Remapped-Content-Length\\\":\\\"0\\\",\\\"x-amzn-RequestId\\\":\\\"dc26133a-e358-4826-bb81-5c090556e140\\\",\\\"X-Amzn-Trace-Id\\\":\\\"root=1-5f260a25-1e00ff566750ce8638146038;sampled=0\\\"},\\\"HttpStatusCode\\\":200},\\\"SdkResponseMetadata\\\":{\\\"RequestId\\\":\\\"dc26133a-e358-4826-bb81-5c090556e140\\\"},\\\"StatusCode\\\":200}\"}}, {\"timestamp\": 1596328486.161, \"type\": \"ChoiceStateExited\", \"id\": 19, \"previousEventId\": 18, \"stateExitedEventDetails\": {\"name\": \"Accuracy > 50%\", \"output\": \"{\\\"ExecutedVersion\\\":\\\"$LATEST\\\",\\\"Payload\\\":{\\\"statusCode\\\":200,\\\"trainingMetrics\\\":[{\\\"MetricName\\\":\\\"train:loss\\\",\\\"Value\\\":0.39608898758888245,\\\"Timestamp\\\":1596328.467},{\\\"MetricName\\\":\\\"test:loss\\\",\\\"Value\\\":0.1678999960422516,\\\"Timestamp\\\":1596328.47},{\\\"MetricName\\\":\\\"test:accuracy\\\",\\\"Value\\\":95.0,\\\"Timestamp\\\":1596328.47}]},\\\"SdkHttpMetadata\\\":{\\\"AllHttpHeaders\\\":{\\\"X-Amz-Executed-Version\\\":[\\\"$LATEST\\\"],\\\"x-amzn-Remapped-Content-Length\\\":[\\\"0\\\"],\\\"Connection\\\":[\\\"keep-alive\\\"],\\\"x-amzn-RequestId\\\":[\\\"dc26133a-e358-4826-bb81-5c090556e140\\\"],\\\"Content-Length\\\":[\\\"282\\\"],\\\"Date\\\":[\\\"Sun, 02 Aug 2020 00:34:46 GMT\\\"],\\\"X-Amzn-Trace-Id\\\":[\\\"root=1-5f260a25-1e00ff566750ce8638146038;sampled=0\\\"],\\\"Content-Type\\\":[\\\"application/json\\\"]},\\\"HttpHeaders\\\":{\\\"Connection\\\":\\\"keep-alive\\\",\\\"Content-Length\\\":\\\"282\\\",\\\"Content-Type\\\":\\\"application/json\\\",\\\"Date\\\":\\\"Sun, 02 Aug 2020 00:34:46 GMT\\\",\\\"X-Amz-Executed-Version\\\":\\\"$LATEST\\\",\\\"x-amzn-Remapped-Content-Length\\\":\\\"0\\\",\\\"x-amzn-RequestId\\\":\\\"dc26133a-e358-4826-bb81-5c090556e140\\\",\\\"X-Amzn-Trace-Id\\\":\\\"root=1-5f260a25-1e00ff566750ce8638146038;sampled=0\\\"},\\\"HttpStatusCode\\\":200},\\\"SdkResponseMetadata\\\":{\\\"RequestId\\\":\\\"dc26133a-e358-4826-bb81-5c090556e140\\\"},\\\"StatusCode\\\":200}\"}}, {\"timestamp\": 1596328486.261, \"type\": \"TaskStateEntered\", \"id\": 20, \"previousEventId\": 19, \"stateEnteredEventDetails\": {\"name\": \"Create Model Endpoint Config\", \"input\": \"{\\\"ExecutedVersion\\\":\\\"$LATEST\\\",\\\"Payload\\\":{\\\"statusCode\\\":200,\\\"trainingMetrics\\\":[{\\\"MetricName\\\":\\\"train:loss\\\",\\\"Value\\\":0.39608898758888245,\\\"Timestamp\\\":1596328.467},{\\\"MetricName\\\":\\\"test:loss\\\",\\\"Value\\\":0.1678999960422516,\\\"Timestamp\\\":1596328.47},{\\\"MetricName\\\":\\\"test:accuracy\\\",\\\"Value\\\":95.0,\\\"Timestamp\\\":1596328.47}]},\\\"SdkHttpMetadata\\\":{\\\"AllHttpHeaders\\\":{\\\"X-Amz-Executed-Version\\\":[\\\"$LATEST\\\"],\\\"x-amzn-Remapped-Content-Length\\\":[\\\"0\\\"],\\\"Connection\\\":[\\\"keep-alive\\\"],\\\"x-amzn-RequestId\\\":[\\\"dc26133a-e358-4826-bb81-5c090556e140\\\"],\\\"Content-Length\\\":[\\\"282\\\"],\\\"Date\\\":[\\\"Sun, 02 Aug 2020 00:34:46 GMT\\\"],\\\"X-Amzn-Trace-Id\\\":[\\\"root=1-5f260a25-1e00ff566750ce8638146038;sampled=0\\\"],\\\"Content-Type\\\":[\\\"application/json\\\"]},\\\"HttpHeaders\\\":{\\\"Connection\\\":\\\"keep-alive\\\",\\\"Content-Length\\\":\\\"282\\\",\\\"Content-Type\\\":\\\"application/json\\\",\\\"Date\\\":\\\"Sun, 02 Aug 2020 00:34:46 GMT\\\",\\\"X-Amz-Executed-Version\\\":\\\"$LATEST\\\",\\\"x-amzn-Remapped-Content-Length\\\":\\\"0\\\",\\\"x-amzn-RequestId\\\":\\\"dc26133a-e358-4826-bb81-5c090556e140\\\",\\\"X-Amzn-Trace-Id\\\":\\\"root=1-5f260a25-1e00ff566750ce8638146038;sampled=0\\\"},\\\"HttpStatusCode\\\":200},\\\"SdkResponseMetadata\\\":{\\\"RequestId\\\":\\\"dc26133a-e358-4826-bb81-5c090556e140\\\"},\\\"StatusCode\\\":200}\"}}, {\"timestamp\": 1596328486.261, \"type\": \"TaskScheduled\", \"id\": 21, \"previousEventId\": 20, \"taskScheduledEventDetails\": {\"resourceType\": \"sagemaker\", \"resource\": \"createEndpointConfig\", \"region\": \"us-east-1\", \"parameters\": \"{\\\"ProductionVariants\\\":[{\\\"InitialInstanceCount\\\":1,\\\"InstanceType\\\":\\\"ml.m4.xlarge\\\",\\\"VariantName\\\":\\\"pthVariant\\\",\\\"ModelName\\\":\\\"MNIST-a690a0cb540c4f29b6c34ecaf808df81\\\"}],\\\"DataCaptureConfig\\\":{\\\"EnableCapture\\\":true,\\\"InitialSamplingPercentage\\\":100,\\\"DestinationS3Uri\\\":\\\"s3://sagemaker-experiments-us-east-1-725879053979/mnist/endpoint_monitoring/\\\",\\\"CaptureOptions\\\":[{\\\"CaptureMode\\\":\\\"Input\\\"},{\\\"CaptureMode\\\":\\\"Output\\\"}],\\\"CaptureContentTypeHeader\\\":{\\\"CsvContentTypes\\\":[\\\"text/csv\\\"],\\\"JsonContentTypes\\\":[\\\"application/json\\\"]}},\\\"EndpointConfigName\\\":\\\"MNIST-a690a0cb540c4f29b6c34ecaf808df81\\\"}\"}}, {\"timestamp\": 1596328486.271, \"type\": \"TaskStarted\", \"id\": 22, \"previousEventId\": 21, \"taskStartedEventDetails\": {\"resourceType\": \"sagemaker\", \"resource\": \"createEndpointConfig\"}}, {\"timestamp\": 1596328486.357, \"type\": \"TaskSucceeded\", \"id\": 23, \"previousEventId\": 22, \"taskSucceededEventDetails\": {\"resourceType\": \"sagemaker\", \"resource\": \"createEndpointConfig\", \"output\": \"{\\\"EndpointConfigArn\\\":\\\"arn:aws:sagemaker:us-east-1:725879053979:endpoint-config/mnist-a690a0cb540c4f29b6c34ecaf808df81\\\",\\\"SdkHttpMetadata\\\":{\\\"AllHttpHeaders\\\":{\\\"x-amzn-RequestId\\\":[\\\"7d7eff40-649c-4add-86df-0cf589bf8cea\\\"],\\\"Content-Length\\\":[\\\"119\\\"],\\\"Date\\\":[\\\"Sun, 02 Aug 2020 00:34:46 GMT\\\"],\\\"Content-Type\\\":[\\\"application/x-amz-json-1.1\\\"]},\\\"HttpHeaders\\\":{\\\"Content-Length\\\":\\\"119\\\",\\\"Content-Type\\\":\\\"application/x-amz-json-1.1\\\",\\\"Date\\\":\\\"Sun, 02 Aug 2020 00:34:46 GMT\\\",\\\"x-amzn-RequestId\\\":\\\"7d7eff40-649c-4add-86df-0cf589bf8cea\\\"},\\\"HttpStatusCode\\\":200},\\\"SdkResponseMetadata\\\":{\\\"RequestId\\\":\\\"7d7eff40-649c-4add-86df-0cf589bf8cea\\\"}}\"}}, {\"timestamp\": 1596328486.357, \"type\": \"TaskStateExited\", \"id\": 24, \"previousEventId\": 23, \"stateExitedEventDetails\": {\"name\": \"Create Model Endpoint Config\", \"output\": \"{\\\"EndpointConfigArn\\\":\\\"arn:aws:sagemaker:us-east-1:725879053979:endpoint-config/mnist-a690a0cb540c4f29b6c34ecaf808df81\\\",\\\"SdkHttpMetadata\\\":{\\\"AllHttpHeaders\\\":{\\\"x-amzn-RequestId\\\":[\\\"7d7eff40-649c-4add-86df-0cf589bf8cea\\\"],\\\"Content-Length\\\":[\\\"119\\\"],\\\"Date\\\":[\\\"Sun, 02 Aug 2020 00:34:46 GMT\\\"],\\\"Content-Type\\\":[\\\"application/x-amz-json-1.1\\\"]},\\\"HttpHeaders\\\":{\\\"Content-Length\\\":\\\"119\\\",\\\"Content-Type\\\":\\\"application/x-amz-json-1.1\\\",\\\"Date\\\":\\\"Sun, 02 Aug 2020 00:34:46 GMT\\\",\\\"x-amzn-RequestId\\\":\\\"7d7eff40-649c-4add-86df-0cf589bf8cea\\\"},\\\"HttpStatusCode\\\":200},\\\"SdkResponseMetadata\\\":{\\\"RequestId\\\":\\\"7d7eff40-649c-4add-86df-0cf589bf8cea\\\"}}\"}}, {\"timestamp\": 1596328486.428, \"type\": \"TaskStateEntered\", \"id\": 25, \"previousEventId\": 24, \"stateEnteredEventDetails\": {\"name\": \"Update Model Endpoint\", \"input\": \"{\\\"EndpointConfigArn\\\":\\\"arn:aws:sagemaker:us-east-1:725879053979:endpoint-config/mnist-a690a0cb540c4f29b6c34ecaf808df81\\\",\\\"SdkHttpMetadata\\\":{\\\"AllHttpHeaders\\\":{\\\"x-amzn-RequestId\\\":[\\\"7d7eff40-649c-4add-86df-0cf589bf8cea\\\"],\\\"Content-Length\\\":[\\\"119\\\"],\\\"Date\\\":[\\\"Sun, 02 Aug 2020 00:34:46 GMT\\\"],\\\"Content-Type\\\":[\\\"application/x-amz-json-1.1\\\"]},\\\"HttpHeaders\\\":{\\\"Content-Length\\\":\\\"119\\\",\\\"Content-Type\\\":\\\"application/x-amz-json-1.1\\\",\\\"Date\\\":\\\"Sun, 02 Aug 2020 00:34:46 GMT\\\",\\\"x-amzn-RequestId\\\":\\\"7d7eff40-649c-4add-86df-0cf589bf8cea\\\"},\\\"HttpStatusCode\\\":200},\\\"SdkResponseMetadata\\\":{\\\"RequestId\\\":\\\"7d7eff40-649c-4add-86df-0cf589bf8cea\\\"}}\"}}, {\"timestamp\": 1596328486.428, \"type\": \"TaskScheduled\", \"id\": 26, \"previousEventId\": 25, \"taskScheduledEventDetails\": {\"resourceType\": \"sagemaker\", \"resource\": \"createEndpoint\", \"region\": \"us-east-1\", \"parameters\": \"{\\\"EndpointName\\\":\\\"PyTorchPipeline\\\",\\\"EndpointConfigName\\\":\\\"MNIST-a690a0cb540c4f29b6c34ecaf808df81\\\"}\"}}, {\"timestamp\": 1596328486.437, \"type\": \"TaskStarted\", \"id\": 27, \"previousEventId\": 26, \"taskStartedEventDetails\": {\"resourceType\": \"sagemaker\", \"resource\": \"createEndpoint\"}}, {\"timestamp\": 1596328486.633, \"type\": \"TaskSucceeded\", \"id\": 28, \"previousEventId\": 27, \"taskSucceededEventDetails\": {\"resourceType\": \"sagemaker\", \"resource\": \"createEndpoint\", \"output\": \"{\\\"EndpointArn\\\":\\\"arn:aws:sagemaker:us-east-1:725879053979:endpoint/pytorchpipeline\\\",\\\"SdkHttpMetadata\\\":{\\\"AllHttpHeaders\\\":{\\\"x-amzn-RequestId\\\":[\\\"a0a0dddf-c9a6-41d7-aafc-1dda28d5afbe\\\"],\\\"Content-Length\\\":[\\\"83\\\"],\\\"Date\\\":[\\\"Sun, 02 Aug 2020 00:34:46 GMT\\\"],\\\"Content-Type\\\":[\\\"application/x-amz-json-1.1\\\"]},\\\"HttpHeaders\\\":{\\\"Content-Length\\\":\\\"83\\\",\\\"Content-Type\\\":\\\"application/x-amz-json-1.1\\\",\\\"Date\\\":\\\"Sun, 02 Aug 2020 00:34:46 GMT\\\",\\\"x-amzn-RequestId\\\":\\\"a0a0dddf-c9a6-41d7-aafc-1dda28d5afbe\\\"},\\\"HttpStatusCode\\\":200},\\\"SdkResponseMetadata\\\":{\\\"RequestId\\\":\\\"a0a0dddf-c9a6-41d7-aafc-1dda28d5afbe\\\"}}\"}}, {\"timestamp\": 1596328486.633, \"type\": \"TaskStateExited\", \"id\": 29, \"previousEventId\": 28, \"stateExitedEventDetails\": {\"name\": \"Update Model Endpoint\", \"output\": \"{\\\"EndpointArn\\\":\\\"arn:aws:sagemaker:us-east-1:725879053979:endpoint/pytorchpipeline\\\",\\\"SdkHttpMetadata\\\":{\\\"AllHttpHeaders\\\":{\\\"x-amzn-RequestId\\\":[\\\"a0a0dddf-c9a6-41d7-aafc-1dda28d5afbe\\\"],\\\"Content-Length\\\":[\\\"83\\\"],\\\"Date\\\":[\\\"Sun, 02 Aug 2020 00:34:46 GMT\\\"],\\\"Content-Type\\\":[\\\"application/x-amz-json-1.1\\\"]},\\\"HttpHeaders\\\":{\\\"Content-Length\\\":\\\"83\\\",\\\"Content-Type\\\":\\\"application/x-amz-json-1.1\\\",\\\"Date\\\":\\\"Sun, 02 Aug 2020 00:34:46 GMT\\\",\\\"x-amzn-RequestId\\\":\\\"a0a0dddf-c9a6-41d7-aafc-1dda28d5afbe\\\"},\\\"HttpStatusCode\\\":200},\\\"SdkResponseMetadata\\\":{\\\"RequestId\\\":\\\"a0a0dddf-c9a6-41d7-aafc-1dda28d5afbe\\\"}}\"}}, {\"timestamp\": 1596328486.633, \"type\": \"ExecutionSucceeded\", \"id\": 30, \"previousEventId\": 29, \"executionSucceededEventDetails\": {\"output\": \"{\\\"EndpointArn\\\":\\\"arn:aws:sagemaker:us-east-1:725879053979:endpoint/pytorchpipeline\\\",\\\"SdkHttpMetadata\\\":{\\\"AllHttpHeaders\\\":{\\\"x-amzn-RequestId\\\":[\\\"a0a0dddf-c9a6-41d7-aafc-1dda28d5afbe\\\"],\\\"Content-Length\\\":[\\\"83\\\"],\\\"Date\\\":[\\\"Sun, 02 Aug 2020 00:34:46 GMT\\\"],\\\"Content-Type\\\":[\\\"application/x-amz-json-1.1\\\"]},\\\"HttpHeaders\\\":{\\\"Content-Length\\\":\\\"83\\\",\\\"Content-Type\\\":\\\"application/x-amz-json-1.1\\\",\\\"Date\\\":\\\"Sun, 02 Aug 2020 00:34:46 GMT\\\",\\\"x-amzn-RequestId\\\":\\\"a0a0dddf-c9a6-41d7-aafc-1dda28d5afbe\\\"},\\\"HttpStatusCode\\\":200},\\\"SdkResponseMetadata\\\":{\\\"RequestId\\\":\\\"a0a0dddf-c9a6-41d7-aafc-1dda28d5afbe\\\"}}\"}}] };\n",
       "\n",
       "    var graph = new sfn.StateMachineExecutionGraph(definition, events, elementId, options);\n",
       "    graph.render();\n",
       "});\n",
       "\n",
       "</script>\n"
      ],
      "text/plain": [
       "<IPython.core.display.HTML object>"
      ]
     },
     "metadata": {},
     "output_type": "display_data"
    }
   ],
   "source": [
    "display.display(execution.render_progress(portrait=True))"
   ]
  },
  {
   "cell_type": "code",
   "execution_count": 51,
   "metadata": {},
   "outputs": [
    {
     "data": {
      "text/html": [
       "\n",
       "    <style>\n",
       "        \n",
       "    .table-widget {\n",
       "        width: 100%;\n",
       "        font-size: 14px;\n",
       "        line-height: 28px;\n",
       "        color: #545b64;\n",
       "        border-spacing: 0;\n",
       "        background-color: #fff;\n",
       "        border-color: grey;\n",
       "        background: #fafafa;\n",
       "    }\n",
       "\n",
       "    .table-widget thead th {\n",
       "        text-align: left !important;\n",
       "        color: #879596;\n",
       "        padding: 0.3em 2em;\n",
       "        border-bottom: 1px solid #eaeded;\n",
       "        min-height: 4rem;\n",
       "        line-height: 28px;\n",
       "    }\n",
       "\n",
       "    .table-widget thead th:first-of-type {\n",
       "    }\n",
       "\n",
       "    .table-widget td {\n",
       "        overflow-wrap: break-word;\n",
       "        padding: 0.4em 2em;\n",
       "        line-height: 28px;\n",
       "        text-align: left !important;\n",
       "        background: #fff;\n",
       "        border-bottom: 1px solid #eaeded;\n",
       "        border-top: 1px solid transparent;\n",
       "    }\n",
       "\n",
       "    .table-widget td:before {\n",
       "        content: \"\";\n",
       "        height: 3rem;\n",
       "    }\n",
       "\n",
       "    a {\n",
       "        cursor: pointer;\n",
       "        text-decoration: none !important;\n",
       "        color: #007dbc;\n",
       "    }\n",
       "\n",
       "    a:hover {\n",
       "        text-decoration: underline !important;\n",
       "    }\n",
       "\n",
       "    a.disabled {\n",
       "        color: black;\n",
       "        cursor: default;\n",
       "        pointer-events: none;\n",
       "    }\n",
       "\n",
       "    .hide {\n",
       "        display: none;\n",
       "    }\n",
       "\n",
       "    pre {\n",
       "        white-space: pre-wrap;\n",
       "    }\n",
       "\n",
       "        \n",
       "    * {\n",
       "        box-sizing: border-box;\n",
       "    }\n",
       "\n",
       "    .table-widget {\n",
       "        min-width: 100%;\n",
       "        font-size: 14px;\n",
       "        line-height: 28px;\n",
       "        color: #545b64;\n",
       "        border-spacing: 0;\n",
       "        background-color: #fff;\n",
       "        border-color: grey;\n",
       "        background: #fafafa;\n",
       "    }\n",
       "\n",
       "    .table-widget thead th {\n",
       "        text-align: left !important;\n",
       "        color: #879596;\n",
       "        padding: 0.3em 2em;\n",
       "        border-bottom: 1px solid #eaeded;\n",
       "        min-height: 4rem;\n",
       "        line-height: 28px;\n",
       "    }\n",
       "\n",
       "    .table-widget td {\n",
       "        /* padding: 24px 18px; */\n",
       "        padding: 0.4em 2em;\n",
       "        line-height: 28px;\n",
       "        text-align: left !important;\n",
       "        background: #fff;\n",
       "        border-bottom: 1px solid #eaeded;\n",
       "        border-top: 1px solid transparent;\n",
       "    }\n",
       "\n",
       "    .table-widget td:before {\n",
       "        content: \"\";\n",
       "        height: 3rem;\n",
       "    }\n",
       "\n",
       "    .table-widget .clickable-cell {\n",
       "        cursor: pointer;\n",
       "    }\n",
       "\n",
       "    .hide {\n",
       "        display: none;\n",
       "    }\n",
       "\n",
       "    .triangle-right {\n",
       "        width: 0;\n",
       "        height: 0;\n",
       "        border-top: 5px solid transparent;\n",
       "        border-left: 8px solid #545b64;\n",
       "        border-bottom: 5px solid transparent;\n",
       "        margin-right: 5px;\n",
       "    }\n",
       "\n",
       "    a.awsui {\n",
       "        text-decoration: none !important;\n",
       "        color: #007dbc;\n",
       "    }\n",
       "\n",
       "    a.awsui:hover {\n",
       "        text-decoration: underline !important;\n",
       "    }\n",
       "\n",
       "    </style>\n",
       "    <table class=\"table-widget\">\n",
       "        <thead>\n",
       "            <tr>\n",
       "                <th>Name</th>\n",
       "                <th>Status</th>\n",
       "                <th>Started</th>\n",
       "                <th>End Time</th>\n",
       "            </tr>\n",
       "        </thead>\n",
       "        <tbody>\n",
       "            \n",
       "    <tr class=\"awsui-table-row\">\n",
       "        <td>\n",
       "            <a href=\"https://console.aws.amazon.com/states/home?region=us-east-1#/executions/details/arn:aws:states:us-east-1:725879053979:execution:Demo-PyTorch-Pipeline-a690a0cb540c4f29b6c34ecaf808df81:d8652435-0e51-4156-9eef-9ef1f9d56032\" target=\"_blank\" class=\"awsui\">d8652435-0e51-4156-9eef-9ef1f9d56032</a>\n",
       "        </td>\n",
       "        <td>SUCCEEDED</td>\n",
       "        <td>Aug 02, 2020 12:30:51.382 AM</td>\n",
       "        <td>Aug 02, 2020 12:34:46.633 AM</td>\n",
       "    </tr>\n",
       "\n",
       "        </tbody>\n",
       "    </table>\n"
      ],
      "text/plain": [
       "<IPython.core.display.HTML object>"
      ]
     },
     "execution_count": 51,
     "metadata": {},
     "output_type": "execute_result"
    }
   ],
   "source": [
    "workflow.list_executions(html=True)"
   ]
  },
  {
   "cell_type": "code",
   "execution_count": 52,
   "metadata": {},
   "outputs": [
    {
     "data": {
      "text/plain": [
       "[{'timestamp': datetime.datetime(2020, 8, 2, 0, 30, 51, 382000, tzinfo=tzlocal()),\n",
       "  'type': 'ExecutionStarted',\n",
       "  'id': 1,\n",
       "  'previousEventId': 0,\n",
       "  'executionStartedEventDetails': {'input': '{\\n    \"TrainingJobName\": \"pth-pipeline-a690a0cb540c4f29b6c34ecaf808df81\",\\n    \"ModelName\": \"MNIST-a690a0cb540c4f29b6c34ecaf808df81\",\\n    \"EndpointName\": \"PyTorchPipeline\",\\n    \"LambdaFunctionName\": \"query-training-status-a690a0cb540c4f29b6c34ecaf808df81\",\\n    \"UpdateEndpoint\": false\\n}',\n",
       "   'roleArn': 'arn:aws:iam::725879053979:role/StepFunctions_DSSDK-725879053979'}},\n",
       " {'timestamp': datetime.datetime(2020, 8, 2, 0, 30, 51, 415000, tzinfo=tzlocal()),\n",
       "  'type': 'TaskStateEntered',\n",
       "  'id': 2,\n",
       "  'previousEventId': 0,\n",
       "  'stateEnteredEventDetails': {'name': 'Model Training',\n",
       "   'input': '{\\n    \"TrainingJobName\": \"pth-pipeline-a690a0cb540c4f29b6c34ecaf808df81\",\\n    \"ModelName\": \"MNIST-a690a0cb540c4f29b6c34ecaf808df81\",\\n    \"EndpointName\": \"PyTorchPipeline\",\\n    \"LambdaFunctionName\": \"query-training-status-a690a0cb540c4f29b6c34ecaf808df81\",\\n    \"UpdateEndpoint\": false\\n}'}},\n",
       " {'timestamp': datetime.datetime(2020, 8, 2, 0, 30, 51, 415000, tzinfo=tzlocal()),\n",
       "  'type': 'TaskScheduled',\n",
       "  'id': 3,\n",
       "  'previousEventId': 2,\n",
       "  'taskScheduledEventDetails': {'resourceType': 'sagemaker',\n",
       "   'resource': 'createTrainingJob.sync',\n",
       "   'region': 'us-east-1',\n",
       "   'parameters': '{\"AlgorithmSpecification\":{\"TrainingImage\":\"520713654638.dkr.ecr.us-east-1.amazonaws.com/sagemaker-pytorch:1.1.0-cpu-py3\",\"TrainingInputMode\":\"File\",\"MetricDefinitions\":[{\"Name\":\"train:loss\",\"Regex\":\"\\\\\\\\[Train Loss (.*?)\\\\\\\\]\"},{\"Name\":\"test:loss\",\"Regex\":\"\\\\\\\\[Test Average loss (.*?)\\\\\\\\]\"},{\"Name\":\"test:accuracy\",\"Regex\":\"\\\\\\\\[Test Accuracy (.*?)\\\\\\\\]\"}]},\"OutputDataConfig\":{\"S3OutputPath\":\"s3://ml-pipeline-725879053979\"},\"StoppingCondition\":{\"MaxRuntimeInSeconds\":86400},\"ResourceConfig\":{\"InstanceCount\":1,\"InstanceType\":\"ml.c4.xlarge\",\"VolumeSizeInGB\":30},\"RoleArn\":\"arn:aws:iam::725879053979:role/MLOps\",\"InputDataConfig\":[{\"DataSource\":{\"S3DataSource\":{\"S3DataType\":\"S3Prefix\",\"S3Uri\":\"s3://sagemaker-experiments-us-east-1-725879053979/mnist\",\"S3DataDistributionType\":\"FullyReplicated\"}},\"ChannelName\":\"training\"}],\"HyperParameters\":{\"epochs\":\"1\",\"backend\":\"gloo\",\"hidden_channels\":\"10\",\"dropout\":\"0.2\",\"kernel_size\":\"5\",\"optimizer\":\"sgd\",\"sagemaker_container_log_level\":\"20\",\"sagemaker_enable_cloudwatch_metrics\":\"False\",\"sagemaker_program\":\"mnist.py\",\"sagemaker_region\":\"us-east-1\",\"sagemaker_submit_directory\":\"s3://sagemaker-us-east-1-725879053979/framework-script-local-1596156081/source/sourcedir.tar.gz\"},\"DebugHookConfig\":{\"S3OutputPath\":\"s3://ml-pipeline-725879053979\"},\"TrainingJobName\":\"pth-pipeline-a690a0cb540c4f29b6c34ecaf808df81\",\"Tags\":[{\"Key\":\"MANAGED_BY_AWS\",\"Value\":\"STARTED_BY_STEP_FUNCTIONS\"}]}'}},\n",
       " {'timestamp': datetime.datetime(2020, 8, 2, 0, 30, 51, 475000, tzinfo=tzlocal()),\n",
       "  'type': 'TaskStarted',\n",
       "  'id': 4,\n",
       "  'previousEventId': 3,\n",
       "  'taskStartedEventDetails': {'resourceType': 'sagemaker',\n",
       "   'resource': 'createTrainingJob.sync'}},\n",
       " {'timestamp': datetime.datetime(2020, 8, 2, 0, 30, 51, 665000, tzinfo=tzlocal()),\n",
       "  'type': 'TaskSubmitted',\n",
       "  'id': 5,\n",
       "  'previousEventId': 4,\n",
       "  'taskSubmittedEventDetails': {'resourceType': 'sagemaker',\n",
       "   'resource': 'createTrainingJob.sync',\n",
       "   'output': '{\"SdkHttpMetadata\":{\"AllHttpHeaders\":{\"x-amzn-RequestId\":[\"61b30c8d-9e5d-4f22-a37f-b695095531f0\"],\"Content-Length\":[\"120\"],\"Date\":[\"Sun, 02 Aug 2020 00:30:51 GMT\"],\"Content-Type\":[\"application/x-amz-json-1.1\"]},\"HttpHeaders\":{\"Content-Length\":\"120\",\"Content-Type\":\"application/x-amz-json-1.1\",\"Date\":\"Sun, 02 Aug 2020 00:30:51 GMT\",\"x-amzn-RequestId\":\"61b30c8d-9e5d-4f22-a37f-b695095531f0\"},\"HttpStatusCode\":200},\"SdkResponseMetadata\":{\"RequestId\":\"61b30c8d-9e5d-4f22-a37f-b695095531f0\"},\"TrainingJobArn\":\"arn:aws:sagemaker:us-east-1:725879053979:training-job/pth-pipeline-a690a0cb540c4f29b6c34ecaf808df81\"}'}},\n",
       " {'timestamp': datetime.datetime(2020, 8, 2, 0, 34, 45, 17000, tzinfo=tzlocal()),\n",
       "  'type': 'TaskSucceeded',\n",
       "  'id': 6,\n",
       "  'previousEventId': 5,\n",
       "  'taskSucceededEventDetails': {'resourceType': 'sagemaker',\n",
       "   'resource': 'createTrainingJob.sync',\n",
       "   'output': '{\"TrainingJobName\":\"pth-pipeline-a690a0cb540c4f29b6c34ecaf808df81\",\"TrainingJobArn\":\"arn:aws:sagemaker:us-east-1:725879053979:training-job/pth-pipeline-a690a0cb540c4f29b6c34ecaf808df81\",\"ModelArtifacts\":{\"S3ModelArtifacts\":\"s3://ml-pipeline-725879053979/pth-pipeline-a690a0cb540c4f29b6c34ecaf808df81/output/model.tar.gz\"},\"TrainingJobStatus\":\"Completed\",\"SecondaryStatus\":\"Completed\",\"HyperParameters\":{\"sagemaker_container_log_level\":\"20\",\"sagemaker_program\":\"mnist.py\",\"optimizer\":\"sgd\",\"sagemaker_enable_cloudwatch_metrics\":\"False\",\"hidden_channels\":\"10\",\"dropout\":\"0.2\",\"sagemaker_region\":\"us-east-1\",\"backend\":\"gloo\",\"epochs\":\"1\",\"sagemaker_submit_directory\":\"s3://sagemaker-us-east-1-725879053979/framework-script-local-1596156081/source/sourcedir.tar.gz\",\"kernel_size\":\"5\"},\"AlgorithmSpecification\":{\"TrainingImage\":\"520713654638.dkr.ecr.us-east-1.amazonaws.com/sagemaker-pytorch:1.1.0-cpu-py3\",\"TrainingInputMode\":\"FILE\"},\"RoleArn\":\"arn:aws:iam::725879053979:role/MLOps\",\"InputDataConfig\":[{\"ChannelName\":\"training\",\"DataSource\":{\"S3DataSource\":{\"S3DataType\":\"S3_PREFIX\",\"S3Uri\":\"s3://sagemaker-experiments-us-east-1-725879053979/mnist\",\"S3DataDistributionType\":\"FULLY_REPLICATED\"}},\"CompressionType\":\"NONE\",\"RecordWrapperType\":\"NONE\"}],\"OutputDataConfig\":{\"S3OutputPath\":\"s3://ml-pipeline-725879053979\"},\"ResourceConfig\":{\"InstanceType\":\"ml.c4.xlarge\",\"InstanceCount\":1.0,\"VolumeSizeInGB\":30.0},\"StoppingCondition\":{\"MaxRuntimeInSeconds\":86400.0},\"CreationTime\":1.59632825164E12,\"TrainingStartTime\":1.59632839292E12,\"TrainingEndTime\":1.596328481989E12,\"LastModifiedTime\":1.596328481989E12,\"SecondaryStatusTransitions\":[{\"Status\":\"Starting\",\"StartTime\":1.59632825164E12,\"EndTime\":1.59632839292E12,\"StatusMessage\":\"Preparing the instances for training\"},{\"Status\":\"Downloading\",\"StartTime\":1.59632839292E12,\"EndTime\":1.596328418699E12,\"StatusMessage\":\"Downloading input data\"},{\"Status\":\"Training\",\"StartTime\":1.596328418699E12,\"EndTime\":1.596328474323E12,\"StatusMessage\":\"Training image download completed. Training in progress.\"},{\"Status\":\"Uploading\",\"StartTime\":1.596328474323E12,\"EndTime\":1.596328481989E12,\"StatusMessage\":\"Uploading generated training model\"},{\"Status\":\"Completed\",\"StartTime\":1.596328481989E12,\"EndTime\":1.596328481989E12,\"StatusMessage\":\"Training job completed\"}],\"DebugHookConfig\":{\"S3OutputPath\":\"s3://ml-pipeline-725879053979\"},\"Tags\":{\"AWS_STEP_FUNCTIONS_EXECUTION_ARN\":\"arn:aws:states:us-east-1:725879053979:execution:Demo-PyTorch-Pipeline-a690a0cb540c4f29b6c34ecaf808df81:d8652435-0e51-4156-9eef-9ef1f9d56032\",\"MANAGED_BY_AWS\":\"STARTED_BY_STEP_FUNCTIONS\"}}'}},\n",
       " {'timestamp': datetime.datetime(2020, 8, 2, 0, 34, 45, 17000, tzinfo=tzlocal()),\n",
       "  'type': 'TaskStateExited',\n",
       "  'id': 7,\n",
       "  'previousEventId': 6,\n",
       "  'stateExitedEventDetails': {'name': 'Model Training',\n",
       "   'output': '{\"TrainingJobName\":\"pth-pipeline-a690a0cb540c4f29b6c34ecaf808df81\",\"TrainingJobArn\":\"arn:aws:sagemaker:us-east-1:725879053979:training-job/pth-pipeline-a690a0cb540c4f29b6c34ecaf808df81\",\"ModelArtifacts\":{\"S3ModelArtifacts\":\"s3://ml-pipeline-725879053979/pth-pipeline-a690a0cb540c4f29b6c34ecaf808df81/output/model.tar.gz\"},\"TrainingJobStatus\":\"Completed\",\"SecondaryStatus\":\"Completed\",\"HyperParameters\":{\"sagemaker_container_log_level\":\"20\",\"sagemaker_program\":\"mnist.py\",\"optimizer\":\"sgd\",\"sagemaker_enable_cloudwatch_metrics\":\"False\",\"hidden_channels\":\"10\",\"dropout\":\"0.2\",\"sagemaker_region\":\"us-east-1\",\"backend\":\"gloo\",\"epochs\":\"1\",\"sagemaker_submit_directory\":\"s3://sagemaker-us-east-1-725879053979/framework-script-local-1596156081/source/sourcedir.tar.gz\",\"kernel_size\":\"5\"},\"AlgorithmSpecification\":{\"TrainingImage\":\"520713654638.dkr.ecr.us-east-1.amazonaws.com/sagemaker-pytorch:1.1.0-cpu-py3\",\"TrainingInputMode\":\"FILE\"},\"RoleArn\":\"arn:aws:iam::725879053979:role/MLOps\",\"InputDataConfig\":[{\"ChannelName\":\"training\",\"DataSource\":{\"S3DataSource\":{\"S3DataType\":\"S3_PREFIX\",\"S3Uri\":\"s3://sagemaker-experiments-us-east-1-725879053979/mnist\",\"S3DataDistributionType\":\"FULLY_REPLICATED\"}},\"CompressionType\":\"NONE\",\"RecordWrapperType\":\"NONE\"}],\"OutputDataConfig\":{\"S3OutputPath\":\"s3://ml-pipeline-725879053979\"},\"ResourceConfig\":{\"InstanceType\":\"ml.c4.xlarge\",\"InstanceCount\":1.0,\"VolumeSizeInGB\":30.0},\"StoppingCondition\":{\"MaxRuntimeInSeconds\":86400.0},\"CreationTime\":1.59632825164E12,\"TrainingStartTime\":1.59632839292E12,\"TrainingEndTime\":1.596328481989E12,\"LastModifiedTime\":1.596328481989E12,\"SecondaryStatusTransitions\":[{\"Status\":\"Starting\",\"StartTime\":1.59632825164E12,\"EndTime\":1.59632839292E12,\"StatusMessage\":\"Preparing the instances for training\"},{\"Status\":\"Downloading\",\"StartTime\":1.59632839292E12,\"EndTime\":1.596328418699E12,\"StatusMessage\":\"Downloading input data\"},{\"Status\":\"Training\",\"StartTime\":1.596328418699E12,\"EndTime\":1.596328474323E12,\"StatusMessage\":\"Training image download completed. Training in progress.\"},{\"Status\":\"Uploading\",\"StartTime\":1.596328474323E12,\"EndTime\":1.596328481989E12,\"StatusMessage\":\"Uploading generated training model\"},{\"Status\":\"Completed\",\"StartTime\":1.596328481989E12,\"EndTime\":1.596328481989E12,\"StatusMessage\":\"Training job completed\"}],\"DebugHookConfig\":{\"S3OutputPath\":\"s3://ml-pipeline-725879053979\"},\"Tags\":{\"AWS_STEP_FUNCTIONS_EXECUTION_ARN\":\"arn:aws:states:us-east-1:725879053979:execution:Demo-PyTorch-Pipeline-a690a0cb540c4f29b6c34ecaf808df81:d8652435-0e51-4156-9eef-9ef1f9d56032\",\"MANAGED_BY_AWS\":\"STARTED_BY_STEP_FUNCTIONS\"}}'}},\n",
       " {'timestamp': datetime.datetime(2020, 8, 2, 0, 34, 45, 32000, tzinfo=tzlocal()),\n",
       "  'type': 'TaskStateEntered',\n",
       "  'id': 8,\n",
       "  'previousEventId': 7,\n",
       "  'stateEnteredEventDetails': {'name': 'Save Model',\n",
       "   'input': '{\"TrainingJobName\":\"pth-pipeline-a690a0cb540c4f29b6c34ecaf808df81\",\"TrainingJobArn\":\"arn:aws:sagemaker:us-east-1:725879053979:training-job/pth-pipeline-a690a0cb540c4f29b6c34ecaf808df81\",\"ModelArtifacts\":{\"S3ModelArtifacts\":\"s3://ml-pipeline-725879053979/pth-pipeline-a690a0cb540c4f29b6c34ecaf808df81/output/model.tar.gz\"},\"TrainingJobStatus\":\"Completed\",\"SecondaryStatus\":\"Completed\",\"HyperParameters\":{\"sagemaker_container_log_level\":\"20\",\"sagemaker_program\":\"mnist.py\",\"optimizer\":\"sgd\",\"sagemaker_enable_cloudwatch_metrics\":\"False\",\"hidden_channels\":\"10\",\"dropout\":\"0.2\",\"sagemaker_region\":\"us-east-1\",\"backend\":\"gloo\",\"epochs\":\"1\",\"sagemaker_submit_directory\":\"s3://sagemaker-us-east-1-725879053979/framework-script-local-1596156081/source/sourcedir.tar.gz\",\"kernel_size\":\"5\"},\"AlgorithmSpecification\":{\"TrainingImage\":\"520713654638.dkr.ecr.us-east-1.amazonaws.com/sagemaker-pytorch:1.1.0-cpu-py3\",\"TrainingInputMode\":\"FILE\"},\"RoleArn\":\"arn:aws:iam::725879053979:role/MLOps\",\"InputDataConfig\":[{\"ChannelName\":\"training\",\"DataSource\":{\"S3DataSource\":{\"S3DataType\":\"S3_PREFIX\",\"S3Uri\":\"s3://sagemaker-experiments-us-east-1-725879053979/mnist\",\"S3DataDistributionType\":\"FULLY_REPLICATED\"}},\"CompressionType\":\"NONE\",\"RecordWrapperType\":\"NONE\"}],\"OutputDataConfig\":{\"S3OutputPath\":\"s3://ml-pipeline-725879053979\"},\"ResourceConfig\":{\"InstanceType\":\"ml.c4.xlarge\",\"InstanceCount\":1.0,\"VolumeSizeInGB\":30.0},\"StoppingCondition\":{\"MaxRuntimeInSeconds\":86400.0},\"CreationTime\":1.59632825164E12,\"TrainingStartTime\":1.59632839292E12,\"TrainingEndTime\":1.596328481989E12,\"LastModifiedTime\":1.596328481989E12,\"SecondaryStatusTransitions\":[{\"Status\":\"Starting\",\"StartTime\":1.59632825164E12,\"EndTime\":1.59632839292E12,\"StatusMessage\":\"Preparing the instances for training\"},{\"Status\":\"Downloading\",\"StartTime\":1.59632839292E12,\"EndTime\":1.596328418699E12,\"StatusMessage\":\"Downloading input data\"},{\"Status\":\"Training\",\"StartTime\":1.596328418699E12,\"EndTime\":1.596328474323E12,\"StatusMessage\":\"Training image download completed. Training in progress.\"},{\"Status\":\"Uploading\",\"StartTime\":1.596328474323E12,\"EndTime\":1.596328481989E12,\"StatusMessage\":\"Uploading generated training model\"},{\"Status\":\"Completed\",\"StartTime\":1.596328481989E12,\"EndTime\":1.596328481989E12,\"StatusMessage\":\"Training job completed\"}],\"DebugHookConfig\":{\"S3OutputPath\":\"s3://ml-pipeline-725879053979\"},\"Tags\":{\"AWS_STEP_FUNCTIONS_EXECUTION_ARN\":\"arn:aws:states:us-east-1:725879053979:execution:Demo-PyTorch-Pipeline-a690a0cb540c4f29b6c34ecaf808df81:d8652435-0e51-4156-9eef-9ef1f9d56032\",\"MANAGED_BY_AWS\":\"STARTED_BY_STEP_FUNCTIONS\"}}'}},\n",
       " {'timestamp': datetime.datetime(2020, 8, 2, 0, 34, 45, 32000, tzinfo=tzlocal()),\n",
       "  'type': 'TaskScheduled',\n",
       "  'id': 9,\n",
       "  'previousEventId': 8,\n",
       "  'taskScheduledEventDetails': {'resourceType': 'sagemaker',\n",
       "   'resource': 'createModel',\n",
       "   'region': 'us-east-1',\n",
       "   'parameters': '{\"PrimaryContainer\":{\"Image\":\"520713654638.dkr.ecr.us-east-1.amazonaws.com/sagemaker-pytorch:1.1.0-cpu-py3\",\"Environment\":{\"SAGEMAKER_PROGRAM\":\"inference.py\",\"SAGEMAKER_SUBMIT_DIRECTORY\":\"s3://sagemaker-us-east-1-725879053979/sagemaker-pytorch-2020-07-31-00-51-18-859/sourcedir.tar.gz\",\"SAGEMAKER_ENABLE_CLOUDWATCH_METRICS\":\"false\",\"SAGEMAKER_CONTAINER_LOG_LEVEL\":\"20\",\"SAGEMAKER_REGION\":\"us-east-1\"},\"ModelDataUrl\":\"s3://ml-pipeline-725879053979/pth-pipeline-a690a0cb540c4f29b6c34ecaf808df81/output/model.tar.gz\"},\"ExecutionRoleArn\":\"arn:aws:iam::725879053979:role/MLOps\",\"ModelName\":\"MNIST-a690a0cb540c4f29b6c34ecaf808df81\"}'}},\n",
       " {'timestamp': datetime.datetime(2020, 8, 2, 0, 34, 45, 46000, tzinfo=tzlocal()),\n",
       "  'type': 'TaskStarted',\n",
       "  'id': 10,\n",
       "  'previousEventId': 9,\n",
       "  'taskStartedEventDetails': {'resourceType': 'sagemaker',\n",
       "   'resource': 'createModel'}},\n",
       " {'timestamp': datetime.datetime(2020, 8, 2, 0, 34, 45, 342000, tzinfo=tzlocal()),\n",
       "  'type': 'TaskSucceeded',\n",
       "  'id': 11,\n",
       "  'previousEventId': 10,\n",
       "  'taskSucceededEventDetails': {'resourceType': 'sagemaker',\n",
       "   'resource': 'createModel',\n",
       "   'output': '{\"ModelArn\":\"arn:aws:sagemaker:us-east-1:725879053979:model/mnist-a690a0cb540c4f29b6c34ecaf808df81\",\"SdkHttpMetadata\":{\"AllHttpHeaders\":{\"x-amzn-RequestId\":[\"a5819cb0-8056-456b-8799-8131f7896486\"],\"Content-Length\":[\"100\"],\"Date\":[\"Sun, 02 Aug 2020 00:34:45 GMT\"],\"Content-Type\":[\"application/x-amz-json-1.1\"]},\"HttpHeaders\":{\"Content-Length\":\"100\",\"Content-Type\":\"application/x-amz-json-1.1\",\"Date\":\"Sun, 02 Aug 2020 00:34:45 GMT\",\"x-amzn-RequestId\":\"a5819cb0-8056-456b-8799-8131f7896486\"},\"HttpStatusCode\":200},\"SdkResponseMetadata\":{\"RequestId\":\"a5819cb0-8056-456b-8799-8131f7896486\"}}'}},\n",
       " {'timestamp': datetime.datetime(2020, 8, 2, 0, 34, 45, 342000, tzinfo=tzlocal()),\n",
       "  'type': 'TaskStateExited',\n",
       "  'id': 12,\n",
       "  'previousEventId': 11,\n",
       "  'stateExitedEventDetails': {'name': 'Save Model',\n",
       "   'output': '{\"TrainingJobName\":\"pth-pipeline-a690a0cb540c4f29b6c34ecaf808df81\",\"TrainingJobArn\":\"arn:aws:sagemaker:us-east-1:725879053979:training-job/pth-pipeline-a690a0cb540c4f29b6c34ecaf808df81\",\"ModelArtifacts\":{\"S3ModelArtifacts\":\"s3://ml-pipeline-725879053979/pth-pipeline-a690a0cb540c4f29b6c34ecaf808df81/output/model.tar.gz\"},\"TrainingJobStatus\":\"Completed\",\"SecondaryStatus\":\"Completed\",\"HyperParameters\":{\"sagemaker_container_log_level\":\"20\",\"sagemaker_program\":\"mnist.py\",\"optimizer\":\"sgd\",\"sagemaker_enable_cloudwatch_metrics\":\"False\",\"hidden_channels\":\"10\",\"dropout\":\"0.2\",\"sagemaker_region\":\"us-east-1\",\"backend\":\"gloo\",\"epochs\":\"1\",\"sagemaker_submit_directory\":\"s3://sagemaker-us-east-1-725879053979/framework-script-local-1596156081/source/sourcedir.tar.gz\",\"kernel_size\":\"5\"},\"AlgorithmSpecification\":{\"TrainingImage\":\"520713654638.dkr.ecr.us-east-1.amazonaws.com/sagemaker-pytorch:1.1.0-cpu-py3\",\"TrainingInputMode\":\"FILE\"},\"RoleArn\":\"arn:aws:iam::725879053979:role/MLOps\",\"InputDataConfig\":[{\"ChannelName\":\"training\",\"DataSource\":{\"S3DataSource\":{\"S3DataType\":\"S3_PREFIX\",\"S3Uri\":\"s3://sagemaker-experiments-us-east-1-725879053979/mnist\",\"S3DataDistributionType\":\"FULLY_REPLICATED\"}},\"CompressionType\":\"NONE\",\"RecordWrapperType\":\"NONE\"}],\"OutputDataConfig\":{\"S3OutputPath\":\"s3://ml-pipeline-725879053979\"},\"ResourceConfig\":{\"InstanceType\":\"ml.c4.xlarge\",\"InstanceCount\":1.0,\"VolumeSizeInGB\":30.0},\"StoppingCondition\":{\"MaxRuntimeInSeconds\":86400.0},\"CreationTime\":1.59632825164E12,\"TrainingStartTime\":1.59632839292E12,\"TrainingEndTime\":1.596328481989E12,\"LastModifiedTime\":1.596328481989E12,\"SecondaryStatusTransitions\":[{\"Status\":\"Starting\",\"StartTime\":1.59632825164E12,\"EndTime\":1.59632839292E12,\"StatusMessage\":\"Preparing the instances for training\"},{\"Status\":\"Downloading\",\"StartTime\":1.59632839292E12,\"EndTime\":1.596328418699E12,\"StatusMessage\":\"Downloading input data\"},{\"Status\":\"Training\",\"StartTime\":1.596328418699E12,\"EndTime\":1.596328474323E12,\"StatusMessage\":\"Training image download completed. Training in progress.\"},{\"Status\":\"Uploading\",\"StartTime\":1.596328474323E12,\"EndTime\":1.596328481989E12,\"StatusMessage\":\"Uploading generated training model\"},{\"Status\":\"Completed\",\"StartTime\":1.596328481989E12,\"EndTime\":1.596328481989E12,\"StatusMessage\":\"Training job completed\"}],\"DebugHookConfig\":{\"S3OutputPath\":\"s3://ml-pipeline-725879053979\"},\"Tags\":{\"AWS_STEP_FUNCTIONS_EXECUTION_ARN\":\"arn:aws:states:us-east-1:725879053979:execution:Demo-PyTorch-Pipeline-a690a0cb540c4f29b6c34ecaf808df81:d8652435-0e51-4156-9eef-9ef1f9d56032\",\"MANAGED_BY_AWS\":\"STARTED_BY_STEP_FUNCTIONS\"},\"ModelStepResults\":{\"ModelArn\":\"arn:aws:sagemaker:us-east-1:725879053979:model/mnist-a690a0cb540c4f29b6c34ecaf808df81\",\"SdkHttpMetadata\":{\"AllHttpHeaders\":{\"x-amzn-RequestId\":[\"a5819cb0-8056-456b-8799-8131f7896486\"],\"Content-Length\":[\"100\"],\"Date\":[\"Sun, 02 Aug 2020 00:34:45 GMT\"],\"Content-Type\":[\"application/x-amz-json-1.1\"]},\"HttpHeaders\":{\"Content-Length\":\"100\",\"Content-Type\":\"application/x-amz-json-1.1\",\"Date\":\"Sun, 02 Aug 2020 00:34:45 GMT\",\"x-amzn-RequestId\":\"a5819cb0-8056-456b-8799-8131f7896486\"},\"HttpStatusCode\":200},\"SdkResponseMetadata\":{\"RequestId\":\"a5819cb0-8056-456b-8799-8131f7896486\"}}}'}},\n",
       " {'timestamp': datetime.datetime(2020, 8, 2, 0, 34, 45, 349000, tzinfo=tzlocal()),\n",
       "  'type': 'TaskStateEntered',\n",
       "  'id': 13,\n",
       "  'previousEventId': 12,\n",
       "  'stateEnteredEventDetails': {'name': 'Query Training Results',\n",
       "   'input': '{\"TrainingJobName\":\"pth-pipeline-a690a0cb540c4f29b6c34ecaf808df81\",\"TrainingJobArn\":\"arn:aws:sagemaker:us-east-1:725879053979:training-job/pth-pipeline-a690a0cb540c4f29b6c34ecaf808df81\",\"ModelArtifacts\":{\"S3ModelArtifacts\":\"s3://ml-pipeline-725879053979/pth-pipeline-a690a0cb540c4f29b6c34ecaf808df81/output/model.tar.gz\"},\"TrainingJobStatus\":\"Completed\",\"SecondaryStatus\":\"Completed\",\"HyperParameters\":{\"sagemaker_container_log_level\":\"20\",\"sagemaker_program\":\"mnist.py\",\"optimizer\":\"sgd\",\"sagemaker_enable_cloudwatch_metrics\":\"False\",\"hidden_channels\":\"10\",\"dropout\":\"0.2\",\"sagemaker_region\":\"us-east-1\",\"backend\":\"gloo\",\"epochs\":\"1\",\"sagemaker_submit_directory\":\"s3://sagemaker-us-east-1-725879053979/framework-script-local-1596156081/source/sourcedir.tar.gz\",\"kernel_size\":\"5\"},\"AlgorithmSpecification\":{\"TrainingImage\":\"520713654638.dkr.ecr.us-east-1.amazonaws.com/sagemaker-pytorch:1.1.0-cpu-py3\",\"TrainingInputMode\":\"FILE\"},\"RoleArn\":\"arn:aws:iam::725879053979:role/MLOps\",\"InputDataConfig\":[{\"ChannelName\":\"training\",\"DataSource\":{\"S3DataSource\":{\"S3DataType\":\"S3_PREFIX\",\"S3Uri\":\"s3://sagemaker-experiments-us-east-1-725879053979/mnist\",\"S3DataDistributionType\":\"FULLY_REPLICATED\"}},\"CompressionType\":\"NONE\",\"RecordWrapperType\":\"NONE\"}],\"OutputDataConfig\":{\"S3OutputPath\":\"s3://ml-pipeline-725879053979\"},\"ResourceConfig\":{\"InstanceType\":\"ml.c4.xlarge\",\"InstanceCount\":1.0,\"VolumeSizeInGB\":30.0},\"StoppingCondition\":{\"MaxRuntimeInSeconds\":86400.0},\"CreationTime\":1.59632825164E12,\"TrainingStartTime\":1.59632839292E12,\"TrainingEndTime\":1.596328481989E12,\"LastModifiedTime\":1.596328481989E12,\"SecondaryStatusTransitions\":[{\"Status\":\"Starting\",\"StartTime\":1.59632825164E12,\"EndTime\":1.59632839292E12,\"StatusMessage\":\"Preparing the instances for training\"},{\"Status\":\"Downloading\",\"StartTime\":1.59632839292E12,\"EndTime\":1.596328418699E12,\"StatusMessage\":\"Downloading input data\"},{\"Status\":\"Training\",\"StartTime\":1.596328418699E12,\"EndTime\":1.596328474323E12,\"StatusMessage\":\"Training image download completed. Training in progress.\"},{\"Status\":\"Uploading\",\"StartTime\":1.596328474323E12,\"EndTime\":1.596328481989E12,\"StatusMessage\":\"Uploading generated training model\"},{\"Status\":\"Completed\",\"StartTime\":1.596328481989E12,\"EndTime\":1.596328481989E12,\"StatusMessage\":\"Training job completed\"}],\"DebugHookConfig\":{\"S3OutputPath\":\"s3://ml-pipeline-725879053979\"},\"Tags\":{\"AWS_STEP_FUNCTIONS_EXECUTION_ARN\":\"arn:aws:states:us-east-1:725879053979:execution:Demo-PyTorch-Pipeline-a690a0cb540c4f29b6c34ecaf808df81:d8652435-0e51-4156-9eef-9ef1f9d56032\",\"MANAGED_BY_AWS\":\"STARTED_BY_STEP_FUNCTIONS\"},\"ModelStepResults\":{\"ModelArn\":\"arn:aws:sagemaker:us-east-1:725879053979:model/mnist-a690a0cb540c4f29b6c34ecaf808df81\",\"SdkHttpMetadata\":{\"AllHttpHeaders\":{\"x-amzn-RequestId\":[\"a5819cb0-8056-456b-8799-8131f7896486\"],\"Content-Length\":[\"100\"],\"Date\":[\"Sun, 02 Aug 2020 00:34:45 GMT\"],\"Content-Type\":[\"application/x-amz-json-1.1\"]},\"HttpHeaders\":{\"Content-Length\":\"100\",\"Content-Type\":\"application/x-amz-json-1.1\",\"Date\":\"Sun, 02 Aug 2020 00:34:45 GMT\",\"x-amzn-RequestId\":\"a5819cb0-8056-456b-8799-8131f7896486\"},\"HttpStatusCode\":200},\"SdkResponseMetadata\":{\"RequestId\":\"a5819cb0-8056-456b-8799-8131f7896486\"}}}'}},\n",
       " {'timestamp': datetime.datetime(2020, 8, 2, 0, 34, 45, 349000, tzinfo=tzlocal()),\n",
       "  'type': 'TaskScheduled',\n",
       "  'id': 14,\n",
       "  'previousEventId': 13,\n",
       "  'taskScheduledEventDetails': {'resourceType': 'lambda',\n",
       "   'resource': 'invoke',\n",
       "   'region': 'us-east-1',\n",
       "   'parameters': '{\"Payload\":{\"TrainingJobName\":\"pth-pipeline-a690a0cb540c4f29b6c34ecaf808df81\"},\"FunctionName\":\"query-training-status-a690a0cb540c4f29b6c34ecaf808df81\"}'}},\n",
       " {'timestamp': datetime.datetime(2020, 8, 2, 0, 34, 45, 363000, tzinfo=tzlocal()),\n",
       "  'type': 'TaskStarted',\n",
       "  'id': 15,\n",
       "  'previousEventId': 14,\n",
       "  'taskStartedEventDetails': {'resourceType': 'lambda', 'resource': 'invoke'}},\n",
       " {'timestamp': datetime.datetime(2020, 8, 2, 0, 34, 46, 152000, tzinfo=tzlocal()),\n",
       "  'type': 'TaskSucceeded',\n",
       "  'id': 16,\n",
       "  'previousEventId': 15,\n",
       "  'taskSucceededEventDetails': {'resourceType': 'lambda',\n",
       "   'resource': 'invoke',\n",
       "   'output': '{\"ExecutedVersion\":\"$LATEST\",\"Payload\":{\"statusCode\":200,\"trainingMetrics\":[{\"MetricName\":\"train:loss\",\"Value\":0.39608898758888245,\"Timestamp\":1596328.467},{\"MetricName\":\"test:loss\",\"Value\":0.1678999960422516,\"Timestamp\":1596328.47},{\"MetricName\":\"test:accuracy\",\"Value\":95.0,\"Timestamp\":1596328.47}]},\"SdkHttpMetadata\":{\"AllHttpHeaders\":{\"X-Amz-Executed-Version\":[\"$LATEST\"],\"x-amzn-Remapped-Content-Length\":[\"0\"],\"Connection\":[\"keep-alive\"],\"x-amzn-RequestId\":[\"dc26133a-e358-4826-bb81-5c090556e140\"],\"Content-Length\":[\"282\"],\"Date\":[\"Sun, 02 Aug 2020 00:34:46 GMT\"],\"X-Amzn-Trace-Id\":[\"root=1-5f260a25-1e00ff566750ce8638146038;sampled=0\"],\"Content-Type\":[\"application/json\"]},\"HttpHeaders\":{\"Connection\":\"keep-alive\",\"Content-Length\":\"282\",\"Content-Type\":\"application/json\",\"Date\":\"Sun, 02 Aug 2020 00:34:46 GMT\",\"X-Amz-Executed-Version\":\"$LATEST\",\"x-amzn-Remapped-Content-Length\":\"0\",\"x-amzn-RequestId\":\"dc26133a-e358-4826-bb81-5c090556e140\",\"X-Amzn-Trace-Id\":\"root=1-5f260a25-1e00ff566750ce8638146038;sampled=0\"},\"HttpStatusCode\":200},\"SdkResponseMetadata\":{\"RequestId\":\"dc26133a-e358-4826-bb81-5c090556e140\"},\"StatusCode\":200}'}},\n",
       " {'timestamp': datetime.datetime(2020, 8, 2, 0, 34, 46, 152000, tzinfo=tzlocal()),\n",
       "  'type': 'TaskStateExited',\n",
       "  'id': 17,\n",
       "  'previousEventId': 16,\n",
       "  'stateExitedEventDetails': {'name': 'Query Training Results',\n",
       "   'output': '{\"ExecutedVersion\":\"$LATEST\",\"Payload\":{\"statusCode\":200,\"trainingMetrics\":[{\"MetricName\":\"train:loss\",\"Value\":0.39608898758888245,\"Timestamp\":1596328.467},{\"MetricName\":\"test:loss\",\"Value\":0.1678999960422516,\"Timestamp\":1596328.47},{\"MetricName\":\"test:accuracy\",\"Value\":95.0,\"Timestamp\":1596328.47}]},\"SdkHttpMetadata\":{\"AllHttpHeaders\":{\"X-Amz-Executed-Version\":[\"$LATEST\"],\"x-amzn-Remapped-Content-Length\":[\"0\"],\"Connection\":[\"keep-alive\"],\"x-amzn-RequestId\":[\"dc26133a-e358-4826-bb81-5c090556e140\"],\"Content-Length\":[\"282\"],\"Date\":[\"Sun, 02 Aug 2020 00:34:46 GMT\"],\"X-Amzn-Trace-Id\":[\"root=1-5f260a25-1e00ff566750ce8638146038;sampled=0\"],\"Content-Type\":[\"application/json\"]},\"HttpHeaders\":{\"Connection\":\"keep-alive\",\"Content-Length\":\"282\",\"Content-Type\":\"application/json\",\"Date\":\"Sun, 02 Aug 2020 00:34:46 GMT\",\"X-Amz-Executed-Version\":\"$LATEST\",\"x-amzn-Remapped-Content-Length\":\"0\",\"x-amzn-RequestId\":\"dc26133a-e358-4826-bb81-5c090556e140\",\"X-Amzn-Trace-Id\":\"root=1-5f260a25-1e00ff566750ce8638146038;sampled=0\"},\"HttpStatusCode\":200},\"SdkResponseMetadata\":{\"RequestId\":\"dc26133a-e358-4826-bb81-5c090556e140\"},\"StatusCode\":200}'}},\n",
       " {'timestamp': datetime.datetime(2020, 8, 2, 0, 34, 46, 161000, tzinfo=tzlocal()),\n",
       "  'type': 'ChoiceStateEntered',\n",
       "  'id': 18,\n",
       "  'previousEventId': 17,\n",
       "  'stateEnteredEventDetails': {'name': 'Accuracy > 50%',\n",
       "   'input': '{\"ExecutedVersion\":\"$LATEST\",\"Payload\":{\"statusCode\":200,\"trainingMetrics\":[{\"MetricName\":\"train:loss\",\"Value\":0.39608898758888245,\"Timestamp\":1596328.467},{\"MetricName\":\"test:loss\",\"Value\":0.1678999960422516,\"Timestamp\":1596328.47},{\"MetricName\":\"test:accuracy\",\"Value\":95.0,\"Timestamp\":1596328.47}]},\"SdkHttpMetadata\":{\"AllHttpHeaders\":{\"X-Amz-Executed-Version\":[\"$LATEST\"],\"x-amzn-Remapped-Content-Length\":[\"0\"],\"Connection\":[\"keep-alive\"],\"x-amzn-RequestId\":[\"dc26133a-e358-4826-bb81-5c090556e140\"],\"Content-Length\":[\"282\"],\"Date\":[\"Sun, 02 Aug 2020 00:34:46 GMT\"],\"X-Amzn-Trace-Id\":[\"root=1-5f260a25-1e00ff566750ce8638146038;sampled=0\"],\"Content-Type\":[\"application/json\"]},\"HttpHeaders\":{\"Connection\":\"keep-alive\",\"Content-Length\":\"282\",\"Content-Type\":\"application/json\",\"Date\":\"Sun, 02 Aug 2020 00:34:46 GMT\",\"X-Amz-Executed-Version\":\"$LATEST\",\"x-amzn-Remapped-Content-Length\":\"0\",\"x-amzn-RequestId\":\"dc26133a-e358-4826-bb81-5c090556e140\",\"X-Amzn-Trace-Id\":\"root=1-5f260a25-1e00ff566750ce8638146038;sampled=0\"},\"HttpStatusCode\":200},\"SdkResponseMetadata\":{\"RequestId\":\"dc26133a-e358-4826-bb81-5c090556e140\"},\"StatusCode\":200}'}},\n",
       " {'timestamp': datetime.datetime(2020, 8, 2, 0, 34, 46, 161000, tzinfo=tzlocal()),\n",
       "  'type': 'ChoiceStateExited',\n",
       "  'id': 19,\n",
       "  'previousEventId': 18,\n",
       "  'stateExitedEventDetails': {'name': 'Accuracy > 50%',\n",
       "   'output': '{\"ExecutedVersion\":\"$LATEST\",\"Payload\":{\"statusCode\":200,\"trainingMetrics\":[{\"MetricName\":\"train:loss\",\"Value\":0.39608898758888245,\"Timestamp\":1596328.467},{\"MetricName\":\"test:loss\",\"Value\":0.1678999960422516,\"Timestamp\":1596328.47},{\"MetricName\":\"test:accuracy\",\"Value\":95.0,\"Timestamp\":1596328.47}]},\"SdkHttpMetadata\":{\"AllHttpHeaders\":{\"X-Amz-Executed-Version\":[\"$LATEST\"],\"x-amzn-Remapped-Content-Length\":[\"0\"],\"Connection\":[\"keep-alive\"],\"x-amzn-RequestId\":[\"dc26133a-e358-4826-bb81-5c090556e140\"],\"Content-Length\":[\"282\"],\"Date\":[\"Sun, 02 Aug 2020 00:34:46 GMT\"],\"X-Amzn-Trace-Id\":[\"root=1-5f260a25-1e00ff566750ce8638146038;sampled=0\"],\"Content-Type\":[\"application/json\"]},\"HttpHeaders\":{\"Connection\":\"keep-alive\",\"Content-Length\":\"282\",\"Content-Type\":\"application/json\",\"Date\":\"Sun, 02 Aug 2020 00:34:46 GMT\",\"X-Amz-Executed-Version\":\"$LATEST\",\"x-amzn-Remapped-Content-Length\":\"0\",\"x-amzn-RequestId\":\"dc26133a-e358-4826-bb81-5c090556e140\",\"X-Amzn-Trace-Id\":\"root=1-5f260a25-1e00ff566750ce8638146038;sampled=0\"},\"HttpStatusCode\":200},\"SdkResponseMetadata\":{\"RequestId\":\"dc26133a-e358-4826-bb81-5c090556e140\"},\"StatusCode\":200}'}},\n",
       " {'timestamp': datetime.datetime(2020, 8, 2, 0, 34, 46, 261000, tzinfo=tzlocal()),\n",
       "  'type': 'TaskStateEntered',\n",
       "  'id': 20,\n",
       "  'previousEventId': 19,\n",
       "  'stateEnteredEventDetails': {'name': 'Create Model Endpoint Config',\n",
       "   'input': '{\"ExecutedVersion\":\"$LATEST\",\"Payload\":{\"statusCode\":200,\"trainingMetrics\":[{\"MetricName\":\"train:loss\",\"Value\":0.39608898758888245,\"Timestamp\":1596328.467},{\"MetricName\":\"test:loss\",\"Value\":0.1678999960422516,\"Timestamp\":1596328.47},{\"MetricName\":\"test:accuracy\",\"Value\":95.0,\"Timestamp\":1596328.47}]},\"SdkHttpMetadata\":{\"AllHttpHeaders\":{\"X-Amz-Executed-Version\":[\"$LATEST\"],\"x-amzn-Remapped-Content-Length\":[\"0\"],\"Connection\":[\"keep-alive\"],\"x-amzn-RequestId\":[\"dc26133a-e358-4826-bb81-5c090556e140\"],\"Content-Length\":[\"282\"],\"Date\":[\"Sun, 02 Aug 2020 00:34:46 GMT\"],\"X-Amzn-Trace-Id\":[\"root=1-5f260a25-1e00ff566750ce8638146038;sampled=0\"],\"Content-Type\":[\"application/json\"]},\"HttpHeaders\":{\"Connection\":\"keep-alive\",\"Content-Length\":\"282\",\"Content-Type\":\"application/json\",\"Date\":\"Sun, 02 Aug 2020 00:34:46 GMT\",\"X-Amz-Executed-Version\":\"$LATEST\",\"x-amzn-Remapped-Content-Length\":\"0\",\"x-amzn-RequestId\":\"dc26133a-e358-4826-bb81-5c090556e140\",\"X-Amzn-Trace-Id\":\"root=1-5f260a25-1e00ff566750ce8638146038;sampled=0\"},\"HttpStatusCode\":200},\"SdkResponseMetadata\":{\"RequestId\":\"dc26133a-e358-4826-bb81-5c090556e140\"},\"StatusCode\":200}'}},\n",
       " {'timestamp': datetime.datetime(2020, 8, 2, 0, 34, 46, 261000, tzinfo=tzlocal()),\n",
       "  'type': 'TaskScheduled',\n",
       "  'id': 21,\n",
       "  'previousEventId': 20,\n",
       "  'taskScheduledEventDetails': {'resourceType': 'sagemaker',\n",
       "   'resource': 'createEndpointConfig',\n",
       "   'region': 'us-east-1',\n",
       "   'parameters': '{\"ProductionVariants\":[{\"InitialInstanceCount\":1,\"InstanceType\":\"ml.m4.xlarge\",\"VariantName\":\"pthVariant\",\"ModelName\":\"MNIST-a690a0cb540c4f29b6c34ecaf808df81\"}],\"DataCaptureConfig\":{\"EnableCapture\":true,\"InitialSamplingPercentage\":100,\"DestinationS3Uri\":\"s3://sagemaker-experiments-us-east-1-725879053979/mnist/endpoint_monitoring/\",\"CaptureOptions\":[{\"CaptureMode\":\"Input\"},{\"CaptureMode\":\"Output\"}],\"CaptureContentTypeHeader\":{\"CsvContentTypes\":[\"text/csv\"],\"JsonContentTypes\":[\"application/json\"]}},\"EndpointConfigName\":\"MNIST-a690a0cb540c4f29b6c34ecaf808df81\"}'}},\n",
       " {'timestamp': datetime.datetime(2020, 8, 2, 0, 34, 46, 271000, tzinfo=tzlocal()),\n",
       "  'type': 'TaskStarted',\n",
       "  'id': 22,\n",
       "  'previousEventId': 21,\n",
       "  'taskStartedEventDetails': {'resourceType': 'sagemaker',\n",
       "   'resource': 'createEndpointConfig'}},\n",
       " {'timestamp': datetime.datetime(2020, 8, 2, 0, 34, 46, 357000, tzinfo=tzlocal()),\n",
       "  'type': 'TaskSucceeded',\n",
       "  'id': 23,\n",
       "  'previousEventId': 22,\n",
       "  'taskSucceededEventDetails': {'resourceType': 'sagemaker',\n",
       "   'resource': 'createEndpointConfig',\n",
       "   'output': '{\"EndpointConfigArn\":\"arn:aws:sagemaker:us-east-1:725879053979:endpoint-config/mnist-a690a0cb540c4f29b6c34ecaf808df81\",\"SdkHttpMetadata\":{\"AllHttpHeaders\":{\"x-amzn-RequestId\":[\"7d7eff40-649c-4add-86df-0cf589bf8cea\"],\"Content-Length\":[\"119\"],\"Date\":[\"Sun, 02 Aug 2020 00:34:46 GMT\"],\"Content-Type\":[\"application/x-amz-json-1.1\"]},\"HttpHeaders\":{\"Content-Length\":\"119\",\"Content-Type\":\"application/x-amz-json-1.1\",\"Date\":\"Sun, 02 Aug 2020 00:34:46 GMT\",\"x-amzn-RequestId\":\"7d7eff40-649c-4add-86df-0cf589bf8cea\"},\"HttpStatusCode\":200},\"SdkResponseMetadata\":{\"RequestId\":\"7d7eff40-649c-4add-86df-0cf589bf8cea\"}}'}},\n",
       " {'timestamp': datetime.datetime(2020, 8, 2, 0, 34, 46, 357000, tzinfo=tzlocal()),\n",
       "  'type': 'TaskStateExited',\n",
       "  'id': 24,\n",
       "  'previousEventId': 23,\n",
       "  'stateExitedEventDetails': {'name': 'Create Model Endpoint Config',\n",
       "   'output': '{\"EndpointConfigArn\":\"arn:aws:sagemaker:us-east-1:725879053979:endpoint-config/mnist-a690a0cb540c4f29b6c34ecaf808df81\",\"SdkHttpMetadata\":{\"AllHttpHeaders\":{\"x-amzn-RequestId\":[\"7d7eff40-649c-4add-86df-0cf589bf8cea\"],\"Content-Length\":[\"119\"],\"Date\":[\"Sun, 02 Aug 2020 00:34:46 GMT\"],\"Content-Type\":[\"application/x-amz-json-1.1\"]},\"HttpHeaders\":{\"Content-Length\":\"119\",\"Content-Type\":\"application/x-amz-json-1.1\",\"Date\":\"Sun, 02 Aug 2020 00:34:46 GMT\",\"x-amzn-RequestId\":\"7d7eff40-649c-4add-86df-0cf589bf8cea\"},\"HttpStatusCode\":200},\"SdkResponseMetadata\":{\"RequestId\":\"7d7eff40-649c-4add-86df-0cf589bf8cea\"}}'}},\n",
       " {'timestamp': datetime.datetime(2020, 8, 2, 0, 34, 46, 428000, tzinfo=tzlocal()),\n",
       "  'type': 'TaskStateEntered',\n",
       "  'id': 25,\n",
       "  'previousEventId': 24,\n",
       "  'stateEnteredEventDetails': {'name': 'Update Model Endpoint',\n",
       "   'input': '{\"EndpointConfigArn\":\"arn:aws:sagemaker:us-east-1:725879053979:endpoint-config/mnist-a690a0cb540c4f29b6c34ecaf808df81\",\"SdkHttpMetadata\":{\"AllHttpHeaders\":{\"x-amzn-RequestId\":[\"7d7eff40-649c-4add-86df-0cf589bf8cea\"],\"Content-Length\":[\"119\"],\"Date\":[\"Sun, 02 Aug 2020 00:34:46 GMT\"],\"Content-Type\":[\"application/x-amz-json-1.1\"]},\"HttpHeaders\":{\"Content-Length\":\"119\",\"Content-Type\":\"application/x-amz-json-1.1\",\"Date\":\"Sun, 02 Aug 2020 00:34:46 GMT\",\"x-amzn-RequestId\":\"7d7eff40-649c-4add-86df-0cf589bf8cea\"},\"HttpStatusCode\":200},\"SdkResponseMetadata\":{\"RequestId\":\"7d7eff40-649c-4add-86df-0cf589bf8cea\"}}'}},\n",
       " {'timestamp': datetime.datetime(2020, 8, 2, 0, 34, 46, 428000, tzinfo=tzlocal()),\n",
       "  'type': 'TaskScheduled',\n",
       "  'id': 26,\n",
       "  'previousEventId': 25,\n",
       "  'taskScheduledEventDetails': {'resourceType': 'sagemaker',\n",
       "   'resource': 'createEndpoint',\n",
       "   'region': 'us-east-1',\n",
       "   'parameters': '{\"EndpointName\":\"PyTorchPipeline\",\"EndpointConfigName\":\"MNIST-a690a0cb540c4f29b6c34ecaf808df81\"}'}},\n",
       " {'timestamp': datetime.datetime(2020, 8, 2, 0, 34, 46, 437000, tzinfo=tzlocal()),\n",
       "  'type': 'TaskStarted',\n",
       "  'id': 27,\n",
       "  'previousEventId': 26,\n",
       "  'taskStartedEventDetails': {'resourceType': 'sagemaker',\n",
       "   'resource': 'createEndpoint'}},\n",
       " {'timestamp': datetime.datetime(2020, 8, 2, 0, 34, 46, 633000, tzinfo=tzlocal()),\n",
       "  'type': 'TaskSucceeded',\n",
       "  'id': 28,\n",
       "  'previousEventId': 27,\n",
       "  'taskSucceededEventDetails': {'resourceType': 'sagemaker',\n",
       "   'resource': 'createEndpoint',\n",
       "   'output': '{\"EndpointArn\":\"arn:aws:sagemaker:us-east-1:725879053979:endpoint/pytorchpipeline\",\"SdkHttpMetadata\":{\"AllHttpHeaders\":{\"x-amzn-RequestId\":[\"a0a0dddf-c9a6-41d7-aafc-1dda28d5afbe\"],\"Content-Length\":[\"83\"],\"Date\":[\"Sun, 02 Aug 2020 00:34:46 GMT\"],\"Content-Type\":[\"application/x-amz-json-1.1\"]},\"HttpHeaders\":{\"Content-Length\":\"83\",\"Content-Type\":\"application/x-amz-json-1.1\",\"Date\":\"Sun, 02 Aug 2020 00:34:46 GMT\",\"x-amzn-RequestId\":\"a0a0dddf-c9a6-41d7-aafc-1dda28d5afbe\"},\"HttpStatusCode\":200},\"SdkResponseMetadata\":{\"RequestId\":\"a0a0dddf-c9a6-41d7-aafc-1dda28d5afbe\"}}'}},\n",
       " {'timestamp': datetime.datetime(2020, 8, 2, 0, 34, 46, 633000, tzinfo=tzlocal()),\n",
       "  'type': 'TaskStateExited',\n",
       "  'id': 29,\n",
       "  'previousEventId': 28,\n",
       "  'stateExitedEventDetails': {'name': 'Update Model Endpoint',\n",
       "   'output': '{\"EndpointArn\":\"arn:aws:sagemaker:us-east-1:725879053979:endpoint/pytorchpipeline\",\"SdkHttpMetadata\":{\"AllHttpHeaders\":{\"x-amzn-RequestId\":[\"a0a0dddf-c9a6-41d7-aafc-1dda28d5afbe\"],\"Content-Length\":[\"83\"],\"Date\":[\"Sun, 02 Aug 2020 00:34:46 GMT\"],\"Content-Type\":[\"application/x-amz-json-1.1\"]},\"HttpHeaders\":{\"Content-Length\":\"83\",\"Content-Type\":\"application/x-amz-json-1.1\",\"Date\":\"Sun, 02 Aug 2020 00:34:46 GMT\",\"x-amzn-RequestId\":\"a0a0dddf-c9a6-41d7-aafc-1dda28d5afbe\"},\"HttpStatusCode\":200},\"SdkResponseMetadata\":{\"RequestId\":\"a0a0dddf-c9a6-41d7-aafc-1dda28d5afbe\"}}'}},\n",
       " {'timestamp': datetime.datetime(2020, 8, 2, 0, 34, 46, 633000, tzinfo=tzlocal()),\n",
       "  'type': 'ExecutionSucceeded',\n",
       "  'id': 30,\n",
       "  'previousEventId': 29,\n",
       "  'executionSucceededEventDetails': {'output': '{\"EndpointArn\":\"arn:aws:sagemaker:us-east-1:725879053979:endpoint/pytorchpipeline\",\"SdkHttpMetadata\":{\"AllHttpHeaders\":{\"x-amzn-RequestId\":[\"a0a0dddf-c9a6-41d7-aafc-1dda28d5afbe\"],\"Content-Length\":[\"83\"],\"Date\":[\"Sun, 02 Aug 2020 00:34:46 GMT\"],\"Content-Type\":[\"application/x-amz-json-1.1\"]},\"HttpHeaders\":{\"Content-Length\":\"83\",\"Content-Type\":\"application/x-amz-json-1.1\",\"Date\":\"Sun, 02 Aug 2020 00:34:46 GMT\",\"x-amzn-RequestId\":\"a0a0dddf-c9a6-41d7-aafc-1dda28d5afbe\"},\"HttpStatusCode\":200},\"SdkResponseMetadata\":{\"RequestId\":\"a0a0dddf-c9a6-41d7-aafc-1dda28d5afbe\"}}'}}]"
      ]
     },
     "execution_count": 52,
     "metadata": {},
     "output_type": "execute_result"
    }
   ],
   "source": [
    "execution.list_events() #html=True"
   ]
  },
  {
   "cell_type": "code",
   "execution_count": 53,
   "metadata": {},
   "outputs": [
    {
     "name": "stdout",
     "output_type": "stream",
     "text": [
      "Creating\n",
      "Creating\n",
      "Creating\n",
      "Creating\n",
      "Creating\n",
      "Creating\n",
      "Creating\n",
      "Creating\n",
      "Creating\n",
      "Creating\n",
      "Creating\n",
      "Creating\n",
      "Creating\n",
      "Creating\n",
      "Creating\n",
      "Creating\n",
      "Creating\n",
      "Creating\n",
      "Creating\n",
      "Creating\n",
      "Creating\n",
      "Creating\n",
      "Creating\n",
      "Creating\n",
      "Creating\n",
      "Creating\n",
      "Creating\n",
      "Creating\n",
      "Creating\n",
      "Creating\n",
      "Creating\n",
      "Creating\n",
      "Creating\n",
      "Creating\n",
      "Creating\n",
      "Creating\n",
      "Creating\n",
      "Creating\n",
      "Creating\n",
      "Creating\n",
      "Creating\n",
      "InService\n"
     ]
    }
   ],
   "source": [
    "import boto3\n",
    "sm_client = boto3.client('sagemaker')\n",
    "\n",
    "endpoint_status = 'Creating'\n",
    "while endpoint_status!='InService':\n",
    "    endpoint_status = sm_client.describe_endpoint(EndpointName=endpoint_name)['EndpointStatus']\n",
    "    print(endpoint_status)\n",
    "    time.sleep(10)"
   ]
  },
  {
   "cell_type": "markdown",
   "metadata": {},
   "source": [
    "### Realizando inferências\n",
    "\n",
    "Para desenvolvimento poderiamos usar apenas o `predictor.predict(my_payload)`, mas vamos usar o client do SageMaker Runtime (o que seria algo produtivo).\n"
   ]
  },
  {
   "cell_type": "code",
   "execution_count": 54,
   "metadata": {},
   "outputs": [],
   "source": [
    "import torch\n",
    "from torchvision import datasets, transforms\n",
    "import numpy as np\n",
    "import matplotlib.pyplot as plt"
   ]
  },
  {
   "cell_type": "code",
   "execution_count": 55,
   "metadata": {},
   "outputs": [],
   "source": [
    "# download the dataset\n",
    "# this will not only download data to ./mnist folder, but also load and transform (normalize) them\n",
    "train_set = datasets.MNIST('mnist', train=True, transform=transforms.Compose([\n",
    "        transforms.ToTensor(),\n",
    "        transforms.Normalize((0.1307,), (0.3081,))]), \n",
    "    download=True)\n",
    "                           \n",
    "test_set = datasets.MNIST('mnist', train=False, transform=transforms.Compose([\n",
    "        transforms.ToTensor(),\n",
    "        transforms.Normalize((0.1307,), (0.3081,))]),\n",
    "    download=False)"
   ]
  },
  {
   "cell_type": "code",
   "execution_count": 56,
   "metadata": {},
   "outputs": [
    {
     "data": {
      "text/plain": [
       "<matplotlib.image.AxesImage at 0x7f61b95b7fd0>"
      ]
     },
     "execution_count": 56,
     "metadata": {},
     "output_type": "execute_result"
    },
    {
     "data": {
      "image/png": "[encoded data removed]",
      "text/plain": [
       "<Figure size 432x288 with 1 Axes>"
      ]
     },
     "metadata": {
      "needs_background": "light"
     },
     "output_type": "display_data"
    }
   ],
   "source": [
    "loader = iter(torch.utils.data.DataLoader(train_set))\n",
    "\n",
    "i, l = next(loader)\n",
    "\n",
    "plt.imshow(i.squeeze().numpy())"
   ]
  },
  {
   "cell_type": "code",
   "execution_count": 57,
   "metadata": {},
   "outputs": [],
   "source": [
    "image = np.array(i.numpy(), dtype=np.float32)"
   ]
  },
  {
   "cell_type": "code",
   "execution_count": 58,
   "metadata": {},
   "outputs": [
    {
     "name": "stdout",
     "output_type": "stream",
     "text": [
      "endpoint name: PyTorchPipeline\n"
     ]
    }
   ],
   "source": [
    "# Usando SageMaker Runtime para inferências\n",
    "runtime = boto3.client('sagemaker-runtime')\n",
    "print('endpoint name:', endpoint_name)"
   ]
  },
  {
   "cell_type": "code",
   "execution_count": 59,
   "metadata": {},
   "outputs": [
    {
     "name": "stdout",
     "output_type": "stream",
     "text": [
      "5\n"
     ]
    }
   ],
   "source": [
    "from io import BytesIO\n",
    "\n",
    "#Serialise numpy ndarray as bytes\n",
    "buffer = BytesIO()\n",
    "# Assuming testX is a data frame\n",
    "np.save(buffer, image)\n",
    "\n",
    "response = runtime.invoke_endpoint(\n",
    "    EndpointName=endpoint_name,\n",
    "    Body=buffer.getvalue(),\n",
    "    ContentType='application/x-npy',\n",
    "    Accept='application/x-npy')\n",
    "\n",
    "prediction = response['Body'].read()\n",
    "stream = BytesIO(prediction)\n",
    "prediction = np.load(stream, allow_pickle=True)\n",
    "\n",
    "print(prediction.argmax(axis=1)[0])"
   ]
  },
  {
   "cell_type": "markdown",
   "metadata": {},
   "source": [
    "**Enviando tráfego artificial ao nosso endpoint**"
   ]
  },
  {
   "cell_type": "code",
   "execution_count": 60,
   "metadata": {},
   "outputs": [],
   "source": [
    "from stress import stress_button"
   ]
  },
  {
   "cell_type": "code",
   "execution_count": 61,
   "metadata": {},
   "outputs": [
    {
     "data": {
      "application/vnd.jupyter.widget-view+json": {
       "model_id": "da0334c88afa45c6867bbdef54d0fe3a",
       "version_major": 2,
       "version_minor": 0
      },
      "text/plain": [
       "HBox(children=(Button(button_style='success', description='Run stress test', icon='check', style=ButtonStyle()…"
      ]
     },
     "metadata": {},
     "output_type": "display_data"
    }
   ],
   "source": [
    "stress_button"
   ]
  },
  {
   "cell_type": "markdown",
   "metadata": {},
   "source": [
    "Note that you need to stop the kernel to stop the invocations."
   ]
  },
  {
   "cell_type": "markdown",
   "metadata": {},
   "source": [
    "### See traffic metrics and data captured"
   ]
  },
  {
   "cell_type": "markdown",
   "metadata": {},
   "source": [
    "In your `CustomerChurnMLPipeline` endpoint in SageMaker, select the S3 bucket where the data captured from requests and predictions are stored:\n",
    "\n",
    "![sm_ep_data_capture](./imgs/sm_ep_data_capture.png)\n",
    "\n",
    "We should see objects being saved in the S3 bucket:\n",
    "![s3_data_capture](./imgs/s3_data_capture.png)\n",
    "\n",
    "In your `CustomerChurnMLPipeline` endpoint in SageMaker, click on the `View invocation metrics` link. We will be redirected to the CloudWatch console:\n",
    "![sm_cw_metrics](./imgs/sm_ep_metrics.png)\n",
    "\n",
    "For CloudWatch, <a href=\"https://console.aws.amazon.com/cloudwatch/home?region=us-east-1#metricsV2:graph=~(metrics~(~(~'AWS*2fSageMaker~'Invocations~'EndpointName~'CustomerChurnMLPipeline~'VariantName~'xgbVariant))~view~'timeSeries~stacked~false~region~'us-east-1~start~'-PT5M~end~'P0D~stat~'Sum~period~60);query=~'*7bAWS*2fSageMaker*2cEndpointName*2cVariantName*7d*20CustomerChurnMLPipeline\">just click here.</a>\n",
    "\n",
    "OR\n",
    "\n",
    "Configure the Dashboard by selecting the metric `Invocations` and in the `Graphics metrics` choose Invocations and `Sum` in `Statistic`. Choose `Period` equals to 1 Minute and modify graphics in the top to show the window of 5 minutes.\n",
    "\n",
    "![sm_ep_metrics](./imgs/sm_cw_metrics.png)"
   ]
  },
  {
   "cell_type": "markdown",
   "metadata": {},
   "source": [
    "### Cleanup"
   ]
  },
  {
   "cell_type": "code",
   "execution_count": 62,
   "metadata": {},
   "outputs": [],
   "source": [
    "# # delete \n",
    "# workflow_training.delete()\n",
    "# workflow_deploy.delete()\n",
    "\n",
    "# # delete monitor\n",
    "# # delete endpoint\n",
    "# # delete endpoint config\n",
    "# # delete model\n",
    "\n",
    "\n",
    "# lambda_client.delete_function(function_name)\n",
    "\n",
    "# !aws cloudformation delete-stack --stack-name {stack_name} --template-body file://cfns/cfn-config-ml-pipeline.json --parameters ParameterKey=NotebookRoleArn,ParameterValue={sm_arn} --capabilities CAPABILITY_NAMED_IAM\n"
   ]
  }
 ],
 "metadata": {
  "kernelspec": {
   "display_name": "conda_pytorch_p36",
   "language": "python",
   "name": "conda_pytorch_p36"
  },
  "language_info": {
   "codemirror_mode": {
    "name": "ipython",
    "version": 3
   },
   "file_extension": ".py",
   "mimetype": "text/x-python",
   "name": "python",
   "nbconvert_exporter": "python",
   "pygments_lexer": "ipython3",
   "version": "3.6.10"
  }
 },
 "nbformat": 4,
 "nbformat_minor": 4
}
