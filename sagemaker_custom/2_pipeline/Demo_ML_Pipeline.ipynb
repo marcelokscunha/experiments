{
 "cells": [
  {
   "cell_type": "markdown",
   "metadata": {},
   "source": [
    "## Setup\n",
    "\n",
    "First, we'll need to install and load all the required modules. Then we'll create fine-grained IAM roles for the Lambda, Glue, and Step Functions resources that we will create. The IAM roles grant the services permissions within your AWS environment."
   ]
  },
  {
   "cell_type": "code",
   "execution_count": 1,
   "metadata": {
    "scrolled": true
   },
   "outputs": [
    {
     "name": "stdout",
     "output_type": "stream",
     "text": [
      "Requirement already up-to-date: stepfunctions in /home/ec2-user/anaconda3/envs/python3/lib/python3.6/site-packages (1.1.1)\n",
      "Requirement already satisfied, skipping upgrade: boto3>=1.9.213 in /home/ec2-user/anaconda3/envs/python3/lib/python3.6/site-packages (from stepfunctions) (1.14.16)\n",
      "Requirement already satisfied, skipping upgrade: sagemaker<2.0.0,>=1.71.0 in /home/ec2-user/anaconda3/envs/python3/lib/python3.6/site-packages (from stepfunctions) (1.72.0)\n",
      "Requirement already satisfied, skipping upgrade: pyyaml in /home/ec2-user/anaconda3/envs/python3/lib/python3.6/site-packages (from stepfunctions) (5.3.1)\n",
      "Requirement already satisfied, skipping upgrade: botocore<1.18.0,>=1.17.16 in /home/ec2-user/anaconda3/envs/python3/lib/python3.6/site-packages (from boto3>=1.9.213->stepfunctions) (1.17.16)\n",
      "Requirement already satisfied, skipping upgrade: s3transfer<0.4.0,>=0.3.0 in /home/ec2-user/anaconda3/envs/python3/lib/python3.6/site-packages (from boto3>=1.9.213->stepfunctions) (0.3.3)\n",
      "Requirement already satisfied, skipping upgrade: jmespath<1.0.0,>=0.7.1 in /home/ec2-user/anaconda3/envs/python3/lib/python3.6/site-packages (from boto3>=1.9.213->stepfunctions) (0.9.4)\n",
      "Requirement already satisfied, skipping upgrade: scipy>=0.19.0 in /home/ec2-user/anaconda3/envs/python3/lib/python3.6/site-packages (from sagemaker<2.0.0,>=1.71.0->stepfunctions) (1.4.1)\n",
      "Requirement already satisfied, skipping upgrade: smdebug-rulesconfig==0.1.4 in /home/ec2-user/anaconda3/envs/python3/lib/python3.6/site-packages (from sagemaker<2.0.0,>=1.71.0->stepfunctions) (0.1.4)\n",
      "Requirement already satisfied, skipping upgrade: packaging>=20.0 in /home/ec2-user/anaconda3/envs/python3/lib/python3.6/site-packages (from sagemaker<2.0.0,>=1.71.0->stepfunctions) (20.3)\n",
      "Requirement already satisfied, skipping upgrade: importlib-metadata>=1.4.0 in /home/ec2-user/anaconda3/envs/python3/lib/python3.6/site-packages (from sagemaker<2.0.0,>=1.71.0->stepfunctions) (1.5.0)\n",
      "Requirement already satisfied, skipping upgrade: protobuf>=3.1 in /home/ec2-user/anaconda3/envs/python3/lib/python3.6/site-packages (from sagemaker<2.0.0,>=1.71.0->stepfunctions) (3.12.2)\n",
      "Requirement already satisfied, skipping upgrade: protobuf3-to-dict>=0.1.5 in /home/ec2-user/anaconda3/envs/python3/lib/python3.6/site-packages (from sagemaker<2.0.0,>=1.71.0->stepfunctions) (0.1.5)\n",
      "Requirement already satisfied, skipping upgrade: numpy>=1.9.0 in /home/ec2-user/anaconda3/envs/python3/lib/python3.6/site-packages (from sagemaker<2.0.0,>=1.71.0->stepfunctions) (1.18.1)\n",
      "Requirement already satisfied, skipping upgrade: docutils<0.16,>=0.10 in /home/ec2-user/anaconda3/envs/python3/lib/python3.6/site-packages (from botocore<1.18.0,>=1.17.16->boto3>=1.9.213->stepfunctions) (0.15.2)\n",
      "Requirement already satisfied, skipping upgrade: python-dateutil<3.0.0,>=2.1 in /home/ec2-user/anaconda3/envs/python3/lib/python3.6/site-packages (from botocore<1.18.0,>=1.17.16->boto3>=1.9.213->stepfunctions) (2.8.1)\n",
      "Requirement already satisfied, skipping upgrade: urllib3<1.26,>=1.20; python_version != \"3.4\" in /home/ec2-user/anaconda3/envs/python3/lib/python3.6/site-packages (from botocore<1.18.0,>=1.17.16->boto3>=1.9.213->stepfunctions) (1.25.8)\n",
      "Requirement already satisfied, skipping upgrade: pyparsing>=2.0.2 in /home/ec2-user/anaconda3/envs/python3/lib/python3.6/site-packages (from packaging>=20.0->sagemaker<2.0.0,>=1.71.0->stepfunctions) (2.4.6)\n",
      "Requirement already satisfied, skipping upgrade: six in /home/ec2-user/anaconda3/envs/python3/lib/python3.6/site-packages (from packaging>=20.0->sagemaker<2.0.0,>=1.71.0->stepfunctions) (1.14.0)\n",
      "Requirement already satisfied, skipping upgrade: zipp>=0.5 in /home/ec2-user/anaconda3/envs/python3/lib/python3.6/site-packages (from importlib-metadata>=1.4.0->sagemaker<2.0.0,>=1.71.0->stepfunctions) (2.2.0)\n",
      "Requirement already satisfied, skipping upgrade: setuptools in /home/ec2-user/anaconda3/envs/python3/lib/python3.6/site-packages (from protobuf>=3.1->sagemaker<2.0.0,>=1.71.0->stepfunctions) (46.1.3.post20200330)\n",
      "\u001b[33mWARNING: You are using pip version 20.0.2; however, version 20.2.2 is available.\n",
      "You should consider upgrading via the '/home/ec2-user/anaconda3/envs/python3/bin/python -m pip install --upgrade pip' command.\u001b[0m\n"
     ]
    }
   ],
   "source": [
    "import sys\n",
    "!{sys.executable} -m pip install --upgrade stepfunctions"
   ]
  },
  {
   "cell_type": "code",
   "execution_count": 2,
   "metadata": {},
   "outputs": [],
   "source": [
    "import uuid\n",
    "import time\n",
    "import logging\n",
    "from IPython import display\n",
    "import stepfunctions\n",
    "import boto3\n",
    "import sagemaker\n",
    "\n",
    "from sagemaker.amazon.amazon_estimator import get_image_uri\n",
    "from sagemaker import get_execution_role\n",
    "from sagemaker import s3_input\n",
    "from sagemaker.s3 import S3Uploader\n",
    "from stepfunctions import steps\n",
    "from stepfunctions.steps import TrainingStep, ModelStep\n",
    "from stepfunctions.inputs import ExecutionInput\n",
    "from stepfunctions.workflow import Workflow"
   ]
  },
  {
   "cell_type": "code",
   "execution_count": 3,
   "metadata": {},
   "outputs": [],
   "source": [
    "session = sagemaker.Session()\n",
    "stepfunctions.set_stream_logger(level=logging.INFO)\n",
    "\n",
    "region = boto3.Session().region_name\n",
    "sm_arn = get_execution_role()\n",
    "id = uuid.uuid4().hex\n",
    "\n",
    "#Create a unique name for the AWS Glue job to be created. If you change the \n",
    "#default name, you may need to change the Step Functions execution role.\n",
    "glue_job_name = 'glue-iris-etl-{}'.format(id)\n",
    "\n",
    "#Create a unique name for the AWS Lambda function to be created. If you change\n",
    "#the default name, you may need to change the Step Functions execution role.\n",
    "function_name = 'query-training-status-{}'.format(id)"
   ]
  },
  {
   "cell_type": "code",
   "execution_count": 4,
   "metadata": {},
   "outputs": [
    {
     "name": "stdout",
     "output_type": "stream",
     "text": [
      "Notebook instance Role ARN: arn:aws:iam::725879053979:role/MLOps\n",
      "Stack Name: ml-pipeline-config\n"
     ]
    }
   ],
   "source": [
    "print('Notebook instance Role ARN:', sm_arn)\n",
    "stack_name='ml-pipeline-config'\n",
    "print('Stack Name:', stack_name)"
   ]
  },
  {
   "cell_type": "code",
   "execution_count": 5,
   "metadata": {},
   "outputs": [
    {
     "name": "stdout",
     "output_type": "stream",
     "text": [
      "{\r\n",
      "    \"StackId\": \"arn:aws:cloudformation:us-east-1:725879053979:stack/ml-pipeline-config/4d42c2b0-dc1b-11ea-bb1f-0ee5b74c6229\"\r\n",
      "}\r\n"
     ]
    }
   ],
   "source": [
    "!aws cloudformation create-stack --stack-name {stack_name} --template-body file://cfns/cfn-config-ml-pipeline.json --parameters ParameterKey=NotebookRoleArn,ParameterValue={sm_arn} --capabilities CAPABILITY_NAMED_IAM\n",
    "!aws cloudformation wait stack-create-complete --stack-name {stack_name}"
   ]
  },
  {
   "cell_type": "code",
   "execution_count": 6,
   "metadata": {},
   "outputs": [],
   "source": [
    "# Let's save Cfn output variables to make it easier\n",
    "bucket = !aws cloudformation describe-stacks --stack-name {stack_name} --query \"Stacks[0].Outputs[?OutputKey=='S3PipelineBucket'].OutputValue\" --output text; \n",
    "bucket = bucket.s\n",
    "\n",
    "step_functions_role_arn = !aws cloudformation describe-stacks --stack-name {stack_name} --query \"Stacks[0].Outputs[?OutputKey=='StepFunctionsRoleArn'].OutputValue\" --output text; \n",
    "step_functions_role_arn = step_functions_role_arn.s\n",
    "\n",
    "glue_role_arn = !aws cloudformation describe-stacks --stack-name {stack_name} --query \"Stacks[0].Outputs[?OutputKey=='GlueRoleArn'].OutputValue\" --output text; \n",
    "glue_role_arn = glue_role_arn.s\n",
    "\n",
    "lambda_role_arn = !aws cloudformation describe-stacks --stack-name {stack_name} --query \"Stacks[0].Outputs[?OutputKey=='LambdaRoleArn'].OutputValue\" --output text; \n",
    "lambda_role_arn = lambda_role_arn.s\n"
   ]
  },
  {
   "cell_type": "code",
   "execution_count": 7,
   "metadata": {},
   "outputs": [
    {
     "name": "stdout",
     "output_type": "stream",
     "text": [
      "ecr_repository_name: iris-model\n",
      "account_id: 725879053979\n",
      "region: us-east-1\n",
      "SageMaker notebook instance role: arn:aws:iam::725879053979:role/MLOps\n",
      "Bucket Name: ml-pipeline-725879053979\n",
      "step_functions_role_arn: arn:aws:iam::725879053979:role/StepFunctions_DSSDK-725879053979\n",
      "glue_role_arn: arn:aws:iam::725879053979:role/AWS-Glue-S3-Bucket-Access-725879053979\n",
      "lambda_role_arn: arn:aws:iam::725879053979:role/query_training_status-role-725879053979\n"
     ]
    }
   ],
   "source": [
    "ecr_repository_name = 'iris-model'\n",
    "role = get_execution_role()\n",
    "account_id = role.split(':')[4]\n",
    "region = boto3.Session().region_name\n",
    "sagemaker_session = sagemaker.session.Session()\n",
    "\n",
    "print('ecr_repository_name:', ecr_repository_name)\n",
    "print('account_id:',account_id)\n",
    "print('region:',region)\n",
    "print('SageMaker notebook instance role:',role)\n",
    "print(\"Bucket Name:\", bucket)\n",
    "print(\"step_functions_role_arn:\", step_functions_role_arn)\n",
    "print(\"glue_role_arn:\",glue_role_arn)\n",
    "print(\"lambda_role_arn:\",lambda_role_arn)"
   ]
  },
  {
   "cell_type": "markdown",
   "metadata": {},
   "source": [
    "### Prepare the Dataset"
   ]
  },
  {
   "cell_type": "code",
   "execution_count": 8,
   "metadata": {},
   "outputs": [
    {
     "name": "stdout",
     "output_type": "stream",
     "text": [
      "source_data: s3://ml-pipeline-725879053979/iris-classification/raw/\n",
      "train_data: s3://ml-pipeline-725879053979/iris-classification/train/\n",
      "validation_data: s3://ml-pipeline-725879053979/iris-classification/test/\n"
     ]
    }
   ],
   "source": [
    "project_name = 'iris-classification' #same name of previous S3 path for our iris-classification project\n",
    "\n",
    "#Remember that data was already uploaded in the following structure in the S3 bucket:\n",
    "# /MY-BUCKET (bb-wksp in my case)\n",
    "# │ \n",
    "# └── iris-classification (our project name)\n",
    "#     ├── raw\n",
    "#     ├── train \n",
    "#     └── validation\n",
    "\n",
    "raw_prefix = 'raw'\n",
    "train_prefix = 'train'\n",
    "test_prefix = 'test'\n",
    "\n",
    "source_data = 's3://{}/{}/{}/'.format(bucket, project_name, raw_prefix) \n",
    "train_data = 's3://{}/{}/{}/'.format(bucket, project_name, train_prefix)\n",
    "validation_data = 's3://{}/{}/{}/'.format(bucket, project_name, test_prefix)\n",
    "\n",
    "print('source_data:',source_data) \n",
    "print('train_data:',train_data) \n",
    "print('validation_data:',validation_data)"
   ]
  },
  {
   "cell_type": "code",
   "execution_count": 9,
   "metadata": {},
   "outputs": [],
   "source": [
    "s3 = boto3.client('s3')\n",
    "file_name = '../0_custom_train/notebook/data/iris.csv'\n",
    "object_name = '{}/{}/iris-raw.csv'.format(project_name, raw_prefix)\n",
    "s3.upload_file(file_name, bucket, object_name)"
   ]
  },
  {
   "cell_type": "markdown",
   "metadata": {},
   "source": [
    "## Create Resources\n",
    "In the following steps we'll create the Glue job and Lambda function that are called from the Step Functions workflow.\n",
    "\n",
    "### Create the AWS Glue Job"
   ]
  },
  {
   "cell_type": "code",
   "execution_count": 66,
   "metadata": {},
   "outputs": [
    {
     "name": "stdout",
     "output_type": "stream",
     "text": [
      "code_path: s3://ml-pipeline-725879053979/iris-classification/code\n"
     ]
    }
   ],
   "source": [
    "code_path = 's3://{}/{}/code'.format(bucket, project_name)\n",
    "print('code_path:', code_path)"
   ]
  },
  {
   "cell_type": "code",
   "execution_count": 67,
   "metadata": {},
   "outputs": [
    {
     "ename": "IdempotentParameterMismatchException",
     "evalue": "An error occurred (IdempotentParameterMismatchException) when calling the CreateJob operation: Job with name 'glue-iris-etl-9b748bace2f64f9590851bf61663ce2f' already submitted with different configuration",
     "output_type": "error",
     "traceback": [
      "\u001b[0;31m---------------------------------------------------------------------------\u001b[0m",
      "\u001b[0;31mIdempotentParameterMismatchException\u001b[0m      Traceback (most recent call last)",
      "\u001b[0;32m<ipython-input-67-933962ed9268>\u001b[0m in \u001b[0;36m<module>\u001b[0;34m\u001b[0m\n\u001b[1;32m     22\u001b[0m     \u001b[0mWorkerType\u001b[0m\u001b[0;34m=\u001b[0m\u001b[0;34m'Standard'\u001b[0m\u001b[0;34m,\u001b[0m\u001b[0;34m\u001b[0m\u001b[0;34m\u001b[0m\u001b[0m\n\u001b[1;32m     23\u001b[0m     \u001b[0mNumberOfWorkers\u001b[0m\u001b[0;34m=\u001b[0m\u001b[0;36m2\u001b[0m\u001b[0;34m,\u001b[0m\u001b[0;34m\u001b[0m\u001b[0;34m\u001b[0m\u001b[0m\n\u001b[0;32m---> 24\u001b[0;31m     \u001b[0mTimeout\u001b[0m\u001b[0;34m=\u001b[0m\u001b[0;36m60\u001b[0m\u001b[0;34m\u001b[0m\u001b[0;34m\u001b[0m\u001b[0m\n\u001b[0m\u001b[1;32m     25\u001b[0m )\n",
      "\u001b[0;32m~/anaconda3/envs/python3/lib/python3.6/site-packages/botocore/client.py\u001b[0m in \u001b[0;36m_api_call\u001b[0;34m(self, *args, **kwargs)\u001b[0m\n\u001b[1;32m    314\u001b[0m                     \"%s() only accepts keyword arguments.\" % py_operation_name)\n\u001b[1;32m    315\u001b[0m             \u001b[0;31m# The \"self\" in this scope is referring to the BaseClient.\u001b[0m\u001b[0;34m\u001b[0m\u001b[0;34m\u001b[0m\u001b[0;34m\u001b[0m\u001b[0m\n\u001b[0;32m--> 316\u001b[0;31m             \u001b[0;32mreturn\u001b[0m \u001b[0mself\u001b[0m\u001b[0;34m.\u001b[0m\u001b[0m_make_api_call\u001b[0m\u001b[0;34m(\u001b[0m\u001b[0moperation_name\u001b[0m\u001b[0;34m,\u001b[0m \u001b[0mkwargs\u001b[0m\u001b[0;34m)\u001b[0m\u001b[0;34m\u001b[0m\u001b[0;34m\u001b[0m\u001b[0m\n\u001b[0m\u001b[1;32m    317\u001b[0m \u001b[0;34m\u001b[0m\u001b[0m\n\u001b[1;32m    318\u001b[0m         \u001b[0m_api_call\u001b[0m\u001b[0;34m.\u001b[0m\u001b[0m__name__\u001b[0m \u001b[0;34m=\u001b[0m \u001b[0mstr\u001b[0m\u001b[0;34m(\u001b[0m\u001b[0mpy_operation_name\u001b[0m\u001b[0;34m)\u001b[0m\u001b[0;34m\u001b[0m\u001b[0;34m\u001b[0m\u001b[0m\n",
      "\u001b[0;32m~/anaconda3/envs/python3/lib/python3.6/site-packages/botocore/client.py\u001b[0m in \u001b[0;36m_make_api_call\u001b[0;34m(self, operation_name, api_params)\u001b[0m\n\u001b[1;32m    633\u001b[0m             \u001b[0merror_code\u001b[0m \u001b[0;34m=\u001b[0m \u001b[0mparsed_response\u001b[0m\u001b[0;34m.\u001b[0m\u001b[0mget\u001b[0m\u001b[0;34m(\u001b[0m\u001b[0;34m\"Error\"\u001b[0m\u001b[0;34m,\u001b[0m \u001b[0;34m{\u001b[0m\u001b[0;34m}\u001b[0m\u001b[0;34m)\u001b[0m\u001b[0;34m.\u001b[0m\u001b[0mget\u001b[0m\u001b[0;34m(\u001b[0m\u001b[0;34m\"Code\"\u001b[0m\u001b[0;34m)\u001b[0m\u001b[0;34m\u001b[0m\u001b[0;34m\u001b[0m\u001b[0m\n\u001b[1;32m    634\u001b[0m             \u001b[0merror_class\u001b[0m \u001b[0;34m=\u001b[0m \u001b[0mself\u001b[0m\u001b[0;34m.\u001b[0m\u001b[0mexceptions\u001b[0m\u001b[0;34m.\u001b[0m\u001b[0mfrom_code\u001b[0m\u001b[0;34m(\u001b[0m\u001b[0merror_code\u001b[0m\u001b[0;34m)\u001b[0m\u001b[0;34m\u001b[0m\u001b[0;34m\u001b[0m\u001b[0m\n\u001b[0;32m--> 635\u001b[0;31m             \u001b[0;32mraise\u001b[0m \u001b[0merror_class\u001b[0m\u001b[0;34m(\u001b[0m\u001b[0mparsed_response\u001b[0m\u001b[0;34m,\u001b[0m \u001b[0moperation_name\u001b[0m\u001b[0;34m)\u001b[0m\u001b[0;34m\u001b[0m\u001b[0;34m\u001b[0m\u001b[0m\n\u001b[0m\u001b[1;32m    636\u001b[0m         \u001b[0;32melse\u001b[0m\u001b[0;34m:\u001b[0m\u001b[0;34m\u001b[0m\u001b[0;34m\u001b[0m\u001b[0m\n\u001b[1;32m    637\u001b[0m             \u001b[0;32mreturn\u001b[0m \u001b[0mparsed_response\u001b[0m\u001b[0;34m\u001b[0m\u001b[0;34m\u001b[0m\u001b[0m\n",
      "\u001b[0;31mIdempotentParameterMismatchException\u001b[0m: An error occurred (IdempotentParameterMismatchException) when calling the CreateJob operation: Job with name 'glue-iris-etl-9b748bace2f64f9590851bf61663ce2f' already submitted with different configuration"
     ]
    }
   ],
   "source": [
    "glue_script_location = S3Uploader.upload(local_path='./code/simple_glue_etl.py',\n",
    "                               desired_s3_uri=code_path,\n",
    "                               session=session)\n",
    "glue_client = boto3.client('glue')\n",
    "\n",
    "response = glue_client.create_job(\n",
    "    Name=glue_job_name,\n",
    "    Description='PySpark job to extract the data and split in to training and validation data sets',\n",
    "    Role=glue_role_arn,\n",
    "    ExecutionProperty={\n",
    "        'MaxConcurrentRuns': 2\n",
    "    },\n",
    "    Command={\n",
    "        'Name': 'glueetl',\n",
    "        'ScriptLocation': glue_script_location,\n",
    "        'PythonVersion': '3'\n",
    "    },\n",
    "    DefaultArguments={\n",
    "        '--job-language': 'python'\n",
    "    },\n",
    "    GlueVersion='2.0',\n",
    "    WorkerType='Standard',\n",
    "    NumberOfWorkers=2,\n",
    "    Timeout=60\n",
    ")"
   ]
  },
  {
   "cell_type": "code",
   "execution_count": null,
   "metadata": {},
   "outputs": [],
   "source": [
    "response"
   ]
  },
  {
   "cell_type": "markdown",
   "metadata": {},
   "source": [
    "### Create the AWS Lambda Function"
   ]
  },
  {
   "cell_type": "code",
   "execution_count": 68,
   "metadata": {},
   "outputs": [
    {
     "data": {
      "text/plain": [
       "'s3://ml-pipeline-725879053979/iris-classification/code/query_training_status.zip'"
      ]
     },
     "execution_count": 68,
     "metadata": {},
     "output_type": "execute_result"
    }
   ],
   "source": [
    "import zipfile\n",
    "zip_name = 'query_training_status.zip'\n",
    "lambda_source_code = './code/query_training_status.py'\n",
    "\n",
    "zf = zipfile.ZipFile(zip_name, mode='w')\n",
    "zf.write(lambda_source_code, arcname=lambda_source_code.split('/')[-1])\n",
    "zf.close()\n",
    "\n",
    "S3Uploader.upload(local_path=zip_name, \n",
    "                  desired_s3_uri=code_path,\n",
    "                  session=session)"
   ]
  },
  {
   "cell_type": "code",
   "execution_count": 14,
   "metadata": {},
   "outputs": [],
   "source": [
    "lambda_client = boto3.client('lambda')\n",
    "\n",
    "response = lambda_client.create_function(\n",
    "    FunctionName=function_name,\n",
    "    Runtime='python3.7',\n",
    "    Role=lambda_role_arn,\n",
    "    Handler='query_training_status.lambda_handler',\n",
    "    Code={\n",
    "        'S3Bucket': bucket,\n",
    "        'S3Key': '{}/code/{}'.format(project_name, zip_name)\n",
    "    },\n",
    "    Description='Queries a SageMaker training job and return the results.',\n",
    "    Timeout=15,\n",
    "    MemorySize=128\n",
    ")"
   ]
  },
  {
   "cell_type": "code",
   "execution_count": 15,
   "metadata": {},
   "outputs": [
    {
     "data": {
      "text/plain": [
       "{'ResponseMetadata': {'RequestId': 'c2348ba5-7f03-4506-9e1a-bc6323efee5b',\n",
       "  'HTTPStatusCode': 201,\n",
       "  'HTTPHeaders': {'date': 'Tue, 11 Aug 2020 21:41:45 GMT',\n",
       "   'content-type': 'application/json',\n",
       "   'content-length': '1019',\n",
       "   'connection': 'keep-alive',\n",
       "   'x-amzn-requestid': 'c2348ba5-7f03-4506-9e1a-bc6323efee5b'},\n",
       "  'RetryAttempts': 0},\n",
       " 'FunctionName': 'query-training-status-9b748bace2f64f9590851bf61663ce2f',\n",
       " 'FunctionArn': 'arn:aws:lambda:us-east-1:725879053979:function:query-training-status-9b748bace2f64f9590851bf61663ce2f',\n",
       " 'Runtime': 'python3.7',\n",
       " 'Role': 'arn:aws:iam::725879053979:role/query_training_status-role-725879053979',\n",
       " 'Handler': 'query_training_status.lambda_handler',\n",
       " 'CodeSize': 1961,\n",
       " 'Description': 'Queries a SageMaker training job and return the results.',\n",
       " 'Timeout': 15,\n",
       " 'MemorySize': 128,\n",
       " 'LastModified': '2020-08-11T21:41:45.242+0000',\n",
       " 'CodeSha256': '+Z3yZDQJJH1cT+IHQeXOQBvqgFMxcAYIAPnj75UlqdU=',\n",
       " 'Version': '$LATEST',\n",
       " 'TracingConfig': {'Mode': 'PassThrough'},\n",
       " 'RevisionId': '0509b3e0-636c-40a4-882d-9cabd064415c',\n",
       " 'State': 'Active',\n",
       " 'LastUpdateStatus': 'Successful'}"
      ]
     },
     "execution_count": 15,
     "metadata": {},
     "output_type": "execute_result"
    }
   ],
   "source": [
    "response"
   ]
  },
  {
   "cell_type": "markdown",
   "metadata": {},
   "source": [
    "### Configure the SageMaker Estimator"
   ]
  },
  {
   "cell_type": "code",
   "execution_count": 16,
   "metadata": {},
   "outputs": [
    {
     "name": "stdout",
     "output_type": "stream",
     "text": [
      "SAGEMAKER TRAINING JOB CONFIGURATIONS:\n",
      "\n",
      "Container image URI:\n",
      " 725879053979.dkr.ecr.us-east-1.amazonaws.com/iris-model:latest\n",
      "\n",
      "Source tarball with training script:\n",
      " s3://sagemaker-us-east-1-725879053979/sagemaker-custom/code/sourcedir.tar.gz\n",
      "\n",
      "Python source file to be executed as the entry point to training:\n",
      " train.py\n"
     ]
    }
   ],
   "source": [
    "container_image_uri = f'{account_id}.dkr.ecr.us-east-1.amazonaws.com/iris-model:latest'\n",
    "sources = f's3://sagemaker-us-east-1-{account_id}/sagemaker-custom/code/sourcedir.tar.gz'\n",
    "entry_point = 'train.py'\n",
    "\n",
    "print('SAGEMAKER TRAINING JOB CONFIGURATIONS:\\n')\n",
    "print('Container image URI:\\n', container_image_uri)\n",
    "print('\\nSource tarball with training script:\\n', sources)\n",
    "print('\\nPython source file to be executed as the entry point to training:\\n', entry_point)"
   ]
  },
  {
   "cell_type": "code",
   "execution_count": 47,
   "metadata": {},
   "outputs": [],
   "source": [
    "estimator = sagemaker.estimator.Estimator(container_image_uri,\n",
    "                                    sm_arn, \n",
    "                                    train_instance_count=1, \n",
    "                                    train_instance_type='ml.m4.xlarge',\n",
    "                                    output_path='s3://{}/{}/training_output'.format(bucket, project_name),\n",
    "                                    enable_sagemaker_metrics=True,\n",
    "                                    metric_definitions=[\n",
    "                                        {'Name':'validation:loss', 'Regex': 'multi_logloss: (.*?)$'},\n",
    "                                        {'Name':'validation:f1', 'Regex':'\\[F1 score\\] (.*?)$'}\n",
    "                                    ]                                          \n",
    "                                     )\n",
    "\n",
    "estimator.set_hyperparameters(\n",
    "                        sagemaker_program=entry_point,\n",
    "                        sagemaker_submit_directory=sources\n",
    "                            )\n",
    "#                         max_depth=5,\n",
    "#                         eta=0.2,\n",
    "#                         gamma=4,\n",
    "#                         min_child_weight=6,\n",
    "#                         subsample=0.8,\n",
    "#                         silent=0,\n",
    "#                         objective='binary:logistic',\n",
    "#                         eval_metric='error',\n",
    "#                         num_round=100)"
   ]
  },
  {
   "cell_type": "markdown",
   "metadata": {},
   "source": [
    "\n",
    "## Build a Machine Learning Workflow\n",
    "\n",
    "You can use a state machine workflow to create a model retraining pipeline. The AWS Data Science Workflows SDK provides several AWS SageMaker workflow steps that you can use to construct an ML pipeline. In this tutorial you will create the following steps:\n",
    "\n",
    "* [**ETLStep**](https://aws-step-functions-data-science-sdk.readthedocs.io/en/latest/compute.html#stepfunctions.steps.compute.GlueStartJobRunStep) - Starts an AWS Glue job to extract the latest data from our source database and prepare our data.\n",
    "* [**TrainingStep**](https://aws-step-functions-data-science-sdk.readthedocs.io/en/latest/sagemaker.html#stepfunctions.steps.sagemaker.TrainingStep) - Creates the training step and passes the defined estimator.\n",
    "* [**ModelStep**](https://aws-step-functions-data-science-sdk.readthedocs.io/en/latest/sagemaker.html#stepfunctions.steps.sagemaker.ModelStep) - Creates a model in SageMaker using the artifacts created during the TrainingStep.\n",
    "* [**LambdaStep**](https://aws-step-functions-data-science-sdk.readthedocs.io/en/latest/compute.html#stepfunctions.steps.compute.LambdaStep) - Creates the task state step within our workflow that calls a Lambda function.\n",
    "* [**ChoiceStateStep**](https://aws-step-functions-data-science-sdk.readthedocs.io/en/latest/states.html#stepfunctions.steps.states.Choice) - Creates the choice state step within our workflow.\n",
    "* [**EndpointConfigStep**](https://aws-step-functions-data-science-sdk.readthedocs.io/en/latest/sagemaker.html#stepfunctions.steps.sagemaker.EndpointConfigStep) - Creates the endpoint config step to define the new configuration for our endpoint.\n",
    "* [**EndpointStep**](https://aws-step-functions-data-science-sdk.readthedocs.io/en/latest/sagemaker.html#stepfunctions.steps.sagemaker.EndpointStep) - Creates the endpoint step to update our model endpoint.\n",
    "* [**FailStateStep**](https://aws-step-functions-data-science-sdk.readthedocs.io/en/latest/states.html#stepfunctions.steps.states.Fail) - Creates fail state step within our workflow."
   ]
  },
  {
   "cell_type": "code",
   "execution_count": 69,
   "metadata": {},
   "outputs": [],
   "source": [
    "# SageMaker expects unique names for each job, model and endpoint. \n",
    "# If these names are not unique the execution will fail.\n",
    "execution_input = ExecutionInput(schema={\n",
    "    'TrainingJobName': str,\n",
    "    'GlueJobName': str,\n",
    "    'ModelName': str,\n",
    "    'EndpointName': str,\n",
    "    'LambdaFunctionName': str,\n",
    "    'UpdateEndpoint': bool\n",
    "})"
   ]
  },
  {
   "cell_type": "markdown",
   "metadata": {},
   "source": [
    "### Create an ETL step with AWS Glue\n",
    "In the following cell, we create a Glue step thats runs an AWS Glue job. The Glue job extracts the latest data from our source database, removes unnecessary columns, splits the data in to training and validation sets, and saves the data to CSV format in S3. Glue is performing this extraction, transformation, and load (ETL) in a serverless fashion, so there are no compute resources to configure and manage. See the [GlueStartJobRunStep](https://aws-step-functions-data-science-sdk.readthedocs.io/en/latest/compute.html#stepfunctions.steps.compute.GlueStartJobRunStep) Compute step in the AWS Step Functions Data Science SDK documentation."
   ]
  },
  {
   "cell_type": "code",
   "execution_count": 70,
   "metadata": {},
   "outputs": [
    {
     "name": "stdout",
     "output_type": "stream",
     "text": [
      "ETL CONFIGURATION:\n",
      "source_data: s3://ml-pipeline-725879053979/iris-classification/raw/\n",
      "S3 destination URI: s3a://ml-pipeline-725879053979/iris-classification/\n",
      "train_prefix: train\n",
      "test_prefix: test\n"
     ]
    }
   ],
   "source": [
    "print('ETL CONFIGURATION:')\n",
    "print('source_data:',source_data)\n",
    "print('S3 destination URI:','s3a://{}/{}/'.format(bucket, project_name))\n",
    "print('train_prefix:', train_prefix)\n",
    "print('test_prefix:', test_prefix)"
   ]
  },
  {
   "cell_type": "code",
   "execution_count": 71,
   "metadata": {},
   "outputs": [],
   "source": [
    "etl_step = steps.GlueStartJobRunStep(\n",
    "    'Extract, Transform, Load',\n",
    "    parameters={\"JobName\": execution_input['GlueJobName'],\n",
    "                \"Arguments\":{\n",
    "                    '--S3_SOURCE': source_data,\n",
    "                    '--S3_DEST': 's3a://{}/{}/'.format(bucket, project_name),\n",
    "                    '--TRAIN_KEY': train_prefix + '/',\n",
    "                    '--TEST_KEY': test_prefix +'/'}\n",
    "               }\n",
    ")"
   ]
  },
  {
   "cell_type": "markdown",
   "metadata": {},
   "source": [
    "### Create a SageMaker Training Step \n",
    "\n",
    "In the following cell, we create the training step and pass the estimator we defined above. See  [TrainingStep](https://aws-step-functions-data-science-sdk.readthedocs.io/en/latest/sagemaker.html#stepfunctions.steps.sagemaker.TrainingStep) in the AWS Step Functions Data Science SDK documentation to learn more."
   ]
  },
  {
   "cell_type": "code",
   "execution_count": 72,
   "metadata": {},
   "outputs": [
    {
     "name": "stdout",
     "output_type": "stream",
     "text": [
      "TRAINING STEP CONFIGURATIONS:\n",
      "train_data: s3://ml-pipeline-725879053979/iris-classification/train/\n",
      "validation_data: s3://ml-pipeline-725879053979/iris-classification/test/\n"
     ]
    }
   ],
   "source": [
    "print('TRAINING STEP CONFIGURATIONS:')\n",
    "print('train_data:',train_data)\n",
    "print('validation_data:', validation_data)"
   ]
  },
  {
   "cell_type": "code",
   "execution_count": 73,
   "metadata": {},
   "outputs": [],
   "source": [
    "training_step = steps.TrainingStep(\n",
    "    'Model Training', \n",
    "    estimator=estimator,\n",
    "    data={\n",
    "        'train': s3_input(train_data, content_type='csv'),\n",
    "        'validation': s3_input(validation_data, content_type='csv')\n",
    "    },\n",
    "    job_name=execution_input['TrainingJobName'],\n",
    "    wait_for_completion=True\n",
    ")"
   ]
  },
  {
   "cell_type": "markdown",
   "metadata": {},
   "source": [
    "### Create a Model Step \n",
    "\n",
    "In the following cell, we define a model step that will create a model in Amazon SageMaker using the artifacts created during the TrainingStep. See  [ModelStep](https://aws-step-functions-data-science-sdk.readthedocs.io/en/latest/sagemaker.html#stepfunctions.steps.sagemaker.ModelStep) in the AWS Step Functions Data Science SDK documentation to learn more.\n",
    "\n",
    "The model creation step typically follows the training step. The Step Functions SDK provides the [get_expected_model](https://aws-step-functions-data-science-sdk.readthedocs.io/en/latest/sagemaker.html#stepfunctions.steps.sagemaker.TrainingStep.get_expected_model) method in the TrainingStep class to provide a reference for the trained model artifacts. Please note that this method is only useful when the ModelStep directly follows the TrainingStep."
   ]
  },
  {
   "cell_type": "code",
   "execution_count": 74,
   "metadata": {},
   "outputs": [],
   "source": [
    "model_step = steps.ModelStep(\n",
    "    'Save Model',\n",
    "    model=training_step.get_expected_model(),\n",
    "    model_name=execution_input['ModelName'],\n",
    "    result_path='$.ModelStepResults'\n",
    ")"
   ]
  },
  {
   "cell_type": "markdown",
   "metadata": {},
   "source": [
    "### Create a Lambda Step\n",
    "In the following cell, we define a lambda step that will invoke the previously created lambda function as part of our Step Function workflow. See [LambdaStep](https://aws-step-functions-data-science-sdk.readthedocs.io/en/latest/compute.html#stepfunctions.steps.compute.LambdaStep) in the AWS Step Functions Data Science SDK documentation to learn more."
   ]
  },
  {
   "cell_type": "code",
   "execution_count": 75,
   "metadata": {},
   "outputs": [],
   "source": [
    "lambda_step = steps.compute.LambdaStep(\n",
    "    'Query Training Results',\n",
    "    parameters={  \n",
    "        \"FunctionName\": execution_input['LambdaFunctionName'],\n",
    "        'Payload':{\n",
    "            \"TrainingJobName.$\": '$.TrainingJobName'\n",
    "        }\n",
    "    }\n",
    ")"
   ]
  },
  {
   "cell_type": "markdown",
   "metadata": {},
   "source": [
    "### Create a Choice State Step \n",
    "In the following cell, we create a choice step in order to build a dynamic workflow. This choice step branches based off of the results of our SageMaker training step: did the training job fail or should the model be saved and the endpoint be updated? We will add specfic rules to this choice step later on in section 8 of this notebook."
   ]
  },
  {
   "cell_type": "code",
   "execution_count": 76,
   "metadata": {},
   "outputs": [],
   "source": [
    "check_accuracy_step = steps.states.Choice(\n",
    "    'F1 score > 90%'\n",
    ")"
   ]
  },
  {
   "cell_type": "markdown",
   "metadata": {},
   "source": [
    "### Create an Endpoint Configuration Step\n",
    "In the following cell we create an endpoint configuration step. See [EndpointConfigStep](https://aws-step-functions-data-science-sdk.readthedocs.io/en/latest/sagemaker.html#stepfunctions.steps.sagemaker.EndpointConfigStep) in the AWS Step Functions Data Science SDK documentation to learn more."
   ]
  },
  {
   "cell_type": "code",
   "execution_count": 77,
   "metadata": {},
   "outputs": [],
   "source": [
    "data_capture_configuration = sagemaker.model_monitor.data_capture_config.DataCaptureConfig(\n",
    "    enable_capture=True, \n",
    "    sampling_percentage=100, \n",
    "    destination_s3_uri='s3://{}/{}/endpoint_monitoring/'.format(bucket, project_name), \n",
    "    sagemaker_session=session\n",
    ")"
   ]
  },
  {
   "cell_type": "code",
   "execution_count": 78,
   "metadata": {},
   "outputs": [],
   "source": [
    "endpoint_config_step = steps.EndpointConfigStep(\n",
    "    \"Create Model Endpoint Config\",\n",
    "    endpoint_config_name=execution_input['ModelName'],\n",
    "    model_name=execution_input['ModelName'],\n",
    "    initial_instance_count=1,\n",
    "    variant_name='lgbmVariant',\n",
    "    instance_type='ml.m4.xlarge',\n",
    "    data_capture_config=data_capture_configuration\n",
    ")"
   ]
  },
  {
   "cell_type": "markdown",
   "metadata": {},
   "source": [
    "### Update the Model Endpoint Step\n",
    "In the following cell, we create the Endpoint step to deploy the new model as a managed API endpoint, updating an existing SageMaker endpoint if our choice state is sucessful."
   ]
  },
  {
   "cell_type": "code",
   "execution_count": 79,
   "metadata": {},
   "outputs": [],
   "source": [
    "endpoint_step = steps.EndpointStep(\n",
    "    'Update Model Endpoint',\n",
    "    endpoint_name=execution_input['EndpointName'],\n",
    "    endpoint_config_name=execution_input['ModelName'],\n",
    "#     update=execution_input['UpdateEndpoint']\n",
    ")"
   ]
  },
  {
   "cell_type": "markdown",
   "metadata": {},
   "source": [
    "### Create the Fail State Step\n",
    "In addition, we create a Fail step which proceeds from our choice state if the validation accuracy of our model is lower than the threshold we define. See [FailStateStep](https://aws-step-functions-data-science-sdk.readthedocs.io/en/latest/states.html#stepfunctions.steps.states.Fail) in the AWS Step Functions Data Science SDK documentation to learn more."
   ]
  },
  {
   "cell_type": "code",
   "execution_count": 80,
   "metadata": {},
   "outputs": [],
   "source": [
    "fail_step = steps.states.Fail(\n",
    "    'Model Accuracy Too Low',\n",
    "    comment='Validation accuracy lower than threshold'\n",
    ")"
   ]
  },
  {
   "cell_type": "markdown",
   "metadata": {},
   "source": [
    "### Add Rules to Choice State\n",
    "In the cells below, we add a threshold rule to our choice state. Therefore, if the **F1 score** of our model is below 0.90, we move to the Fail State. If the validation F1 score of our model is above 0.90, we move to the save model step with proceeding endpoint update. "
   ]
  },
  {
   "cell_type": "code",
   "execution_count": 81,
   "metadata": {},
   "outputs": [],
   "source": [
    "threshold_rule = steps.choice_rule.ChoiceRule.NumericGreaterThan(variable=lambda_step.output()['Payload']['trainingMetrics'][0]['Value'], value=.9)\n",
    "\n",
    "check_accuracy_step.add_choice(rule=threshold_rule, next_step=endpoint_config_step)\n",
    "check_accuracy_step.default_choice(next_step=fail_step)\n"
   ]
  },
  {
   "cell_type": "markdown",
   "metadata": {},
   "source": [
    "### Link all the Steps Together\n",
    "Finally, create your workflow definition by chaining all of the steps together that we've created. See [Chain](https://aws-step-functions-data-science-sdk.readthedocs.io/en/latest/sagemaker.html#stepfunctions.steps.states.Chain) in the AWS Step Functions Data Science SDK documentation to learn more."
   ]
  },
  {
   "cell_type": "code",
   "execution_count": 82,
   "metadata": {},
   "outputs": [
    {
     "data": {
      "text/plain": [
       "Update Model Endpoint EndpointStep(resource='arn:aws:states:::sagemaker:createEndpoint', parameters={'EndpointConfigName': <stepfunctions.inputs.placeholders.ExecutionInput object at 0x7ff3588dacf8>, 'EndpointName': <stepfunctions.inputs.placeholders.ExecutionInput object at 0x7ff3591e5a90>}, type='Task')"
      ]
     },
     "execution_count": 82,
     "metadata": {},
     "output_type": "execute_result"
    }
   ],
   "source": [
    "endpoint_config_step.next(endpoint_step)"
   ]
  },
  {
   "cell_type": "code",
   "execution_count": 83,
   "metadata": {},
   "outputs": [],
   "source": [
    "workflow_definition = steps.Chain([\n",
    "    etl_step,\n",
    "    training_step,\n",
    "    model_step,\n",
    "    lambda_step,\n",
    "    check_accuracy_step\n",
    "])"
   ]
  },
  {
   "cell_type": "markdown",
   "metadata": {},
   "source": [
    "## Run the Workflow\n",
    "Create your workflow using the workflow definition above, and render the graph with [render_graph](https://aws-step-functions-data-science-sdk.readthedocs.io/en/latest/workflow.html#stepfunctions.workflow.Workflow.render_graph):"
   ]
  },
  {
   "cell_type": "code",
   "execution_count": 33,
   "metadata": {},
   "outputs": [],
   "source": [
    "pipeline_name = f'Iris-ML-Pipeline-{id}'"
   ]
  },
  {
   "cell_type": "code",
   "execution_count": 34,
   "metadata": {},
   "outputs": [],
   "source": [
    "workflow = Workflow(\n",
    "    name=pipeline_name,\n",
    "    definition=workflow_definition,\n",
    "    role=step_functions_role_arn,\n",
    "    execution_input=execution_input\n",
    ")\n",
    "\n",
    "# For using existing workflow\n",
    "# workflow = Workflow.list_workflows(); wkflws\n",
    "# workflow = Workflow.attach(workflow[0]['stateMachineArn']); wkflw"
   ]
  },
  {
   "cell_type": "code",
   "execution_count": 86,
   "metadata": {},
   "outputs": [],
   "source": [
    "# # Update existing Step Functions State Machine\n",
    "# workflow.update(definition=workflow_definition,\n",
    "#                role=step_functions_role_arn)\n",
    "#\n",
    "# # View new definition\n",
    "# workflow.definition.to_dict()"
   ]
  },
  {
   "cell_type": "code",
   "execution_count": 35,
   "metadata": {},
   "outputs": [
    {
     "data": {
      "text/html": [
       "\n",
       "<link rel=\"stylesheet\" type=\"text/css\" href=\"https://do0of8uwbahzz.cloudfront.net/graph.css\">\n",
       "<div id=\"graph-587\" class=\"workflowgraph\">\n",
       "    \n",
       "    <svg></svg>\n",
       "    \n",
       "</div>\n",
       "\n",
       "<script type=\"text/javascript\">\n",
       "\n",
       "require.config({\n",
       "    paths: {\n",
       "        sfn: \"https://do0of8uwbahzz.cloudfront.net/sfn\",\n",
       "    }\n",
       "});\n",
       "\n",
       "require(['sfn'], function(sfn) {\n",
       "    var element = document.getElementById('graph-587')\n",
       "\n",
       "    var options = {\n",
       "        width: parseFloat(getComputedStyle(element, null).width.replace(\"px\", \"\")),\n",
       "        height: 600,\n",
       "        layout: 'TB',\n",
       "        resizeHeight: true\n",
       "    };\n",
       "\n",
       "    var definition = {\"StartAt\": \"Extract, Transform, Load\", \"States\": {\"Extract, Transform, Load\": {\"Parameters\": {\"JobName.$\": \"$$.Execution.Input['GlueJobName']\", \"Arguments\": {\"--S3_SOURCE\": \"s3://ml-pipeline-725879053979/iris-classification/raw/\", \"--S3_DEST\": \"s3a://ml-pipeline-725879053979/iris-classification/\", \"--TRAIN_KEY\": \"train/\", \"--TEST_KEY\": \"test/\"}}, \"Resource\": \"arn:aws:states:::glue:startJobRun.sync\", \"Type\": \"Task\", \"Next\": \"Model Training\"}, \"Model Training\": {\"Resource\": \"arn:aws:states:::sagemaker:createTrainingJob.sync\", \"Parameters\": {\"AlgorithmSpecification\": {\"TrainingImage\": \"725879053979.dkr.ecr.us-east-1.amazonaws.com/iris-model:latest\", \"TrainingInputMode\": \"File\", \"MetricDefinitions\": [{\"Name\": \"validation:loss\", \"Regex\": \"multi_logloss: (.*?)\"}, {\"Name\": \"validation:f1\", \"Regex\": \"\\\\[F1 score\\\\] (.*?)\"}]}, \"OutputDataConfig\": {\"S3OutputPath\": \"s3://ml-pipeline-725879053979/iris-classification/training_output\"}, \"StoppingCondition\": {\"MaxRuntimeInSeconds\": 86400}, \"ResourceConfig\": {\"InstanceCount\": 1, \"InstanceType\": \"ml.m4.xlarge\", \"VolumeSizeInGB\": 30}, \"RoleArn\": \"arn:aws:iam::725879053979:role/MLOps\", \"InputDataConfig\": [{\"DataSource\": {\"S3DataSource\": {\"S3DataType\": \"S3Prefix\", \"S3Uri\": \"s3://ml-pipeline-725879053979/iris-classification/train/\", \"S3DataDistributionType\": \"FullyReplicated\"}}, \"ContentType\": \"csv\", \"ChannelName\": \"train\"}, {\"DataSource\": {\"S3DataSource\": {\"S3DataType\": \"S3Prefix\", \"S3Uri\": \"s3://ml-pipeline-725879053979/iris-classification/test/\", \"S3DataDistributionType\": \"FullyReplicated\"}}, \"ContentType\": \"csv\", \"ChannelName\": \"validation\"}], \"HyperParameters\": {\"sagemaker_program\": \"train.py\", \"sagemaker_submit_directory\": \"s3://sagemaker-us-east-1-725879053979/sagemaker-custom/code/sourcedir.tar.gz\"}, \"TrainingJobName.$\": \"$$.Execution.Input['TrainingJobName']\"}, \"Type\": \"Task\", \"Next\": \"Save Model\"}, \"Save Model\": {\"ResultPath\": \"$.ModelStepResults\", \"Parameters\": {\"ExecutionRoleArn\": \"arn:aws:iam::725879053979:role/MLOps\", \"ModelName.$\": \"$$.Execution.Input['ModelName']\", \"PrimaryContainer\": {\"Environment\": {}, \"Image\": \"725879053979.dkr.ecr.us-east-1.amazonaws.com/iris-model:latest\", \"ModelDataUrl.$\": \"$['ModelArtifacts']['S3ModelArtifacts']\"}}, \"Resource\": \"arn:aws:states:::sagemaker:createModel\", \"Type\": \"Task\", \"Next\": \"Query Training Results\"}, \"Query Training Results\": {\"Parameters\": {\"FunctionName.$\": \"$$.Execution.Input['LambdaFunctionName']\", \"Payload\": {\"TrainingJobName.$\": \"$.TrainingJobName\"}}, \"Resource\": \"arn:aws:states:::lambda:invoke\", \"Type\": \"Task\", \"Next\": \"F1 score > 90%\"}, \"F1 score > 90%\": {\"Type\": \"Choice\", \"Choices\": [{\"Variable\": \"$['Payload']['trainingMetrics'][0]['Value']\", \"NumericGreaterThan\": 0.9, \"Next\": \"Create Model Endpoint Config\"}], \"Default\": \"Model Accuracy Too Low\"}, \"Model Accuracy Too Low\": {\"Comment\": \"Validation accuracy lower than threshold\", \"Type\": \"Fail\"}, \"Create Model Endpoint Config\": {\"Resource\": \"arn:aws:states:::sagemaker:createEndpointConfig\", \"Parameters\": {\"EndpointConfigName.$\": \"$$.Execution.Input['ModelName']\", \"ProductionVariants\": [{\"InitialInstanceCount\": 1, \"InstanceType\": \"ml.m4.xlarge\", \"ModelName.$\": \"$$.Execution.Input['ModelName']\", \"VariantName\": \"lgbmVariant\"}], \"DataCaptureConfig\": {\"EnableCapture\": true, \"InitialSamplingPercentage\": 100, \"DestinationS3Uri\": \"s3://ml-pipeline-725879053979/iris-classification/endpoint_monitoring/\", \"CaptureOptions\": [{\"CaptureMode\": \"Input\"}, {\"CaptureMode\": \"Output\"}], \"CaptureContentTypeHeader\": {\"CsvContentTypes\": [\"text/csv\"], \"JsonContentTypes\": [\"application/json\"]}}}, \"Type\": \"Task\", \"Next\": \"Update Model Endpoint\"}, \"Update Model Endpoint\": {\"Resource\": \"arn:aws:states:::sagemaker:createEndpoint\", \"Parameters\": {\"EndpointConfigName.$\": \"$$.Execution.Input['ModelName']\", \"EndpointName.$\": \"$$.Execution.Input['EndpointName']\"}, \"Type\": \"Task\", \"End\": true}}};\n",
       "    var elementId = '#graph-587';\n",
       "\n",
       "    var graph = new sfn.StateMachineGraph(definition, elementId, options);\n",
       "    graph.render();\n",
       "});\n",
       "\n",
       "</script>\n"
      ],
      "text/plain": [
       "<IPython.core.display.HTML object>"
      ]
     },
     "execution_count": 35,
     "metadata": {},
     "output_type": "execute_result"
    }
   ],
   "source": [
    "workflow.render_graph(portrait=True)"
   ]
  },
  {
   "cell_type": "markdown",
   "metadata": {},
   "source": [
    "### Export to CloudFormation (if desired)\n",
    "It is possible to simply export the State Machine above in a CloudFormation template, enabling teams to easily re-use pipelines:"
   ]
  },
  {
   "cell_type": "code",
   "execution_count": 36,
   "metadata": {},
   "outputs": [
    {
     "name": "stdout",
     "output_type": "stream",
     "text": [
      "\u001b[33m[WARNING] To reuse the CloudFormation template in different regions, please make sure to update the region specific AWS resources in the StateMachine definition.\u001b[0m\n",
      "AWSTemplateFormatVersion: '2010-09-09'\n",
      "Description: CloudFormation template for AWS Step Functions - State Machine\n",
      "Resources:\n",
      "  StateMachineComponent:\n",
      "    Type: AWS::StepFunctions::StateMachine\n",
      "    Properties:\n",
      "      StateMachineName: Iris-ML-Pipeline-9b748bace2f64f9590851bf61663ce2f\n",
      "      DefinitionString: |-\n",
      "        {\n",
      "          \"StartAt\": \"Extract, Transform, Load\",\n",
      "          \"States\": {\n",
      "            \"Extract, Transform, Load\": {\n",
      "              \"Parameters\": {\n",
      "                \"JobName.$\": \"$$.Execution.Input['GlueJobName']\",\n",
      "                \"Arguments\": {\n",
      "                  \"--S3_SOURCE\": \"s3://ml-pipeline-725879053979/iris-classification/raw/\",\n",
      "                  \"--S3_DEST\": \"s3a://ml-pipeline-725879053979/iris-classification/\",\n",
      "                  \"--TRAIN_KEY\": \"train/\",\n",
      "                  \"--TEST_KEY\": \"test/\"\n",
      "                }\n",
      "              },\n",
      "              \"Resource\": \"arn:aws:states:::glue:startJobRun.sync\",\n",
      "              \"Type\": \"Task\",\n",
      "              \"Next\": \"Model Training\"\n",
      "            },\n",
      "            \"Model Training\": {\n",
      "              \"Resource\": \"arn:aws:states:::sagemaker:createTrainingJob.sync\",\n",
      "              \"Parameters\": {\n",
      "                \"AlgorithmSpecification\": {\n",
      "                  \"TrainingImage\": \"725879053979.dkr.ecr.us-east-1.amazonaws.com/iris-model:latest\",\n",
      "                  \"TrainingInputMode\": \"File\",\n",
      "                  \"MetricDefinitions\": [\n",
      "                    {\n",
      "                      \"Name\": \"validation:loss\",\n",
      "                      \"Regex\": \"multi_logloss: (.*?)\"\n",
      "                    },\n",
      "                    {\n",
      "                      \"Name\": \"validation:f1\",\n",
      "                      \"Regex\": \"\\\\[F1 score\\\\] (.*?)\"\n",
      "                    }\n",
      "                  ]\n",
      "                },\n",
      "                \"OutputDataConfig\": {\n",
      "                  \"S3OutputPath\": \"s3://ml-pipeline-725879053979/iris-classification/training_output\"\n",
      "                },\n",
      "                \"StoppingCondition\": {\n",
      "                  \"MaxRuntimeInSeconds\": 86400\n",
      "                },\n",
      "                \"ResourceConfig\": {\n",
      "                  \"InstanceCount\": 1,\n",
      "                  \"InstanceType\": \"ml.m4.xlarge\",\n",
      "                  \"VolumeSizeInGB\": 30\n",
      "                },\n",
      "                \"RoleArn\": \"arn:aws:iam::725879053979:role/MLOps\",\n",
      "                \"InputDataConfig\": [\n",
      "                  {\n",
      "                    \"DataSource\": {\n",
      "                      \"S3DataSource\": {\n",
      "                        \"S3DataType\": \"S3Prefix\",\n",
      "                        \"S3Uri\": \"s3://ml-pipeline-725879053979/iris-classification/train/\",\n",
      "                        \"S3DataDistributionType\": \"FullyReplicated\"\n",
      "                      }\n",
      "                    },\n",
      "                    \"ContentType\": \"csv\",\n",
      "                    \"ChannelName\": \"train\"\n",
      "                  },\n",
      "                  {\n",
      "                    \"DataSource\": {\n",
      "                      \"S3DataSource\": {\n",
      "                        \"S3DataType\": \"S3Prefix\",\n",
      "                        \"S3Uri\": \"s3://ml-pipeline-725879053979/iris-classification/test/\",\n",
      "                        \"S3DataDistributionType\": \"FullyReplicated\"\n",
      "                      }\n",
      "                    },\n",
      "                    \"ContentType\": \"csv\",\n",
      "                    \"ChannelName\": \"validation\"\n",
      "                  }\n",
      "                ],\n",
      "                \"HyperParameters\": {\n",
      "                  \"sagemaker_program\": \"train.py\",\n",
      "                  \"sagemaker_submit_directory\": \"s3://sagemaker-us-east-1-725879053979/sagemaker-custom/code/sourcedir.tar.gz\"\n",
      "                },\n",
      "                \"TrainingJobName.$\": \"$$.Execution.Input['TrainingJobName']\"\n",
      "              },\n",
      "              \"Type\": \"Task\",\n",
      "              \"Next\": \"Save Model\"\n",
      "            },\n",
      "            \"Save Model\": {\n",
      "              \"ResultPath\": \"$.ModelStepResults\",\n",
      "              \"Parameters\": {\n",
      "                \"ExecutionRoleArn\": \"arn:aws:iam::725879053979:role/MLOps\",\n",
      "                \"ModelName.$\": \"$$.Execution.Input['ModelName']\",\n",
      "                \"PrimaryContainer\": {\n",
      "                  \"Environment\": {},\n",
      "                  \"Image\": \"725879053979.dkr.ecr.us-east-1.amazonaws.com/iris-model:latest\",\n",
      "                  \"ModelDataUrl.$\": \"$['ModelArtifacts']['S3ModelArtifacts']\"\n",
      "                }\n",
      "              },\n",
      "              \"Resource\": \"arn:aws:states:::sagemaker:createModel\",\n",
      "              \"Type\": \"Task\",\n",
      "              \"Next\": \"Query Training Results\"\n",
      "            },\n",
      "            \"Query Training Results\": {\n",
      "              \"Parameters\": {\n",
      "                \"FunctionName.$\": \"$$.Execution.Input['LambdaFunctionName']\",\n",
      "                \"Payload\": {\n",
      "                  \"TrainingJobName.$\": \"$.TrainingJobName\"\n",
      "                }\n",
      "              },\n",
      "              \"Resource\": \"arn:aws:states:::lambda:invoke\",\n",
      "              \"Type\": \"Task\",\n",
      "              \"Next\": \"F1 score > 90%\"\n",
      "            },\n",
      "            \"F1 score > 90%\": {\n",
      "              \"Type\": \"Choice\",\n",
      "              \"Choices\": [\n",
      "                {\n",
      "                  \"Variable\": \"$['Payload']['trainingMetrics'][0]['Value']\",\n",
      "                  \"NumericGreaterThan\": 0.9,\n",
      "                  \"Next\": \"Create Model Endpoint Config\"\n",
      "                }\n",
      "              ],\n",
      "              \"Default\": \"Model Accuracy Too Low\"\n",
      "            },\n",
      "            \"Model Accuracy Too Low\": {\n",
      "              \"Comment\": \"Validation accuracy lower than threshold\",\n",
      "              \"Type\": \"Fail\"\n",
      "            },\n",
      "            \"Create Model Endpoint Config\": {\n",
      "              \"Resource\": \"arn:aws:states:::sagemaker:createEndpointConfig\",\n",
      "              \"Parameters\": {\n",
      "                \"EndpointConfigName.$\": \"$$.Execution.Input['ModelName']\",\n",
      "                \"ProductionVariants\": [\n",
      "                  {\n",
      "                    \"InitialInstanceCount\": 1,\n",
      "                    \"InstanceType\": \"ml.m4.xlarge\",\n",
      "                    \"ModelName.$\": \"$$.Execution.Input['ModelName']\",\n",
      "                    \"VariantName\": \"lgbmVariant\"\n",
      "                  }\n",
      "                ],\n",
      "                \"DataCaptureConfig\": {\n",
      "                  \"EnableCapture\": true,\n",
      "                  \"InitialSamplingPercentage\": 100,\n",
      "                  \"DestinationS3Uri\": \"s3://ml-pipeline-725879053979/iris-classification/endpoint_monitoring/\",\n",
      "                  \"CaptureOptions\": [\n",
      "                    {\n",
      "                      \"CaptureMode\": \"Input\"\n",
      "                    },\n",
      "                    {\n",
      "                      \"CaptureMode\": \"Output\"\n",
      "                    }\n",
      "                  ],\n",
      "                  \"CaptureContentTypeHeader\": {\n",
      "                    \"CsvContentTypes\": [\n",
      "                      \"text/csv\"\n",
      "                    ],\n",
      "                    \"JsonContentTypes\": [\n",
      "                      \"application/json\"\n",
      "                    ]\n",
      "                  }\n",
      "                }\n",
      "              },\n",
      "              \"Type\": \"Task\",\n",
      "              \"Next\": \"Update Model Endpoint\"\n",
      "            },\n",
      "            \"Update Model Endpoint\": {\n",
      "              \"Resource\": \"arn:aws:states:::sagemaker:createEndpoint\",\n",
      "              \"Parameters\": {\n",
      "                \"EndpointConfigName.$\": \"$$.Execution.Input['ModelName']\",\n",
      "                \"EndpointName.$\": \"$$.Execution.Input['EndpointName']\"\n",
      "              },\n",
      "              \"Type\": \"Task\",\n",
      "              \"End\": true\n",
      "            }\n",
      "          }\n",
      "        }\n",
      "      RoleArn: arn:aws:iam::725879053979:role/StepFunctions_DSSDK-725879053979\n",
      "\n"
     ]
    }
   ],
   "source": [
    "print(workflow.get_cloudformation_template())"
   ]
  },
  {
   "cell_type": "markdown",
   "metadata": {},
   "source": [
    "### View JSON of State Machine definition"
   ]
  },
  {
   "cell_type": "code",
   "execution_count": 59,
   "metadata": {},
   "outputs": [
    {
     "data": {
      "text/plain": [
       "{'StartAt': 'Extract, Transform, Load',\n",
       " 'States': {'Extract, Transform, Load': {'Parameters': {'JobName.$': \"$$.Execution.Input['GlueJobName']\",\n",
       "    'Arguments': {'--S3_SOURCE': 's3://ml-pipeline-725879053979/iris-classification/raw/',\n",
       "     '--S3_DEST': 's3a://ml-pipeline-725879053979/iris-classification/',\n",
       "     '--TRAIN_KEY': 'train/',\n",
       "     '--TEST_KEY': 'test/'}},\n",
       "   'Resource': 'arn:aws:states:::glue:startJobRun.sync',\n",
       "   'Type': 'Task',\n",
       "   'Next': 'Model Training'},\n",
       "  'Model Training': {'Resource': 'arn:aws:states:::sagemaker:createTrainingJob.sync',\n",
       "   'Parameters': {'AlgorithmSpecification': {'TrainingImage': '725879053979.dkr.ecr.us-east-1.amazonaws.com/iris-model:latest',\n",
       "     'TrainingInputMode': 'File',\n",
       "     'MetricDefinitions': [{'Name': 'validation:loss',\n",
       "       'Regex': 'multi_logloss: (.*?)'},\n",
       "      {'Name': 'validation:f1', 'Regex': '\\\\[F1 score\\\\] (.*?)'}]},\n",
       "    'OutputDataConfig': {'S3OutputPath': 's3://ml-pipeline-725879053979/iris-classification/training_output'},\n",
       "    'StoppingCondition': {'MaxRuntimeInSeconds': 86400},\n",
       "    'ResourceConfig': {'InstanceCount': 1,\n",
       "     'InstanceType': 'ml.m4.xlarge',\n",
       "     'VolumeSizeInGB': 30},\n",
       "    'RoleArn': 'arn:aws:iam::725879053979:role/MLOps',\n",
       "    'InputDataConfig': [{'DataSource': {'S3DataSource': {'S3DataType': 'S3Prefix',\n",
       "        'S3Uri': 's3://ml-pipeline-725879053979/iris-classification/train/',\n",
       "        'S3DataDistributionType': 'FullyReplicated'}},\n",
       "      'ContentType': 'csv',\n",
       "      'ChannelName': 'train'},\n",
       "     {'DataSource': {'S3DataSource': {'S3DataType': 'S3Prefix',\n",
       "        'S3Uri': 's3://ml-pipeline-725879053979/iris-classification/test/',\n",
       "        'S3DataDistributionType': 'FullyReplicated'}},\n",
       "      'ContentType': 'csv',\n",
       "      'ChannelName': 'validation'}],\n",
       "    'HyperParameters': {'sagemaker_program': 'train.py',\n",
       "     'sagemaker_submit_directory': 's3://sagemaker-us-east-1-725879053979/sagemaker-custom/code/sourcedir.tar.gz'},\n",
       "    'TrainingJobName.$': \"$$.Execution.Input['TrainingJobName']\"},\n",
       "   'Type': 'Task',\n",
       "   'Next': 'Save Model'},\n",
       "  'Save Model': {'ResultPath': '$.ModelStepResults',\n",
       "   'Parameters': {'ExecutionRoleArn': 'arn:aws:iam::725879053979:role/MLOps',\n",
       "    'ModelName.$': \"$$.Execution.Input['ModelName']\",\n",
       "    'PrimaryContainer': {'Environment': {},\n",
       "     'Image': '725879053979.dkr.ecr.us-east-1.amazonaws.com/iris-model:latest',\n",
       "     'ModelDataUrl.$': \"$['ModelArtifacts']['S3ModelArtifacts']\"}},\n",
       "   'Resource': 'arn:aws:states:::sagemaker:createModel',\n",
       "   'Type': 'Task',\n",
       "   'Next': 'Query Training Results'},\n",
       "  'Query Training Results': {'Parameters': {'FunctionName.$': \"$$.Execution.Input['LambdaFunctionName']\",\n",
       "    'Payload': {'TrainingJobName.$': '$.TrainingJobName'}},\n",
       "   'Resource': 'arn:aws:states:::lambda:invoke',\n",
       "   'Type': 'Task',\n",
       "   'Next': 'F1 score > 90%'},\n",
       "  'F1 score > 90%': {'Type': 'Choice',\n",
       "   'Choices': [{'Variable': \"$['Payload']['trainingMetrics'][0]['Value']\",\n",
       "     'NumericGreaterThan': 0.9,\n",
       "     'Next': 'Create Model Endpoint Config'}],\n",
       "   'Default': 'Model Accuracy Too Low'},\n",
       "  'Model Accuracy Too Low': {'Comment': 'Validation accuracy lower than threshold',\n",
       "   'Type': 'Fail'},\n",
       "  'Create Model Endpoint Config': {'Resource': 'arn:aws:states:::sagemaker:createEndpointConfig',\n",
       "   'Parameters': {'EndpointConfigName.$': \"$$.Execution.Input['ModelName']\",\n",
       "    'ProductionVariants': [{'InitialInstanceCount': 1,\n",
       "      'InstanceType': 'ml.m4.xlarge',\n",
       "      'ModelName.$': \"$$.Execution.Input['ModelName']\",\n",
       "      'VariantName': 'lgbmVariant'}],\n",
       "    'DataCaptureConfig': {'EnableCapture': True,\n",
       "     'InitialSamplingPercentage': 100,\n",
       "     'DestinationS3Uri': 's3://ml-pipeline-725879053979/iris-classification/endpoint_monitoring/',\n",
       "     'CaptureOptions': [{'CaptureMode': 'Input'}, {'CaptureMode': 'Output'}],\n",
       "     'CaptureContentTypeHeader': {'CsvContentTypes': ['text/csv'],\n",
       "      'JsonContentTypes': ['application/json']}}},\n",
       "   'Type': 'Task',\n",
       "   'Next': 'Update Model Endpoint'},\n",
       "  'Update Model Endpoint': {'Resource': 'arn:aws:states:::sagemaker:createEndpoint',\n",
       "   'Parameters': {'EndpointConfigName.$': \"$$.Execution.Input['ModelName']\",\n",
       "    'EndpointName.$': \"$$.Execution.Input['EndpointName']\"},\n",
       "   'Type': 'Task',\n",
       "   'End': True}}}"
      ]
     },
     "execution_count": 59,
     "metadata": {},
     "output_type": "execute_result"
    }
   ],
   "source": [
    "workflow.definition.to_dict()"
   ]
  },
  {
   "cell_type": "markdown",
   "metadata": {},
   "source": [
    "### Create the workflow\n",
    "More details in documentation of AWS Step Functions: [create](https://aws-step-functions-data-science-sdk.readthedocs.io/en/latest/workflow.html#stepfunctions.workflow.Workflow.create)"
   ]
  },
  {
   "cell_type": "code",
   "execution_count": 37,
   "metadata": {},
   "outputs": [
    {
     "name": "stdout",
     "output_type": "stream",
     "text": [
      "\u001b[32m[INFO] Workflow created successfully on AWS Step Functions.\u001b[0m\n"
     ]
    },
    {
     "data": {
      "text/plain": [
       "'arn:aws:states:us-east-1:725879053979:stateMachine:Iris-ML-Pipeline-9b748bace2f64f9590851bf61663ce2f'"
      ]
     },
     "execution_count": 37,
     "metadata": {},
     "output_type": "execute_result"
    }
   ],
   "source": [
    "workflow.create()"
   ]
  },
  {
   "cell_type": "markdown",
   "metadata": {},
   "source": [
    "Let's see the state machines in the current region in this AWS account:"
   ]
  },
  {
   "cell_type": "code",
   "execution_count": 38,
   "metadata": {},
   "outputs": [
    {
     "data": {
      "text/html": [
       "\n",
       "    <style>\n",
       "        \n",
       "    .table-widget {\n",
       "        width: 100%;\n",
       "        font-size: 14px;\n",
       "        line-height: 28px;\n",
       "        color: #545b64;\n",
       "        border-spacing: 0;\n",
       "        background-color: #fff;\n",
       "        border-color: grey;\n",
       "        background: #fafafa;\n",
       "    }\n",
       "\n",
       "    .table-widget thead th {\n",
       "        text-align: left !important;\n",
       "        color: #879596;\n",
       "        padding: 0.3em 2em;\n",
       "        border-bottom: 1px solid #eaeded;\n",
       "        min-height: 4rem;\n",
       "        line-height: 28px;\n",
       "    }\n",
       "\n",
       "    .table-widget thead th:first-of-type {\n",
       "    }\n",
       "\n",
       "    .table-widget td {\n",
       "        overflow-wrap: break-word;\n",
       "        padding: 0.4em 2em;\n",
       "        line-height: 28px;\n",
       "        text-align: left !important;\n",
       "        background: #fff;\n",
       "        border-bottom: 1px solid #eaeded;\n",
       "        border-top: 1px solid transparent;\n",
       "    }\n",
       "\n",
       "    .table-widget td:before {\n",
       "        content: \"\";\n",
       "        height: 3rem;\n",
       "    }\n",
       "\n",
       "    a {\n",
       "        cursor: pointer;\n",
       "        text-decoration: none !important;\n",
       "        color: #007dbc;\n",
       "    }\n",
       "\n",
       "    a:hover {\n",
       "        text-decoration: underline !important;\n",
       "    }\n",
       "\n",
       "    a.disabled {\n",
       "        color: black;\n",
       "        cursor: default;\n",
       "        pointer-events: none;\n",
       "    }\n",
       "\n",
       "    .hide {\n",
       "        display: none;\n",
       "    }\n",
       "\n",
       "    pre {\n",
       "        white-space: pre-wrap;\n",
       "    }\n",
       "\n",
       "        \n",
       "    * {\n",
       "        box-sizing: border-box;\n",
       "    }\n",
       "\n",
       "    .table-widget {\n",
       "        min-width: 100%;\n",
       "        font-size: 14px;\n",
       "        line-height: 28px;\n",
       "        color: #545b64;\n",
       "        border-spacing: 0;\n",
       "        background-color: #fff;\n",
       "        border-color: grey;\n",
       "        background: #fafafa;\n",
       "    }\n",
       "\n",
       "    .table-widget thead th {\n",
       "        text-align: left !important;\n",
       "        color: #879596;\n",
       "        padding: 0.3em 2em;\n",
       "        border-bottom: 1px solid #eaeded;\n",
       "        min-height: 4rem;\n",
       "        line-height: 28px;\n",
       "    }\n",
       "\n",
       "    .table-widget td {\n",
       "        /* padding: 24px 18px; */\n",
       "        padding: 0.4em 2em;\n",
       "        line-height: 28px;\n",
       "        text-align: left !important;\n",
       "        background: #fff;\n",
       "        border-bottom: 1px solid #eaeded;\n",
       "        border-top: 1px solid transparent;\n",
       "    }\n",
       "\n",
       "    .table-widget td:before {\n",
       "        content: \"\";\n",
       "        height: 3rem;\n",
       "    }\n",
       "\n",
       "    .table-widget .clickable-cell {\n",
       "        cursor: pointer;\n",
       "    }\n",
       "\n",
       "    .hide {\n",
       "        display: none;\n",
       "    }\n",
       "\n",
       "    .triangle-right {\n",
       "        width: 0;\n",
       "        height: 0;\n",
       "        border-top: 5px solid transparent;\n",
       "        border-left: 8px solid #545b64;\n",
       "        border-bottom: 5px solid transparent;\n",
       "        margin-right: 5px;\n",
       "    }\n",
       "\n",
       "    a.awsui {\n",
       "        text-decoration: none !important;\n",
       "        color: #007dbc;\n",
       "    }\n",
       "\n",
       "    a.awsui:hover {\n",
       "        text-decoration: underline !important;\n",
       "    }\n",
       "\n",
       "    </style>\n",
       "    <table class=\"table-widget\">\n",
       "        <thead>\n",
       "            <tr>\n",
       "                <th>Name</th>\n",
       "                <th>Creation Date</th>\n",
       "            </tr>\n",
       "        </thead>\n",
       "        <tbody>\n",
       "            \n",
       "    <tr class=\"awsui-table-row\">\n",
       "        <td>\n",
       "            <a href=\"https://console.aws.amazon.com/states/home?region=us-east-1#/statemachines/view/arn:aws:states:us-east-1:725879053979:stateMachine:Demo-ML-Pipeline-beb8008a875a479ab6842ba94f371abc\" target=\"_blank\" class=\"awsui\">Demo-ML-Pipeline-beb8008a875a479ab6842ba94f371abc</a>\n",
       "        </td>\n",
       "        <td>Jun 18, 2020 07:30:57.115 PM</td>\n",
       "    </tr>\n",
       "\n",
       "\n",
       "    <tr class=\"awsui-table-row\">\n",
       "        <td>\n",
       "            <a href=\"https://console.aws.amazon.com/states/home?region=us-east-1#/statemachines/view/arn:aws:states:us-east-1:725879053979:stateMachine:Demo-ML-Pipeline-beb8008a875a479ab6842ba94f371abc3\" target=\"_blank\" class=\"awsui\">Demo-ML-Pipeline-beb8008a875a479ab6842ba94f371abc3</a>\n",
       "        </td>\n",
       "        <td>Jun 18, 2020 08:10:53.896 PM</td>\n",
       "    </tr>\n",
       "\n",
       "\n",
       "    <tr class=\"awsui-table-row\">\n",
       "        <td>\n",
       "            <a href=\"https://console.aws.amazon.com/states/home?region=us-east-1#/statemachines/view/arn:aws:states:us-east-1:725879053979:stateMachine:Demo-PyTorch-Pipeline-939a36e424ab4794b533ab0041b3b9ef\" target=\"_blank\" class=\"awsui\">Demo-PyTorch-Pipeline-939a36e424ab4794b533ab0041b3b9ef</a>\n",
       "        </td>\n",
       "        <td>Aug 01, 2020 10:19:31.971 PM</td>\n",
       "    </tr>\n",
       "\n",
       "\n",
       "    <tr class=\"awsui-table-row\">\n",
       "        <td>\n",
       "            <a href=\"https://console.aws.amazon.com/states/home?region=us-east-1#/statemachines/view/arn:aws:states:us-east-1:725879053979:stateMachine:Demo-PyTorch-Pipeline-a690a0cb540c4f29b6c34ecaf808df81\" target=\"_blank\" class=\"awsui\">Demo-PyTorch-Pipeline-a690a0cb540c4f29b6c34ecaf808df81</a>\n",
       "        </td>\n",
       "        <td>Aug 02, 2020 12:30:51.225 AM</td>\n",
       "    </tr>\n",
       "\n",
       "\n",
       "    <tr class=\"awsui-table-row\">\n",
       "        <td>\n",
       "            <a href=\"https://console.aws.amazon.com/states/home?region=us-east-1#/statemachines/view/arn:aws:states:us-east-1:725879053979:stateMachine:DevelopingWithStepFunctionsDotNetCore\" target=\"_blank\" class=\"awsui\">DevelopingWithStepFunctionsDotNetCore</a>\n",
       "        </td>\n",
       "        <td>Jan 10, 2019 02:08:54.714 AM</td>\n",
       "    </tr>\n",
       "\n",
       "\n",
       "    <tr class=\"awsui-table-row\">\n",
       "        <td>\n",
       "            <a href=\"https://console.aws.amazon.com/states/home?region=us-east-1#/statemachines/view/arn:aws:states:us-east-1:725879053979:stateMachine:Iris-ML-Pipeline-9b748bace2f64f9590851bf61663ce2f\" target=\"_blank\" class=\"awsui\">Iris-ML-Pipeline-9b748bace2f64f9590851bf61663ce2f</a>\n",
       "        </td>\n",
       "        <td>Aug 11, 2020 09:41:45.950 PM</td>\n",
       "    </tr>\n",
       "\n",
       "\n",
       "    <tr class=\"awsui-table-row\">\n",
       "        <td>\n",
       "            <a href=\"https://console.aws.amazon.com/states/home?region=us-east-1#/statemachines/view/arn:aws:states:us-east-1:725879053979:stateMachine:Iris-ML-Pipeline-f33409eed964474caf087f5f342e2bf7\" target=\"_blank\" class=\"awsui\">Iris-ML-Pipeline-f33409eed964474caf087f5f342e2bf7</a>\n",
       "        </td>\n",
       "        <td>Aug 11, 2020 09:34:08.700 PM</td>\n",
       "    </tr>\n",
       "\n",
       "\n",
       "    <tr class=\"awsui-table-row\">\n",
       "        <td>\n",
       "            <a href=\"https://console.aws.amazon.com/states/home?region=us-east-1#/statemachines/view/arn:aws:states:us-east-1:725879053979:stateMachine:training-pipeline-2020-07-21-14-33-44\" target=\"_blank\" class=\"awsui\">training-pipeline-2020-07-21-14-33-44</a>\n",
       "        </td>\n",
       "        <td>Jul 21, 2020 02:36:34.835 PM</td>\n",
       "    </tr>\n",
       "\n",
       "\n",
       "    <tr class=\"awsui-table-row\">\n",
       "        <td>\n",
       "            <a href=\"https://console.aws.amazon.com/states/home?region=us-east-1#/statemachines/view/arn:aws:states:us-east-1:725879053979:stateMachine:training-pipeline-2020-07-31-01-21-03\" target=\"_blank\" class=\"awsui\">training-pipeline-2020-07-31-01-21-03</a>\n",
       "        </td>\n",
       "        <td>Jul 31, 2020 01:21:04.206 AM</td>\n",
       "    </tr>\n",
       "\n",
       "        </tbody>\n",
       "    </table>\n"
      ],
      "text/plain": [
       "<IPython.core.display.HTML object>"
      ]
     },
     "execution_count": 38,
     "metadata": {},
     "output_type": "execute_result"
    }
   ],
   "source": [
    "Workflow.list_workflows(html=True)"
   ]
  },
  {
   "cell_type": "markdown",
   "metadata": {},
   "source": [
    "### Let's trigger the ML Pipeline"
   ]
  },
  {
   "cell_type": "code",
   "execution_count": 90,
   "metadata": {},
   "outputs": [
    {
     "name": "stdout",
     "output_type": "stream",
     "text": [
      "INPUT CONFIGURATIONS:\n",
      "\n",
      "TrainingJobName (each Sagemaker Job requires a unique number):\n",
      " iris-pipeline-9b748bace2f64f9590851bf61663ce2fB\n",
      "\n",
      "GlueJobName:\n",
      " glue-iris-etl-9b748bace2f64f9590851bf61663ce2f\n",
      "\n",
      "ModelName (each SageMaker Model requires a unique name,):\n",
      " Iris-9b748bace2f64f9590851bf61663ce2fB\n",
      "\n",
      "EndpointName (each Endpoint requires a unique name):\n",
      " IrisMLPipeline\n",
      "\n",
      "LambdaFunctionName:\n",
      " IrisMLPipeline\n",
      "\n",
      "UpdateEndpoint: False\n"
     ]
    }
   ],
   "source": [
    "training_job_name = f'iris-pipeline-{id}'\n",
    "model_name = f'Iris-{id}'\n",
    "endpoint_name = 'IrisMLPipeline'\n",
    "update_endpoint = False\n",
    "print('INPUT CONFIGURATIONS:\\n')\n",
    "print('TrainingJobName (each Sagemaker Job requires a unique number):\\n',training_job_name)\n",
    "print('\\nGlueJobName:\\n', glue_job_name)\n",
    "print('\\nModelName (each SageMaker Model requires a unique name,):\\n', model_name)\n",
    "print('\\nEndpointName (each Endpoint requires a unique name):\\n', endpoint_name)\n",
    "print('\\nLambdaFunctionName:\\n', endpoint_name)\n",
    "print('\\nUpdateEndpoint:', update_endpoint)"
   ]
  },
  {
   "cell_type": "code",
   "execution_count": 91,
   "metadata": {},
   "outputs": [
    {
     "name": "stdout",
     "output_type": "stream",
     "text": [
      "\u001b[32m[INFO] Workflow execution started successfully on AWS Step Functions.\u001b[0m\n"
     ]
    }
   ],
   "source": [
    "execution = workflow.execute(\n",
    "    inputs={\n",
    "        'TrainingJobName': training_job_name,\n",
    "        'GlueJobName': glue_job_name,\n",
    "        'ModelName': model_name,\n",
    "        'EndpointName': endpoint_name,\n",
    "        'LambdaFunctionName': function_name,\n",
    "        'UpdateEndpoint': update_endpoint\n",
    "    }\n",
    ")"
   ]
  },
  {
   "cell_type": "markdown",
   "metadata": {},
   "source": [
    "Render workflow progress with the [render_progress](https://aws-step-functions-data-science-sdk.readthedocs.io/en/latest/workflow.html#stepfunctions.workflow.Execution.render_progress). This generates a snapshot of the current state of your workflow as it executes. This is a static image therefore you must run the cell again to check progress:"
   ]
  },
  {
   "cell_type": "code",
   "execution_count": 92,
   "metadata": {},
   "outputs": [],
   "source": [
    "# If don't want to wait for the whole pipeline to finish, set to False\n",
    "wait = True"
   ]
  },
  {
   "cell_type": "code",
   "execution_count": 93,
   "metadata": {},
   "outputs": [],
   "source": [
    "# Just check current status if we don't want to check all flow\n",
    "if not wait:\n",
    "    execution.render_progress(portrait=True)"
   ]
  },
  {
   "cell_type": "markdown",
   "metadata": {},
   "source": [
    "Running the pipeline for the first time can take a few minutes because we are training and creating a SageMaker endpoint (spinning up instances). After that, updating an existing endpoint with newer models should be faster."
   ]
  },
  {
   "cell_type": "code",
   "execution_count": 94,
   "metadata": {},
   "outputs": [
    {
     "data": {
      "text/html": [
       "\n",
       "<link rel=\"stylesheet\" type=\"text/css\" href=\"https://do0of8uwbahzz.cloudfront.net/graph.css\">\n",
       "<div id=\"graph-689\" class=\"workflowgraph\">\n",
       "    \n",
       "    <style>\n",
       "        .graph-legend ul {\n",
       "            list-style-type: none;\n",
       "            padding: 10px;\n",
       "            padding-left: 0;\n",
       "            margin: 0;\n",
       "            position: absolute;\n",
       "            top: 0;\n",
       "            background: transparent;\n",
       "        }\n",
       "\n",
       "        .graph-legend li {\n",
       "            margin-left: 10px;\n",
       "            display: inline-block;\n",
       "        }\n",
       "\n",
       "        .graph-legend li > div {\n",
       "            width: 10px;\n",
       "            height: 10px;\n",
       "            display: inline-block;\n",
       "        }\n",
       "\n",
       "        .graph-legend .success { background-color: #2BD62E }\n",
       "        .graph-legend .failed { background-color: #DE322F }\n",
       "        .graph-legend .cancelled { background-color: #DDDDDD }\n",
       "        .graph-legend .in-progress { background-color: #53C9ED }\n",
       "        .graph-legend .caught-error { background-color: #FFA500 }\n",
       "    </style>\n",
       "    <div class=\"graph-legend\">\n",
       "        <ul>\n",
       "            <li>\n",
       "                <div class=\"success\"></div>\n",
       "                <span>Success</span>\n",
       "            </li>\n",
       "            <li>\n",
       "                <div class=\"failed\"></div>\n",
       "                <span>Failed</span>\n",
       "            </li>\n",
       "            <li>\n",
       "                <div class=\"cancelled\"></div>\n",
       "                <span>Cancelled</span>\n",
       "            </li>\n",
       "            <li>\n",
       "                <div class=\"in-progress\"></div>\n",
       "                <span>In Progress</span>\n",
       "            </li>\n",
       "            <li>\n",
       "                <div class=\"caught-error\"></div>\n",
       "                <span>Caught Error</span>\n",
       "            </li>\n",
       "        </ul>\n",
       "    </div>\n",
       "\n",
       "    <svg></svg>\n",
       "    <a href=\"https://console.aws.amazon.com/states/home?region=us-east-1#/executions/details/arn:aws:states:us-east-1:725879053979:execution:Iris-ML-Pipeline-9b748bace2f64f9590851bf61663ce2f:08d30380-508b-49b3-884f-c0ab2eaed1aa\" target=\"_blank\"> Inspect in AWS Step Functions </a>\n",
       "</div>\n",
       "\n",
       "<script type=\"text/javascript\">\n",
       "\n",
       "require.config({\n",
       "    paths: {\n",
       "        sfn: \"https://do0of8uwbahzz.cloudfront.net/sfn\",\n",
       "    }\n",
       "});\n",
       "\n",
       "require(['sfn'], function(sfn) {\n",
       "    var element = document.getElementById('graph-689')\n",
       "\n",
       "    var options = {\n",
       "        width: parseFloat(getComputedStyle(element, null).width.replace(\"px\", \"\")),\n",
       "        height: 1000,\n",
       "        layout: 'TB',\n",
       "        resizeHeight: true\n",
       "    };\n",
       "\n",
       "    var definition = {\"StartAt\": \"Extract, Transform, Load\", \"States\": {\"Extract, Transform, Load\": {\"Parameters\": {\"JobName.$\": \"$$.Execution.Input['GlueJobName']\", \"Arguments\": {\"--S3_SOURCE\": \"s3://ml-pipeline-725879053979/iris-classification/raw/\", \"--S3_DEST\": \"s3a://ml-pipeline-725879053979/iris-classification/\", \"--TRAIN_KEY\": \"train/\", \"--TEST_KEY\": \"test/\"}}, \"Resource\": \"arn:aws:states:::glue:startJobRun.sync\", \"Type\": \"Task\", \"Next\": \"Model Training\"}, \"Model Training\": {\"Resource\": \"arn:aws:states:::sagemaker:createTrainingJob.sync\", \"Parameters\": {\"AlgorithmSpecification\": {\"TrainingImage\": \"725879053979.dkr.ecr.us-east-1.amazonaws.com/iris-model:latest\", \"TrainingInputMode\": \"File\", \"MetricDefinitions\": [{\"Name\": \"validation:loss\", \"Regex\": \"multi_logloss: (.*?)$\"}, {\"Name\": \"validation:f1\", \"Regex\": \"\\\\[F1 score\\\\] (.*?)$\"}]}, \"OutputDataConfig\": {\"S3OutputPath\": \"s3://ml-pipeline-725879053979/iris-classification/training_output\"}, \"StoppingCondition\": {\"MaxRuntimeInSeconds\": 86400}, \"ResourceConfig\": {\"InstanceCount\": 1, \"InstanceType\": \"ml.m4.xlarge\", \"VolumeSizeInGB\": 30}, \"RoleArn\": \"arn:aws:iam::725879053979:role/MLOps\", \"InputDataConfig\": [{\"DataSource\": {\"S3DataSource\": {\"S3DataType\": \"S3Prefix\", \"S3Uri\": \"s3://ml-pipeline-725879053979/iris-classification/train/\", \"S3DataDistributionType\": \"FullyReplicated\"}}, \"ContentType\": \"csv\", \"ChannelName\": \"train\"}, {\"DataSource\": {\"S3DataSource\": {\"S3DataType\": \"S3Prefix\", \"S3Uri\": \"s3://ml-pipeline-725879053979/iris-classification/test/\", \"S3DataDistributionType\": \"FullyReplicated\"}}, \"ContentType\": \"csv\", \"ChannelName\": \"validation\"}], \"HyperParameters\": {\"sagemaker_program\": \"train.py\", \"sagemaker_submit_directory\": \"s3://sagemaker-us-east-1-725879053979/sagemaker-custom/code/sourcedir.tar.gz\"}, \"TrainingJobName.$\": \"$$.Execution.Input['TrainingJobName']\"}, \"Type\": \"Task\", \"Next\": \"Save Model\"}, \"Save Model\": {\"ResultPath\": \"$.ModelStepResults\", \"Parameters\": {\"ExecutionRoleArn\": \"arn:aws:iam::725879053979:role/MLOps\", \"ModelName.$\": \"$$.Execution.Input['ModelName']\", \"PrimaryContainer\": {\"Environment\": {}, \"Image\": \"725879053979.dkr.ecr.us-east-1.amazonaws.com/iris-model:latest\", \"ModelDataUrl.$\": \"$['ModelArtifacts']['S3ModelArtifacts']\"}}, \"Resource\": \"arn:aws:states:::sagemaker:createModel\", \"Type\": \"Task\", \"Next\": \"Query Training Results\"}, \"Query Training Results\": {\"Parameters\": {\"FunctionName.$\": \"$$.Execution.Input['LambdaFunctionName']\", \"Payload\": {\"TrainingJobName.$\": \"$.TrainingJobName\"}}, \"Resource\": \"arn:aws:states:::lambda:invoke\", \"Type\": \"Task\", \"Next\": \"F1 score > 90%\"}, \"F1 score > 90%\": {\"Type\": \"Choice\", \"Choices\": [{\"Variable\": \"$['Payload']['trainingMetrics'][0]['Value']\", \"NumericGreaterThan\": 0.9, \"Next\": \"Create Model Endpoint Config\"}], \"Default\": \"Model Accuracy Too Low\"}, \"Model Accuracy Too Low\": {\"Comment\": \"Validation accuracy lower than threshold\", \"Type\": \"Fail\"}, \"Create Model Endpoint Config\": {\"Resource\": \"arn:aws:states:::sagemaker:createEndpointConfig\", \"Parameters\": {\"EndpointConfigName.$\": \"$$.Execution.Input['ModelName']\", \"ProductionVariants\": [{\"InitialInstanceCount\": 1, \"InstanceType\": \"ml.m4.xlarge\", \"ModelName.$\": \"$$.Execution.Input['ModelName']\", \"VariantName\": \"lgbmVariant\"}], \"DataCaptureConfig\": {\"EnableCapture\": true, \"InitialSamplingPercentage\": 100, \"DestinationS3Uri\": \"s3://ml-pipeline-725879053979/iris-classification/endpoint_monitoring/\", \"CaptureOptions\": [{\"CaptureMode\": \"Input\"}, {\"CaptureMode\": \"Output\"}], \"CaptureContentTypeHeader\": {\"CsvContentTypes\": [\"text/csv\"], \"JsonContentTypes\": [\"application/json\"]}}}, \"Type\": \"Task\", \"Next\": \"Update Model Endpoint\"}, \"Update Model Endpoint\": {\"Resource\": \"arn:aws:states:::sagemaker:createEndpoint\", \"Parameters\": {\"EndpointConfigName.$\": \"$$.Execution.Input['ModelName']\", \"EndpointName.$\": \"$$.Execution.Input['EndpointName']\"}, \"Type\": \"Task\", \"End\": true}}};\n",
       "    var elementId = '#graph-689';\n",
       "    var events = { 'events': [{\"timestamp\": 1597185048.1, \"type\": \"ExecutionStarted\", \"id\": 1, \"previousEventId\": 0, \"executionStartedEventDetails\": {\"input\": \"{\\n    \\\"TrainingJobName\\\": \\\"iris-pipeline-9b748bace2f64f9590851bf61663ce2fB\\\",\\n    \\\"GlueJobName\\\": \\\"glue-iris-etl-9b748bace2f64f9590851bf61663ce2f\\\",\\n    \\\"ModelName\\\": \\\"Iris-9b748bace2f64f9590851bf61663ce2fB\\\",\\n    \\\"EndpointName\\\": \\\"IrisMLPipeline\\\",\\n    \\\"LambdaFunctionName\\\": \\\"query-training-status-9b748bace2f64f9590851bf61663ce2f\\\",\\n    \\\"UpdateEndpoint\\\": false\\n}\", \"roleArn\": \"arn:aws:iam::725879053979:role/StepFunctions_DSSDK-725879053979\"}}, {\"timestamp\": 1597185048.139, \"type\": \"TaskStateEntered\", \"id\": 2, \"previousEventId\": 0, \"stateEnteredEventDetails\": {\"name\": \"Extract, Transform, Load\", \"input\": \"{\\n    \\\"TrainingJobName\\\": \\\"iris-pipeline-9b748bace2f64f9590851bf61663ce2fB\\\",\\n    \\\"GlueJobName\\\": \\\"glue-iris-etl-9b748bace2f64f9590851bf61663ce2f\\\",\\n    \\\"ModelName\\\": \\\"Iris-9b748bace2f64f9590851bf61663ce2fB\\\",\\n    \\\"EndpointName\\\": \\\"IrisMLPipeline\\\",\\n    \\\"LambdaFunctionName\\\": \\\"query-training-status-9b748bace2f64f9590851bf61663ce2f\\\",\\n    \\\"UpdateEndpoint\\\": false\\n}\"}}, {\"timestamp\": 1597185048.139, \"type\": \"TaskScheduled\", \"id\": 3, \"previousEventId\": 2, \"taskScheduledEventDetails\": {\"resourceType\": \"glue\", \"resource\": \"startJobRun.sync\", \"region\": \"us-east-1\", \"parameters\": \"{\\\"Arguments\\\":{\\\"--S3_SOURCE\\\":\\\"s3://ml-pipeline-725879053979/iris-classification/raw/\\\",\\\"--S3_DEST\\\":\\\"s3a://ml-pipeline-725879053979/iris-classification/\\\",\\\"--TRAIN_KEY\\\":\\\"train/\\\",\\\"--TEST_KEY\\\":\\\"test/\\\"},\\\"JobName\\\":\\\"glue-iris-etl-9b748bace2f64f9590851bf61663ce2f\\\"}\"}}, {\"timestamp\": 1597185048.174, \"type\": \"TaskStarted\", \"id\": 4, \"previousEventId\": 3, \"taskStartedEventDetails\": {\"resourceType\": \"glue\", \"resource\": \"startJobRun.sync\"}}, {\"timestamp\": 1597185048.378, \"type\": \"TaskSubmitted\", \"id\": 5, \"previousEventId\": 4, \"taskSubmittedEventDetails\": {\"resourceType\": \"glue\", \"resource\": \"startJobRun.sync\", \"output\": \"{\\\"JobRunId\\\":\\\"jr_80a90c6e4b6e77f52b753be91a318c6136716738192c2820e00d280311cae789\\\",\\\"SdkHttpMetadata\\\":{\\\"AllHttpHeaders\\\":{\\\"Connection\\\":[\\\"keep-alive\\\"],\\\"x-amzn-RequestId\\\":[\\\"a0f640a7-ba34-4ca1-be64-ec40df41b987\\\"],\\\"Content-Length\\\":[\\\"82\\\"],\\\"Date\\\":[\\\"Tue, 11 Aug 2020 22:30:48 GMT\\\"],\\\"Content-Type\\\":[\\\"application/x-amz-json-1.1\\\"]},\\\"HttpHeaders\\\":{\\\"Connection\\\":\\\"keep-alive\\\",\\\"Content-Length\\\":\\\"82\\\",\\\"Content-Type\\\":\\\"application/x-amz-json-1.1\\\",\\\"Date\\\":\\\"Tue, 11 Aug 2020 22:30:48 GMT\\\",\\\"x-amzn-RequestId\\\":\\\"a0f640a7-ba34-4ca1-be64-ec40df41b987\\\"},\\\"HttpStatusCode\\\":200},\\\"SdkResponseMetadata\\\":{\\\"RequestId\\\":\\\"a0f640a7-ba34-4ca1-be64-ec40df41b987\\\"},\\\"JobName\\\":\\\"glue-iris-etl-9b748bace2f64f9590851bf61663ce2f\\\"}\"}}, {\"timestamp\": 1597185174.608, \"type\": \"TaskSucceeded\", \"id\": 6, \"previousEventId\": 5, \"taskSucceededEventDetails\": {\"resourceType\": \"glue\", \"resource\": \"startJobRun.sync\", \"output\": \"{\\\"AllocatedCapacity\\\":2,\\\"Arguments\\\":{\\\"--S3_SOURCE\\\":\\\"s3://ml-pipeline-725879053979/iris-classification/raw/\\\",\\\"--S3_DEST\\\":\\\"s3a://ml-pipeline-725879053979/iris-classification/\\\",\\\"--TRAIN_KEY\\\":\\\"train/\\\",\\\"--TEST_KEY\\\":\\\"test/\\\"},\\\"Attempt\\\":0,\\\"CompletedOn\\\":1597185119583,\\\"ExecutionTime\\\":62,\\\"GlueVersion\\\":\\\"2.0\\\",\\\"Id\\\":\\\"jr_80a90c6e4b6e77f52b753be91a318c6136716738192c2820e00d280311cae789\\\",\\\"JobName\\\":\\\"glue-iris-etl-9b748bace2f64f9590851bf61663ce2f\\\",\\\"JobRunState\\\":\\\"SUCCEEDED\\\",\\\"LastModifiedOn\\\":1597185119583,\\\"LogGroupName\\\":\\\"/aws-glue/jobs\\\",\\\"MaxCapacity\\\":2.0,\\\"NumberOfWorkers\\\":2,\\\"PredecessorRuns\\\":[],\\\"StartedOn\\\":1597185048345,\\\"Timeout\\\":60,\\\"WorkerType\\\":\\\"Standard\\\"}\"}}, {\"timestamp\": 1597185174.608, \"type\": \"TaskStateExited\", \"id\": 7, \"previousEventId\": 6, \"stateExitedEventDetails\": {\"name\": \"Extract, Transform, Load\", \"output\": \"{\\\"AllocatedCapacity\\\":2,\\\"Arguments\\\":{\\\"--S3_SOURCE\\\":\\\"s3://ml-pipeline-725879053979/iris-classification/raw/\\\",\\\"--S3_DEST\\\":\\\"s3a://ml-pipeline-725879053979/iris-classification/\\\",\\\"--TRAIN_KEY\\\":\\\"train/\\\",\\\"--TEST_KEY\\\":\\\"test/\\\"},\\\"Attempt\\\":0,\\\"CompletedOn\\\":1597185119583,\\\"ExecutionTime\\\":62,\\\"GlueVersion\\\":\\\"2.0\\\",\\\"Id\\\":\\\"jr_80a90c6e4b6e77f52b753be91a318c6136716738192c2820e00d280311cae789\\\",\\\"JobName\\\":\\\"glue-iris-etl-9b748bace2f64f9590851bf61663ce2f\\\",\\\"JobRunState\\\":\\\"SUCCEEDED\\\",\\\"LastModifiedOn\\\":1597185119583,\\\"LogGroupName\\\":\\\"/aws-glue/jobs\\\",\\\"MaxCapacity\\\":2.0,\\\"NumberOfWorkers\\\":2,\\\"PredecessorRuns\\\":[],\\\"StartedOn\\\":1597185048345,\\\"Timeout\\\":60,\\\"WorkerType\\\":\\\"Standard\\\"}\"}}, {\"timestamp\": 1597185174.618, \"type\": \"TaskStateEntered\", \"id\": 8, \"previousEventId\": 7, \"stateEnteredEventDetails\": {\"name\": \"Model Training\", \"input\": \"{\\\"AllocatedCapacity\\\":2,\\\"Arguments\\\":{\\\"--S3_SOURCE\\\":\\\"s3://ml-pipeline-725879053979/iris-classification/raw/\\\",\\\"--S3_DEST\\\":\\\"s3a://ml-pipeline-725879053979/iris-classification/\\\",\\\"--TRAIN_KEY\\\":\\\"train/\\\",\\\"--TEST_KEY\\\":\\\"test/\\\"},\\\"Attempt\\\":0,\\\"CompletedOn\\\":1597185119583,\\\"ExecutionTime\\\":62,\\\"GlueVersion\\\":\\\"2.0\\\",\\\"Id\\\":\\\"jr_80a90c6e4b6e77f52b753be91a318c6136716738192c2820e00d280311cae789\\\",\\\"JobName\\\":\\\"glue-iris-etl-9b748bace2f64f9590851bf61663ce2f\\\",\\\"JobRunState\\\":\\\"SUCCEEDED\\\",\\\"LastModifiedOn\\\":1597185119583,\\\"LogGroupName\\\":\\\"/aws-glue/jobs\\\",\\\"MaxCapacity\\\":2.0,\\\"NumberOfWorkers\\\":2,\\\"PredecessorRuns\\\":[],\\\"StartedOn\\\":1597185048345,\\\"Timeout\\\":60,\\\"WorkerType\\\":\\\"Standard\\\"}\"}}, {\"timestamp\": 1597185174.618, \"type\": \"TaskScheduled\", \"id\": 9, \"previousEventId\": 8, \"taskScheduledEventDetails\": {\"resourceType\": \"sagemaker\", \"resource\": \"createTrainingJob.sync\", \"region\": \"us-east-1\", \"parameters\": \"{\\\"AlgorithmSpecification\\\":{\\\"TrainingImage\\\":\\\"725879053979.dkr.ecr.us-east-1.amazonaws.com/iris-model:latest\\\",\\\"TrainingInputMode\\\":\\\"File\\\",\\\"MetricDefinitions\\\":[{\\\"Name\\\":\\\"validation:loss\\\",\\\"Regex\\\":\\\"multi_logloss: (.*?)$\\\"},{\\\"Name\\\":\\\"validation:f1\\\",\\\"Regex\\\":\\\"\\\\\\\\[F1 score\\\\\\\\] (.*?)$\\\"}]},\\\"OutputDataConfig\\\":{\\\"S3OutputPath\\\":\\\"s3://ml-pipeline-725879053979/iris-classification/training_output\\\"},\\\"StoppingCondition\\\":{\\\"MaxRuntimeInSeconds\\\":86400},\\\"ResourceConfig\\\":{\\\"InstanceCount\\\":1,\\\"InstanceType\\\":\\\"ml.m4.xlarge\\\",\\\"VolumeSizeInGB\\\":30},\\\"RoleArn\\\":\\\"arn:aws:iam::725879053979:role/MLOps\\\",\\\"InputDataConfig\\\":[{\\\"DataSource\\\":{\\\"S3DataSource\\\":{\\\"S3DataType\\\":\\\"S3Prefix\\\",\\\"S3Uri\\\":\\\"s3://ml-pipeline-725879053979/iris-classification/train/\\\",\\\"S3DataDistributionType\\\":\\\"FullyReplicated\\\"}},\\\"ContentType\\\":\\\"csv\\\",\\\"ChannelName\\\":\\\"train\\\"},{\\\"DataSource\\\":{\\\"S3DataSource\\\":{\\\"S3DataType\\\":\\\"S3Prefix\\\",\\\"S3Uri\\\":\\\"s3://ml-pipeline-725879053979/iris-classification/test/\\\",\\\"S3DataDistributionType\\\":\\\"FullyReplicated\\\"}},\\\"ContentType\\\":\\\"csv\\\",\\\"ChannelName\\\":\\\"validation\\\"}],\\\"HyperParameters\\\":{\\\"sagemaker_program\\\":\\\"train.py\\\",\\\"sagemaker_submit_directory\\\":\\\"s3://sagemaker-us-east-1-725879053979/sagemaker-custom/code/sourcedir.tar.gz\\\"},\\\"TrainingJobName\\\":\\\"iris-pipeline-9b748bace2f64f9590851bf61663ce2fB\\\",\\\"Tags\\\":[{\\\"Key\\\":\\\"MANAGED_BY_AWS\\\",\\\"Value\\\":\\\"STARTED_BY_STEP_FUNCTIONS\\\"}]}\"}}, {\"timestamp\": 1597185174.63, \"type\": \"TaskStarted\", \"id\": 10, \"previousEventId\": 9, \"taskStartedEventDetails\": {\"resourceType\": \"sagemaker\", \"resource\": \"createTrainingJob.sync\"}}, {\"timestamp\": 1597185174.847, \"type\": \"TaskSubmitted\", \"id\": 11, \"previousEventId\": 10, \"taskSubmittedEventDetails\": {\"resourceType\": \"sagemaker\", \"resource\": \"createTrainingJob.sync\", \"output\": \"{\\\"SdkHttpMetadata\\\":{\\\"AllHttpHeaders\\\":{\\\"x-amzn-RequestId\\\":[\\\"6d2f8722-d4fe-49a8-8487-04a0d38a7221\\\"],\\\"Content-Length\\\":[\\\"122\\\"],\\\"Date\\\":[\\\"Tue, 11 Aug 2020 22:32:54 GMT\\\"],\\\"Content-Type\\\":[\\\"application/x-amz-json-1.1\\\"]},\\\"HttpHeaders\\\":{\\\"Content-Length\\\":\\\"122\\\",\\\"Content-Type\\\":\\\"application/x-amz-json-1.1\\\",\\\"Date\\\":\\\"Tue, 11 Aug 2020 22:32:54 GMT\\\",\\\"x-amzn-RequestId\\\":\\\"6d2f8722-d4fe-49a8-8487-04a0d38a7221\\\"},\\\"HttpStatusCode\\\":200},\\\"SdkResponseMetadata\\\":{\\\"RequestId\\\":\\\"6d2f8722-d4fe-49a8-8487-04a0d38a7221\\\"},\\\"TrainingJobArn\\\":\\\"arn:aws:sagemaker:us-east-1:725879053979:training-job/iris-pipeline-9b748bace2f64f9590851bf61663ce2fb\\\"}\"}}, {\"timestamp\": 1597185419.394, \"type\": \"TaskSucceeded\", \"id\": 12, \"previousEventId\": 11, \"taskSucceededEventDetails\": {\"resourceType\": \"sagemaker\", \"resource\": \"createTrainingJob.sync\", \"output\": \"{\\\"TrainingJobName\\\":\\\"iris-pipeline-9b748bace2f64f9590851bf61663ce2fB\\\",\\\"TrainingJobArn\\\":\\\"arn:aws:sagemaker:us-east-1:725879053979:training-job/iris-pipeline-9b748bace2f64f9590851bf61663ce2fb\\\",\\\"ModelArtifacts\\\":{\\\"S3ModelArtifacts\\\":\\\"s3://ml-pipeline-725879053979/iris-classification/training_output/iris-pipeline-9b748bace2f64f9590851bf61663ce2fB/output/model.tar.gz\\\"},\\\"TrainingJobStatus\\\":\\\"Completed\\\",\\\"SecondaryStatus\\\":\\\"Completed\\\",\\\"HyperParameters\\\":{\\\"sagemaker_submit_directory\\\":\\\"s3://sagemaker-us-east-1-725879053979/sagemaker-custom/code/sourcedir.tar.gz\\\",\\\"sagemaker_program\\\":\\\"train.py\\\"},\\\"AlgorithmSpecification\\\":{\\\"TrainingImage\\\":\\\"725879053979.dkr.ecr.us-east-1.amazonaws.com/iris-model:latest\\\",\\\"TrainingInputMode\\\":\\\"FILE\\\"},\\\"RoleArn\\\":\\\"arn:aws:iam::725879053979:role/MLOps\\\",\\\"InputDataConfig\\\":[{\\\"ChannelName\\\":\\\"train\\\",\\\"DataSource\\\":{\\\"S3DataSource\\\":{\\\"S3DataType\\\":\\\"S3_PREFIX\\\",\\\"S3Uri\\\":\\\"s3://ml-pipeline-725879053979/iris-classification/train/\\\",\\\"S3DataDistributionType\\\":\\\"FULLY_REPLICATED\\\"}},\\\"ContentType\\\":\\\"csv\\\",\\\"CompressionType\\\":\\\"NONE\\\",\\\"RecordWrapperType\\\":\\\"NONE\\\"},{\\\"ChannelName\\\":\\\"validation\\\",\\\"DataSource\\\":{\\\"S3DataSource\\\":{\\\"S3DataType\\\":\\\"S3_PREFIX\\\",\\\"S3Uri\\\":\\\"s3://ml-pipeline-725879053979/iris-classification/test/\\\",\\\"S3DataDistributionType\\\":\\\"FULLY_REPLICATED\\\"}},\\\"ContentType\\\":\\\"csv\\\",\\\"CompressionType\\\":\\\"NONE\\\",\\\"RecordWrapperType\\\":\\\"NONE\\\"}],\\\"OutputDataConfig\\\":{\\\"S3OutputPath\\\":\\\"s3://ml-pipeline-725879053979/iris-classification/training_output\\\"},\\\"ResourceConfig\\\":{\\\"InstanceType\\\":\\\"ml.m4.xlarge\\\",\\\"InstanceCount\\\":1.0,\\\"VolumeSizeInGB\\\":30.0},\\\"StoppingCondition\\\":{\\\"MaxRuntimeInSeconds\\\":86400.0},\\\"CreationTime\\\":1.59718517482E12,\\\"TrainingStartTime\\\":1.59718533464E12,\\\"TrainingEndTime\\\":1.59718541655E12,\\\"LastModifiedTime\\\":1.59718541655E12,\\\"SecondaryStatusTransitions\\\":[{\\\"Status\\\":\\\"Starting\\\",\\\"StartTime\\\":1.59718517482E12,\\\"EndTime\\\":1.59718533464E12,\\\"StatusMessage\\\":\\\"Preparing the instances for training\\\"},{\\\"Status\\\":\\\"Downloading\\\",\\\"StartTime\\\":1.59718533464E12,\\\"EndTime\\\":1.597185340649E12,\\\"StatusMessage\\\":\\\"Downloading input data\\\"},{\\\"Status\\\":\\\"Training\\\",\\\"StartTime\\\":1.597185340649E12,\\\"EndTime\\\":1.597185409711E12,\\\"StatusMessage\\\":\\\"Training image download completed. Training in progress.\\\"},{\\\"Status\\\":\\\"Uploading\\\",\\\"StartTime\\\":1.597185409711E12,\\\"EndTime\\\":1.59718541655E12,\\\"StatusMessage\\\":\\\"Uploading generated training model\\\"},{\\\"Status\\\":\\\"Completed\\\",\\\"StartTime\\\":1.59718541655E12,\\\"EndTime\\\":1.59718541655E12,\\\"StatusMessage\\\":\\\"Training job completed\\\"}],\\\"Tags\\\":{\\\"AWS_STEP_FUNCTIONS_EXECUTION_ARN\\\":\\\"arn:aws:states:us-east-1:725879053979:execution:Iris-ML-Pipeline-9b748bace2f64f9590851bf61663ce2f:08d30380-508b-49b3-884f-c0ab2eaed1aa\\\",\\\"MANAGED_BY_AWS\\\":\\\"STARTED_BY_STEP_FUNCTIONS\\\"}}\"}}, {\"timestamp\": 1597185419.394, \"type\": \"TaskStateExited\", \"id\": 13, \"previousEventId\": 12, \"stateExitedEventDetails\": {\"name\": \"Model Training\", \"output\": \"{\\\"TrainingJobName\\\":\\\"iris-pipeline-9b748bace2f64f9590851bf61663ce2fB\\\",\\\"TrainingJobArn\\\":\\\"arn:aws:sagemaker:us-east-1:725879053979:training-job/iris-pipeline-9b748bace2f64f9590851bf61663ce2fb\\\",\\\"ModelArtifacts\\\":{\\\"S3ModelArtifacts\\\":\\\"s3://ml-pipeline-725879053979/iris-classification/training_output/iris-pipeline-9b748bace2f64f9590851bf61663ce2fB/output/model.tar.gz\\\"},\\\"TrainingJobStatus\\\":\\\"Completed\\\",\\\"SecondaryStatus\\\":\\\"Completed\\\",\\\"HyperParameters\\\":{\\\"sagemaker_submit_directory\\\":\\\"s3://sagemaker-us-east-1-725879053979/sagemaker-custom/code/sourcedir.tar.gz\\\",\\\"sagemaker_program\\\":\\\"train.py\\\"},\\\"AlgorithmSpecification\\\":{\\\"TrainingImage\\\":\\\"725879053979.dkr.ecr.us-east-1.amazonaws.com/iris-model:latest\\\",\\\"TrainingInputMode\\\":\\\"FILE\\\"},\\\"RoleArn\\\":\\\"arn:aws:iam::725879053979:role/MLOps\\\",\\\"InputDataConfig\\\":[{\\\"ChannelName\\\":\\\"train\\\",\\\"DataSource\\\":{\\\"S3DataSource\\\":{\\\"S3DataType\\\":\\\"S3_PREFIX\\\",\\\"S3Uri\\\":\\\"s3://ml-pipeline-725879053979/iris-classification/train/\\\",\\\"S3DataDistributionType\\\":\\\"FULLY_REPLICATED\\\"}},\\\"ContentType\\\":\\\"csv\\\",\\\"CompressionType\\\":\\\"NONE\\\",\\\"RecordWrapperType\\\":\\\"NONE\\\"},{\\\"ChannelName\\\":\\\"validation\\\",\\\"DataSource\\\":{\\\"S3DataSource\\\":{\\\"S3DataType\\\":\\\"S3_PREFIX\\\",\\\"S3Uri\\\":\\\"s3://ml-pipeline-725879053979/iris-classification/test/\\\",\\\"S3DataDistributionType\\\":\\\"FULLY_REPLICATED\\\"}},\\\"ContentType\\\":\\\"csv\\\",\\\"CompressionType\\\":\\\"NONE\\\",\\\"RecordWrapperType\\\":\\\"NONE\\\"}],\\\"OutputDataConfig\\\":{\\\"S3OutputPath\\\":\\\"s3://ml-pipeline-725879053979/iris-classification/training_output\\\"},\\\"ResourceConfig\\\":{\\\"InstanceType\\\":\\\"ml.m4.xlarge\\\",\\\"InstanceCount\\\":1.0,\\\"VolumeSizeInGB\\\":30.0},\\\"StoppingCondition\\\":{\\\"MaxRuntimeInSeconds\\\":86400.0},\\\"CreationTime\\\":1.59718517482E12,\\\"TrainingStartTime\\\":1.59718533464E12,\\\"TrainingEndTime\\\":1.59718541655E12,\\\"LastModifiedTime\\\":1.59718541655E12,\\\"SecondaryStatusTransitions\\\":[{\\\"Status\\\":\\\"Starting\\\",\\\"StartTime\\\":1.59718517482E12,\\\"EndTime\\\":1.59718533464E12,\\\"StatusMessage\\\":\\\"Preparing the instances for training\\\"},{\\\"Status\\\":\\\"Downloading\\\",\\\"StartTime\\\":1.59718533464E12,\\\"EndTime\\\":1.597185340649E12,\\\"StatusMessage\\\":\\\"Downloading input data\\\"},{\\\"Status\\\":\\\"Training\\\",\\\"StartTime\\\":1.597185340649E12,\\\"EndTime\\\":1.597185409711E12,\\\"StatusMessage\\\":\\\"Training image download completed. Training in progress.\\\"},{\\\"Status\\\":\\\"Uploading\\\",\\\"StartTime\\\":1.597185409711E12,\\\"EndTime\\\":1.59718541655E12,\\\"StatusMessage\\\":\\\"Uploading generated training model\\\"},{\\\"Status\\\":\\\"Completed\\\",\\\"StartTime\\\":1.59718541655E12,\\\"EndTime\\\":1.59718541655E12,\\\"StatusMessage\\\":\\\"Training job completed\\\"}],\\\"Tags\\\":{\\\"AWS_STEP_FUNCTIONS_EXECUTION_ARN\\\":\\\"arn:aws:states:us-east-1:725879053979:execution:Iris-ML-Pipeline-9b748bace2f64f9590851bf61663ce2f:08d30380-508b-49b3-884f-c0ab2eaed1aa\\\",\\\"MANAGED_BY_AWS\\\":\\\"STARTED_BY_STEP_FUNCTIONS\\\"}}\"}}, {\"timestamp\": 1597185419.407, \"type\": \"TaskStateEntered\", \"id\": 14, \"previousEventId\": 13, \"stateEnteredEventDetails\": {\"name\": \"Save Model\", \"input\": \"{\\\"TrainingJobName\\\":\\\"iris-pipeline-9b748bace2f64f9590851bf61663ce2fB\\\",\\\"TrainingJobArn\\\":\\\"arn:aws:sagemaker:us-east-1:725879053979:training-job/iris-pipeline-9b748bace2f64f9590851bf61663ce2fb\\\",\\\"ModelArtifacts\\\":{\\\"S3ModelArtifacts\\\":\\\"s3://ml-pipeline-725879053979/iris-classification/training_output/iris-pipeline-9b748bace2f64f9590851bf61663ce2fB/output/model.tar.gz\\\"},\\\"TrainingJobStatus\\\":\\\"Completed\\\",\\\"SecondaryStatus\\\":\\\"Completed\\\",\\\"HyperParameters\\\":{\\\"sagemaker_submit_directory\\\":\\\"s3://sagemaker-us-east-1-725879053979/sagemaker-custom/code/sourcedir.tar.gz\\\",\\\"sagemaker_program\\\":\\\"train.py\\\"},\\\"AlgorithmSpecification\\\":{\\\"TrainingImage\\\":\\\"725879053979.dkr.ecr.us-east-1.amazonaws.com/iris-model:latest\\\",\\\"TrainingInputMode\\\":\\\"FILE\\\"},\\\"RoleArn\\\":\\\"arn:aws:iam::725879053979:role/MLOps\\\",\\\"InputDataConfig\\\":[{\\\"ChannelName\\\":\\\"train\\\",\\\"DataSource\\\":{\\\"S3DataSource\\\":{\\\"S3DataType\\\":\\\"S3_PREFIX\\\",\\\"S3Uri\\\":\\\"s3://ml-pipeline-725879053979/iris-classification/train/\\\",\\\"S3DataDistributionType\\\":\\\"FULLY_REPLICATED\\\"}},\\\"ContentType\\\":\\\"csv\\\",\\\"CompressionType\\\":\\\"NONE\\\",\\\"RecordWrapperType\\\":\\\"NONE\\\"},{\\\"ChannelName\\\":\\\"validation\\\",\\\"DataSource\\\":{\\\"S3DataSource\\\":{\\\"S3DataType\\\":\\\"S3_PREFIX\\\",\\\"S3Uri\\\":\\\"s3://ml-pipeline-725879053979/iris-classification/test/\\\",\\\"S3DataDistributionType\\\":\\\"FULLY_REPLICATED\\\"}},\\\"ContentType\\\":\\\"csv\\\",\\\"CompressionType\\\":\\\"NONE\\\",\\\"RecordWrapperType\\\":\\\"NONE\\\"}],\\\"OutputDataConfig\\\":{\\\"S3OutputPath\\\":\\\"s3://ml-pipeline-725879053979/iris-classification/training_output\\\"},\\\"ResourceConfig\\\":{\\\"InstanceType\\\":\\\"ml.m4.xlarge\\\",\\\"InstanceCount\\\":1.0,\\\"VolumeSizeInGB\\\":30.0},\\\"StoppingCondition\\\":{\\\"MaxRuntimeInSeconds\\\":86400.0},\\\"CreationTime\\\":1.59718517482E12,\\\"TrainingStartTime\\\":1.59718533464E12,\\\"TrainingEndTime\\\":1.59718541655E12,\\\"LastModifiedTime\\\":1.59718541655E12,\\\"SecondaryStatusTransitions\\\":[{\\\"Status\\\":\\\"Starting\\\",\\\"StartTime\\\":1.59718517482E12,\\\"EndTime\\\":1.59718533464E12,\\\"StatusMessage\\\":\\\"Preparing the instances for training\\\"},{\\\"Status\\\":\\\"Downloading\\\",\\\"StartTime\\\":1.59718533464E12,\\\"EndTime\\\":1.597185340649E12,\\\"StatusMessage\\\":\\\"Downloading input data\\\"},{\\\"Status\\\":\\\"Training\\\",\\\"StartTime\\\":1.597185340649E12,\\\"EndTime\\\":1.597185409711E12,\\\"StatusMessage\\\":\\\"Training image download completed. Training in progress.\\\"},{\\\"Status\\\":\\\"Uploading\\\",\\\"StartTime\\\":1.597185409711E12,\\\"EndTime\\\":1.59718541655E12,\\\"StatusMessage\\\":\\\"Uploading generated training model\\\"},{\\\"Status\\\":\\\"Completed\\\",\\\"StartTime\\\":1.59718541655E12,\\\"EndTime\\\":1.59718541655E12,\\\"StatusMessage\\\":\\\"Training job completed\\\"}],\\\"Tags\\\":{\\\"AWS_STEP_FUNCTIONS_EXECUTION_ARN\\\":\\\"arn:aws:states:us-east-1:725879053979:execution:Iris-ML-Pipeline-9b748bace2f64f9590851bf61663ce2f:08d30380-508b-49b3-884f-c0ab2eaed1aa\\\",\\\"MANAGED_BY_AWS\\\":\\\"STARTED_BY_STEP_FUNCTIONS\\\"}}\"}}, {\"timestamp\": 1597185419.407, \"type\": \"TaskScheduled\", \"id\": 15, \"previousEventId\": 14, \"taskScheduledEventDetails\": {\"resourceType\": \"sagemaker\", \"resource\": \"createModel\", \"region\": \"us-east-1\", \"parameters\": \"{\\\"ExecutionRoleArn\\\":\\\"arn:aws:iam::725879053979:role/MLOps\\\",\\\"PrimaryContainer\\\":{\\\"Environment\\\":{},\\\"Image\\\":\\\"725879053979.dkr.ecr.us-east-1.amazonaws.com/iris-model:latest\\\",\\\"ModelDataUrl\\\":\\\"s3://ml-pipeline-725879053979/iris-classification/training_output/iris-pipeline-9b748bace2f64f9590851bf61663ce2fB/output/model.tar.gz\\\"},\\\"ModelName\\\":\\\"Iris-9b748bace2f64f9590851bf61663ce2fB\\\"}\"}}, {\"timestamp\": 1597185419.418, \"type\": \"TaskStarted\", \"id\": 16, \"previousEventId\": 15, \"taskStartedEventDetails\": {\"resourceType\": \"sagemaker\", \"resource\": \"createModel\"}}, {\"timestamp\": 1597185419.746, \"type\": \"TaskSucceeded\", \"id\": 17, \"previousEventId\": 16, \"taskSucceededEventDetails\": {\"resourceType\": \"sagemaker\", \"resource\": \"createModel\", \"output\": \"{\\\"ModelArn\\\":\\\"arn:aws:sagemaker:us-east-1:725879053979:model/iris-9b748bace2f64f9590851bf61663ce2fb\\\",\\\"SdkHttpMetadata\\\":{\\\"AllHttpHeaders\\\":{\\\"x-amzn-RequestId\\\":[\\\"9f2a1908-5fc6-47ab-84c0-2561e14272ff\\\"],\\\"Content-Length\\\":[\\\"100\\\"],\\\"Date\\\":[\\\"Tue, 11 Aug 2020 22:36:59 GMT\\\"],\\\"Content-Type\\\":[\\\"application/x-amz-json-1.1\\\"]},\\\"HttpHeaders\\\":{\\\"Content-Length\\\":\\\"100\\\",\\\"Content-Type\\\":\\\"application/x-amz-json-1.1\\\",\\\"Date\\\":\\\"Tue, 11 Aug 2020 22:36:59 GMT\\\",\\\"x-amzn-RequestId\\\":\\\"9f2a1908-5fc6-47ab-84c0-2561e14272ff\\\"},\\\"HttpStatusCode\\\":200},\\\"SdkResponseMetadata\\\":{\\\"RequestId\\\":\\\"9f2a1908-5fc6-47ab-84c0-2561e14272ff\\\"}}\"}}, {\"timestamp\": 1597185419.746, \"type\": \"TaskStateExited\", \"id\": 18, \"previousEventId\": 17, \"stateExitedEventDetails\": {\"name\": \"Save Model\", \"output\": \"{\\\"TrainingJobName\\\":\\\"iris-pipeline-9b748bace2f64f9590851bf61663ce2fB\\\",\\\"TrainingJobArn\\\":\\\"arn:aws:sagemaker:us-east-1:725879053979:training-job/iris-pipeline-9b748bace2f64f9590851bf61663ce2fb\\\",\\\"ModelArtifacts\\\":{\\\"S3ModelArtifacts\\\":\\\"s3://ml-pipeline-725879053979/iris-classification/training_output/iris-pipeline-9b748bace2f64f9590851bf61663ce2fB/output/model.tar.gz\\\"},\\\"TrainingJobStatus\\\":\\\"Completed\\\",\\\"SecondaryStatus\\\":\\\"Completed\\\",\\\"HyperParameters\\\":{\\\"sagemaker_submit_directory\\\":\\\"s3://sagemaker-us-east-1-725879053979/sagemaker-custom/code/sourcedir.tar.gz\\\",\\\"sagemaker_program\\\":\\\"train.py\\\"},\\\"AlgorithmSpecification\\\":{\\\"TrainingImage\\\":\\\"725879053979.dkr.ecr.us-east-1.amazonaws.com/iris-model:latest\\\",\\\"TrainingInputMode\\\":\\\"FILE\\\"},\\\"RoleArn\\\":\\\"arn:aws:iam::725879053979:role/MLOps\\\",\\\"InputDataConfig\\\":[{\\\"ChannelName\\\":\\\"train\\\",\\\"DataSource\\\":{\\\"S3DataSource\\\":{\\\"S3DataType\\\":\\\"S3_PREFIX\\\",\\\"S3Uri\\\":\\\"s3://ml-pipeline-725879053979/iris-classification/train/\\\",\\\"S3DataDistributionType\\\":\\\"FULLY_REPLICATED\\\"}},\\\"ContentType\\\":\\\"csv\\\",\\\"CompressionType\\\":\\\"NONE\\\",\\\"RecordWrapperType\\\":\\\"NONE\\\"},{\\\"ChannelName\\\":\\\"validation\\\",\\\"DataSource\\\":{\\\"S3DataSource\\\":{\\\"S3DataType\\\":\\\"S3_PREFIX\\\",\\\"S3Uri\\\":\\\"s3://ml-pipeline-725879053979/iris-classification/test/\\\",\\\"S3DataDistributionType\\\":\\\"FULLY_REPLICATED\\\"}},\\\"ContentType\\\":\\\"csv\\\",\\\"CompressionType\\\":\\\"NONE\\\",\\\"RecordWrapperType\\\":\\\"NONE\\\"}],\\\"OutputDataConfig\\\":{\\\"S3OutputPath\\\":\\\"s3://ml-pipeline-725879053979/iris-classification/training_output\\\"},\\\"ResourceConfig\\\":{\\\"InstanceType\\\":\\\"ml.m4.xlarge\\\",\\\"InstanceCount\\\":1.0,\\\"VolumeSizeInGB\\\":30.0},\\\"StoppingCondition\\\":{\\\"MaxRuntimeInSeconds\\\":86400.0},\\\"CreationTime\\\":1.59718517482E12,\\\"TrainingStartTime\\\":1.59718533464E12,\\\"TrainingEndTime\\\":1.59718541655E12,\\\"LastModifiedTime\\\":1.59718541655E12,\\\"SecondaryStatusTransitions\\\":[{\\\"Status\\\":\\\"Starting\\\",\\\"StartTime\\\":1.59718517482E12,\\\"EndTime\\\":1.59718533464E12,\\\"StatusMessage\\\":\\\"Preparing the instances for training\\\"},{\\\"Status\\\":\\\"Downloading\\\",\\\"StartTime\\\":1.59718533464E12,\\\"EndTime\\\":1.597185340649E12,\\\"StatusMessage\\\":\\\"Downloading input data\\\"},{\\\"Status\\\":\\\"Training\\\",\\\"StartTime\\\":1.597185340649E12,\\\"EndTime\\\":1.597185409711E12,\\\"StatusMessage\\\":\\\"Training image download completed. Training in progress.\\\"},{\\\"Status\\\":\\\"Uploading\\\",\\\"StartTime\\\":1.597185409711E12,\\\"EndTime\\\":1.59718541655E12,\\\"StatusMessage\\\":\\\"Uploading generated training model\\\"},{\\\"Status\\\":\\\"Completed\\\",\\\"StartTime\\\":1.59718541655E12,\\\"EndTime\\\":1.59718541655E12,\\\"StatusMessage\\\":\\\"Training job completed\\\"}],\\\"Tags\\\":{\\\"AWS_STEP_FUNCTIONS_EXECUTION_ARN\\\":\\\"arn:aws:states:us-east-1:725879053979:execution:Iris-ML-Pipeline-9b748bace2f64f9590851bf61663ce2f:08d30380-508b-49b3-884f-c0ab2eaed1aa\\\",\\\"MANAGED_BY_AWS\\\":\\\"STARTED_BY_STEP_FUNCTIONS\\\"},\\\"ModelStepResults\\\":{\\\"ModelArn\\\":\\\"arn:aws:sagemaker:us-east-1:725879053979:model/iris-9b748bace2f64f9590851bf61663ce2fb\\\",\\\"SdkHttpMetadata\\\":{\\\"AllHttpHeaders\\\":{\\\"x-amzn-RequestId\\\":[\\\"9f2a1908-5fc6-47ab-84c0-2561e14272ff\\\"],\\\"Content-Length\\\":[\\\"100\\\"],\\\"Date\\\":[\\\"Tue, 11 Aug 2020 22:36:59 GMT\\\"],\\\"Content-Type\\\":[\\\"application/x-amz-json-1.1\\\"]},\\\"HttpHeaders\\\":{\\\"Content-Length\\\":\\\"100\\\",\\\"Content-Type\\\":\\\"application/x-amz-json-1.1\\\",\\\"Date\\\":\\\"Tue, 11 Aug 2020 22:36:59 GMT\\\",\\\"x-amzn-RequestId\\\":\\\"9f2a1908-5fc6-47ab-84c0-2561e14272ff\\\"},\\\"HttpStatusCode\\\":200},\\\"SdkResponseMetadata\\\":{\\\"RequestId\\\":\\\"9f2a1908-5fc6-47ab-84c0-2561e14272ff\\\"}}}\"}}, {\"timestamp\": 1597185419.755, \"type\": \"TaskStateEntered\", \"id\": 19, \"previousEventId\": 18, \"stateEnteredEventDetails\": {\"name\": \"Query Training Results\", \"input\": \"{\\\"TrainingJobName\\\":\\\"iris-pipeline-9b748bace2f64f9590851bf61663ce2fB\\\",\\\"TrainingJobArn\\\":\\\"arn:aws:sagemaker:us-east-1:725879053979:training-job/iris-pipeline-9b748bace2f64f9590851bf61663ce2fb\\\",\\\"ModelArtifacts\\\":{\\\"S3ModelArtifacts\\\":\\\"s3://ml-pipeline-725879053979/iris-classification/training_output/iris-pipeline-9b748bace2f64f9590851bf61663ce2fB/output/model.tar.gz\\\"},\\\"TrainingJobStatus\\\":\\\"Completed\\\",\\\"SecondaryStatus\\\":\\\"Completed\\\",\\\"HyperParameters\\\":{\\\"sagemaker_submit_directory\\\":\\\"s3://sagemaker-us-east-1-725879053979/sagemaker-custom/code/sourcedir.tar.gz\\\",\\\"sagemaker_program\\\":\\\"train.py\\\"},\\\"AlgorithmSpecification\\\":{\\\"TrainingImage\\\":\\\"725879053979.dkr.ecr.us-east-1.amazonaws.com/iris-model:latest\\\",\\\"TrainingInputMode\\\":\\\"FILE\\\"},\\\"RoleArn\\\":\\\"arn:aws:iam::725879053979:role/MLOps\\\",\\\"InputDataConfig\\\":[{\\\"ChannelName\\\":\\\"train\\\",\\\"DataSource\\\":{\\\"S3DataSource\\\":{\\\"S3DataType\\\":\\\"S3_PREFIX\\\",\\\"S3Uri\\\":\\\"s3://ml-pipeline-725879053979/iris-classification/train/\\\",\\\"S3DataDistributionType\\\":\\\"FULLY_REPLICATED\\\"}},\\\"ContentType\\\":\\\"csv\\\",\\\"CompressionType\\\":\\\"NONE\\\",\\\"RecordWrapperType\\\":\\\"NONE\\\"},{\\\"ChannelName\\\":\\\"validation\\\",\\\"DataSource\\\":{\\\"S3DataSource\\\":{\\\"S3DataType\\\":\\\"S3_PREFIX\\\",\\\"S3Uri\\\":\\\"s3://ml-pipeline-725879053979/iris-classification/test/\\\",\\\"S3DataDistributionType\\\":\\\"FULLY_REPLICATED\\\"}},\\\"ContentType\\\":\\\"csv\\\",\\\"CompressionType\\\":\\\"NONE\\\",\\\"RecordWrapperType\\\":\\\"NONE\\\"}],\\\"OutputDataConfig\\\":{\\\"S3OutputPath\\\":\\\"s3://ml-pipeline-725879053979/iris-classification/training_output\\\"},\\\"ResourceConfig\\\":{\\\"InstanceType\\\":\\\"ml.m4.xlarge\\\",\\\"InstanceCount\\\":1.0,\\\"VolumeSizeInGB\\\":30.0},\\\"StoppingCondition\\\":{\\\"MaxRuntimeInSeconds\\\":86400.0},\\\"CreationTime\\\":1.59718517482E12,\\\"TrainingStartTime\\\":1.59718533464E12,\\\"TrainingEndTime\\\":1.59718541655E12,\\\"LastModifiedTime\\\":1.59718541655E12,\\\"SecondaryStatusTransitions\\\":[{\\\"Status\\\":\\\"Starting\\\",\\\"StartTime\\\":1.59718517482E12,\\\"EndTime\\\":1.59718533464E12,\\\"StatusMessage\\\":\\\"Preparing the instances for training\\\"},{\\\"Status\\\":\\\"Downloading\\\",\\\"StartTime\\\":1.59718533464E12,\\\"EndTime\\\":1.597185340649E12,\\\"StatusMessage\\\":\\\"Downloading input data\\\"},{\\\"Status\\\":\\\"Training\\\",\\\"StartTime\\\":1.597185340649E12,\\\"EndTime\\\":1.597185409711E12,\\\"StatusMessage\\\":\\\"Training image download completed. Training in progress.\\\"},{\\\"Status\\\":\\\"Uploading\\\",\\\"StartTime\\\":1.597185409711E12,\\\"EndTime\\\":1.59718541655E12,\\\"StatusMessage\\\":\\\"Uploading generated training model\\\"},{\\\"Status\\\":\\\"Completed\\\",\\\"StartTime\\\":1.59718541655E12,\\\"EndTime\\\":1.59718541655E12,\\\"StatusMessage\\\":\\\"Training job completed\\\"}],\\\"Tags\\\":{\\\"AWS_STEP_FUNCTIONS_EXECUTION_ARN\\\":\\\"arn:aws:states:us-east-1:725879053979:execution:Iris-ML-Pipeline-9b748bace2f64f9590851bf61663ce2f:08d30380-508b-49b3-884f-c0ab2eaed1aa\\\",\\\"MANAGED_BY_AWS\\\":\\\"STARTED_BY_STEP_FUNCTIONS\\\"},\\\"ModelStepResults\\\":{\\\"ModelArn\\\":\\\"arn:aws:sagemaker:us-east-1:725879053979:model/iris-9b748bace2f64f9590851bf61663ce2fb\\\",\\\"SdkHttpMetadata\\\":{\\\"AllHttpHeaders\\\":{\\\"x-amzn-RequestId\\\":[\\\"9f2a1908-5fc6-47ab-84c0-2561e14272ff\\\"],\\\"Content-Length\\\":[\\\"100\\\"],\\\"Date\\\":[\\\"Tue, 11 Aug 2020 22:36:59 GMT\\\"],\\\"Content-Type\\\":[\\\"application/x-amz-json-1.1\\\"]},\\\"HttpHeaders\\\":{\\\"Content-Length\\\":\\\"100\\\",\\\"Content-Type\\\":\\\"application/x-amz-json-1.1\\\",\\\"Date\\\":\\\"Tue, 11 Aug 2020 22:36:59 GMT\\\",\\\"x-amzn-RequestId\\\":\\\"9f2a1908-5fc6-47ab-84c0-2561e14272ff\\\"},\\\"HttpStatusCode\\\":200},\\\"SdkResponseMetadata\\\":{\\\"RequestId\\\":\\\"9f2a1908-5fc6-47ab-84c0-2561e14272ff\\\"}}}\"}}, {\"timestamp\": 1597185419.755, \"type\": \"TaskScheduled\", \"id\": 20, \"previousEventId\": 19, \"taskScheduledEventDetails\": {\"resourceType\": \"lambda\", \"resource\": \"invoke\", \"region\": \"us-east-1\", \"parameters\": \"{\\\"Payload\\\":{\\\"TrainingJobName\\\":\\\"iris-pipeline-9b748bace2f64f9590851bf61663ce2fB\\\"},\\\"FunctionName\\\":\\\"query-training-status-9b748bace2f64f9590851bf61663ce2f\\\"}\"}}, {\"timestamp\": 1597185419.766, \"type\": \"TaskStarted\", \"id\": 21, \"previousEventId\": 20, \"taskStartedEventDetails\": {\"resourceType\": \"lambda\", \"resource\": \"invoke\"}}, {\"timestamp\": 1597185420.57, \"type\": \"TaskSucceeded\", \"id\": 22, \"previousEventId\": 21, \"taskSucceededEventDetails\": {\"resourceType\": \"lambda\", \"resource\": \"invoke\", \"output\": \"{\\\"ExecutedVersion\\\":\\\"$LATEST\\\",\\\"Payload\\\":{\\\"statusCode\\\":200,\\\"trainingMetrics\\\":[{\\\"MetricName\\\":\\\"validation:f1\\\",\\\"Value\\\":0.939393937587738,\\\"Timestamp\\\":1597185.407}]},\\\"SdkHttpMetadata\\\":{\\\"AllHttpHeaders\\\":{\\\"X-Amz-Executed-Version\\\":[\\\"$LATEST\\\"],\\\"x-amzn-Remapped-Content-Length\\\":[\\\"0\\\"],\\\"Connection\\\":[\\\"keep-alive\\\"],\\\"x-amzn-RequestId\\\":[\\\"4b170c8f-a679-4d50-bb7c-70a6cc24d692\\\"],\\\"Content-Length\\\":[\\\"127\\\"],\\\"Date\\\":[\\\"Tue, 11 Aug 2020 22:37:00 GMT\\\"],\\\"X-Amzn-Trace-Id\\\":[\\\"root=1-5f331d8b-bb2ba525335b662cbd19dc37;sampled=0\\\"],\\\"Content-Type\\\":[\\\"application/json\\\"]},\\\"HttpHeaders\\\":{\\\"Connection\\\":\\\"keep-alive\\\",\\\"Content-Length\\\":\\\"127\\\",\\\"Content-Type\\\":\\\"application/json\\\",\\\"Date\\\":\\\"Tue, 11 Aug 2020 22:37:00 GMT\\\",\\\"X-Amz-Executed-Version\\\":\\\"$LATEST\\\",\\\"x-amzn-Remapped-Content-Length\\\":\\\"0\\\",\\\"x-amzn-RequestId\\\":\\\"4b170c8f-a679-4d50-bb7c-70a6cc24d692\\\",\\\"X-Amzn-Trace-Id\\\":\\\"root=1-5f331d8b-bb2ba525335b662cbd19dc37;sampled=0\\\"},\\\"HttpStatusCode\\\":200},\\\"SdkResponseMetadata\\\":{\\\"RequestId\\\":\\\"4b170c8f-a679-4d50-bb7c-70a6cc24d692\\\"},\\\"StatusCode\\\":200}\"}}, {\"timestamp\": 1597185420.57, \"type\": \"TaskStateExited\", \"id\": 23, \"previousEventId\": 22, \"stateExitedEventDetails\": {\"name\": \"Query Training Results\", \"output\": \"{\\\"ExecutedVersion\\\":\\\"$LATEST\\\",\\\"Payload\\\":{\\\"statusCode\\\":200,\\\"trainingMetrics\\\":[{\\\"MetricName\\\":\\\"validation:f1\\\",\\\"Value\\\":0.939393937587738,\\\"Timestamp\\\":1597185.407}]},\\\"SdkHttpMetadata\\\":{\\\"AllHttpHeaders\\\":{\\\"X-Amz-Executed-Version\\\":[\\\"$LATEST\\\"],\\\"x-amzn-Remapped-Content-Length\\\":[\\\"0\\\"],\\\"Connection\\\":[\\\"keep-alive\\\"],\\\"x-amzn-RequestId\\\":[\\\"4b170c8f-a679-4d50-bb7c-70a6cc24d692\\\"],\\\"Content-Length\\\":[\\\"127\\\"],\\\"Date\\\":[\\\"Tue, 11 Aug 2020 22:37:00 GMT\\\"],\\\"X-Amzn-Trace-Id\\\":[\\\"root=1-5f331d8b-bb2ba525335b662cbd19dc37;sampled=0\\\"],\\\"Content-Type\\\":[\\\"application/json\\\"]},\\\"HttpHeaders\\\":{\\\"Connection\\\":\\\"keep-alive\\\",\\\"Content-Length\\\":\\\"127\\\",\\\"Content-Type\\\":\\\"application/json\\\",\\\"Date\\\":\\\"Tue, 11 Aug 2020 22:37:00 GMT\\\",\\\"X-Amz-Executed-Version\\\":\\\"$LATEST\\\",\\\"x-amzn-Remapped-Content-Length\\\":\\\"0\\\",\\\"x-amzn-RequestId\\\":\\\"4b170c8f-a679-4d50-bb7c-70a6cc24d692\\\",\\\"X-Amzn-Trace-Id\\\":\\\"root=1-5f331d8b-bb2ba525335b662cbd19dc37;sampled=0\\\"},\\\"HttpStatusCode\\\":200},\\\"SdkResponseMetadata\\\":{\\\"RequestId\\\":\\\"4b170c8f-a679-4d50-bb7c-70a6cc24d692\\\"},\\\"StatusCode\\\":200}\"}}, {\"timestamp\": 1597185420.579, \"type\": \"ChoiceStateEntered\", \"id\": 24, \"previousEventId\": 23, \"stateEnteredEventDetails\": {\"name\": \"F1 score > 90%\", \"input\": \"{\\\"ExecutedVersion\\\":\\\"$LATEST\\\",\\\"Payload\\\":{\\\"statusCode\\\":200,\\\"trainingMetrics\\\":[{\\\"MetricName\\\":\\\"validation:f1\\\",\\\"Value\\\":0.939393937587738,\\\"Timestamp\\\":1597185.407}]},\\\"SdkHttpMetadata\\\":{\\\"AllHttpHeaders\\\":{\\\"X-Amz-Executed-Version\\\":[\\\"$LATEST\\\"],\\\"x-amzn-Remapped-Content-Length\\\":[\\\"0\\\"],\\\"Connection\\\":[\\\"keep-alive\\\"],\\\"x-amzn-RequestId\\\":[\\\"4b170c8f-a679-4d50-bb7c-70a6cc24d692\\\"],\\\"Content-Length\\\":[\\\"127\\\"],\\\"Date\\\":[\\\"Tue, 11 Aug 2020 22:37:00 GMT\\\"],\\\"X-Amzn-Trace-Id\\\":[\\\"root=1-5f331d8b-bb2ba525335b662cbd19dc37;sampled=0\\\"],\\\"Content-Type\\\":[\\\"application/json\\\"]},\\\"HttpHeaders\\\":{\\\"Connection\\\":\\\"keep-alive\\\",\\\"Content-Length\\\":\\\"127\\\",\\\"Content-Type\\\":\\\"application/json\\\",\\\"Date\\\":\\\"Tue, 11 Aug 2020 22:37:00 GMT\\\",\\\"X-Amz-Executed-Version\\\":\\\"$LATEST\\\",\\\"x-amzn-Remapped-Content-Length\\\":\\\"0\\\",\\\"x-amzn-RequestId\\\":\\\"4b170c8f-a679-4d50-bb7c-70a6cc24d692\\\",\\\"X-Amzn-Trace-Id\\\":\\\"root=1-5f331d8b-bb2ba525335b662cbd19dc37;sampled=0\\\"},\\\"HttpStatusCode\\\":200},\\\"SdkResponseMetadata\\\":{\\\"RequestId\\\":\\\"4b170c8f-a679-4d50-bb7c-70a6cc24d692\\\"},\\\"StatusCode\\\":200}\"}}, {\"timestamp\": 1597185420.579, \"type\": \"ChoiceStateExited\", \"id\": 25, \"previousEventId\": 24, \"stateExitedEventDetails\": {\"name\": \"F1 score > 90%\", \"output\": \"{\\\"ExecutedVersion\\\":\\\"$LATEST\\\",\\\"Payload\\\":{\\\"statusCode\\\":200,\\\"trainingMetrics\\\":[{\\\"MetricName\\\":\\\"validation:f1\\\",\\\"Value\\\":0.939393937587738,\\\"Timestamp\\\":1597185.407}]},\\\"SdkHttpMetadata\\\":{\\\"AllHttpHeaders\\\":{\\\"X-Amz-Executed-Version\\\":[\\\"$LATEST\\\"],\\\"x-amzn-Remapped-Content-Length\\\":[\\\"0\\\"],\\\"Connection\\\":[\\\"keep-alive\\\"],\\\"x-amzn-RequestId\\\":[\\\"4b170c8f-a679-4d50-bb7c-70a6cc24d692\\\"],\\\"Content-Length\\\":[\\\"127\\\"],\\\"Date\\\":[\\\"Tue, 11 Aug 2020 22:37:00 GMT\\\"],\\\"X-Amzn-Trace-Id\\\":[\\\"root=1-5f331d8b-bb2ba525335b662cbd19dc37;sampled=0\\\"],\\\"Content-Type\\\":[\\\"application/json\\\"]},\\\"HttpHeaders\\\":{\\\"Connection\\\":\\\"keep-alive\\\",\\\"Content-Length\\\":\\\"127\\\",\\\"Content-Type\\\":\\\"application/json\\\",\\\"Date\\\":\\\"Tue, 11 Aug 2020 22:37:00 GMT\\\",\\\"X-Amz-Executed-Version\\\":\\\"$LATEST\\\",\\\"x-amzn-Remapped-Content-Length\\\":\\\"0\\\",\\\"x-amzn-RequestId\\\":\\\"4b170c8f-a679-4d50-bb7c-70a6cc24d692\\\",\\\"X-Amzn-Trace-Id\\\":\\\"root=1-5f331d8b-bb2ba525335b662cbd19dc37;sampled=0\\\"},\\\"HttpStatusCode\\\":200},\\\"SdkResponseMetadata\\\":{\\\"RequestId\\\":\\\"4b170c8f-a679-4d50-bb7c-70a6cc24d692\\\"},\\\"StatusCode\\\":200}\"}}, {\"timestamp\": 1597185420.679, \"type\": \"TaskStateEntered\", \"id\": 26, \"previousEventId\": 25, \"stateEnteredEventDetails\": {\"name\": \"Create Model Endpoint Config\", \"input\": \"{\\\"ExecutedVersion\\\":\\\"$LATEST\\\",\\\"Payload\\\":{\\\"statusCode\\\":200,\\\"trainingMetrics\\\":[{\\\"MetricName\\\":\\\"validation:f1\\\",\\\"Value\\\":0.939393937587738,\\\"Timestamp\\\":1597185.407}]},\\\"SdkHttpMetadata\\\":{\\\"AllHttpHeaders\\\":{\\\"X-Amz-Executed-Version\\\":[\\\"$LATEST\\\"],\\\"x-amzn-Remapped-Content-Length\\\":[\\\"0\\\"],\\\"Connection\\\":[\\\"keep-alive\\\"],\\\"x-amzn-RequestId\\\":[\\\"4b170c8f-a679-4d50-bb7c-70a6cc24d692\\\"],\\\"Content-Length\\\":[\\\"127\\\"],\\\"Date\\\":[\\\"Tue, 11 Aug 2020 22:37:00 GMT\\\"],\\\"X-Amzn-Trace-Id\\\":[\\\"root=1-5f331d8b-bb2ba525335b662cbd19dc37;sampled=0\\\"],\\\"Content-Type\\\":[\\\"application/json\\\"]},\\\"HttpHeaders\\\":{\\\"Connection\\\":\\\"keep-alive\\\",\\\"Content-Length\\\":\\\"127\\\",\\\"Content-Type\\\":\\\"application/json\\\",\\\"Date\\\":\\\"Tue, 11 Aug 2020 22:37:00 GMT\\\",\\\"X-Amz-Executed-Version\\\":\\\"$LATEST\\\",\\\"x-amzn-Remapped-Content-Length\\\":\\\"0\\\",\\\"x-amzn-RequestId\\\":\\\"4b170c8f-a679-4d50-bb7c-70a6cc24d692\\\",\\\"X-Amzn-Trace-Id\\\":\\\"root=1-5f331d8b-bb2ba525335b662cbd19dc37;sampled=0\\\"},\\\"HttpStatusCode\\\":200},\\\"SdkResponseMetadata\\\":{\\\"RequestId\\\":\\\"4b170c8f-a679-4d50-bb7c-70a6cc24d692\\\"},\\\"StatusCode\\\":200}\"}}, {\"timestamp\": 1597185420.679, \"type\": \"TaskScheduled\", \"id\": 27, \"previousEventId\": 26, \"taskScheduledEventDetails\": {\"resourceType\": \"sagemaker\", \"resource\": \"createEndpointConfig\", \"region\": \"us-east-1\", \"parameters\": \"{\\\"ProductionVariants\\\":[{\\\"InitialInstanceCount\\\":1,\\\"InstanceType\\\":\\\"ml.m4.xlarge\\\",\\\"VariantName\\\":\\\"lgbmVariant\\\",\\\"ModelName\\\":\\\"Iris-9b748bace2f64f9590851bf61663ce2fB\\\"}],\\\"DataCaptureConfig\\\":{\\\"EnableCapture\\\":true,\\\"InitialSamplingPercentage\\\":100,\\\"DestinationS3Uri\\\":\\\"s3://ml-pipeline-725879053979/iris-classification/endpoint_monitoring/\\\",\\\"CaptureOptions\\\":[{\\\"CaptureMode\\\":\\\"Input\\\"},{\\\"CaptureMode\\\":\\\"Output\\\"}],\\\"CaptureContentTypeHeader\\\":{\\\"CsvContentTypes\\\":[\\\"text/csv\\\"],\\\"JsonContentTypes\\\":[\\\"application/json\\\"]}},\\\"EndpointConfigName\\\":\\\"Iris-9b748bace2f64f9590851bf61663ce2fB\\\"}\"}}, {\"timestamp\": 1597185420.69, \"type\": \"TaskStarted\", \"id\": 28, \"previousEventId\": 27, \"taskStartedEventDetails\": {\"resourceType\": \"sagemaker\", \"resource\": \"createEndpointConfig\"}}, {\"timestamp\": 1597185420.8, \"type\": \"TaskSucceeded\", \"id\": 29, \"previousEventId\": 28, \"taskSucceededEventDetails\": {\"resourceType\": \"sagemaker\", \"resource\": \"createEndpointConfig\", \"output\": \"{\\\"EndpointConfigArn\\\":\\\"arn:aws:sagemaker:us-east-1:725879053979:endpoint-config/iris-9b748bace2f64f9590851bf61663ce2fb\\\",\\\"SdkHttpMetadata\\\":{\\\"AllHttpHeaders\\\":{\\\"x-amzn-RequestId\\\":[\\\"a1b9720d-49d1-47ad-ab42-13ed7c7e5262\\\"],\\\"Content-Length\\\":[\\\"119\\\"],\\\"Date\\\":[\\\"Tue, 11 Aug 2020 22:37:00 GMT\\\"],\\\"Content-Type\\\":[\\\"application/x-amz-json-1.1\\\"]},\\\"HttpHeaders\\\":{\\\"Content-Length\\\":\\\"119\\\",\\\"Content-Type\\\":\\\"application/x-amz-json-1.1\\\",\\\"Date\\\":\\\"Tue, 11 Aug 2020 22:37:00 GMT\\\",\\\"x-amzn-RequestId\\\":\\\"a1b9720d-49d1-47ad-ab42-13ed7c7e5262\\\"},\\\"HttpStatusCode\\\":200},\\\"SdkResponseMetadata\\\":{\\\"RequestId\\\":\\\"a1b9720d-49d1-47ad-ab42-13ed7c7e5262\\\"}}\"}}, {\"timestamp\": 1597185420.8, \"type\": \"TaskStateExited\", \"id\": 30, \"previousEventId\": 29, \"stateExitedEventDetails\": {\"name\": \"Create Model Endpoint Config\", \"output\": \"{\\\"EndpointConfigArn\\\":\\\"arn:aws:sagemaker:us-east-1:725879053979:endpoint-config/iris-9b748bace2f64f9590851bf61663ce2fb\\\",\\\"SdkHttpMetadata\\\":{\\\"AllHttpHeaders\\\":{\\\"x-amzn-RequestId\\\":[\\\"a1b9720d-49d1-47ad-ab42-13ed7c7e5262\\\"],\\\"Content-Length\\\":[\\\"119\\\"],\\\"Date\\\":[\\\"Tue, 11 Aug 2020 22:37:00 GMT\\\"],\\\"Content-Type\\\":[\\\"application/x-amz-json-1.1\\\"]},\\\"HttpHeaders\\\":{\\\"Content-Length\\\":\\\"119\\\",\\\"Content-Type\\\":\\\"application/x-amz-json-1.1\\\",\\\"Date\\\":\\\"Tue, 11 Aug 2020 22:37:00 GMT\\\",\\\"x-amzn-RequestId\\\":\\\"a1b9720d-49d1-47ad-ab42-13ed7c7e5262\\\"},\\\"HttpStatusCode\\\":200},\\\"SdkResponseMetadata\\\":{\\\"RequestId\\\":\\\"a1b9720d-49d1-47ad-ab42-13ed7c7e5262\\\"}}\"}}, {\"timestamp\": 1597185420.807, \"type\": \"TaskStateEntered\", \"id\": 31, \"previousEventId\": 30, \"stateEnteredEventDetails\": {\"name\": \"Update Model Endpoint\", \"input\": \"{\\\"EndpointConfigArn\\\":\\\"arn:aws:sagemaker:us-east-1:725879053979:endpoint-config/iris-9b748bace2f64f9590851bf61663ce2fb\\\",\\\"SdkHttpMetadata\\\":{\\\"AllHttpHeaders\\\":{\\\"x-amzn-RequestId\\\":[\\\"a1b9720d-49d1-47ad-ab42-13ed7c7e5262\\\"],\\\"Content-Length\\\":[\\\"119\\\"],\\\"Date\\\":[\\\"Tue, 11 Aug 2020 22:37:00 GMT\\\"],\\\"Content-Type\\\":[\\\"application/x-amz-json-1.1\\\"]},\\\"HttpHeaders\\\":{\\\"Content-Length\\\":\\\"119\\\",\\\"Content-Type\\\":\\\"application/x-amz-json-1.1\\\",\\\"Date\\\":\\\"Tue, 11 Aug 2020 22:37:00 GMT\\\",\\\"x-amzn-RequestId\\\":\\\"a1b9720d-49d1-47ad-ab42-13ed7c7e5262\\\"},\\\"HttpStatusCode\\\":200},\\\"SdkResponseMetadata\\\":{\\\"RequestId\\\":\\\"a1b9720d-49d1-47ad-ab42-13ed7c7e5262\\\"}}\"}}, {\"timestamp\": 1597185420.807, \"type\": \"TaskScheduled\", \"id\": 32, \"previousEventId\": 31, \"taskScheduledEventDetails\": {\"resourceType\": \"sagemaker\", \"resource\": \"createEndpoint\", \"region\": \"us-east-1\", \"parameters\": \"{\\\"EndpointName\\\":\\\"IrisMLPipeline\\\",\\\"EndpointConfigName\\\":\\\"Iris-9b748bace2f64f9590851bf61663ce2fB\\\"}\"}}, {\"timestamp\": 1597185420.819, \"type\": \"TaskStarted\", \"id\": 33, \"previousEventId\": 32, \"taskStartedEventDetails\": {\"resourceType\": \"sagemaker\", \"resource\": \"createEndpoint\"}}, {\"timestamp\": 1597185421.174, \"type\": \"TaskSucceeded\", \"id\": 34, \"previousEventId\": 33, \"taskSucceededEventDetails\": {\"resourceType\": \"sagemaker\", \"resource\": \"createEndpoint\", \"output\": \"{\\\"EndpointArn\\\":\\\"arn:aws:sagemaker:us-east-1:725879053979:endpoint/irismlpipeline\\\",\\\"SdkHttpMetadata\\\":{\\\"AllHttpHeaders\\\":{\\\"x-amzn-RequestId\\\":[\\\"8392703c-5c5b-435f-87da-8e5acda69243\\\"],\\\"Content-Length\\\":[\\\"82\\\"],\\\"Date\\\":[\\\"Tue, 11 Aug 2020 22:37:00 GMT\\\"],\\\"Content-Type\\\":[\\\"application/x-amz-json-1.1\\\"]},\\\"HttpHeaders\\\":{\\\"Content-Length\\\":\\\"82\\\",\\\"Content-Type\\\":\\\"application/x-amz-json-1.1\\\",\\\"Date\\\":\\\"Tue, 11 Aug 2020 22:37:00 GMT\\\",\\\"x-amzn-RequestId\\\":\\\"8392703c-5c5b-435f-87da-8e5acda69243\\\"},\\\"HttpStatusCode\\\":200},\\\"SdkResponseMetadata\\\":{\\\"RequestId\\\":\\\"8392703c-5c5b-435f-87da-8e5acda69243\\\"}}\"}}, {\"timestamp\": 1597185421.174, \"type\": \"TaskStateExited\", \"id\": 35, \"previousEventId\": 34, \"stateExitedEventDetails\": {\"name\": \"Update Model Endpoint\", \"output\": \"{\\\"EndpointArn\\\":\\\"arn:aws:sagemaker:us-east-1:725879053979:endpoint/irismlpipeline\\\",\\\"SdkHttpMetadata\\\":{\\\"AllHttpHeaders\\\":{\\\"x-amzn-RequestId\\\":[\\\"8392703c-5c5b-435f-87da-8e5acda69243\\\"],\\\"Content-Length\\\":[\\\"82\\\"],\\\"Date\\\":[\\\"Tue, 11 Aug 2020 22:37:00 GMT\\\"],\\\"Content-Type\\\":[\\\"application/x-amz-json-1.1\\\"]},\\\"HttpHeaders\\\":{\\\"Content-Length\\\":\\\"82\\\",\\\"Content-Type\\\":\\\"application/x-amz-json-1.1\\\",\\\"Date\\\":\\\"Tue, 11 Aug 2020 22:37:00 GMT\\\",\\\"x-amzn-RequestId\\\":\\\"8392703c-5c5b-435f-87da-8e5acda69243\\\"},\\\"HttpStatusCode\\\":200},\\\"SdkResponseMetadata\\\":{\\\"RequestId\\\":\\\"8392703c-5c5b-435f-87da-8e5acda69243\\\"}}\"}}, {\"timestamp\": 1597185421.174, \"type\": \"ExecutionSucceeded\", \"id\": 36, \"previousEventId\": 35, \"executionSucceededEventDetails\": {\"output\": \"{\\\"EndpointArn\\\":\\\"arn:aws:sagemaker:us-east-1:725879053979:endpoint/irismlpipeline\\\",\\\"SdkHttpMetadata\\\":{\\\"AllHttpHeaders\\\":{\\\"x-amzn-RequestId\\\":[\\\"8392703c-5c5b-435f-87da-8e5acda69243\\\"],\\\"Content-Length\\\":[\\\"82\\\"],\\\"Date\\\":[\\\"Tue, 11 Aug 2020 22:37:00 GMT\\\"],\\\"Content-Type\\\":[\\\"application/x-amz-json-1.1\\\"]},\\\"HttpHeaders\\\":{\\\"Content-Length\\\":\\\"82\\\",\\\"Content-Type\\\":\\\"application/x-amz-json-1.1\\\",\\\"Date\\\":\\\"Tue, 11 Aug 2020 22:37:00 GMT\\\",\\\"x-amzn-RequestId\\\":\\\"8392703c-5c5b-435f-87da-8e5acda69243\\\"},\\\"HttpStatusCode\\\":200},\\\"SdkResponseMetadata\\\":{\\\"RequestId\\\":\\\"8392703c-5c5b-435f-87da-8e5acda69243\\\"}}\"}}] };\n",
       "\n",
       "    var graph = new sfn.StateMachineExecutionGraph(definition, events, elementId, options);\n",
       "    graph.render();\n",
       "});\n",
       "\n",
       "</script>\n"
      ],
      "text/plain": [
       "<IPython.core.display.HTML object>"
      ]
     },
     "metadata": {},
     "output_type": "display_data"
    }
   ],
   "source": [
    "status = execution.describe().get('status')\n",
    "while status == 'RUNNING' and wait:\n",
    "    status = execution.describe().get('status')\n",
    "    display.clear_output(wait=True)\n",
    "    time.sleep(10)\n",
    "    display.display(execution.render_progress(portrait=True))\n",
    "    \n",
    "time.sleep(10)"
   ]
  },
  {
   "cell_type": "markdown",
   "metadata": {},
   "source": [
    "Use [list_executions](https://aws-step-functions-data-science-sdk.readthedocs.io/en/latest/workflow.html#stepfunctions.workflow.Workflow.list_executions) to list all executions for a specific workflow:"
   ]
  },
  {
   "cell_type": "code",
   "execution_count": 95,
   "metadata": {},
   "outputs": [
    {
     "data": {
      "text/html": [
       "\n",
       "    <style>\n",
       "        \n",
       "    .table-widget {\n",
       "        width: 100%;\n",
       "        font-size: 14px;\n",
       "        line-height: 28px;\n",
       "        color: #545b64;\n",
       "        border-spacing: 0;\n",
       "        background-color: #fff;\n",
       "        border-color: grey;\n",
       "        background: #fafafa;\n",
       "    }\n",
       "\n",
       "    .table-widget thead th {\n",
       "        text-align: left !important;\n",
       "        color: #879596;\n",
       "        padding: 0.3em 2em;\n",
       "        border-bottom: 1px solid #eaeded;\n",
       "        min-height: 4rem;\n",
       "        line-height: 28px;\n",
       "    }\n",
       "\n",
       "    .table-widget thead th:first-of-type {\n",
       "    }\n",
       "\n",
       "    .table-widget td {\n",
       "        overflow-wrap: break-word;\n",
       "        padding: 0.4em 2em;\n",
       "        line-height: 28px;\n",
       "        text-align: left !important;\n",
       "        background: #fff;\n",
       "        border-bottom: 1px solid #eaeded;\n",
       "        border-top: 1px solid transparent;\n",
       "    }\n",
       "\n",
       "    .table-widget td:before {\n",
       "        content: \"\";\n",
       "        height: 3rem;\n",
       "    }\n",
       "\n",
       "    a {\n",
       "        cursor: pointer;\n",
       "        text-decoration: none !important;\n",
       "        color: #007dbc;\n",
       "    }\n",
       "\n",
       "    a:hover {\n",
       "        text-decoration: underline !important;\n",
       "    }\n",
       "\n",
       "    a.disabled {\n",
       "        color: black;\n",
       "        cursor: default;\n",
       "        pointer-events: none;\n",
       "    }\n",
       "\n",
       "    .hide {\n",
       "        display: none;\n",
       "    }\n",
       "\n",
       "    pre {\n",
       "        white-space: pre-wrap;\n",
       "    }\n",
       "\n",
       "        \n",
       "    * {\n",
       "        box-sizing: border-box;\n",
       "    }\n",
       "\n",
       "    .table-widget {\n",
       "        min-width: 100%;\n",
       "        font-size: 14px;\n",
       "        line-height: 28px;\n",
       "        color: #545b64;\n",
       "        border-spacing: 0;\n",
       "        background-color: #fff;\n",
       "        border-color: grey;\n",
       "        background: #fafafa;\n",
       "    }\n",
       "\n",
       "    .table-widget thead th {\n",
       "        text-align: left !important;\n",
       "        color: #879596;\n",
       "        padding: 0.3em 2em;\n",
       "        border-bottom: 1px solid #eaeded;\n",
       "        min-height: 4rem;\n",
       "        line-height: 28px;\n",
       "    }\n",
       "\n",
       "    .table-widget td {\n",
       "        /* padding: 24px 18px; */\n",
       "        padding: 0.4em 2em;\n",
       "        line-height: 28px;\n",
       "        text-align: left !important;\n",
       "        background: #fff;\n",
       "        border-bottom: 1px solid #eaeded;\n",
       "        border-top: 1px solid transparent;\n",
       "    }\n",
       "\n",
       "    .table-widget td:before {\n",
       "        content: \"\";\n",
       "        height: 3rem;\n",
       "    }\n",
       "\n",
       "    .table-widget .clickable-cell {\n",
       "        cursor: pointer;\n",
       "    }\n",
       "\n",
       "    .hide {\n",
       "        display: none;\n",
       "    }\n",
       "\n",
       "    .triangle-right {\n",
       "        width: 0;\n",
       "        height: 0;\n",
       "        border-top: 5px solid transparent;\n",
       "        border-left: 8px solid #545b64;\n",
       "        border-bottom: 5px solid transparent;\n",
       "        margin-right: 5px;\n",
       "    }\n",
       "\n",
       "    a.awsui {\n",
       "        text-decoration: none !important;\n",
       "        color: #007dbc;\n",
       "    }\n",
       "\n",
       "    a.awsui:hover {\n",
       "        text-decoration: underline !important;\n",
       "    }\n",
       "\n",
       "    </style>\n",
       "    <table class=\"table-widget\">\n",
       "        <thead>\n",
       "            <tr>\n",
       "                <th>Name</th>\n",
       "                <th>Status</th>\n",
       "                <th>Started</th>\n",
       "                <th>End Time</th>\n",
       "            </tr>\n",
       "        </thead>\n",
       "        <tbody>\n",
       "            \n",
       "    <tr class=\"awsui-table-row\">\n",
       "        <td>\n",
       "            <a href=\"https://console.aws.amazon.com/states/home?region=us-east-1#/executions/details/arn:aws:states:us-east-1:725879053979:execution:Iris-ML-Pipeline-9b748bace2f64f9590851bf61663ce2f:08d30380-508b-49b3-884f-c0ab2eaed1aa\" target=\"_blank\" class=\"awsui\">08d30380-508b-49b3-884f-c0ab2eaed1aa</a>\n",
       "        </td>\n",
       "        <td>SUCCEEDED</td>\n",
       "        <td>Aug 11, 2020 10:30:48.100 PM</td>\n",
       "        <td>Aug 11, 2020 10:37:01.174 PM</td>\n",
       "    </tr>\n",
       "\n",
       "\n",
       "    <tr class=\"awsui-table-row\">\n",
       "        <td>\n",
       "            <a href=\"https://console.aws.amazon.com/states/home?region=us-east-1#/executions/details/arn:aws:states:us-east-1:725879053979:execution:Iris-ML-Pipeline-9b748bace2f64f9590851bf61663ce2f:2fda1951-24e8-4145-ae19-76805cf1b10b\" target=\"_blank\" class=\"awsui\">2fda1951-24e8-4145-ae19-76805cf1b10b</a>\n",
       "        </td>\n",
       "        <td>FAILED</td>\n",
       "        <td>Aug 11, 2020 09:41:46.109 PM</td>\n",
       "        <td>Aug 11, 2020 09:47:16.702 PM</td>\n",
       "    </tr>\n",
       "\n",
       "        </tbody>\n",
       "    </table>\n"
      ],
      "text/plain": [
       "<IPython.core.display.HTML object>"
      ]
     },
     "execution_count": 95,
     "metadata": {},
     "output_type": "execute_result"
    }
   ],
   "source": [
    "workflow.list_executions(html=True)"
   ]
  },
  {
   "cell_type": "markdown",
   "metadata": {},
   "source": [
    "Use [list_events](https://aws-step-functions-data-science-sdk.readthedocs.io/en/latest/workflow.html#stepfunctions.workflow.Execution.list_events) to list all events in the workflow execution:"
   ]
  },
  {
   "cell_type": "code",
   "execution_count": 96,
   "metadata": {},
   "outputs": [
    {
     "data": {
      "text/plain": [
       "[{'timestamp': datetime.datetime(2020, 8, 11, 22, 30, 48, 100000, tzinfo=tzlocal()),\n",
       "  'type': 'ExecutionStarted',\n",
       "  'id': 1,\n",
       "  'previousEventId': 0,\n",
       "  'executionStartedEventDetails': {'input': '{\\n    \"TrainingJobName\": \"iris-pipeline-9b748bace2f64f9590851bf61663ce2fB\",\\n    \"GlueJobName\": \"glue-iris-etl-9b748bace2f64f9590851bf61663ce2f\",\\n    \"ModelName\": \"Iris-9b748bace2f64f9590851bf61663ce2fB\",\\n    \"EndpointName\": \"IrisMLPipeline\",\\n    \"LambdaFunctionName\": \"query-training-status-9b748bace2f64f9590851bf61663ce2f\",\\n    \"UpdateEndpoint\": false\\n}',\n",
       "   'roleArn': 'arn:aws:iam::725879053979:role/StepFunctions_DSSDK-725879053979'}},\n",
       " {'timestamp': datetime.datetime(2020, 8, 11, 22, 30, 48, 139000, tzinfo=tzlocal()),\n",
       "  'type': 'TaskStateEntered',\n",
       "  'id': 2,\n",
       "  'previousEventId': 0,\n",
       "  'stateEnteredEventDetails': {'name': 'Extract, Transform, Load',\n",
       "   'input': '{\\n    \"TrainingJobName\": \"iris-pipeline-9b748bace2f64f9590851bf61663ce2fB\",\\n    \"GlueJobName\": \"glue-iris-etl-9b748bace2f64f9590851bf61663ce2f\",\\n    \"ModelName\": \"Iris-9b748bace2f64f9590851bf61663ce2fB\",\\n    \"EndpointName\": \"IrisMLPipeline\",\\n    \"LambdaFunctionName\": \"query-training-status-9b748bace2f64f9590851bf61663ce2f\",\\n    \"UpdateEndpoint\": false\\n}'}},\n",
       " {'timestamp': datetime.datetime(2020, 8, 11, 22, 30, 48, 139000, tzinfo=tzlocal()),\n",
       "  'type': 'TaskScheduled',\n",
       "  'id': 3,\n",
       "  'previousEventId': 2,\n",
       "  'taskScheduledEventDetails': {'resourceType': 'glue',\n",
       "   'resource': 'startJobRun.sync',\n",
       "   'region': 'us-east-1',\n",
       "   'parameters': '{\"Arguments\":{\"--S3_SOURCE\":\"s3://ml-pipeline-725879053979/iris-classification/raw/\",\"--S3_DEST\":\"s3a://ml-pipeline-725879053979/iris-classification/\",\"--TRAIN_KEY\":\"train/\",\"--TEST_KEY\":\"test/\"},\"JobName\":\"glue-iris-etl-9b748bace2f64f9590851bf61663ce2f\"}'}},\n",
       " {'timestamp': datetime.datetime(2020, 8, 11, 22, 30, 48, 174000, tzinfo=tzlocal()),\n",
       "  'type': 'TaskStarted',\n",
       "  'id': 4,\n",
       "  'previousEventId': 3,\n",
       "  'taskStartedEventDetails': {'resourceType': 'glue',\n",
       "   'resource': 'startJobRun.sync'}},\n",
       " {'timestamp': datetime.datetime(2020, 8, 11, 22, 30, 48, 378000, tzinfo=tzlocal()),\n",
       "  'type': 'TaskSubmitted',\n",
       "  'id': 5,\n",
       "  'previousEventId': 4,\n",
       "  'taskSubmittedEventDetails': {'resourceType': 'glue',\n",
       "   'resource': 'startJobRun.sync',\n",
       "   'output': '{\"JobRunId\":\"jr_80a90c6e4b6e77f52b753be91a318c6136716738192c2820e00d280311cae789\",\"SdkHttpMetadata\":{\"AllHttpHeaders\":{\"Connection\":[\"keep-alive\"],\"x-amzn-RequestId\":[\"a0f640a7-ba34-4ca1-be64-ec40df41b987\"],\"Content-Length\":[\"82\"],\"Date\":[\"Tue, 11 Aug 2020 22:30:48 GMT\"],\"Content-Type\":[\"application/x-amz-json-1.1\"]},\"HttpHeaders\":{\"Connection\":\"keep-alive\",\"Content-Length\":\"82\",\"Content-Type\":\"application/x-amz-json-1.1\",\"Date\":\"Tue, 11 Aug 2020 22:30:48 GMT\",\"x-amzn-RequestId\":\"a0f640a7-ba34-4ca1-be64-ec40df41b987\"},\"HttpStatusCode\":200},\"SdkResponseMetadata\":{\"RequestId\":\"a0f640a7-ba34-4ca1-be64-ec40df41b987\"},\"JobName\":\"glue-iris-etl-9b748bace2f64f9590851bf61663ce2f\"}'}},\n",
       " {'timestamp': datetime.datetime(2020, 8, 11, 22, 32, 54, 608000, tzinfo=tzlocal()),\n",
       "  'type': 'TaskSucceeded',\n",
       "  'id': 6,\n",
       "  'previousEventId': 5,\n",
       "  'taskSucceededEventDetails': {'resourceType': 'glue',\n",
       "   'resource': 'startJobRun.sync',\n",
       "   'output': '{\"AllocatedCapacity\":2,\"Arguments\":{\"--S3_SOURCE\":\"s3://ml-pipeline-725879053979/iris-classification/raw/\",\"--S3_DEST\":\"s3a://ml-pipeline-725879053979/iris-classification/\",\"--TRAIN_KEY\":\"train/\",\"--TEST_KEY\":\"test/\"},\"Attempt\":0,\"CompletedOn\":1597185119583,\"ExecutionTime\":62,\"GlueVersion\":\"2.0\",\"Id\":\"jr_80a90c6e4b6e77f52b753be91a318c6136716738192c2820e00d280311cae789\",\"JobName\":\"glue-iris-etl-9b748bace2f64f9590851bf61663ce2f\",\"JobRunState\":\"SUCCEEDED\",\"LastModifiedOn\":1597185119583,\"LogGroupName\":\"/aws-glue/jobs\",\"MaxCapacity\":2.0,\"NumberOfWorkers\":2,\"PredecessorRuns\":[],\"StartedOn\":1597185048345,\"Timeout\":60,\"WorkerType\":\"Standard\"}'}},\n",
       " {'timestamp': datetime.datetime(2020, 8, 11, 22, 32, 54, 608000, tzinfo=tzlocal()),\n",
       "  'type': 'TaskStateExited',\n",
       "  'id': 7,\n",
       "  'previousEventId': 6,\n",
       "  'stateExitedEventDetails': {'name': 'Extract, Transform, Load',\n",
       "   'output': '{\"AllocatedCapacity\":2,\"Arguments\":{\"--S3_SOURCE\":\"s3://ml-pipeline-725879053979/iris-classification/raw/\",\"--S3_DEST\":\"s3a://ml-pipeline-725879053979/iris-classification/\",\"--TRAIN_KEY\":\"train/\",\"--TEST_KEY\":\"test/\"},\"Attempt\":0,\"CompletedOn\":1597185119583,\"ExecutionTime\":62,\"GlueVersion\":\"2.0\",\"Id\":\"jr_80a90c6e4b6e77f52b753be91a318c6136716738192c2820e00d280311cae789\",\"JobName\":\"glue-iris-etl-9b748bace2f64f9590851bf61663ce2f\",\"JobRunState\":\"SUCCEEDED\",\"LastModifiedOn\":1597185119583,\"LogGroupName\":\"/aws-glue/jobs\",\"MaxCapacity\":2.0,\"NumberOfWorkers\":2,\"PredecessorRuns\":[],\"StartedOn\":1597185048345,\"Timeout\":60,\"WorkerType\":\"Standard\"}'}},\n",
       " {'timestamp': datetime.datetime(2020, 8, 11, 22, 32, 54, 618000, tzinfo=tzlocal()),\n",
       "  'type': 'TaskStateEntered',\n",
       "  'id': 8,\n",
       "  'previousEventId': 7,\n",
       "  'stateEnteredEventDetails': {'name': 'Model Training',\n",
       "   'input': '{\"AllocatedCapacity\":2,\"Arguments\":{\"--S3_SOURCE\":\"s3://ml-pipeline-725879053979/iris-classification/raw/\",\"--S3_DEST\":\"s3a://ml-pipeline-725879053979/iris-classification/\",\"--TRAIN_KEY\":\"train/\",\"--TEST_KEY\":\"test/\"},\"Attempt\":0,\"CompletedOn\":1597185119583,\"ExecutionTime\":62,\"GlueVersion\":\"2.0\",\"Id\":\"jr_80a90c6e4b6e77f52b753be91a318c6136716738192c2820e00d280311cae789\",\"JobName\":\"glue-iris-etl-9b748bace2f64f9590851bf61663ce2f\",\"JobRunState\":\"SUCCEEDED\",\"LastModifiedOn\":1597185119583,\"LogGroupName\":\"/aws-glue/jobs\",\"MaxCapacity\":2.0,\"NumberOfWorkers\":2,\"PredecessorRuns\":[],\"StartedOn\":1597185048345,\"Timeout\":60,\"WorkerType\":\"Standard\"}'}},\n",
       " {'timestamp': datetime.datetime(2020, 8, 11, 22, 32, 54, 618000, tzinfo=tzlocal()),\n",
       "  'type': 'TaskScheduled',\n",
       "  'id': 9,\n",
       "  'previousEventId': 8,\n",
       "  'taskScheduledEventDetails': {'resourceType': 'sagemaker',\n",
       "   'resource': 'createTrainingJob.sync',\n",
       "   'region': 'us-east-1',\n",
       "   'parameters': '{\"AlgorithmSpecification\":{\"TrainingImage\":\"725879053979.dkr.ecr.us-east-1.amazonaws.com/iris-model:latest\",\"TrainingInputMode\":\"File\",\"MetricDefinitions\":[{\"Name\":\"validation:loss\",\"Regex\":\"multi_logloss: (.*?)$\"},{\"Name\":\"validation:f1\",\"Regex\":\"\\\\\\\\[F1 score\\\\\\\\] (.*?)$\"}]},\"OutputDataConfig\":{\"S3OutputPath\":\"s3://ml-pipeline-725879053979/iris-classification/training_output\"},\"StoppingCondition\":{\"MaxRuntimeInSeconds\":86400},\"ResourceConfig\":{\"InstanceCount\":1,\"InstanceType\":\"ml.m4.xlarge\",\"VolumeSizeInGB\":30},\"RoleArn\":\"arn:aws:iam::725879053979:role/MLOps\",\"InputDataConfig\":[{\"DataSource\":{\"S3DataSource\":{\"S3DataType\":\"S3Prefix\",\"S3Uri\":\"s3://ml-pipeline-725879053979/iris-classification/train/\",\"S3DataDistributionType\":\"FullyReplicated\"}},\"ContentType\":\"csv\",\"ChannelName\":\"train\"},{\"DataSource\":{\"S3DataSource\":{\"S3DataType\":\"S3Prefix\",\"S3Uri\":\"s3://ml-pipeline-725879053979/iris-classification/test/\",\"S3DataDistributionType\":\"FullyReplicated\"}},\"ContentType\":\"csv\",\"ChannelName\":\"validation\"}],\"HyperParameters\":{\"sagemaker_program\":\"train.py\",\"sagemaker_submit_directory\":\"s3://sagemaker-us-east-1-725879053979/sagemaker-custom/code/sourcedir.tar.gz\"},\"TrainingJobName\":\"iris-pipeline-9b748bace2f64f9590851bf61663ce2fB\",\"Tags\":[{\"Key\":\"MANAGED_BY_AWS\",\"Value\":\"STARTED_BY_STEP_FUNCTIONS\"}]}'}},\n",
       " {'timestamp': datetime.datetime(2020, 8, 11, 22, 32, 54, 630000, tzinfo=tzlocal()),\n",
       "  'type': 'TaskStarted',\n",
       "  'id': 10,\n",
       "  'previousEventId': 9,\n",
       "  'taskStartedEventDetails': {'resourceType': 'sagemaker',\n",
       "   'resource': 'createTrainingJob.sync'}},\n",
       " {'timestamp': datetime.datetime(2020, 8, 11, 22, 32, 54, 847000, tzinfo=tzlocal()),\n",
       "  'type': 'TaskSubmitted',\n",
       "  'id': 11,\n",
       "  'previousEventId': 10,\n",
       "  'taskSubmittedEventDetails': {'resourceType': 'sagemaker',\n",
       "   'resource': 'createTrainingJob.sync',\n",
       "   'output': '{\"SdkHttpMetadata\":{\"AllHttpHeaders\":{\"x-amzn-RequestId\":[\"6d2f8722-d4fe-49a8-8487-04a0d38a7221\"],\"Content-Length\":[\"122\"],\"Date\":[\"Tue, 11 Aug 2020 22:32:54 GMT\"],\"Content-Type\":[\"application/x-amz-json-1.1\"]},\"HttpHeaders\":{\"Content-Length\":\"122\",\"Content-Type\":\"application/x-amz-json-1.1\",\"Date\":\"Tue, 11 Aug 2020 22:32:54 GMT\",\"x-amzn-RequestId\":\"6d2f8722-d4fe-49a8-8487-04a0d38a7221\"},\"HttpStatusCode\":200},\"SdkResponseMetadata\":{\"RequestId\":\"6d2f8722-d4fe-49a8-8487-04a0d38a7221\"},\"TrainingJobArn\":\"arn:aws:sagemaker:us-east-1:725879053979:training-job/iris-pipeline-9b748bace2f64f9590851bf61663ce2fb\"}'}},\n",
       " {'timestamp': datetime.datetime(2020, 8, 11, 22, 36, 59, 394000, tzinfo=tzlocal()),\n",
       "  'type': 'TaskSucceeded',\n",
       "  'id': 12,\n",
       "  'previousEventId': 11,\n",
       "  'taskSucceededEventDetails': {'resourceType': 'sagemaker',\n",
       "   'resource': 'createTrainingJob.sync',\n",
       "   'output': '{\"TrainingJobName\":\"iris-pipeline-9b748bace2f64f9590851bf61663ce2fB\",\"TrainingJobArn\":\"arn:aws:sagemaker:us-east-1:725879053979:training-job/iris-pipeline-9b748bace2f64f9590851bf61663ce2fb\",\"ModelArtifacts\":{\"S3ModelArtifacts\":\"s3://ml-pipeline-725879053979/iris-classification/training_output/iris-pipeline-9b748bace2f64f9590851bf61663ce2fB/output/model.tar.gz\"},\"TrainingJobStatus\":\"Completed\",\"SecondaryStatus\":\"Completed\",\"HyperParameters\":{\"sagemaker_submit_directory\":\"s3://sagemaker-us-east-1-725879053979/sagemaker-custom/code/sourcedir.tar.gz\",\"sagemaker_program\":\"train.py\"},\"AlgorithmSpecification\":{\"TrainingImage\":\"725879053979.dkr.ecr.us-east-1.amazonaws.com/iris-model:latest\",\"TrainingInputMode\":\"FILE\"},\"RoleArn\":\"arn:aws:iam::725879053979:role/MLOps\",\"InputDataConfig\":[{\"ChannelName\":\"train\",\"DataSource\":{\"S3DataSource\":{\"S3DataType\":\"S3_PREFIX\",\"S3Uri\":\"s3://ml-pipeline-725879053979/iris-classification/train/\",\"S3DataDistributionType\":\"FULLY_REPLICATED\"}},\"ContentType\":\"csv\",\"CompressionType\":\"NONE\",\"RecordWrapperType\":\"NONE\"},{\"ChannelName\":\"validation\",\"DataSource\":{\"S3DataSource\":{\"S3DataType\":\"S3_PREFIX\",\"S3Uri\":\"s3://ml-pipeline-725879053979/iris-classification/test/\",\"S3DataDistributionType\":\"FULLY_REPLICATED\"}},\"ContentType\":\"csv\",\"CompressionType\":\"NONE\",\"RecordWrapperType\":\"NONE\"}],\"OutputDataConfig\":{\"S3OutputPath\":\"s3://ml-pipeline-725879053979/iris-classification/training_output\"},\"ResourceConfig\":{\"InstanceType\":\"ml.m4.xlarge\",\"InstanceCount\":1.0,\"VolumeSizeInGB\":30.0},\"StoppingCondition\":{\"MaxRuntimeInSeconds\":86400.0},\"CreationTime\":1.59718517482E12,\"TrainingStartTime\":1.59718533464E12,\"TrainingEndTime\":1.59718541655E12,\"LastModifiedTime\":1.59718541655E12,\"SecondaryStatusTransitions\":[{\"Status\":\"Starting\",\"StartTime\":1.59718517482E12,\"EndTime\":1.59718533464E12,\"StatusMessage\":\"Preparing the instances for training\"},{\"Status\":\"Downloading\",\"StartTime\":1.59718533464E12,\"EndTime\":1.597185340649E12,\"StatusMessage\":\"Downloading input data\"},{\"Status\":\"Training\",\"StartTime\":1.597185340649E12,\"EndTime\":1.597185409711E12,\"StatusMessage\":\"Training image download completed. Training in progress.\"},{\"Status\":\"Uploading\",\"StartTime\":1.597185409711E12,\"EndTime\":1.59718541655E12,\"StatusMessage\":\"Uploading generated training model\"},{\"Status\":\"Completed\",\"StartTime\":1.59718541655E12,\"EndTime\":1.59718541655E12,\"StatusMessage\":\"Training job completed\"}],\"Tags\":{\"AWS_STEP_FUNCTIONS_EXECUTION_ARN\":\"arn:aws:states:us-east-1:725879053979:execution:Iris-ML-Pipeline-9b748bace2f64f9590851bf61663ce2f:08d30380-508b-49b3-884f-c0ab2eaed1aa\",\"MANAGED_BY_AWS\":\"STARTED_BY_STEP_FUNCTIONS\"}}'}},\n",
       " {'timestamp': datetime.datetime(2020, 8, 11, 22, 36, 59, 394000, tzinfo=tzlocal()),\n",
       "  'type': 'TaskStateExited',\n",
       "  'id': 13,\n",
       "  'previousEventId': 12,\n",
       "  'stateExitedEventDetails': {'name': 'Model Training',\n",
       "   'output': '{\"TrainingJobName\":\"iris-pipeline-9b748bace2f64f9590851bf61663ce2fB\",\"TrainingJobArn\":\"arn:aws:sagemaker:us-east-1:725879053979:training-job/iris-pipeline-9b748bace2f64f9590851bf61663ce2fb\",\"ModelArtifacts\":{\"S3ModelArtifacts\":\"s3://ml-pipeline-725879053979/iris-classification/training_output/iris-pipeline-9b748bace2f64f9590851bf61663ce2fB/output/model.tar.gz\"},\"TrainingJobStatus\":\"Completed\",\"SecondaryStatus\":\"Completed\",\"HyperParameters\":{\"sagemaker_submit_directory\":\"s3://sagemaker-us-east-1-725879053979/sagemaker-custom/code/sourcedir.tar.gz\",\"sagemaker_program\":\"train.py\"},\"AlgorithmSpecification\":{\"TrainingImage\":\"725879053979.dkr.ecr.us-east-1.amazonaws.com/iris-model:latest\",\"TrainingInputMode\":\"FILE\"},\"RoleArn\":\"arn:aws:iam::725879053979:role/MLOps\",\"InputDataConfig\":[{\"ChannelName\":\"train\",\"DataSource\":{\"S3DataSource\":{\"S3DataType\":\"S3_PREFIX\",\"S3Uri\":\"s3://ml-pipeline-725879053979/iris-classification/train/\",\"S3DataDistributionType\":\"FULLY_REPLICATED\"}},\"ContentType\":\"csv\",\"CompressionType\":\"NONE\",\"RecordWrapperType\":\"NONE\"},{\"ChannelName\":\"validation\",\"DataSource\":{\"S3DataSource\":{\"S3DataType\":\"S3_PREFIX\",\"S3Uri\":\"s3://ml-pipeline-725879053979/iris-classification/test/\",\"S3DataDistributionType\":\"FULLY_REPLICATED\"}},\"ContentType\":\"csv\",\"CompressionType\":\"NONE\",\"RecordWrapperType\":\"NONE\"}],\"OutputDataConfig\":{\"S3OutputPath\":\"s3://ml-pipeline-725879053979/iris-classification/training_output\"},\"ResourceConfig\":{\"InstanceType\":\"ml.m4.xlarge\",\"InstanceCount\":1.0,\"VolumeSizeInGB\":30.0},\"StoppingCondition\":{\"MaxRuntimeInSeconds\":86400.0},\"CreationTime\":1.59718517482E12,\"TrainingStartTime\":1.59718533464E12,\"TrainingEndTime\":1.59718541655E12,\"LastModifiedTime\":1.59718541655E12,\"SecondaryStatusTransitions\":[{\"Status\":\"Starting\",\"StartTime\":1.59718517482E12,\"EndTime\":1.59718533464E12,\"StatusMessage\":\"Preparing the instances for training\"},{\"Status\":\"Downloading\",\"StartTime\":1.59718533464E12,\"EndTime\":1.597185340649E12,\"StatusMessage\":\"Downloading input data\"},{\"Status\":\"Training\",\"StartTime\":1.597185340649E12,\"EndTime\":1.597185409711E12,\"StatusMessage\":\"Training image download completed. Training in progress.\"},{\"Status\":\"Uploading\",\"StartTime\":1.597185409711E12,\"EndTime\":1.59718541655E12,\"StatusMessage\":\"Uploading generated training model\"},{\"Status\":\"Completed\",\"StartTime\":1.59718541655E12,\"EndTime\":1.59718541655E12,\"StatusMessage\":\"Training job completed\"}],\"Tags\":{\"AWS_STEP_FUNCTIONS_EXECUTION_ARN\":\"arn:aws:states:us-east-1:725879053979:execution:Iris-ML-Pipeline-9b748bace2f64f9590851bf61663ce2f:08d30380-508b-49b3-884f-c0ab2eaed1aa\",\"MANAGED_BY_AWS\":\"STARTED_BY_STEP_FUNCTIONS\"}}'}},\n",
       " {'timestamp': datetime.datetime(2020, 8, 11, 22, 36, 59, 407000, tzinfo=tzlocal()),\n",
       "  'type': 'TaskStateEntered',\n",
       "  'id': 14,\n",
       "  'previousEventId': 13,\n",
       "  'stateEnteredEventDetails': {'name': 'Save Model',\n",
       "   'input': '{\"TrainingJobName\":\"iris-pipeline-9b748bace2f64f9590851bf61663ce2fB\",\"TrainingJobArn\":\"arn:aws:sagemaker:us-east-1:725879053979:training-job/iris-pipeline-9b748bace2f64f9590851bf61663ce2fb\",\"ModelArtifacts\":{\"S3ModelArtifacts\":\"s3://ml-pipeline-725879053979/iris-classification/training_output/iris-pipeline-9b748bace2f64f9590851bf61663ce2fB/output/model.tar.gz\"},\"TrainingJobStatus\":\"Completed\",\"SecondaryStatus\":\"Completed\",\"HyperParameters\":{\"sagemaker_submit_directory\":\"s3://sagemaker-us-east-1-725879053979/sagemaker-custom/code/sourcedir.tar.gz\",\"sagemaker_program\":\"train.py\"},\"AlgorithmSpecification\":{\"TrainingImage\":\"725879053979.dkr.ecr.us-east-1.amazonaws.com/iris-model:latest\",\"TrainingInputMode\":\"FILE\"},\"RoleArn\":\"arn:aws:iam::725879053979:role/MLOps\",\"InputDataConfig\":[{\"ChannelName\":\"train\",\"DataSource\":{\"S3DataSource\":{\"S3DataType\":\"S3_PREFIX\",\"S3Uri\":\"s3://ml-pipeline-725879053979/iris-classification/train/\",\"S3DataDistributionType\":\"FULLY_REPLICATED\"}},\"ContentType\":\"csv\",\"CompressionType\":\"NONE\",\"RecordWrapperType\":\"NONE\"},{\"ChannelName\":\"validation\",\"DataSource\":{\"S3DataSource\":{\"S3DataType\":\"S3_PREFIX\",\"S3Uri\":\"s3://ml-pipeline-725879053979/iris-classification/test/\",\"S3DataDistributionType\":\"FULLY_REPLICATED\"}},\"ContentType\":\"csv\",\"CompressionType\":\"NONE\",\"RecordWrapperType\":\"NONE\"}],\"OutputDataConfig\":{\"S3OutputPath\":\"s3://ml-pipeline-725879053979/iris-classification/training_output\"},\"ResourceConfig\":{\"InstanceType\":\"ml.m4.xlarge\",\"InstanceCount\":1.0,\"VolumeSizeInGB\":30.0},\"StoppingCondition\":{\"MaxRuntimeInSeconds\":86400.0},\"CreationTime\":1.59718517482E12,\"TrainingStartTime\":1.59718533464E12,\"TrainingEndTime\":1.59718541655E12,\"LastModifiedTime\":1.59718541655E12,\"SecondaryStatusTransitions\":[{\"Status\":\"Starting\",\"StartTime\":1.59718517482E12,\"EndTime\":1.59718533464E12,\"StatusMessage\":\"Preparing the instances for training\"},{\"Status\":\"Downloading\",\"StartTime\":1.59718533464E12,\"EndTime\":1.597185340649E12,\"StatusMessage\":\"Downloading input data\"},{\"Status\":\"Training\",\"StartTime\":1.597185340649E12,\"EndTime\":1.597185409711E12,\"StatusMessage\":\"Training image download completed. Training in progress.\"},{\"Status\":\"Uploading\",\"StartTime\":1.597185409711E12,\"EndTime\":1.59718541655E12,\"StatusMessage\":\"Uploading generated training model\"},{\"Status\":\"Completed\",\"StartTime\":1.59718541655E12,\"EndTime\":1.59718541655E12,\"StatusMessage\":\"Training job completed\"}],\"Tags\":{\"AWS_STEP_FUNCTIONS_EXECUTION_ARN\":\"arn:aws:states:us-east-1:725879053979:execution:Iris-ML-Pipeline-9b748bace2f64f9590851bf61663ce2f:08d30380-508b-49b3-884f-c0ab2eaed1aa\",\"MANAGED_BY_AWS\":\"STARTED_BY_STEP_FUNCTIONS\"}}'}},\n",
       " {'timestamp': datetime.datetime(2020, 8, 11, 22, 36, 59, 407000, tzinfo=tzlocal()),\n",
       "  'type': 'TaskScheduled',\n",
       "  'id': 15,\n",
       "  'previousEventId': 14,\n",
       "  'taskScheduledEventDetails': {'resourceType': 'sagemaker',\n",
       "   'resource': 'createModel',\n",
       "   'region': 'us-east-1',\n",
       "   'parameters': '{\"ExecutionRoleArn\":\"arn:aws:iam::725879053979:role/MLOps\",\"PrimaryContainer\":{\"Environment\":{},\"Image\":\"725879053979.dkr.ecr.us-east-1.amazonaws.com/iris-model:latest\",\"ModelDataUrl\":\"s3://ml-pipeline-725879053979/iris-classification/training_output/iris-pipeline-9b748bace2f64f9590851bf61663ce2fB/output/model.tar.gz\"},\"ModelName\":\"Iris-9b748bace2f64f9590851bf61663ce2fB\"}'}},\n",
       " {'timestamp': datetime.datetime(2020, 8, 11, 22, 36, 59, 418000, tzinfo=tzlocal()),\n",
       "  'type': 'TaskStarted',\n",
       "  'id': 16,\n",
       "  'previousEventId': 15,\n",
       "  'taskStartedEventDetails': {'resourceType': 'sagemaker',\n",
       "   'resource': 'createModel'}},\n",
       " {'timestamp': datetime.datetime(2020, 8, 11, 22, 36, 59, 746000, tzinfo=tzlocal()),\n",
       "  'type': 'TaskSucceeded',\n",
       "  'id': 17,\n",
       "  'previousEventId': 16,\n",
       "  'taskSucceededEventDetails': {'resourceType': 'sagemaker',\n",
       "   'resource': 'createModel',\n",
       "   'output': '{\"ModelArn\":\"arn:aws:sagemaker:us-east-1:725879053979:model/iris-9b748bace2f64f9590851bf61663ce2fb\",\"SdkHttpMetadata\":{\"AllHttpHeaders\":{\"x-amzn-RequestId\":[\"9f2a1908-5fc6-47ab-84c0-2561e14272ff\"],\"Content-Length\":[\"100\"],\"Date\":[\"Tue, 11 Aug 2020 22:36:59 GMT\"],\"Content-Type\":[\"application/x-amz-json-1.1\"]},\"HttpHeaders\":{\"Content-Length\":\"100\",\"Content-Type\":\"application/x-amz-json-1.1\",\"Date\":\"Tue, 11 Aug 2020 22:36:59 GMT\",\"x-amzn-RequestId\":\"9f2a1908-5fc6-47ab-84c0-2561e14272ff\"},\"HttpStatusCode\":200},\"SdkResponseMetadata\":{\"RequestId\":\"9f2a1908-5fc6-47ab-84c0-2561e14272ff\"}}'}},\n",
       " {'timestamp': datetime.datetime(2020, 8, 11, 22, 36, 59, 746000, tzinfo=tzlocal()),\n",
       "  'type': 'TaskStateExited',\n",
       "  'id': 18,\n",
       "  'previousEventId': 17,\n",
       "  'stateExitedEventDetails': {'name': 'Save Model',\n",
       "   'output': '{\"TrainingJobName\":\"iris-pipeline-9b748bace2f64f9590851bf61663ce2fB\",\"TrainingJobArn\":\"arn:aws:sagemaker:us-east-1:725879053979:training-job/iris-pipeline-9b748bace2f64f9590851bf61663ce2fb\",\"ModelArtifacts\":{\"S3ModelArtifacts\":\"s3://ml-pipeline-725879053979/iris-classification/training_output/iris-pipeline-9b748bace2f64f9590851bf61663ce2fB/output/model.tar.gz\"},\"TrainingJobStatus\":\"Completed\",\"SecondaryStatus\":\"Completed\",\"HyperParameters\":{\"sagemaker_submit_directory\":\"s3://sagemaker-us-east-1-725879053979/sagemaker-custom/code/sourcedir.tar.gz\",\"sagemaker_program\":\"train.py\"},\"AlgorithmSpecification\":{\"TrainingImage\":\"725879053979.dkr.ecr.us-east-1.amazonaws.com/iris-model:latest\",\"TrainingInputMode\":\"FILE\"},\"RoleArn\":\"arn:aws:iam::725879053979:role/MLOps\",\"InputDataConfig\":[{\"ChannelName\":\"train\",\"DataSource\":{\"S3DataSource\":{\"S3DataType\":\"S3_PREFIX\",\"S3Uri\":\"s3://ml-pipeline-725879053979/iris-classification/train/\",\"S3DataDistributionType\":\"FULLY_REPLICATED\"}},\"ContentType\":\"csv\",\"CompressionType\":\"NONE\",\"RecordWrapperType\":\"NONE\"},{\"ChannelName\":\"validation\",\"DataSource\":{\"S3DataSource\":{\"S3DataType\":\"S3_PREFIX\",\"S3Uri\":\"s3://ml-pipeline-725879053979/iris-classification/test/\",\"S3DataDistributionType\":\"FULLY_REPLICATED\"}},\"ContentType\":\"csv\",\"CompressionType\":\"NONE\",\"RecordWrapperType\":\"NONE\"}],\"OutputDataConfig\":{\"S3OutputPath\":\"s3://ml-pipeline-725879053979/iris-classification/training_output\"},\"ResourceConfig\":{\"InstanceType\":\"ml.m4.xlarge\",\"InstanceCount\":1.0,\"VolumeSizeInGB\":30.0},\"StoppingCondition\":{\"MaxRuntimeInSeconds\":86400.0},\"CreationTime\":1.59718517482E12,\"TrainingStartTime\":1.59718533464E12,\"TrainingEndTime\":1.59718541655E12,\"LastModifiedTime\":1.59718541655E12,\"SecondaryStatusTransitions\":[{\"Status\":\"Starting\",\"StartTime\":1.59718517482E12,\"EndTime\":1.59718533464E12,\"StatusMessage\":\"Preparing the instances for training\"},{\"Status\":\"Downloading\",\"StartTime\":1.59718533464E12,\"EndTime\":1.597185340649E12,\"StatusMessage\":\"Downloading input data\"},{\"Status\":\"Training\",\"StartTime\":1.597185340649E12,\"EndTime\":1.597185409711E12,\"StatusMessage\":\"Training image download completed. Training in progress.\"},{\"Status\":\"Uploading\",\"StartTime\":1.597185409711E12,\"EndTime\":1.59718541655E12,\"StatusMessage\":\"Uploading generated training model\"},{\"Status\":\"Completed\",\"StartTime\":1.59718541655E12,\"EndTime\":1.59718541655E12,\"StatusMessage\":\"Training job completed\"}],\"Tags\":{\"AWS_STEP_FUNCTIONS_EXECUTION_ARN\":\"arn:aws:states:us-east-1:725879053979:execution:Iris-ML-Pipeline-9b748bace2f64f9590851bf61663ce2f:08d30380-508b-49b3-884f-c0ab2eaed1aa\",\"MANAGED_BY_AWS\":\"STARTED_BY_STEP_FUNCTIONS\"},\"ModelStepResults\":{\"ModelArn\":\"arn:aws:sagemaker:us-east-1:725879053979:model/iris-9b748bace2f64f9590851bf61663ce2fb\",\"SdkHttpMetadata\":{\"AllHttpHeaders\":{\"x-amzn-RequestId\":[\"9f2a1908-5fc6-47ab-84c0-2561e14272ff\"],\"Content-Length\":[\"100\"],\"Date\":[\"Tue, 11 Aug 2020 22:36:59 GMT\"],\"Content-Type\":[\"application/x-amz-json-1.1\"]},\"HttpHeaders\":{\"Content-Length\":\"100\",\"Content-Type\":\"application/x-amz-json-1.1\",\"Date\":\"Tue, 11 Aug 2020 22:36:59 GMT\",\"x-amzn-RequestId\":\"9f2a1908-5fc6-47ab-84c0-2561e14272ff\"},\"HttpStatusCode\":200},\"SdkResponseMetadata\":{\"RequestId\":\"9f2a1908-5fc6-47ab-84c0-2561e14272ff\"}}}'}},\n",
       " {'timestamp': datetime.datetime(2020, 8, 11, 22, 36, 59, 755000, tzinfo=tzlocal()),\n",
       "  'type': 'TaskStateEntered',\n",
       "  'id': 19,\n",
       "  'previousEventId': 18,\n",
       "  'stateEnteredEventDetails': {'name': 'Query Training Results',\n",
       "   'input': '{\"TrainingJobName\":\"iris-pipeline-9b748bace2f64f9590851bf61663ce2fB\",\"TrainingJobArn\":\"arn:aws:sagemaker:us-east-1:725879053979:training-job/iris-pipeline-9b748bace2f64f9590851bf61663ce2fb\",\"ModelArtifacts\":{\"S3ModelArtifacts\":\"s3://ml-pipeline-725879053979/iris-classification/training_output/iris-pipeline-9b748bace2f64f9590851bf61663ce2fB/output/model.tar.gz\"},\"TrainingJobStatus\":\"Completed\",\"SecondaryStatus\":\"Completed\",\"HyperParameters\":{\"sagemaker_submit_directory\":\"s3://sagemaker-us-east-1-725879053979/sagemaker-custom/code/sourcedir.tar.gz\",\"sagemaker_program\":\"train.py\"},\"AlgorithmSpecification\":{\"TrainingImage\":\"725879053979.dkr.ecr.us-east-1.amazonaws.com/iris-model:latest\",\"TrainingInputMode\":\"FILE\"},\"RoleArn\":\"arn:aws:iam::725879053979:role/MLOps\",\"InputDataConfig\":[{\"ChannelName\":\"train\",\"DataSource\":{\"S3DataSource\":{\"S3DataType\":\"S3_PREFIX\",\"S3Uri\":\"s3://ml-pipeline-725879053979/iris-classification/train/\",\"S3DataDistributionType\":\"FULLY_REPLICATED\"}},\"ContentType\":\"csv\",\"CompressionType\":\"NONE\",\"RecordWrapperType\":\"NONE\"},{\"ChannelName\":\"validation\",\"DataSource\":{\"S3DataSource\":{\"S3DataType\":\"S3_PREFIX\",\"S3Uri\":\"s3://ml-pipeline-725879053979/iris-classification/test/\",\"S3DataDistributionType\":\"FULLY_REPLICATED\"}},\"ContentType\":\"csv\",\"CompressionType\":\"NONE\",\"RecordWrapperType\":\"NONE\"}],\"OutputDataConfig\":{\"S3OutputPath\":\"s3://ml-pipeline-725879053979/iris-classification/training_output\"},\"ResourceConfig\":{\"InstanceType\":\"ml.m4.xlarge\",\"InstanceCount\":1.0,\"VolumeSizeInGB\":30.0},\"StoppingCondition\":{\"MaxRuntimeInSeconds\":86400.0},\"CreationTime\":1.59718517482E12,\"TrainingStartTime\":1.59718533464E12,\"TrainingEndTime\":1.59718541655E12,\"LastModifiedTime\":1.59718541655E12,\"SecondaryStatusTransitions\":[{\"Status\":\"Starting\",\"StartTime\":1.59718517482E12,\"EndTime\":1.59718533464E12,\"StatusMessage\":\"Preparing the instances for training\"},{\"Status\":\"Downloading\",\"StartTime\":1.59718533464E12,\"EndTime\":1.597185340649E12,\"StatusMessage\":\"Downloading input data\"},{\"Status\":\"Training\",\"StartTime\":1.597185340649E12,\"EndTime\":1.597185409711E12,\"StatusMessage\":\"Training image download completed. Training in progress.\"},{\"Status\":\"Uploading\",\"StartTime\":1.597185409711E12,\"EndTime\":1.59718541655E12,\"StatusMessage\":\"Uploading generated training model\"},{\"Status\":\"Completed\",\"StartTime\":1.59718541655E12,\"EndTime\":1.59718541655E12,\"StatusMessage\":\"Training job completed\"}],\"Tags\":{\"AWS_STEP_FUNCTIONS_EXECUTION_ARN\":\"arn:aws:states:us-east-1:725879053979:execution:Iris-ML-Pipeline-9b748bace2f64f9590851bf61663ce2f:08d30380-508b-49b3-884f-c0ab2eaed1aa\",\"MANAGED_BY_AWS\":\"STARTED_BY_STEP_FUNCTIONS\"},\"ModelStepResults\":{\"ModelArn\":\"arn:aws:sagemaker:us-east-1:725879053979:model/iris-9b748bace2f64f9590851bf61663ce2fb\",\"SdkHttpMetadata\":{\"AllHttpHeaders\":{\"x-amzn-RequestId\":[\"9f2a1908-5fc6-47ab-84c0-2561e14272ff\"],\"Content-Length\":[\"100\"],\"Date\":[\"Tue, 11 Aug 2020 22:36:59 GMT\"],\"Content-Type\":[\"application/x-amz-json-1.1\"]},\"HttpHeaders\":{\"Content-Length\":\"100\",\"Content-Type\":\"application/x-amz-json-1.1\",\"Date\":\"Tue, 11 Aug 2020 22:36:59 GMT\",\"x-amzn-RequestId\":\"9f2a1908-5fc6-47ab-84c0-2561e14272ff\"},\"HttpStatusCode\":200},\"SdkResponseMetadata\":{\"RequestId\":\"9f2a1908-5fc6-47ab-84c0-2561e14272ff\"}}}'}},\n",
       " {'timestamp': datetime.datetime(2020, 8, 11, 22, 36, 59, 755000, tzinfo=tzlocal()),\n",
       "  'type': 'TaskScheduled',\n",
       "  'id': 20,\n",
       "  'previousEventId': 19,\n",
       "  'taskScheduledEventDetails': {'resourceType': 'lambda',\n",
       "   'resource': 'invoke',\n",
       "   'region': 'us-east-1',\n",
       "   'parameters': '{\"Payload\":{\"TrainingJobName\":\"iris-pipeline-9b748bace2f64f9590851bf61663ce2fB\"},\"FunctionName\":\"query-training-status-9b748bace2f64f9590851bf61663ce2f\"}'}},\n",
       " {'timestamp': datetime.datetime(2020, 8, 11, 22, 36, 59, 766000, tzinfo=tzlocal()),\n",
       "  'type': 'TaskStarted',\n",
       "  'id': 21,\n",
       "  'previousEventId': 20,\n",
       "  'taskStartedEventDetails': {'resourceType': 'lambda', 'resource': 'invoke'}},\n",
       " {'timestamp': datetime.datetime(2020, 8, 11, 22, 37, 0, 570000, tzinfo=tzlocal()),\n",
       "  'type': 'TaskSucceeded',\n",
       "  'id': 22,\n",
       "  'previousEventId': 21,\n",
       "  'taskSucceededEventDetails': {'resourceType': 'lambda',\n",
       "   'resource': 'invoke',\n",
       "   'output': '{\"ExecutedVersion\":\"$LATEST\",\"Payload\":{\"statusCode\":200,\"trainingMetrics\":[{\"MetricName\":\"validation:f1\",\"Value\":0.939393937587738,\"Timestamp\":1597185.407}]},\"SdkHttpMetadata\":{\"AllHttpHeaders\":{\"X-Amz-Executed-Version\":[\"$LATEST\"],\"x-amzn-Remapped-Content-Length\":[\"0\"],\"Connection\":[\"keep-alive\"],\"x-amzn-RequestId\":[\"4b170c8f-a679-4d50-bb7c-70a6cc24d692\"],\"Content-Length\":[\"127\"],\"Date\":[\"Tue, 11 Aug 2020 22:37:00 GMT\"],\"X-Amzn-Trace-Id\":[\"root=1-5f331d8b-bb2ba525335b662cbd19dc37;sampled=0\"],\"Content-Type\":[\"application/json\"]},\"HttpHeaders\":{\"Connection\":\"keep-alive\",\"Content-Length\":\"127\",\"Content-Type\":\"application/json\",\"Date\":\"Tue, 11 Aug 2020 22:37:00 GMT\",\"X-Amz-Executed-Version\":\"$LATEST\",\"x-amzn-Remapped-Content-Length\":\"0\",\"x-amzn-RequestId\":\"4b170c8f-a679-4d50-bb7c-70a6cc24d692\",\"X-Amzn-Trace-Id\":\"root=1-5f331d8b-bb2ba525335b662cbd19dc37;sampled=0\"},\"HttpStatusCode\":200},\"SdkResponseMetadata\":{\"RequestId\":\"4b170c8f-a679-4d50-bb7c-70a6cc24d692\"},\"StatusCode\":200}'}},\n",
       " {'timestamp': datetime.datetime(2020, 8, 11, 22, 37, 0, 570000, tzinfo=tzlocal()),\n",
       "  'type': 'TaskStateExited',\n",
       "  'id': 23,\n",
       "  'previousEventId': 22,\n",
       "  'stateExitedEventDetails': {'name': 'Query Training Results',\n",
       "   'output': '{\"ExecutedVersion\":\"$LATEST\",\"Payload\":{\"statusCode\":200,\"trainingMetrics\":[{\"MetricName\":\"validation:f1\",\"Value\":0.939393937587738,\"Timestamp\":1597185.407}]},\"SdkHttpMetadata\":{\"AllHttpHeaders\":{\"X-Amz-Executed-Version\":[\"$LATEST\"],\"x-amzn-Remapped-Content-Length\":[\"0\"],\"Connection\":[\"keep-alive\"],\"x-amzn-RequestId\":[\"4b170c8f-a679-4d50-bb7c-70a6cc24d692\"],\"Content-Length\":[\"127\"],\"Date\":[\"Tue, 11 Aug 2020 22:37:00 GMT\"],\"X-Amzn-Trace-Id\":[\"root=1-5f331d8b-bb2ba525335b662cbd19dc37;sampled=0\"],\"Content-Type\":[\"application/json\"]},\"HttpHeaders\":{\"Connection\":\"keep-alive\",\"Content-Length\":\"127\",\"Content-Type\":\"application/json\",\"Date\":\"Tue, 11 Aug 2020 22:37:00 GMT\",\"X-Amz-Executed-Version\":\"$LATEST\",\"x-amzn-Remapped-Content-Length\":\"0\",\"x-amzn-RequestId\":\"4b170c8f-a679-4d50-bb7c-70a6cc24d692\",\"X-Amzn-Trace-Id\":\"root=1-5f331d8b-bb2ba525335b662cbd19dc37;sampled=0\"},\"HttpStatusCode\":200},\"SdkResponseMetadata\":{\"RequestId\":\"4b170c8f-a679-4d50-bb7c-70a6cc24d692\"},\"StatusCode\":200}'}},\n",
       " {'timestamp': datetime.datetime(2020, 8, 11, 22, 37, 0, 579000, tzinfo=tzlocal()),\n",
       "  'type': 'ChoiceStateEntered',\n",
       "  'id': 24,\n",
       "  'previousEventId': 23,\n",
       "  'stateEnteredEventDetails': {'name': 'F1 score > 90%',\n",
       "   'input': '{\"ExecutedVersion\":\"$LATEST\",\"Payload\":{\"statusCode\":200,\"trainingMetrics\":[{\"MetricName\":\"validation:f1\",\"Value\":0.939393937587738,\"Timestamp\":1597185.407}]},\"SdkHttpMetadata\":{\"AllHttpHeaders\":{\"X-Amz-Executed-Version\":[\"$LATEST\"],\"x-amzn-Remapped-Content-Length\":[\"0\"],\"Connection\":[\"keep-alive\"],\"x-amzn-RequestId\":[\"4b170c8f-a679-4d50-bb7c-70a6cc24d692\"],\"Content-Length\":[\"127\"],\"Date\":[\"Tue, 11 Aug 2020 22:37:00 GMT\"],\"X-Amzn-Trace-Id\":[\"root=1-5f331d8b-bb2ba525335b662cbd19dc37;sampled=0\"],\"Content-Type\":[\"application/json\"]},\"HttpHeaders\":{\"Connection\":\"keep-alive\",\"Content-Length\":\"127\",\"Content-Type\":\"application/json\",\"Date\":\"Tue, 11 Aug 2020 22:37:00 GMT\",\"X-Amz-Executed-Version\":\"$LATEST\",\"x-amzn-Remapped-Content-Length\":\"0\",\"x-amzn-RequestId\":\"4b170c8f-a679-4d50-bb7c-70a6cc24d692\",\"X-Amzn-Trace-Id\":\"root=1-5f331d8b-bb2ba525335b662cbd19dc37;sampled=0\"},\"HttpStatusCode\":200},\"SdkResponseMetadata\":{\"RequestId\":\"4b170c8f-a679-4d50-bb7c-70a6cc24d692\"},\"StatusCode\":200}'}},\n",
       " {'timestamp': datetime.datetime(2020, 8, 11, 22, 37, 0, 579000, tzinfo=tzlocal()),\n",
       "  'type': 'ChoiceStateExited',\n",
       "  'id': 25,\n",
       "  'previousEventId': 24,\n",
       "  'stateExitedEventDetails': {'name': 'F1 score > 90%',\n",
       "   'output': '{\"ExecutedVersion\":\"$LATEST\",\"Payload\":{\"statusCode\":200,\"trainingMetrics\":[{\"MetricName\":\"validation:f1\",\"Value\":0.939393937587738,\"Timestamp\":1597185.407}]},\"SdkHttpMetadata\":{\"AllHttpHeaders\":{\"X-Amz-Executed-Version\":[\"$LATEST\"],\"x-amzn-Remapped-Content-Length\":[\"0\"],\"Connection\":[\"keep-alive\"],\"x-amzn-RequestId\":[\"4b170c8f-a679-4d50-bb7c-70a6cc24d692\"],\"Content-Length\":[\"127\"],\"Date\":[\"Tue, 11 Aug 2020 22:37:00 GMT\"],\"X-Amzn-Trace-Id\":[\"root=1-5f331d8b-bb2ba525335b662cbd19dc37;sampled=0\"],\"Content-Type\":[\"application/json\"]},\"HttpHeaders\":{\"Connection\":\"keep-alive\",\"Content-Length\":\"127\",\"Content-Type\":\"application/json\",\"Date\":\"Tue, 11 Aug 2020 22:37:00 GMT\",\"X-Amz-Executed-Version\":\"$LATEST\",\"x-amzn-Remapped-Content-Length\":\"0\",\"x-amzn-RequestId\":\"4b170c8f-a679-4d50-bb7c-70a6cc24d692\",\"X-Amzn-Trace-Id\":\"root=1-5f331d8b-bb2ba525335b662cbd19dc37;sampled=0\"},\"HttpStatusCode\":200},\"SdkResponseMetadata\":{\"RequestId\":\"4b170c8f-a679-4d50-bb7c-70a6cc24d692\"},\"StatusCode\":200}'}},\n",
       " {'timestamp': datetime.datetime(2020, 8, 11, 22, 37, 0, 679000, tzinfo=tzlocal()),\n",
       "  'type': 'TaskStateEntered',\n",
       "  'id': 26,\n",
       "  'previousEventId': 25,\n",
       "  'stateEnteredEventDetails': {'name': 'Create Model Endpoint Config',\n",
       "   'input': '{\"ExecutedVersion\":\"$LATEST\",\"Payload\":{\"statusCode\":200,\"trainingMetrics\":[{\"MetricName\":\"validation:f1\",\"Value\":0.939393937587738,\"Timestamp\":1597185.407}]},\"SdkHttpMetadata\":{\"AllHttpHeaders\":{\"X-Amz-Executed-Version\":[\"$LATEST\"],\"x-amzn-Remapped-Content-Length\":[\"0\"],\"Connection\":[\"keep-alive\"],\"x-amzn-RequestId\":[\"4b170c8f-a679-4d50-bb7c-70a6cc24d692\"],\"Content-Length\":[\"127\"],\"Date\":[\"Tue, 11 Aug 2020 22:37:00 GMT\"],\"X-Amzn-Trace-Id\":[\"root=1-5f331d8b-bb2ba525335b662cbd19dc37;sampled=0\"],\"Content-Type\":[\"application/json\"]},\"HttpHeaders\":{\"Connection\":\"keep-alive\",\"Content-Length\":\"127\",\"Content-Type\":\"application/json\",\"Date\":\"Tue, 11 Aug 2020 22:37:00 GMT\",\"X-Amz-Executed-Version\":\"$LATEST\",\"x-amzn-Remapped-Content-Length\":\"0\",\"x-amzn-RequestId\":\"4b170c8f-a679-4d50-bb7c-70a6cc24d692\",\"X-Amzn-Trace-Id\":\"root=1-5f331d8b-bb2ba525335b662cbd19dc37;sampled=0\"},\"HttpStatusCode\":200},\"SdkResponseMetadata\":{\"RequestId\":\"4b170c8f-a679-4d50-bb7c-70a6cc24d692\"},\"StatusCode\":200}'}},\n",
       " {'timestamp': datetime.datetime(2020, 8, 11, 22, 37, 0, 679000, tzinfo=tzlocal()),\n",
       "  'type': 'TaskScheduled',\n",
       "  'id': 27,\n",
       "  'previousEventId': 26,\n",
       "  'taskScheduledEventDetails': {'resourceType': 'sagemaker',\n",
       "   'resource': 'createEndpointConfig',\n",
       "   'region': 'us-east-1',\n",
       "   'parameters': '{\"ProductionVariants\":[{\"InitialInstanceCount\":1,\"InstanceType\":\"ml.m4.xlarge\",\"VariantName\":\"lgbmVariant\",\"ModelName\":\"Iris-9b748bace2f64f9590851bf61663ce2fB\"}],\"DataCaptureConfig\":{\"EnableCapture\":true,\"InitialSamplingPercentage\":100,\"DestinationS3Uri\":\"s3://ml-pipeline-725879053979/iris-classification/endpoint_monitoring/\",\"CaptureOptions\":[{\"CaptureMode\":\"Input\"},{\"CaptureMode\":\"Output\"}],\"CaptureContentTypeHeader\":{\"CsvContentTypes\":[\"text/csv\"],\"JsonContentTypes\":[\"application/json\"]}},\"EndpointConfigName\":\"Iris-9b748bace2f64f9590851bf61663ce2fB\"}'}},\n",
       " {'timestamp': datetime.datetime(2020, 8, 11, 22, 37, 0, 690000, tzinfo=tzlocal()),\n",
       "  'type': 'TaskStarted',\n",
       "  'id': 28,\n",
       "  'previousEventId': 27,\n",
       "  'taskStartedEventDetails': {'resourceType': 'sagemaker',\n",
       "   'resource': 'createEndpointConfig'}},\n",
       " {'timestamp': datetime.datetime(2020, 8, 11, 22, 37, 0, 800000, tzinfo=tzlocal()),\n",
       "  'type': 'TaskSucceeded',\n",
       "  'id': 29,\n",
       "  'previousEventId': 28,\n",
       "  'taskSucceededEventDetails': {'resourceType': 'sagemaker',\n",
       "   'resource': 'createEndpointConfig',\n",
       "   'output': '{\"EndpointConfigArn\":\"arn:aws:sagemaker:us-east-1:725879053979:endpoint-config/iris-9b748bace2f64f9590851bf61663ce2fb\",\"SdkHttpMetadata\":{\"AllHttpHeaders\":{\"x-amzn-RequestId\":[\"a1b9720d-49d1-47ad-ab42-13ed7c7e5262\"],\"Content-Length\":[\"119\"],\"Date\":[\"Tue, 11 Aug 2020 22:37:00 GMT\"],\"Content-Type\":[\"application/x-amz-json-1.1\"]},\"HttpHeaders\":{\"Content-Length\":\"119\",\"Content-Type\":\"application/x-amz-json-1.1\",\"Date\":\"Tue, 11 Aug 2020 22:37:00 GMT\",\"x-amzn-RequestId\":\"a1b9720d-49d1-47ad-ab42-13ed7c7e5262\"},\"HttpStatusCode\":200},\"SdkResponseMetadata\":{\"RequestId\":\"a1b9720d-49d1-47ad-ab42-13ed7c7e5262\"}}'}},\n",
       " {'timestamp': datetime.datetime(2020, 8, 11, 22, 37, 0, 800000, tzinfo=tzlocal()),\n",
       "  'type': 'TaskStateExited',\n",
       "  'id': 30,\n",
       "  'previousEventId': 29,\n",
       "  'stateExitedEventDetails': {'name': 'Create Model Endpoint Config',\n",
       "   'output': '{\"EndpointConfigArn\":\"arn:aws:sagemaker:us-east-1:725879053979:endpoint-config/iris-9b748bace2f64f9590851bf61663ce2fb\",\"SdkHttpMetadata\":{\"AllHttpHeaders\":{\"x-amzn-RequestId\":[\"a1b9720d-49d1-47ad-ab42-13ed7c7e5262\"],\"Content-Length\":[\"119\"],\"Date\":[\"Tue, 11 Aug 2020 22:37:00 GMT\"],\"Content-Type\":[\"application/x-amz-json-1.1\"]},\"HttpHeaders\":{\"Content-Length\":\"119\",\"Content-Type\":\"application/x-amz-json-1.1\",\"Date\":\"Tue, 11 Aug 2020 22:37:00 GMT\",\"x-amzn-RequestId\":\"a1b9720d-49d1-47ad-ab42-13ed7c7e5262\"},\"HttpStatusCode\":200},\"SdkResponseMetadata\":{\"RequestId\":\"a1b9720d-49d1-47ad-ab42-13ed7c7e5262\"}}'}},\n",
       " {'timestamp': datetime.datetime(2020, 8, 11, 22, 37, 0, 807000, tzinfo=tzlocal()),\n",
       "  'type': 'TaskStateEntered',\n",
       "  'id': 31,\n",
       "  'previousEventId': 30,\n",
       "  'stateEnteredEventDetails': {'name': 'Update Model Endpoint',\n",
       "   'input': '{\"EndpointConfigArn\":\"arn:aws:sagemaker:us-east-1:725879053979:endpoint-config/iris-9b748bace2f64f9590851bf61663ce2fb\",\"SdkHttpMetadata\":{\"AllHttpHeaders\":{\"x-amzn-RequestId\":[\"a1b9720d-49d1-47ad-ab42-13ed7c7e5262\"],\"Content-Length\":[\"119\"],\"Date\":[\"Tue, 11 Aug 2020 22:37:00 GMT\"],\"Content-Type\":[\"application/x-amz-json-1.1\"]},\"HttpHeaders\":{\"Content-Length\":\"119\",\"Content-Type\":\"application/x-amz-json-1.1\",\"Date\":\"Tue, 11 Aug 2020 22:37:00 GMT\",\"x-amzn-RequestId\":\"a1b9720d-49d1-47ad-ab42-13ed7c7e5262\"},\"HttpStatusCode\":200},\"SdkResponseMetadata\":{\"RequestId\":\"a1b9720d-49d1-47ad-ab42-13ed7c7e5262\"}}'}},\n",
       " {'timestamp': datetime.datetime(2020, 8, 11, 22, 37, 0, 807000, tzinfo=tzlocal()),\n",
       "  'type': 'TaskScheduled',\n",
       "  'id': 32,\n",
       "  'previousEventId': 31,\n",
       "  'taskScheduledEventDetails': {'resourceType': 'sagemaker',\n",
       "   'resource': 'createEndpoint',\n",
       "   'region': 'us-east-1',\n",
       "   'parameters': '{\"EndpointName\":\"IrisMLPipeline\",\"EndpointConfigName\":\"Iris-9b748bace2f64f9590851bf61663ce2fB\"}'}},\n",
       " {'timestamp': datetime.datetime(2020, 8, 11, 22, 37, 0, 819000, tzinfo=tzlocal()),\n",
       "  'type': 'TaskStarted',\n",
       "  'id': 33,\n",
       "  'previousEventId': 32,\n",
       "  'taskStartedEventDetails': {'resourceType': 'sagemaker',\n",
       "   'resource': 'createEndpoint'}},\n",
       " {'timestamp': datetime.datetime(2020, 8, 11, 22, 37, 1, 174000, tzinfo=tzlocal()),\n",
       "  'type': 'TaskSucceeded',\n",
       "  'id': 34,\n",
       "  'previousEventId': 33,\n",
       "  'taskSucceededEventDetails': {'resourceType': 'sagemaker',\n",
       "   'resource': 'createEndpoint',\n",
       "   'output': '{\"EndpointArn\":\"arn:aws:sagemaker:us-east-1:725879053979:endpoint/irismlpipeline\",\"SdkHttpMetadata\":{\"AllHttpHeaders\":{\"x-amzn-RequestId\":[\"8392703c-5c5b-435f-87da-8e5acda69243\"],\"Content-Length\":[\"82\"],\"Date\":[\"Tue, 11 Aug 2020 22:37:00 GMT\"],\"Content-Type\":[\"application/x-amz-json-1.1\"]},\"HttpHeaders\":{\"Content-Length\":\"82\",\"Content-Type\":\"application/x-amz-json-1.1\",\"Date\":\"Tue, 11 Aug 2020 22:37:00 GMT\",\"x-amzn-RequestId\":\"8392703c-5c5b-435f-87da-8e5acda69243\"},\"HttpStatusCode\":200},\"SdkResponseMetadata\":{\"RequestId\":\"8392703c-5c5b-435f-87da-8e5acda69243\"}}'}},\n",
       " {'timestamp': datetime.datetime(2020, 8, 11, 22, 37, 1, 174000, tzinfo=tzlocal()),\n",
       "  'type': 'TaskStateExited',\n",
       "  'id': 35,\n",
       "  'previousEventId': 34,\n",
       "  'stateExitedEventDetails': {'name': 'Update Model Endpoint',\n",
       "   'output': '{\"EndpointArn\":\"arn:aws:sagemaker:us-east-1:725879053979:endpoint/irismlpipeline\",\"SdkHttpMetadata\":{\"AllHttpHeaders\":{\"x-amzn-RequestId\":[\"8392703c-5c5b-435f-87da-8e5acda69243\"],\"Content-Length\":[\"82\"],\"Date\":[\"Tue, 11 Aug 2020 22:37:00 GMT\"],\"Content-Type\":[\"application/x-amz-json-1.1\"]},\"HttpHeaders\":{\"Content-Length\":\"82\",\"Content-Type\":\"application/x-amz-json-1.1\",\"Date\":\"Tue, 11 Aug 2020 22:37:00 GMT\",\"x-amzn-RequestId\":\"8392703c-5c5b-435f-87da-8e5acda69243\"},\"HttpStatusCode\":200},\"SdkResponseMetadata\":{\"RequestId\":\"8392703c-5c5b-435f-87da-8e5acda69243\"}}'}},\n",
       " {'timestamp': datetime.datetime(2020, 8, 11, 22, 37, 1, 174000, tzinfo=tzlocal()),\n",
       "  'type': 'ExecutionSucceeded',\n",
       "  'id': 36,\n",
       "  'previousEventId': 35,\n",
       "  'executionSucceededEventDetails': {'output': '{\"EndpointArn\":\"arn:aws:sagemaker:us-east-1:725879053979:endpoint/irismlpipeline\",\"SdkHttpMetadata\":{\"AllHttpHeaders\":{\"x-amzn-RequestId\":[\"8392703c-5c5b-435f-87da-8e5acda69243\"],\"Content-Length\":[\"82\"],\"Date\":[\"Tue, 11 Aug 2020 22:37:00 GMT\"],\"Content-Type\":[\"application/x-amz-json-1.1\"]},\"HttpHeaders\":{\"Content-Length\":\"82\",\"Content-Type\":\"application/x-amz-json-1.1\",\"Date\":\"Tue, 11 Aug 2020 22:37:00 GMT\",\"x-amzn-RequestId\":\"8392703c-5c5b-435f-87da-8e5acda69243\"},\"HttpStatusCode\":200},\"SdkResponseMetadata\":{\"RequestId\":\"8392703c-5c5b-435f-87da-8e5acda69243\"}}'}}]"
      ]
     },
     "execution_count": 96,
     "metadata": {},
     "output_type": "execute_result"
    }
   ],
   "source": [
    "execution.list_events() #html=True"
   ]
  },
  {
   "cell_type": "code",
   "execution_count": 97,
   "metadata": {},
   "outputs": [
    {
     "name": "stdout",
     "output_type": "stream",
     "text": [
      "Creating\n",
      "Creating\n",
      "Creating\n",
      "Creating\n",
      "Creating\n",
      "Creating\n",
      "Creating\n",
      "Creating\n",
      "Creating\n",
      "Creating\n",
      "Creating\n",
      "Creating\n",
      "Creating\n",
      "Creating\n",
      "Creating\n",
      "Creating\n",
      "Creating\n",
      "Creating\n",
      "Creating\n",
      "Creating\n",
      "Creating\n",
      "Creating\n",
      "Creating\n",
      "Creating\n",
      "Creating\n",
      "Creating\n",
      "Creating\n",
      "Creating\n",
      "Creating\n",
      "Creating\n",
      "Creating\n",
      "Creating\n",
      "Creating\n",
      "Creating\n",
      "Creating\n",
      "Creating\n",
      "Creating\n",
      "Creating\n",
      "Creating\n",
      "Creating\n",
      "Creating\n",
      "Creating\n",
      "InService\n"
     ]
    }
   ],
   "source": [
    "import boto3\n",
    "sm_client = boto3.client('sagemaker')\n",
    "\n",
    "endpoint_status = 'Creating'\n",
    "while endpoint_status!='InService':\n",
    "    endpoint_status = sm_client.describe_endpoint(EndpointName='IrisMLPipeline')['EndpointStatus']\n",
    "    print(endpoint_status)\n",
    "    time.sleep(10)"
   ]
  },
  {
   "cell_type": "markdown",
   "metadata": {},
   "source": [
    "### Let's generate some artificial traffic to our endpoint"
   ]
  },
  {
   "cell_type": "markdown",
   "metadata": {},
   "source": [
    "As of 08/11/20 SageMaker Python SDK doesn't support Scaling policies:\n",
    "https://github.com/aws/sagemaker-python-sdk/issues/1123"
   ]
  },
  {
   "cell_type": "code",
   "execution_count": 159,
   "metadata": {},
   "outputs": [
    {
     "name": "stdout",
     "output_type": "stream",
     "text": [
      "input: 6.3, 2.8, 5.1, 1.5\n",
      "\n",
      "prediction: 2.0\n"
     ]
    }
   ],
   "source": [
    "runtime_client = boto3.client('runtime.sagemaker')\n",
    "\n",
    "with open('../0_custom_train/notebook/data/iris_test_no_label.csv', 'r') as f:\n",
    "    for row in f:\n",
    "        print('input:', row)\n",
    "        payload = row.rstrip('\\n')\n",
    "        response = runtime_client.invoke_endpoint(EndpointName=endpoint_name,\n",
    "                                      ContentType='text/csv', \n",
    "                                      Accept='text/csv',\n",
    "                                      Body=payload)\n",
    "        prediction = float(response['Body'].read().decode('utf-8').strip())\n",
    "        print('prediction:', prediction)\n",
    "        time.sleep(1)\n",
    "        break\n",
    "            \n",
    "endpoint_name = 'IrisMLPipeline'"
   ]
  },
  {
   "cell_type": "code",
   "execution_count": 119,
   "metadata": {},
   "outputs": [],
   "source": [
    "from stress import stress_button"
   ]
  },
  {
   "cell_type": "code",
   "execution_count": 120,
   "metadata": {},
   "outputs": [
    {
     "data": {
      "application/vnd.jupyter.widget-view+json": {
       "model_id": "f14ed12fbc8e42489ae2219958406118",
       "version_major": 2,
       "version_minor": 0
      },
      "text/plain": [
       "HBox(children=(Button(button_style='success', description='Run stress test', icon='check', style=ButtonStyle()…"
      ]
     },
     "metadata": {},
     "output_type": "display_data"
    }
   ],
   "source": [
    "stress_button"
   ]
  },
  {
   "cell_type": "markdown",
   "metadata": {},
   "source": [
    "Note that you need to stop the kernel to stop the invocations."
   ]
  },
  {
   "cell_type": "markdown",
   "metadata": {},
   "source": [
    "### See traffic metrics and data captured"
   ]
  },
  {
   "cell_type": "markdown",
   "metadata": {},
   "source": [
    "In your `IrisMLPipeline` endpoint in SageMaker, select the S3 bucket where the data captured from requests and predictions are stored:\n",
    "\n",
    "![sm_ep_data_capture](./imgs/sm_ep_data_capture.png)\n",
    "\n",
    "We should see objects being saved in the S3 bucket:\n",
    "![s3_data_capture](./imgs/s3_data_capture.png)\n",
    "\n",
    "In your `IrisMLPipeline` endpoint in SageMaker, click on the `View invocation metrics` link. We will be redirected to the CloudWatch console:\n",
    "![sm_cw_metrics](./imgs/sm_ep_metrics.png)\n",
    "\n",
    "For CloudWatch, <a href=\"https://console.aws.amazon.com/cloudwatch/home?region=us-east-1#metricsV2:graph=~(metrics~(~(~'AWS*2fSageMaker~'Invocations~'EndpointName~'IrisMLPipeline~'VariantName~'xgbVariant))~view~'timeSeries~stacked~false~region~'us-east-1~start~'-PT5M~end~'P0D~stat~'Sum~period~60);query=~'*7bAWS*2fSageMaker*2cEndpointName*2cVariantName*7d*20IrisMLPipeline\">just click here.</a>\n",
    "\n",
    "OR\n",
    "\n",
    "Configure the Dashboard by selecting the metric `Invocations` and in the `Graphics metrics` choose Invocations and `Sum` in `Statistic`. Choose `Period` equals to 1 Minute and modify graphics in the top to show the window of 5 minutes.\n",
    "\n",
    "![sm_ep_metrics](./imgs/sm_cw_metrics.png)"
   ]
  }
 ],
 "metadata": {
  "kernelspec": {
   "display_name": "conda_python3",
   "language": "python",
   "name": "conda_python3"
  },
  "language_info": {
   "codemirror_mode": {
    "name": "ipython",
    "version": 3
   },
   "file_extension": ".py",
   "mimetype": "text/x-python",
   "name": "python",
   "nbconvert_exporter": "python",
   "pygments_lexer": "ipython3",
   "version": "3.6.10"
  }
 },
 "nbformat": 4,
 "nbformat_minor": 4
}
